{
 "cells": [
  {
   "cell_type": "markdown",
   "metadata": {
    "id": "IPDdO1RXdvw5"
   },
   "source": [
    "\n",
    "TODO:\n",
    "- Referenze classi  [github](https://github.com/fredffsixty/Natural_Language_Processing/blob/main/Esercitazioni/E6.%20BERT/Esercitazione6b.ipynb)\n",
    "- Fare confronto tra dataset originale e aumentato\n",
    "- Adattarlo anche al secondo dataset\n",
    "- Rifare introduzione, togliere estremismi\n",
    "- Controllare funzione di attivazione (binaria vs multi class)\n",
    "- Verificare che la predizioni funzioni o se bisogna aggiungere funzione attivazione anche li\n",
    "- [Controllare per classificazione binaria](https://machinelearningmastery.com/building-a-binary-classification-model-in-pytorch/)\n",
    "- [Controllare per classificazione multi classe](https://machinelearningmastery.com/building-a-multiclass-classification-model-in-pytorch/)\n",
    "\n",
    "\n",
    "\n",
    "Per la submission:\n",
    "\n",
    "Dopo aver fatto l'architettura fare un giro di addestramento con tutto il dataset per rendere più resistente la rete, poi fare le predizioni\n"
   ]
  },
  {
   "cell_type": "markdown",
   "metadata": {
    "id": "F6umUgiAdvw9"
   },
   "source": [
    "Task\n",
    "\n",
    "Subtask A: Conspiratorial Content Classification: A system must recognize if a telegram\n",
    "post is conspiratorial or not.\n",
    "\n",
    "A sentence is Conspiratorial if either  \n",
    "(i) expresses the belief that major events(e.g., covid) are manipulation created by powerful people to protect their interests  \n",
    " or  \n",
    "(ii) an interpretation of events meant to contribute to strengthening the underlying narrative of the conspiracy theory.\n",
    "\n",
    "A sentence is Not Conspiratorial if it does not diffuse any kind of beliefs linked to the conspiracy theory."
   ]
  },
  {
   "cell_type": "markdown",
   "metadata": {
    "id": "0uq79po2dvw9"
   },
   "source": [
    "Definizione della teoria del complotto\n",
    "\n",
    "Una teoria del complotto o della cospirazione (talvolta nella forma aggettivale: teoria complottista o cospirativa) è una teoria o spiegazione di un evento o una situazione, spesso alimentata da motivazioni politiche, che ne attribuisce cause e responsabilità a una cospirazione ordita da gruppi elitari e potenti (spesso detti «poteri forti»), nonostante le altre spiegazioni già fornite siano più plausibili e affidabili. Il termine ha una connotazione negativa, poiché implica che il credere a tali teorie sia una pratica basata sul mero pregiudizio e su prove insufficienti. Una «teoria del complotto» non è la stessa cosa di una cospirazione; perché si riferisce a una cospirazione ipotizzata con caratteristiche specifiche, come un'opposizione al consenso tradizionale (talvolta detto «mainstream») tra quelle persone, come scienziati o storici, che sono qualificate per valutarne l'accuratezza.\n",
    "\n",
    "Le teorie del complotto sono restie alle critiche e al principio di falsificabilità; al contrario trovano forza nella logica circolare: sia le prove che confutano il complotto che l'assenza di prove a favore della sua esistenza sono reinterpretate dai complottisti come indiscutibili dimostrazioni della sua verità, per cui la cospirazione diventa una questione di fede piuttosto che qualcosa che può essere provato o confutato. La ricerca suggerisce che l'ideologia complottista—la fede nelle teorie del complotto—può essere psicologicamente dannosa o patologica e che è correlata a scarso pensiero analitico, basso quoziente d'intelligenza, proiezione psicologica, paranoia e machiavellismo. Gli psicologi attribuiscono il trovare teorie del complotto lì dove non ce ne sono a un fenomeno mentale chiamato «apofenia».\n",
    "\n",
    "[Fonte](https://it.wikipedia.org/wiki/Teoria_del_complotto)"
   ]
  },
  {
   "cell_type": "code",
   "execution_count": 1,
   "metadata": {
    "colab": {
     "base_uri": "https://localhost:8080/"
    },
    "id": "mxJfV3QAdvw-",
    "outputId": "b86eff8a-1b2c-47e7-b305-840621f502e2"
   },
   "outputs": [],
   "source": [
    "#!pip install scikit-learn pandas numpy nltk transformers torch matplotlib seaborn python-dotenv emoji "
   ]
  },
  {
   "cell_type": "markdown",
   "metadata": {
    "id": "eYXgZesCdvw_"
   },
   "source": [
    "Documentazioni:  \n",
    "Hugchat: https://pypi.org/project/hugchat/\n"
   ]
  },
  {
   "cell_type": "markdown",
   "metadata": {
    "id": "ySxXEAVcdvxA"
   },
   "source": [
    "Il dataset presenta una lista di messaggi/post raccolti su vari social, una delle caratteristiche di queste forme di comunicazioni sono le emoticon (o emoji) e la forma del messaggio in se.\n",
    "Questo significa che un testo che vuole catturare l'attenzione avrà un \"titolo\" d'impatto e spesso in maiuscolo, in quanto l'attenzione dedicata a questo tipo di contenuti è poca e di carattere transitorio.  \n",
    "\n",
    "Inoltre il dataset presenta una quantità di dati inadatta all'addestramento di un classficatore superabile tramite tecniche di data augmentation, questa caratteristica è intriseca nel problema in quanto i trend [^1] durano molto poco nel tempo e per un sistema di riconoscimento dei contenuti fuorvianti è necessario essere in grado di adattarsi in breve a queste variazioni.  \n",
    "\n",
    "Il dataset ha dimensione eterogenea, il che potrebbe portare a esempi per il transformer dove sono presenti lunghe stringhe di filler.  \n",
    "\n",
    "Di seguito verranno proposte alcune tecniche di preprocessing e di data augmentation  \n",
    "\n",
    "\n",
    "\n",
    "\n",
    "[^1]: Per trend si indica un argomento che cattura l'attenzione del pubblico e che ha orizzonte temporale molto breve, di solito nell'ordine dei giorni."
   ]
  },
  {
   "cell_type": "markdown",
   "metadata": {
    "id": "4aAGJXfQdvxA"
   },
   "source": [
    "Possibili tentativi  \n",
    "\n",
    "Data augmentation\n",
    "- prendere solo i caratteri ripetuti o parole maiuscole e emoticon dal testo e verificare la label, questo può funzionare in quanto spesso la comunicazione passa per l'impatto della forma  \n",
    "\n",
    "- utilizzare altri modelli di elaborazione del linguaggio, chiedendo di modificare il testo mantenendone il significato, nascondendone parti o riformulare la frase\n",
    "\n",
    "\n",
    "Data preprocessing  \n",
    "\n",
    "- Raccolta di una percentuale della frase per raccogliere il \"titolo\""
   ]
  },
  {
   "cell_type": "code",
   "execution_count": 3,
   "metadata": {
    "colab": {
     "base_uri": "https://localhost:8080/"
    },
    "id": "abpDpfNrdw6O",
    "outputId": "13ce04ab-6c81-4658-d02c-0ebf3af73da6"
   },
   "outputs": [],
   "source": [
    "#from google.colab import drive\n",
    "\n",
    "#drive.mount('/content/gdrive')\n",
    "#root = '/content/gdrive/MyDrive/Colab Notebooks/dataset/'\n",
    "\n",
    "root = './Dataset/'"
   ]
  },
  {
   "cell_type": "code",
   "execution_count": 4,
   "metadata": {
    "id": "bl9NyuJXdvxB"
   },
   "outputs": [],
   "source": [
    "import numpy as np\n",
    "import pandas as pd\n",
    "import os\n",
    "from tqdm.notebook import tqdm\n",
    "import time\n",
    "from torch.optim import Adam\n",
    "from torch import nn\n",
    "import torch\n",
    "from sklearn.model_selection import train_test_split\n",
    "from transformers import AutoConfig, AutoModel, AutoTokenizer, AutoModelForSequenceClassification\n",
    "from sklearn.utils import shuffle\n",
    "import nltk\n",
    "import matplotlib.pyplot as plt\n",
    "import emoji\n",
    "import copy\n",
    "import pickle\n"
   ]
  },
  {
   "cell_type": "code",
   "execution_count": 5,
   "metadata": {
    "id": "1vjCCR8PdvxB"
   },
   "outputs": [],
   "source": [
    "pd.set_option('display.max_colwidth', None)\n",
    "dataset = pd.read_csv(f'{root}subtaskA_train.csv',  header=0, names=['id', 'text', 'label'])\n",
    "color1 = (0.2, # redness\n",
    "         0.4, # greenness\n",
    "         0.2, # blueness\n",
    "         0.6 # transparency\n",
    "         )\n",
    "color2 = (0.4, 0.2, 0.2, 0.6)\n",
    "color3 = (0.6, 0.3, 0.1, 0.7)\n",
    "color4 = (0.1, 0.5, 0.4, 0.5)\n",
    "color5 = (0.8, 0.2, 0.3, 0.8)\n",
    "colors = [color1, color2, color3, color4, color5]"
   ]
  },
  {
   "cell_type": "code",
   "execution_count": 6,
   "metadata": {
    "colab": {
     "base_uri": "https://localhost:8080/",
     "height": 447
    },
    "id": "z7wOyJfNdvxC",
    "outputId": "879dfd0b-e61f-4c50-c62c-3d89ef87308e"
   },
   "outputs": [
    {
     "data": {
      "image/png": "[encoded data removed]",
      "text/plain": [
       "<Figure size 640x480 with 1 Axes>"
      ]
     },
     "metadata": {},
     "output_type": "display_data"
    }
   ],
   "source": [
    "dataset['label'].value_counts().plot(kind='bar', color=[color2,color1])\n",
    "plt.title('Distribuzione delle classi')\n",
    "plt.show()\n"
   ]
  },
  {
   "cell_type": "code",
   "execution_count": 6,
   "metadata": {
    "colab": {
     "base_uri": "https://localhost:8080/"
    },
    "id": "LKugjKrIdvxD",
    "outputId": "80d9d246-13d2-4ec7-b83b-77431434eb9a"
   },
   "outputs": [
    {
     "name": "stdout",
     "output_type": "stream",
     "text": [
      "dati mancanti\n",
      "id       0\n",
      "text     0\n",
      "label    0\n",
      "dtype: int64\n"
     ]
    }
   ],
   "source": [
    "print(\"dati mancanti\")\n",
    "print(dataset.isna().sum())"
   ]
  },
  {
   "cell_type": "code",
   "execution_count": 7,
   "metadata": {
    "colab": {
     "base_uri": "https://localhost:8080/",
     "height": 408
    },
    "id": "shjHm8B_dvxD",
    "outputId": "55b8ccdf-7911-45b1-dd0f-6878aa6e9f2b"
   },
   "outputs": [
    {
     "data": {
      "image/png": "[encoded data removed]",
      "text/plain": [
       "<Figure size 1000x400 with 2 Axes>"
      ]
     },
     "metadata": {},
     "output_type": "display_data"
    }
   ],
   "source": [
    "fig,(ax1,ax2)=plt.subplots(1,2,figsize=(10,4))\n",
    "ax1.set_xticks([0,30,60,90,120,150,180,210,240,270,300])\n",
    "ax2.set_xticks([0,30,60,90,120,150,180,210,240,270,300])\n",
    "dataset_words=dataset[dataset['label']==1]['text'].str.split().map(lambda x: len(x) if len(x)<300 else 300)\n",
    "ax1.hist(dataset_words,color=color2)\n",
    "ax1.set_title('Messaggi appartenti alla teoria del complotto')\n",
    "dataset_words=dataset[dataset['label']==0]['text'].str.split().map(lambda x: len(x) if len(x)<300 else 300)\n",
    "ax2.hist(dataset_words,color=color1)\n",
    "ax2.set_title('Messaggi NON appartenti alla teoria del complotto')\n",
    "fig.suptitle('Parole per messaggio (max 300 parole)')\n",
    "plt.show()"
   ]
  },
  {
   "cell_type": "markdown",
   "metadata": {
    "id": "0NNeU65KdvxD"
   },
   "source": [
    "Dall'analisi effetuata sul dataset notiamo come sia bilanciato rispetto alle labels e non presenta mancanza di dati nei sample.\n",
    "\n",
    "Da quest'ultimo grafico notiamo che i messaggi più lunghi di un ottantina di caratteri hanno un alta probabilità di appartenere alla teoria del complotto, questo comportamento può indicare che la lunghezza dei messaggi può essere utile alla classificazione, sarà quindi necessario verificare se la tendenza è presente anche nel dataset aumentato."
   ]
  },
  {
   "cell_type": "markdown",
   "metadata": {
    "id": "OUcewThedvxE"
   },
   "source": [
    "Per aumentare i dati utilizziamo delle api per il chatbot presente su [huggingface](https://huggingface.co/chat/).  \n",
    "\n",
    "Di seguito i prompt testati e quello utilizzato per l'effettivo aumento:\n",
    "\n",
    "<details>\n",
    "<summary>Prompt test 1</summary>\n",
    "<br>\n",
    "\n",
    "    Sei un sistema per fare data augmentation per un task NLP che deve classificare se un testo è  cospirazionista o no, ti verrà fornita una coppia di valori testo-label e dovrai generare nuove righe di dati.  \n",
    "\n",
    "    I dati generati avranno lo stesso significato di quelli inviati ma con parole diverse.   \n",
    "    \n",
    "    Genererai 4 righe per ogni input di cui: una con lo stesso significato e tono, una riassunta, una con lo stesso significato ed un tono più aggressivo ed  una con lo stesso significato ed un tono più amichevole.   \n",
    "    \n",
    "    I dati forniti sono nella forma text, label,  la label è un valore booleano che indica se il testo è cospirazionista o meno.   \n",
    "    \n",
    "    La label deve essere coerente con il contenuto del testo generato. La lingua del risultato deve essere italiano.\n",
    "</details>\n",
    "\n",
    "<details>\n",
    "<summary>Prompt test 2</summary>\n",
    "<br>\n",
    "\n",
    "    Testo originale: Testo preso dalla cella i-esima \"  \n",
    "\n",
    "    Output desiderato:  \n",
    "\n",
    "    \"Riscrivi il testo originale utilizzando sinonimi per esprimere lo stesso significato.\"  \n",
    "    \"Fornisci un riassunto del testo originale.\"  \n",
    "    \"Sostituisci alcune parole chiave nel testo originale.\"  \n",
    "    \"Riscrivi il testo originale con un tono diverso, mantenendo però il medesimo significato ed in lingua italiana.\"  \n",
    "    \"Trasforma il testo originale in una domanda diretta.\"  \n",
    "    \n",
    "    Tutti gli output devono essere in italiano\n",
    "</details>\n",
    "\n",
    "<details>\n",
    "<summary>Prompt utilizzato</summary>\n",
    "<br>\n",
    "\n",
    "    Input:\n",
    "    \"Testo originale: Testo preso dalla cella i-esima \"\n",
    "\n",
    "    Output desiderato:\n",
    "\n",
    "    \"Riscrivi il testo originale utilizzando sinonimi per esprimere lo stesso significato in italiano.\"\n",
    "    \"Fornisci un riassunto del testo originale in italiano.\"\n",
    "    \"Riscrivi il testo originale con un tono diverso, mantenendo però il medesimo significato in italiano.\"\n",
    "    \"Sostituisci alcune parole chiave nel testo originale in italiano.\"\n",
    "    \"Trasforma il testo originale in una domanda diretta in italiano.\"\n",
    "    \n",
    "    Richiesta di risposta (formato predefinito):\n",
    "    \"Inserisci qui i risultati delle trasformazioni. Usa il formato seguente senza aggiungere nulla se non il testo richiesto:\n",
    "\n",
    "    [Sinonimi]: [Testo risultante sostituendo le parole chiave con dei sinonimi]\n",
    "    [Riassunto]: [Riassunto risultante]\n",
    "    [Tono diverso]: [Testo risultante con tono diverso]\n",
    "    [Parole chiave sostituite]: [Testo risultante con parole chiave sostituite]\n",
    "    [Domanda diretta]: [Testo risultante come domanda diretta]\"\n",
    "\n",
    "</details>  \n",
    "\n",
    "Dai test effettuati, il miglior prompt è risultato essere quello che esplicitamente chiede la forma e imposta la formattazione del risultato, che ha permesso anche una estrazione dei dati aumentiati più veloce e semplice.  \n",
    "Si è inoltre variato nelle richieste in quanto le richieste riguardo al tono non sortivano i risultati sperati, quindi si è optato per richieste più generiche e che mantenessero lo stesso significante."
   ]
  },
  {
   "cell_type": "markdown",
   "metadata": {
    "id": "1BUyVtJDdvxE"
   },
   "source": [
    "La libreria utilizzata è quella di hugchat, che ci permette di interfacciarci facilmente ai chatbot messi a disposizione da huggingface e di sfruttarne le potenzialità nel codice."
   ]
  },
  {
   "cell_type": "code",
   "execution_count": 8,
   "metadata": {
    "colab": {
     "base_uri": "https://localhost:8080/",
     "height": 70
    },
    "id": "RzthTv_CdvxE",
    "outputId": "c9fea3cf-5de6-4c07-de3c-8632d00c8c3f"
   },
   "outputs": [
    {
     "data": {
      "text/plain": [
       "'\\nfrom hugchat import hugchat\\nfrom hugchat.login import Login\\nfrom dotenv import load_dotenv\\n\\n\\nload_dotenv()\\n\\nemail = os.getenv(\"EMAIL_HF\")\\npasswd = os.getenv(\"PASS_HF\")\\n\\n\\n# Log in to huggingface and grant authorization to huggingchat\\nsign = Login(email, passwd)\\ncookies = sign.login()\\n\\n# Save cookies to the local directory\\ncookie_path_dir = \"./cookies_snapshot\"\\nsign.saveCookiesToDir(cookie_path_dir)\\n'"
      ]
     },
     "execution_count": 8,
     "metadata": {},
     "output_type": "execute_result"
    }
   ],
   "source": [
    "'''\n",
    "from hugchat import hugchat\n",
    "from hugchat.login import Login\n",
    "from dotenv import load_dotenv\n",
    "\n",
    "\n",
    "load_dotenv()\n",
    "\n",
    "email = os.getenv(\"EMAIL_HF\")\n",
    "passwd = os.getenv(\"PASS_HF\")\n",
    "\n",
    "\n",
    "# Log in to huggingface and grant authorization to huggingchat\n",
    "sign = Login(email, passwd)\n",
    "cookies = sign.login()\n",
    "\n",
    "# Save cookies to the local directory\n",
    "cookie_path_dir = \"./cookies_snapshot\"\n",
    "sign.saveCookiesToDir(cookie_path_dir)\n",
    "'''\n"
   ]
  },
  {
   "cell_type": "markdown",
   "metadata": {
    "id": "vGgYijQ0dvxF"
   },
   "source": [
    "I modelli disponibili sono i seguenti, è possibile cambiare cambiare modello con _chatbot.switch_llm(index)_"
   ]
  },
  {
   "cell_type": "code",
   "execution_count": 9,
   "metadata": {
    "colab": {
     "base_uri": "https://localhost:8080/",
     "height": 70
    },
    "id": "zXldZcsQdvxF",
    "outputId": "9de8003d-f262-4081-a35a-d6abe8a31590"
   },
   "outputs": [
    {
     "data": {
      "text/plain": [
       "'\\n\\ncookie_path_dir = \"./cookies_snapshot\"\\nsign = Login(email, None)\\ncookies = sign.loadCookiesFromDir(cookie_path_dir)\\nchatbot = hugchat.ChatBot(cookies=cookies.get_dict())\\nmodels = chatbot.get_available_llm_models()\\nactive_model = chatbot.switch_llm(4)\\nid = chatbot.new_conversation()\\nchatbot.change_conversation(id)\\nprint(\"Modelli disponibili:\")\\nfor m in range(len(models)):\\n    print(models[m])\\n\\n'"
      ]
     },
     "execution_count": 9,
     "metadata": {},
     "output_type": "execute_result"
    }
   ],
   "source": [
    "'''\n",
    "\n",
    "cookie_path_dir = \"./cookies_snapshot\"\n",
    "sign = Login(email, None)\n",
    "cookies = sign.loadCookiesFromDir(cookie_path_dir)\n",
    "chatbot = hugchat.ChatBot(cookies=cookies.get_dict())\n",
    "models = chatbot.get_available_llm_models()\n",
    "active_model = chatbot.switch_llm(4)\n",
    "id = chatbot.new_conversation()\n",
    "chatbot.change_conversation(id)\n",
    "print(\"Modelli disponibili:\")\n",
    "for m in range(len(models)):\n",
    "    print(models[m])\n",
    "\n",
    "'''"
   ]
  },
  {
   "cell_type": "markdown",
   "metadata": {
    "id": "5YpGqsVCdvxG"
   },
   "source": [
    "Sono stati testati tutti i chatbot, per lo scopo del progetto sono stati utilizzati i modelli _openchat/openchat\\_3.5_ e _tiiuae/falcon-180B-chat_ in quanto davano le risposte più coerenti e più vicine alla forma desiderata."
   ]
  },
  {
   "cell_type": "code",
   "execution_count": 10,
   "metadata": {
    "colab": {
     "base_uri": "https://localhost:8080/",
     "height": 622
    },
    "id": "emFzOtk0dvxG",
    "outputId": "f6edc3a5-a901-46af-96ab-eb081eaef39c"
   },
   "outputs": [
    {
     "data": {
      "text/html": [
       "<div>\n",
       "<style scoped>\n",
       "    .dataframe tbody tr th:only-of-type {\n",
       "        vertical-align: middle;\n",
       "    }\n",
       "\n",
       "    .dataframe tbody tr th {\n",
       "        vertical-align: top;\n",
       "    }\n",
       "\n",
       "    .dataframe thead th {\n",
       "        text-align: right;\n",
       "    }\n",
       "</style>\n",
       "<table border=\"1\" class=\"dataframe\">\n",
       "  <thead>\n",
       "    <tr style=\"text-align: right;\">\n",
       "      <th></th>\n",
       "      <th>id</th>\n",
       "      <th>text</th>\n",
       "      <th>label</th>\n",
       "    </tr>\n",
       "  </thead>\n",
       "  <tbody>\n",
       "    <tr>\n",
       "      <th>0</th>\n",
       "      <td>0</td>\n",
       "      <td>⚡Se non ci fossero soldati non ci sarebbero guerre.</td>\n",
       "      <td>0</td>\n",
       "    </tr>\n",
       "    <tr>\n",
       "      <th>1</th>\n",
       "      <td>1</td>\n",
       "      <td>21/08/21]( [PRE-PRINT]    📄__ \"Shedding of Infectious SARS-CoV-2 Despite Vaccination\"  🇮🇹 \"Diffusione del SARS-CoV-2 nonostante la vaccinazione\"__    📊 \"La variante Delta del SARS-CoV-2 può causare elevate cariche virali, è al trasmissibile e contiene mutazioni che conferiscono una fuga immunitaria parziale. [...] le indagini sull'epidemia suggeriscono che le persone vaccinate possono diffondere [la variante] Delta\"    ⚠️ \"[...] questi risultati indicano che anche le **persone asintomatiche e comple vaccinate possono diffondere il virus infettivo**.\"    ⚠️ \"[...] questi dati indicano che gli individui **vaccinati e non vaccinati** infettati dalla variante Delta **possono trasmettere l'infezione**.\"    📚 **</td>\n",
       "      <td>1</td>\n",
       "    </tr>\n",
       "    <tr>\n",
       "      <th>2</th>\n",
       "      <td>2</td>\n",
       "      <td>PAURA E DELIRIO ALLA CNN: IL MINISTERO DELLA VERITA'  La scorsa settimana Elon Musk ha dichiarato di volere che la \"libertà di parola\" sui social media sia tutelata ai sensi della Legge del Paese.  I DEM sono spaventatissimi dalla scelta coraggiosa del magnate dello Spazio di acquistare Twitter  così scontrandosi frontalmente, e senza paura, con BlackRock, Vanguard e State Street, cioè i tre fondi di inves che controllano il 95% delle multinazionali tra le prime 500 al Mondo. I DEM americani hanno risposto con la grande sorella Hillary e il grande fratello Obama,  i quali twittando hanno ordinato di allestire opportuni apparati di censura, una comanda ovviamente presa dai loro camerieri della UE e della ridicola Amministrazione Biden. Si tratta di un disperato tentativo di nascondere le Verità che stanno emergendo sul Covid19 e i vaccini, i supposti morti 'senza correlazione', le elezioni americane e francesi colossalmente truccate, i ladrocini finanziari trilionari con i derivati, i sacrifici umani e soprattutto di bambini  e tante altre rivelazioni usando  un \"Ministero della Verità\" in perfetto stile Orwell 1984.    Questa risposta DEM è assolu incostituzionale e non basta chiamare questi abomini  'Board per la Disinformazione' (in America) o 'Piattaforma per la Disinformazione' (in Unione Europea) per giustificare il tentativo di nascondere la Verità agli occhi della gente, tentando di non sembrare quello che sempre più palesemente si è:   Tiranni Globali come quelli descritti in tutta la Letteratura distopica.  Ricordo che Twitter aveva censurato la Verità sul  laptop di Hunter Biden poco prima delle elezioni del 2020, e se ciò non fosse stato fatto e i media avessero fatto il loro lavoro, tutti sapremmo dei traffici di esseri umani ed energetici all'ombra di BURISMA, la compagnia del gas Ucraino nel cui board sedeva il figlio di Joe Biden dopo il colpo di stato del 2014, per il fine di realizzare in Ucraina quella base della piattaforma del Male oggi usata per alimentare la possibilità di una Terza Guerra Mondiale Nucleare.  Le cose stanno precipitando per i DEM con la prospettiva di ricongiungerli ai loro DEMoni ispiratori. In questo senso è al simbolica l'uscita dell'analista politico della CNN David Zurawik di ieri, quando ha detto che è molto pericolosa l'acquisizione di Twitter da parte di Elon Musk, e che l'America deve guardare all'Europa per le risposte. In preda ad un sen di paura e delirio come quello del letterato iconico dei democratici americani, il drogato di adrenocromo Hunter Thompson nel suo famoso romanzo autobiografico \"Paura e Delirio al Las Vegas\", l'opinionista della  CNN ha dichiarato:    \"Hai bisogno di regolamentazione. Non puoi lasciare che questi ragazzi controllino la narrazione in questo paese o saremo diretti all'inferno. Noi ci siamo. Trump ha aperto le porte dell'inferno e ora ci stanno inseguendo\".   Sono d'accordo con David Zurawik ma nel senso che le porte dell'Inferno sono effettivamente spalancate e pronte ad accogliere i meritevoli. Tutti gli esseri umani corrotti dal potere, dalla fama e dal denaro che sono stati strumenti del maligno, avranno il loro posto meritato.  Nove, Nove, Nove.  P.S. Godetevi il video con la Paura e il Delirio alla CNN.</td>\n",
       "      <td>1</td>\n",
       "    </tr>\n",
       "    <tr>\n",
       "      <th>3</th>\n",
       "      <td>3</td>\n",
       "      <td>L'Aspirina non aumenta la sopravvivenza dei pazienti ricoverati in ospedale per Covid-19,</td>\n",
       "      <td>0</td>\n",
       "    </tr>\n",
       "    <tr>\n",
       "      <th>4</th>\n",
       "      <td>4</td>\n",
       "      <td>L'Italia non puo' dare armi lo vieta la Costituzione..</td>\n",
       "      <td>0</td>\n",
       "    </tr>\n",
       "  </tbody>\n",
       "</table>\n",
       "</div>"
      ],
      "text/plain": [
       "   id  \\\n",
       "0   0   \n",
       "1   1   \n",
       "2   2   \n",
       "3   3   \n",
       "4   4   \n",
       "\n",
       "                                                                                                                                                                                                                                                                                                                                                                                                                                                                                                                                                                                                                                                                                                                                                                                                                                                                                                                                                                                                                                                                                                                                                                                                                                                                                                                                                                                                                                                                                                                                                                                                                                                                                                                                                                                                                                                                                                                                                                                                                                                                                                                                                                                                                                                                                                                                                                                                                                                                                                                                                                                                                                                                                                                                                                                                                                                                                                                                                                                                                                                                                                                                                                                                                                                                                                                                                                               text  \\\n",
       "0                                                                                                                                                                                                                                                                                                                                                                                                                                                                                                                                                                                                                                                                                                                                                                                                                                                                                                                                                                                                                                                                                                                                                                                                                                                                                                                                                                                                                                                                                                                                                                                                                                                                                                                                                                                                                                                                                                                                                                                                                                                                                                                                                                                                                                                                                                                                                                                                                                                                                                                                                                                                                                                                                                                                                                                                                                                                                                                                                                                                                                                                                                                                                                                                                                                                                                                               ⚡Se non ci fossero soldati non ci sarebbero guerre.   \n",
       "1                                                                                                                                                                                                                                                                                                                                                                                                                                                                                                                                                                                                                                                                                                                                                                                                                                                                                                                                                                                                                                                                                                                                                                                                                                                                                                                                                                                                                                                                                                                                                                                                                                                                                                                                                                                                                                                                                                                                                                                                                                                                                                                                                                                                                                                                                                                                                                                                                                                                                                                                                                                                                                       21/08/21]( [PRE-PRINT]    📄__ \"Shedding of Infectious SARS-CoV-2 Despite Vaccination\"  🇮🇹 \"Diffusione del SARS-CoV-2 nonostante la vaccinazione\"__    📊 \"La variante Delta del SARS-CoV-2 può causare elevate cariche virali, è al trasmissibile e contiene mutazioni che conferiscono una fuga immunitaria parziale. [...] le indagini sull'epidemia suggeriscono che le persone vaccinate possono diffondere [la variante] Delta\"    ⚠️ \"[...] questi risultati indicano che anche le **persone asintomatiche e comple vaccinate possono diffondere il virus infettivo**.\"    ⚠️ \"[...] questi dati indicano che gli individui **vaccinati e non vaccinati** infettati dalla variante Delta **possono trasmettere l'infezione**.\"    📚 **   \n",
       "2  PAURA E DELIRIO ALLA CNN: IL MINISTERO DELLA VERITA'  La scorsa settimana Elon Musk ha dichiarato di volere che la \"libertà di parola\" sui social media sia tutelata ai sensi della Legge del Paese.  I DEM sono spaventatissimi dalla scelta coraggiosa del magnate dello Spazio di acquistare Twitter  così scontrandosi frontalmente, e senza paura, con BlackRock, Vanguard e State Street, cioè i tre fondi di inves che controllano il 95% delle multinazionali tra le prime 500 al Mondo. I DEM americani hanno risposto con la grande sorella Hillary e il grande fratello Obama,  i quali twittando hanno ordinato di allestire opportuni apparati di censura, una comanda ovviamente presa dai loro camerieri della UE e della ridicola Amministrazione Biden. Si tratta di un disperato tentativo di nascondere le Verità che stanno emergendo sul Covid19 e i vaccini, i supposti morti 'senza correlazione', le elezioni americane e francesi colossalmente truccate, i ladrocini finanziari trilionari con i derivati, i sacrifici umani e soprattutto di bambini  e tante altre rivelazioni usando  un \"Ministero della Verità\" in perfetto stile Orwell 1984.    Questa risposta DEM è assolu incostituzionale e non basta chiamare questi abomini  'Board per la Disinformazione' (in America) o 'Piattaforma per la Disinformazione' (in Unione Europea) per giustificare il tentativo di nascondere la Verità agli occhi della gente, tentando di non sembrare quello che sempre più palesemente si è:   Tiranni Globali come quelli descritti in tutta la Letteratura distopica.  Ricordo che Twitter aveva censurato la Verità sul  laptop di Hunter Biden poco prima delle elezioni del 2020, e se ciò non fosse stato fatto e i media avessero fatto il loro lavoro, tutti sapremmo dei traffici di esseri umani ed energetici all'ombra di BURISMA, la compagnia del gas Ucraino nel cui board sedeva il figlio di Joe Biden dopo il colpo di stato del 2014, per il fine di realizzare in Ucraina quella base della piattaforma del Male oggi usata per alimentare la possibilità di una Terza Guerra Mondiale Nucleare.  Le cose stanno precipitando per i DEM con la prospettiva di ricongiungerli ai loro DEMoni ispiratori. In questo senso è al simbolica l'uscita dell'analista politico della CNN David Zurawik di ieri, quando ha detto che è molto pericolosa l'acquisizione di Twitter da parte di Elon Musk, e che l'America deve guardare all'Europa per le risposte. In preda ad un sen di paura e delirio come quello del letterato iconico dei democratici americani, il drogato di adrenocromo Hunter Thompson nel suo famoso romanzo autobiografico \"Paura e Delirio al Las Vegas\", l'opinionista della  CNN ha dichiarato:    \"Hai bisogno di regolamentazione. Non puoi lasciare che questi ragazzi controllino la narrazione in questo paese o saremo diretti all'inferno. Noi ci siamo. Trump ha aperto le porte dell'inferno e ora ci stanno inseguendo\".   Sono d'accordo con David Zurawik ma nel senso che le porte dell'Inferno sono effettivamente spalancate e pronte ad accogliere i meritevoli. Tutti gli esseri umani corrotti dal potere, dalla fama e dal denaro che sono stati strumenti del maligno, avranno il loro posto meritato.  Nove, Nove, Nove.  P.S. Godetevi il video con la Paura e il Delirio alla CNN.    \n",
       "3                                                                                                                                                                                                                                                                                                                                                                                                                                                                                                                                                                                                                                                                                                                                                                                                                                                                                                                                                                                                                                                                                                                                                                                                                                                                                                                                                                                                                                                                                                                                                                                                                                                                                                                                                                                                                                                                                                                                                                                                                                                                                                                                                                                                                                                                                                                                                                                                                                                                                                                                                                                                                                                                                                                                                                                                                                                                                                                                                                                                                                                                                                                                                                                                                                                                                         L'Aspirina non aumenta la sopravvivenza dei pazienti ricoverati in ospedale per Covid-19,   \n",
       "4                                                                                                                                                                                                                                                                                                                                                                                                                                                                                                                                                                                                                                                                                                                                                                                                                                                                                                                                                                                                                                                                                                                                                                                                                                                                                                                                                                                                                                                                                                                                                                                                                                                                                                                                                                                                                                                                                                                                                                                                                                                                                                                                                                                                                                                                                                                                                                                                                                                                                                                                                                                                                                                                                                                                                                                                                                                                                                                                                                                                                                                                                                                                                                                                                                                                                                                            L'Italia non puo' dare armi lo vieta la Costituzione..   \n",
       "\n",
       "   label  \n",
       "0      0  \n",
       "1      1  \n",
       "2      1  \n",
       "3      0  \n",
       "4      0  "
      ]
     },
     "execution_count": 10,
     "metadata": {},
     "output_type": "execute_result"
    }
   ],
   "source": [
    "##Dataset di prova per testare il funzionamento dell'augmenter\n",
    "df_test = dataset[:5].copy()\n",
    "df_test['text'] = df_test['text'].apply(lambda x: x.replace('\\r', ' ').replace('\\n', ' '))\n",
    "df_test.head()\n"
   ]
  },
  {
   "cell_type": "code",
   "execution_count": 11,
   "metadata": {
    "id": "dX1GDzB1dvxG"
   },
   "outputs": [],
   "source": [
    "def get_prompt_list(dataframe):\n",
    "    prompt_list = []\n",
    "    for i in range(len(dataframe)):\n",
    "        prompt_list.append(f\"\"\"\n",
    "        Input:\n",
    "        \"Testo originale: '''{dataframe.loc[i,'text']}'''\"\n",
    "\n",
    "        Output desiderato:\n",
    "\n",
    "        \"Riscrivi il testo originale utilizzando sinonimi per esprimere lo stesso significato in italiano.\"\n",
    "        \"Fornisci un riassunto del testo originale in italiano.\"\n",
    "        \"Riscrivi il testo originale con un tono diverso, mantenendo però il medesimo significato in italiano.\"\n",
    "        \"Sostituisci alcune parole chiave nel testo originale in italiano.\"\n",
    "        \"Trasforma il testo originale in una domanda diretta in italiano.\"\n",
    "\n",
    "        Richiesta di risposta (formato predefinito):\n",
    "        \"Inserisci qui i risultati delle trasformazioni. Usa il formato seguente senza aggiungere nulla se non il testo richiesto:\n",
    "\n",
    "        [Sinonimi]: [Testo risultante sostituendo le parole chiave con dei sinonimi]\n",
    "        [Riassunto]: [Riassunto risultante]\n",
    "        [Tono diverso]: [Testo risultante con tono diverso]\n",
    "        [Parole chiave sostituite]: [Testo risultante con parole chiave sostituite]\n",
    "        [Domanda diretta]: [Testo risultante come domanda diretta]\"\n",
    "\n",
    "\n",
    "    \"\"\")\n",
    "\n",
    "    return prompt_list"
   ]
  },
  {
   "cell_type": "code",
   "execution_count": 12,
   "metadata": {
    "id": "T2cGWlOGdvxG"
   },
   "outputs": [],
   "source": [
    "augmented_dataset = dataset.copy()\n",
    "augmented_dataset = augmented_dataset['text'].apply(lambda x: x.replace('\\r', ' ').replace('\\n', ' '))\n"
   ]
  },
  {
   "cell_type": "code",
   "execution_count": 13,
   "metadata": {
    "colab": {
     "base_uri": "https://localhost:8080/",
     "height": 122
    },
    "id": "e9GcAFNgdvxH",
    "outputId": "44e2b6cf-9468-4b2a-c4bc-adc4c692c39d"
   },
   "outputs": [
    {
     "data": {
      "text/plain": [
       "\"\\nprompt_list = get_prompt_list(df_test)\\naugmented_dataset = pd.DataFrame(columns=['text', 'label'])\\n\\nfor i in range(len(prompt_list)):\\n    query_result = chatbot.query(prompt_list[i])\\n    print(query_result['text'])\\n    text_array = get_clean_text(query_result['text'])\\n    augmented_dataset = pd.concat([augmented_dataset,get_augmented_dataset(text_array, df_test.at[df_test.index[i],'text'], df_test.at[df_test.index[i],'label'])],ignore_index=True)\\n    #timeout per evitare di essere bannati\\n    time.sleep(5)\\naugmented_dataset['text'] = augmented_dataset['text'].apply(lambda x: x.replace('```testo modificato:`', ' ').replace('`testo originale:`', ' ')).replace('```testo alternativo:``',' ' )\\nprint(augmented_dataset)\\n\""
      ]
     },
     "execution_count": 13,
     "metadata": {},
     "output_type": "execute_result"
    }
   ],
   "source": [
    "'''\n",
    "prompt_list = get_prompt_list(df_test)\n",
    "augmented_dataset = pd.DataFrame(columns=['text', 'label'])\n",
    "\n",
    "for i in range(len(prompt_list)):\n",
    "    query_result = chatbot.query(prompt_list[i])\n",
    "    print(query_result['text'])\n",
    "    text_array = get_clean_text(query_result['text'])\n",
    "    augmented_dataset = pd.concat([augmented_dataset,get_augmented_dataset(text_array, df_test.at[df_test.index[i],'text'], df_test.at[df_test.index[i],'label'])],ignore_index=True)\n",
    "    #timeout per evitare di essere bannati\n",
    "    time.sleep(5)\n",
    "augmented_dataset['text'] = augmented_dataset['text'].apply(lambda x: x.replace('```testo modificato:`', ' ').replace('`testo originale:`', ' ')).replace('```testo alternativo:``',' ' )\n",
    "print(augmented_dataset)\n",
    "'''"
   ]
  },
  {
   "cell_type": "code",
   "execution_count": 14,
   "metadata": {
    "colab": {
     "base_uri": "https://localhost:8080/",
     "height": 88
    },
    "id": "Ne-vLxxydvxH",
    "outputId": "2a02663a-13a5-46fc-c4b3-3fe7703df260"
   },
   "outputs": [
    {
     "data": {
      "text/plain": [
       "\"\\nprompt_list = get_prompt_list(df_test)\\naugmented_dataset = pd.DataFrame(columns=['text', 'label', 'augmented_text'])\\n\\nfor i in range(len(prompt_list)):\\n    query_result = chatbot.query(prompt_list[i])\\n    print(query_result['text'])\\n    augmented_dataset.loc[i,'text'] = dataset.loc[i,'text']\\n    augmented_dataset.loc[i,'label'] = dataset.loc[i,'label']\\n    augmented_dataset.loc[i,'augmented_text'] = query_result['text']\\n    #timeout per evitare di essere bannati\\n    time.sleep(5)\\nprint(augmented_dataset)\\n\""
      ]
     },
     "execution_count": 14,
     "metadata": {},
     "output_type": "execute_result"
    }
   ],
   "source": [
    "'''\n",
    "prompt_list = get_prompt_list(df_test)\n",
    "augmented_dataset = pd.DataFrame(columns=['text', 'label', 'augmented_text'])\n",
    "\n",
    "for i in range(len(prompt_list)):\n",
    "    query_result = chatbot.query(prompt_list[i])\n",
    "    print(query_result['text'])\n",
    "    augmented_dataset.loc[i,'text'] = dataset.loc[i,'text']\n",
    "    augmented_dataset.loc[i,'label'] = dataset.loc[i,'label']\n",
    "    augmented_dataset.loc[i,'augmented_text'] = query_result['text']\n",
    "    #timeout per evitare di essere bannati\n",
    "    time.sleep(5)\n",
    "print(augmented_dataset)\n",
    "'''"
   ]
  },
  {
   "cell_type": "code",
   "execution_count": 15,
   "metadata": {
    "colab": {
     "base_uri": "https://localhost:8080/",
     "height": 105
    },
    "id": "8O1_ESPMdvxI",
    "outputId": "154c268a-95f1-431c-8383-b5291ae150e8"
   },
   "outputs": [
    {
     "data": {
      "text/plain": [
       "\"\\nprompt_list = get_prompt_list(dataset)\\n\\naugmented_dataset = pd.DataFrame(columns=['text', 'label'])\\nfor i in range(len(prompt_list)):\\n    query_result = chatbot.query(prompt_list[i])\\n    #print(query_result['text'])\\n    text_array = get_text_clean(query_result['text'])\\n    augmented_dataset = pd.concat([augmented_dataset,get_augmented_dataset(text_array, df_test.at[df_test.index[i],'text'], df_test.at[df_test.index[i],'label'])],ignore_index=True)\\n    #timeout per evitare di essere bannati\\n    time.sleep(5)\\naugmented_dataset.head()\\naugmented_dataset = shuffle(augmented_dataset)\\naugmented_dataset.to_csv('Dataset/augmented_dataset.csv', index=False)\\n\""
      ]
     },
     "execution_count": 15,
     "metadata": {},
     "output_type": "execute_result"
    }
   ],
   "source": [
    "'''\n",
    "prompt_list = get_prompt_list(dataset)\n",
    "\n",
    "augmented_dataset = pd.DataFrame(columns=['text', 'label'])\n",
    "for i in range(len(prompt_list)):\n",
    "    query_result = chatbot.query(prompt_list[i])\n",
    "    #print(query_result['text'])\n",
    "    text_array = get_text_clean(query_result['text'])\n",
    "    augmented_dataset = pd.concat([augmented_dataset,get_augmented_dataset(text_array, df_test.at[df_test.index[i],'text'], df_test.at[df_test.index[i],'label'])],ignore_index=True)\n",
    "    #timeout per evitare di essere bannati\n",
    "    time.sleep(5)\n",
    "augmented_dataset.head()\n",
    "augmented_dataset = shuffle(augmented_dataset)\n",
    "augmented_dataset.to_csv('Dataset/augmented_dataset.csv', index=False)\n",
    "'''"
   ]
  },
  {
   "cell_type": "markdown",
   "metadata": {
    "id": "bpz5nNMCdvxJ"
   },
   "source": [
    "Il dataset presenta tre colonne prima del preprocess, questo è dovuto al fatto che l'output dell'augmenter è stato posto nella riga di riferimento per manetenere l'integrità e la relazione tra i dati.  \n",
    "\n",
    "Qui la terza colonna viene droppata e le informazioni sono trasferite in nuove righe, mantenendo la label."
   ]
  },
  {
   "cell_type": "code",
   "execution_count": 16,
   "metadata": {
    "id": "f-hamFrFdvxJ"
   },
   "outputs": [],
   "source": [
    "def process_data_augmentation(dataset):\n",
    "    typeA=['[Sinonimi]:','[Riassunto]:','[Tono diverso]:','[Parole chiave sostituite]:','[Domanda diretta]:']\n",
    "    typeB=['Riscrivi il testo originale utilizzando sinonimi per esprimere lo stesso significato in italiano:','Fornisci un riassunto del testo originale in italiano:','Riscrivi il testo originale con un tono diverso, mantenendo però il medesimo significato in italiano:', 'Sostituisci alcune parole chiave nel testo originale in italiano:','Trasforma il testo originale in una domanda diretta in italiano:']\n",
    "    processed_dataset = dataset.copy()\n",
    "    processed_dataset = processed_dataset.drop(columns=['augmented_text'])\n",
    "    augmented_dataset = pd.DataFrame(columns=['text', 'label'])\n",
    "    #dataset['augmented_text'] = dataset['augmented_text'].apply(lambda x: x.replace('\\r', ' ').replace('\\n', ' '))\n",
    "\n",
    "    for i in tqdm(range(len(dataset))):\n",
    "        #Copio la singola riga del dataset in una variabile per usarla come stringa\n",
    "\n",
    "        augmented = dataset.loc[i,'augmented_text']\n",
    "        #Divido la stringa per riga\n",
    "        augmented = augmented.split('\\n')\n",
    "        #Per ogni riga controllo se è presente una delle stringhe di tipo A o B\n",
    "        #Esistono due tipi poiché i due modelli restituivano due strutture leggermente diverse\n",
    "        for statement in augmented:\n",
    "            #Verifico la riga appartenga al risultato e taglio la parte introduttiva\n",
    "            for start in typeA:\n",
    "                if start in statement:\n",
    "                    augmented_dataset.loc[0,'text'] = statement.replace(start, '')\n",
    "                    augmented_dataset.loc[0,'label'] = dataset.loc[i,'label']\n",
    "                    #Aggiungo la riga al dataset\n",
    "                    processed_dataset = pd.concat([processed_dataset,augmented_dataset],ignore_index=True)\n",
    "            for start in typeB:\n",
    "                if start in statement:\n",
    "                    augmented_dataset.loc[0,'text'] = statement.replace(start, '')\n",
    "                    augmented_dataset.loc[0,'label'] = dataset.loc[i,'label']\n",
    "                    processed_dataset = pd.concat([processed_dataset,augmented_dataset],ignore_index=True)\n",
    "\n",
    "    processed_dataset['text'] = processed_dataset['text'].apply(lambda x: x.replace('\\r', ' ').replace('\\n', ' '))\n",
    "\n",
    "    return processed_dataset\n",
    "\n",
    "\n"
   ]
  },
  {
   "cell_type": "code",
   "execution_count": 17,
   "metadata": {
    "colab": {
     "base_uri": "https://localhost:8080/"
    },
    "id": "Em-uV_gzdvxJ",
    "outputId": "82ac213a-1b5e-410a-c1f5-4de710c847b5"
   },
   "outputs": [
    {
     "data": {
      "application/vnd.jupyter.widget-view+json": {
       "model_id": "96562cbcfb2944a8861ff99388ae151f",
       "version_major": 2,
       "version_minor": 0
      },
      "text/plain": [
       "  0%|          | 0/1842 [00:00<?, ?it/s]"
      ]
     },
     "metadata": {},
     "output_type": "display_data"
    }
   ],
   "source": [
    "augmented_dataset = pd.read_csv(f'{root}augmented_dataset1.csv',  header=0, names=['text', 'label','augmented_text'])\n",
    "\n",
    "augmented_dataset = process_data_augmentation(augmented_dataset)"
   ]
  },
  {
   "cell_type": "markdown",
   "metadata": {
    "id": "fpBkiMlTdvxK"
   },
   "source": [
    "Effettuiamo nuovamente l'analisi sulla distrubuzione e forma dei dati per verificare che si siano mantenute le relazioni trovate in precendenza"
   ]
  },
  {
   "cell_type": "code",
   "execution_count": 18,
   "metadata": {
    "colab": {
     "base_uri": "https://localhost:8080/",
     "height": 447
    },
    "id": "rmdL1al8dvxK",
    "outputId": "e39d190b-3c87-453b-dbf2-cdf721497aba"
   },
   "outputs": [
    {
     "data": {
      "image/png": "[encoded data removed]",
      "text/plain": [
       "<Figure size 640x480 with 1 Axes>"
      ]
     },
     "metadata": {},
     "output_type": "display_data"
    }
   ],
   "source": [
    "augmented_dataset['label'].value_counts().plot(kind='bar', color=[color1,color2])\n",
    "plt.title('Distribuzione delle classi')\n",
    "plt.show()"
   ]
  },
  {
   "cell_type": "code",
   "execution_count": 19,
   "metadata": {
    "colab": {
     "base_uri": "https://localhost:8080/"
    },
    "id": "7Pm3H_1HdvxK",
    "outputId": "a7278ed5-d012-4d37-df9b-880d23d6dde3"
   },
   "outputs": [
    {
     "name": "stdout",
     "output_type": "stream",
     "text": [
      "dati mancanti\n",
      "text     0\n",
      "label    0\n",
      "dtype: int64\n"
     ]
    }
   ],
   "source": [
    "print(\"dati mancanti\")\n",
    "print(augmented_dataset.isna().sum())"
   ]
  },
  {
   "cell_type": "code",
   "execution_count": 20,
   "metadata": {
    "colab": {
     "base_uri": "https://localhost:8080/",
     "height": 408
    },
    "id": "Ttoljuc9dvxK",
    "outputId": "63931b91-bcca-4acb-9244-662888484d9e"
   },
   "outputs": [
    {
     "data": {
      "image/png": "[encoded data removed]",
      "text/plain": [
       "<Figure size 1000x400 with 2 Axes>"
      ]
     },
     "metadata": {},
     "output_type": "display_data"
    }
   ],
   "source": [
    "fig,(ax1,ax2)=plt.subplots(1,2,figsize=(10,4))\n",
    "ax1.set_xticks([0,30,60,90,120,150,180,210,240,270,300])\n",
    "ax1.set_ylim([0,4000])\n",
    "ax2.set_xticks([0,30,60,90,120,150,180,210,240,270,300])\n",
    "ax2.set_ylim([0,4000])\n",
    "dataset_words=augmented_dataset[augmented_dataset['label']==1]['text'].str.split().map(lambda x: len(x) if len(x)<300 else 300)\n",
    "ax1.hist(dataset_words,color=color2)\n",
    "ax1.set_title('Messaggi appartenti alla teoria del complotto')\n",
    "dataset_words=augmented_dataset[augmented_dataset['label']==0]['text'].str.split().map(lambda x: len(x) if len(x)<300 else 300)\n",
    "ax2.hist(dataset_words,color=color1)\n",
    "ax2.set_title('Messaggi NON appartenti alla teoria del complotto')\n",
    "fig.suptitle('Parole per messaggio (max 300 parole)')\n",
    "plt.show()"
   ]
  },
  {
   "cell_type": "markdown",
   "metadata": {
    "id": "FgQi8KK9dvxL"
   },
   "source": [
    "Dai dati rilevati e mostrati sopra, possiamo osservare come si sia mantenuta la relazione, seppur appiattita, del maggior numero di caratteri per i messaggi appartenti alla teoria del complotto, viene quindi integrata la colonna che include i caratteri del testo"
   ]
  },
  {
   "cell_type": "code",
   "execution_count": 21,
   "metadata": {
    "colab": {
     "base_uri": "https://localhost:8080/",
     "height": 674
    },
    "id": "ZQbQve0-dvxL",
    "outputId": "7e8695ea-ffe9-460c-d5c4-324e547ffa2d"
   },
   "outputs": [
    {
     "data": {
      "text/html": [
       "<div>\n",
       "<style scoped>\n",
       "    .dataframe tbody tr th:only-of-type {\n",
       "        vertical-align: middle;\n",
       "    }\n",
       "\n",
       "    .dataframe tbody tr th {\n",
       "        vertical-align: top;\n",
       "    }\n",
       "\n",
       "    .dataframe thead th {\n",
       "        text-align: right;\n",
       "    }\n",
       "</style>\n",
       "<table border=\"1\" class=\"dataframe\">\n",
       "  <thead>\n",
       "    <tr style=\"text-align: right;\">\n",
       "      <th></th>\n",
       "      <th>text</th>\n",
       "      <th>label</th>\n",
       "      <th>char_count</th>\n",
       "    </tr>\n",
       "  </thead>\n",
       "  <tbody>\n",
       "    <tr>\n",
       "      <th>0</th>\n",
       "      <td>⚡Se non ci fossero soldati non ci sarebbero guerre.</td>\n",
       "      <td>0</td>\n",
       "      <td>51</td>\n",
       "    </tr>\n",
       "    <tr>\n",
       "      <th>1</th>\n",
       "      <td>21/08/21]( [PRE-PRINT]    📄__ \"Shedding of Infectious SARS-CoV-2 Despite Vaccination\"  🇮🇹 \"Diffusione del SARS-CoV-2 nonostante la vaccinazione\"__    📊 \"La variante Delta del SARS-CoV-2 può causare elevate cariche virali, è al trasmissibile e contiene mutazioni che conferiscono una fuga immunitaria parziale. [...] le indagini sull'epidemia suggeriscono che le persone vaccinate possono diffondere [la variante] Delta\"    ⚠️ \"[...] questi risultati indicano che anche le **persone asintomatiche e comple vaccinate possono diffondere il virus infettivo**.\"    ⚠️ \"[...] questi dati indicano che gli individui **vaccinati e non vaccinati** infettati dalla variante Delta **possono trasmettere l'infezione**.\"    📚 **</td>\n",
       "      <td>1</td>\n",
       "      <td>715</td>\n",
       "    </tr>\n",
       "    <tr>\n",
       "      <th>2</th>\n",
       "      <td>PAURA E DELIRIO ALLA CNN: IL MINISTERO DELLA VERITA'  La scorsa settimana Elon Musk ha dichiarato di volere che la \"libertà di parola\" sui social media sia tutelata ai sensi della Legge del Paese.  I DEM sono spaventatissimi dalla scelta coraggiosa del magnate dello Spazio di acquistare Twitter  così scontrandosi frontalmente, e senza paura, con BlackRock, Vanguard e State Street, cioè i tre fondi di inves che controllano il 95% delle multinazionali tra le prime 500 al Mondo. I DEM americani hanno risposto con la grande sorella Hillary e il grande fratello Obama,  i quali twittando hanno ordinato di allestire opportuni apparati di censura, una comanda ovviamente presa dai loro camerieri della UE e della ridicola Amministrazione Biden. Si tratta di un disperato tentativo di nascondere le Verità che stanno emergendo sul Covid19 e i vaccini, i supposti morti 'senza correlazione', le elezioni americane e francesi colossalmente truccate, i ladrocini finanziari trilionari con i derivati, i sacrifici umani e soprattutto di bambini  e tante altre rivelazioni usando  un \"Ministero della Verità\" in perfetto stile Orwell 1984.    Questa risposta DEM è assolu incostituzionale e non basta chiamare questi abomini  'Board per la Disinformazione' (in America) o 'Piattaforma per la Disinformazione' (in Unione Europea) per giustificare il tentativo di nascondere la Verità agli occhi della gente, tentando di non sembrare quello che sempre più palesemente si è:   Tiranni Globali come quelli descritti in tutta la Letteratura distopica.  Ricordo che Twitter aveva censurato la Verità sul  laptop di Hunter Biden poco prima delle elezioni del 2020, e se ciò non fosse stato fatto e i media avessero fatto il loro lavoro, tutti sapremmo dei traffici di esseri umani ed energetici all'ombra di BURISMA, la compagnia del gas Ucraino nel cui board sedeva il figlio di Joe Biden dopo il colpo di stato del 2014, per il fine di realizzare in Ucraina quella base della piattaforma del Male oggi usata per alimentare la possibilità di una Terza Guerra Mondiale Nucleare.  Le cose stanno precipitando per i DEM con la prospettiva di ricongiungerli ai loro DEMoni ispiratori. In questo senso è al simbolica l'uscita dell'analista politico della CNN David Zurawik di ieri, quando ha detto che è molto pericolosa l'acquisizione di Twitter da parte di Elon Musk, e che l'America deve guardare all'Europa per le risposte. In preda ad un sen di paura e delirio come quello del letterato iconico dei democratici americani, il drogato di adrenocromo Hunter Thompson nel suo famoso romanzo autobiografico \"Paura e Delirio al Las Vegas\", l'opinionista della  CNN ha dichiarato:    \"Hai bisogno di regolamentazione. Non puoi lasciare che questi ragazzi controllino la narrazione in questo paese o saremo diretti all'inferno. Noi ci siamo. Trump ha aperto le porte dell'inferno e ora ci stanno inseguendo\".   Sono d'accordo con David Zurawik ma nel senso che le porte dell'Inferno sono effettivamente spalancate e pronte ad accogliere i meritevoli. Tutti gli esseri umani corrotti dal potere, dalla fama e dal denaro che sono stati strumenti del maligno, avranno il loro posto meritato.  Nove, Nove, Nove.  P.S. Godetevi il video con la Paura e il Delirio alla CNN.</td>\n",
       "      <td>1</td>\n",
       "      <td>3248</td>\n",
       "    </tr>\n",
       "    <tr>\n",
       "      <th>3</th>\n",
       "      <td>L'Aspirina non aumenta la sopravvivenza dei pazienti ricoverati in ospedale per Covid-19,</td>\n",
       "      <td>0</td>\n",
       "      <td>89</td>\n",
       "    </tr>\n",
       "    <tr>\n",
       "      <th>4</th>\n",
       "      <td>L'Italia non puo' dare armi lo vieta la Costituzione..</td>\n",
       "      <td>0</td>\n",
       "      <td>54</td>\n",
       "    </tr>\n",
       "  </tbody>\n",
       "</table>\n",
       "</div>"
      ],
      "text/plain": [
       "                                                                                                                                                                                                                                                                                                                                                                                                                                                                                                                                                                                                                                                                                                                                                                                                                                                                                                                                                                                                                                                                                                                                                                                                                                                                                                                                                                                                                                                                                                                                                                                                                                                                                                                                                                                                                                                                                                                                                                                                                                                                                                                                                                                                                                                                                                                                                                                                                                                                                                                                                                                                                                                                                                                                                                                                                                                                                                                                                                                                                                                                                                                                                                                                                                                                                                                                                                               text  \\\n",
       "0                                                                                                                                                                                                                                                                                                                                                                                                                                                                                                                                                                                                                                                                                                                                                                                                                                                                                                                                                                                                                                                                                                                                                                                                                                                                                                                                                                                                                                                                                                                                                                                                                                                                                                                                                                                                                                                                                                                                                                                                                                                                                                                                                                                                                                                                                                                                                                                                                                                                                                                                                                                                                                                                                                                                                                                                                                                                                                                                                                                                                                                                                                                                                                                                                                                                                                                               ⚡Se non ci fossero soldati non ci sarebbero guerre.   \n",
       "1                                                                                                                                                                                                                                                                                                                                                                                                                                                                                                                                                                                                                                                                                                                                                                                                                                                                                                                                                                                                                                                                                                                                                                                                                                                                                                                                                                                                                                                                                                                                                                                                                                                                                                                                                                                                                                                                                                                                                                                                                                                                                                                                                                                                                                                                                                                                                                                                                                                                                                                                                                                                                                       21/08/21]( [PRE-PRINT]    📄__ \"Shedding of Infectious SARS-CoV-2 Despite Vaccination\"  🇮🇹 \"Diffusione del SARS-CoV-2 nonostante la vaccinazione\"__    📊 \"La variante Delta del SARS-CoV-2 può causare elevate cariche virali, è al trasmissibile e contiene mutazioni che conferiscono una fuga immunitaria parziale. [...] le indagini sull'epidemia suggeriscono che le persone vaccinate possono diffondere [la variante] Delta\"    ⚠️ \"[...] questi risultati indicano che anche le **persone asintomatiche e comple vaccinate possono diffondere il virus infettivo**.\"    ⚠️ \"[...] questi dati indicano che gli individui **vaccinati e non vaccinati** infettati dalla variante Delta **possono trasmettere l'infezione**.\"    📚 **   \n",
       "2  PAURA E DELIRIO ALLA CNN: IL MINISTERO DELLA VERITA'  La scorsa settimana Elon Musk ha dichiarato di volere che la \"libertà di parola\" sui social media sia tutelata ai sensi della Legge del Paese.  I DEM sono spaventatissimi dalla scelta coraggiosa del magnate dello Spazio di acquistare Twitter  così scontrandosi frontalmente, e senza paura, con BlackRock, Vanguard e State Street, cioè i tre fondi di inves che controllano il 95% delle multinazionali tra le prime 500 al Mondo. I DEM americani hanno risposto con la grande sorella Hillary e il grande fratello Obama,  i quali twittando hanno ordinato di allestire opportuni apparati di censura, una comanda ovviamente presa dai loro camerieri della UE e della ridicola Amministrazione Biden. Si tratta di un disperato tentativo di nascondere le Verità che stanno emergendo sul Covid19 e i vaccini, i supposti morti 'senza correlazione', le elezioni americane e francesi colossalmente truccate, i ladrocini finanziari trilionari con i derivati, i sacrifici umani e soprattutto di bambini  e tante altre rivelazioni usando  un \"Ministero della Verità\" in perfetto stile Orwell 1984.    Questa risposta DEM è assolu incostituzionale e non basta chiamare questi abomini  'Board per la Disinformazione' (in America) o 'Piattaforma per la Disinformazione' (in Unione Europea) per giustificare il tentativo di nascondere la Verità agli occhi della gente, tentando di non sembrare quello che sempre più palesemente si è:   Tiranni Globali come quelli descritti in tutta la Letteratura distopica.  Ricordo che Twitter aveva censurato la Verità sul  laptop di Hunter Biden poco prima delle elezioni del 2020, e se ciò non fosse stato fatto e i media avessero fatto il loro lavoro, tutti sapremmo dei traffici di esseri umani ed energetici all'ombra di BURISMA, la compagnia del gas Ucraino nel cui board sedeva il figlio di Joe Biden dopo il colpo di stato del 2014, per il fine di realizzare in Ucraina quella base della piattaforma del Male oggi usata per alimentare la possibilità di una Terza Guerra Mondiale Nucleare.  Le cose stanno precipitando per i DEM con la prospettiva di ricongiungerli ai loro DEMoni ispiratori. In questo senso è al simbolica l'uscita dell'analista politico della CNN David Zurawik di ieri, quando ha detto che è molto pericolosa l'acquisizione di Twitter da parte di Elon Musk, e che l'America deve guardare all'Europa per le risposte. In preda ad un sen di paura e delirio come quello del letterato iconico dei democratici americani, il drogato di adrenocromo Hunter Thompson nel suo famoso romanzo autobiografico \"Paura e Delirio al Las Vegas\", l'opinionista della  CNN ha dichiarato:    \"Hai bisogno di regolamentazione. Non puoi lasciare che questi ragazzi controllino la narrazione in questo paese o saremo diretti all'inferno. Noi ci siamo. Trump ha aperto le porte dell'inferno e ora ci stanno inseguendo\".   Sono d'accordo con David Zurawik ma nel senso che le porte dell'Inferno sono effettivamente spalancate e pronte ad accogliere i meritevoli. Tutti gli esseri umani corrotti dal potere, dalla fama e dal denaro che sono stati strumenti del maligno, avranno il loro posto meritato.  Nove, Nove, Nove.  P.S. Godetevi il video con la Paura e il Delirio alla CNN.    \n",
       "3                                                                                                                                                                                                                                                                                                                                                                                                                                                                                                                                                                                                                                                                                                                                                                                                                                                                                                                                                                                                                                                                                                                                                                                                                                                                                                                                                                                                                                                                                                                                                                                                                                                                                                                                                                                                                                                                                                                                                                                                                                                                                                                                                                                                                                                                                                                                                                                                                                                                                                                                                                                                                                                                                                                                                                                                                                                                                                                                                                                                                                                                                                                                                                                                                                                                                         L'Aspirina non aumenta la sopravvivenza dei pazienti ricoverati in ospedale per Covid-19,   \n",
       "4                                                                                                                                                                                                                                                                                                                                                                                                                                                                                                                                                                                                                                                                                                                                                                                                                                                                                                                                                                                                                                                                                                                                                                                                                                                                                                                                                                                                                                                                                                                                                                                                                                                                                                                                                                                                                                                                                                                                                                                                                                                                                                                                                                                                                                                                                                                                                                                                                                                                                                                                                                                                                                                                                                                                                                                                                                                                                                                                                                                                                                                                                                                                                                                                                                                                                                                            L'Italia non puo' dare armi lo vieta la Costituzione..   \n",
       "\n",
       "  label  char_count  \n",
       "0     0          51  \n",
       "1     1         715  \n",
       "2     1        3248  \n",
       "3     0          89  \n",
       "4     0          54  "
      ]
     },
     "execution_count": 21,
     "metadata": {},
     "output_type": "execute_result"
    }
   ],
   "source": [
    "augmented_dataset['char_count'] = augmented_dataset['text'].str.len()\n",
    "augmented_dataset.head()"
   ]
  },
  {
   "cell_type": "code",
   "execution_count": 22,
   "metadata": {
    "colab": {
     "base_uri": "https://localhost:8080/",
     "height": 327
    },
    "id": "qxkKdaF7dvxM",
    "outputId": "b7a59204-fce0-4bda-92b1-91fec7106d52"
   },
   "outputs": [
    {
     "data": {
      "text/html": [
       "<div>\n",
       "<style scoped>\n",
       "    .dataframe tbody tr th:only-of-type {\n",
       "        vertical-align: middle;\n",
       "    }\n",
       "\n",
       "    .dataframe tbody tr th {\n",
       "        vertical-align: top;\n",
       "    }\n",
       "\n",
       "    .dataframe thead th {\n",
       "        text-align: right;\n",
       "    }\n",
       "</style>\n",
       "<table border=\"1\" class=\"dataframe\">\n",
       "  <thead>\n",
       "    <tr style=\"text-align: right;\">\n",
       "      <th></th>\n",
       "      <th>text</th>\n",
       "      <th>label</th>\n",
       "      <th>char_count</th>\n",
       "    </tr>\n",
       "  </thead>\n",
       "  <tbody>\n",
       "    <tr>\n",
       "      <th>4899</th>\n",
       "      <td>DA DIFFONDERE!! Statistiche ufficiali VAERS-CDC Stati Uniti: i seri COVID-19 sono 50 volte più mortali dei vaccini antigripali!! Altri che vaccini, sono seri assassini!! Negli Stati Uniti solo nei primi 14 mesi, 743.179 segnalazioni di avvenimenti negativi (una piccola parte dei reali)!!</td>\n",
       "      <td>1</td>\n",
       "      <td>290</td>\n",
       "    </tr>\n",
       "    <tr>\n",
       "      <th>7605</th>\n",
       "      <td>Come la piattaforma in questione sta affrontando il problema delle limitazioni alla libertà di espressione?</td>\n",
       "      <td>1</td>\n",
       "      <td>108</td>\n",
       "    </tr>\n",
       "    <tr>\n",
       "      <th>3813</th>\n",
       "      <td>Poiché diversi individui hanno affermato che Berlusconi non si è opposto alla frode COVID nel corso dei due ultimi anni, qual partito proposevote che promuova la fine del cancro femminile, la fine della frode COVID, l'avversione alla invasione russa e una migliore condizione generale?</td>\n",
       "      <td>1</td>\n",
       "      <td>287</td>\n",
       "    </tr>\n",
       "    <tr>\n",
       "      <th>1803</th>\n",
       "      <td>Ma vediamo ... cosa risponde un noto astrofisico... alla domanda : si puo' creare una pressione gassosa senza un contenitore??.... Ovviamente  se ci sarebbe un modo per creare una pressione senza contenitore la teoria della terra piatta con cupola..  non sarebbe piu' tanto attendibile... Ma vediamo cosa risponde l'astrofisico..</td>\n",
       "      <td>1</td>\n",
       "      <td>329</td>\n",
       "    </tr>\n",
       "    <tr>\n",
       "      <th>1576</th>\n",
       "      <td>Joe Biden dice ai cittadini della Pennsylvania di eleggere Josh Shapiro come senatore (si candida a governatore) e di eleggere John Fetterman come governatore (si candida per il Senato). Tutto normale.</td>\n",
       "      <td>0</td>\n",
       "      <td>201</td>\n",
       "    </tr>\n",
       "  </tbody>\n",
       "</table>\n",
       "</div>"
      ],
      "text/plain": [
       "                                                                                                                                                                                                                                                                                                                                           text  \\\n",
       "4899                                          DA DIFFONDERE!! Statistiche ufficiali VAERS-CDC Stati Uniti: i seri COVID-19 sono 50 volte più mortali dei vaccini antigripali!! Altri che vaccini, sono seri assassini!! Negli Stati Uniti solo nei primi 14 mesi, 743.179 segnalazioni di avvenimenti negativi (una piccola parte dei reali)!!    \n",
       "7605                                                                                                                                                                                                                                Come la piattaforma in questione sta affrontando il problema delle limitazioni alla libertà di espressione?   \n",
       "3813                                             Poiché diversi individui hanno affermato che Berlusconi non si è opposto alla frode COVID nel corso dei due ultimi anni, qual partito proposevote che promuova la fine del cancro femminile, la fine della frode COVID, l'avversione alla invasione russa e una migliore condizione generale?    \n",
       "1803  Ma vediamo ... cosa risponde un noto astrofisico... alla domanda : si puo' creare una pressione gassosa senza un contenitore??.... Ovviamente  se ci sarebbe un modo per creare una pressione senza contenitore la teoria della terra piatta con cupola..  non sarebbe piu' tanto attendibile... Ma vediamo cosa risponde l'astrofisico..   \n",
       "1576                                                                                                                                  Joe Biden dice ai cittadini della Pennsylvania di eleggere Josh Shapiro come senatore (si candida a governatore) e di eleggere John Fetterman come governatore (si candida per il Senato). Tutto normale.   \n",
       "\n",
       "     label  char_count  \n",
       "4899     1         290  \n",
       "7605     1         108  \n",
       "3813     1         287  \n",
       "1803     1         329  \n",
       "1576     0         201  "
      ]
     },
     "execution_count": 22,
     "metadata": {},
     "output_type": "execute_result"
    }
   ],
   "source": [
    "#Effettuiamo lo shuffle per evitare problemi al classificatore\n",
    "augmented_dataset = shuffle(augmented_dataset, random_state=42)\n",
    "augmented_dataset.head()"
   ]
  },
  {
   "cell_type": "markdown",
   "metadata": {
    "id": "C0D95TevdvxM"
   },
   "source": [
    "Qui vengono scovate ed analizzate le emoticon, permettendoci di aggiungere le colonne che riguardano le emoticon presenti ed il loro numero"
   ]
  },
  {
   "cell_type": "code",
   "execution_count": 7,
   "metadata": {
    "id": "puL7uGC2dvxM"
   },
   "outputs": [],
   "source": [
    "import re\n",
    "def add_emoji(dataset):\n",
    "\n",
    "    augmented_dataset = dataset.copy()\n",
    "    augmented_dataset['emoji'] = ' '\n",
    "\n",
    "    for i in tqdm(range(len(dataset)), desc= \"Looking for emoji\"):\n",
    "        text = dataset.loc[i,'text']\n",
    "        data = emoji.demojize(text, language='it')\n",
    "        pattern = r\":(\\w+):\"\n",
    "\n",
    "        emoji_found = re.findall(pattern,data)\n",
    "        emoji_found = ' '.join(emoji_found)\n",
    "        augmented_dataset.at[i,'emoji'] = emoji_found\n",
    "\n",
    "    return augmented_dataset"
   ]
  },
  {
   "cell_type": "code",
   "execution_count": 24,
   "metadata": {
    "colab": {
     "base_uri": "https://localhost:8080/",
     "height": 345
    },
    "id": "U_AAK-rBdvxM",
    "outputId": "90106678-62d9-4b1a-9bb4-0a23eedd76a4"
   },
   "outputs": [
    {
     "data": {
      "application/vnd.jupyter.widget-view+json": {
       "model_id": "ce9ce5701ca947cdacfc7d0f53ca4450",
       "version_major": 2,
       "version_minor": 0
      },
      "text/plain": [
       "Looking for emoji:   0%|          | 0/10884 [00:00<?, ?it/s]"
      ]
     },
     "metadata": {},
     "output_type": "display_data"
    },
    {
     "data": {
      "text/html": [
       "<div>\n",
       "<style scoped>\n",
       "    .dataframe tbody tr th:only-of-type {\n",
       "        vertical-align: middle;\n",
       "    }\n",
       "\n",
       "    .dataframe tbody tr th {\n",
       "        vertical-align: top;\n",
       "    }\n",
       "\n",
       "    .dataframe thead th {\n",
       "        text-align: right;\n",
       "    }\n",
       "</style>\n",
       "<table border=\"1\" class=\"dataframe\">\n",
       "  <thead>\n",
       "    <tr style=\"text-align: right;\">\n",
       "      <th></th>\n",
       "      <th>text</th>\n",
       "      <th>label</th>\n",
       "      <th>char_count</th>\n",
       "      <th>emoji</th>\n",
       "    </tr>\n",
       "  </thead>\n",
       "  <tbody>\n",
       "    <tr>\n",
       "      <th>4899</th>\n",
       "      <td>DA DIFFONDERE!! Statistiche ufficiali VAERS-CDC Stati Uniti: i seri COVID-19 sono 50 volte più mortali dei vaccini antigripali!! Altri che vaccini, sono seri assassini!! Negli Stati Uniti solo nei primi 14 mesi, 743.179 segnalazioni di avvenimenti negativi (una piccola parte dei reali)!!</td>\n",
       "      <td>1</td>\n",
       "      <td>290</td>\n",
       "      <td></td>\n",
       "    </tr>\n",
       "    <tr>\n",
       "      <th>7605</th>\n",
       "      <td>Come la piattaforma in questione sta affrontando il problema delle limitazioni alla libertà di espressione?</td>\n",
       "      <td>1</td>\n",
       "      <td>108</td>\n",
       "      <td></td>\n",
       "    </tr>\n",
       "    <tr>\n",
       "      <th>3813</th>\n",
       "      <td>Poiché diversi individui hanno affermato che Berlusconi non si è opposto alla frode COVID nel corso dei due ultimi anni, qual partito proposevote che promuova la fine del cancro femminile, la fine della frode COVID, l'avversione alla invasione russa e una migliore condizione generale?</td>\n",
       "      <td>1</td>\n",
       "      <td>287</td>\n",
       "      <td></td>\n",
       "    </tr>\n",
       "    <tr>\n",
       "      <th>1803</th>\n",
       "      <td>Ma vediamo ... cosa risponde un noto astrofisico... alla domanda : si puo' creare una pressione gassosa senza un contenitore??.... Ovviamente  se ci sarebbe un modo per creare una pressione senza contenitore la teoria della terra piatta con cupola..  non sarebbe piu' tanto attendibile... Ma vediamo cosa risponde l'astrofisico..</td>\n",
       "      <td>1</td>\n",
       "      <td>329</td>\n",
       "      <td></td>\n",
       "    </tr>\n",
       "    <tr>\n",
       "      <th>1576</th>\n",
       "      <td>Joe Biden dice ai cittadini della Pennsylvania di eleggere Josh Shapiro come senatore (si candida a governatore) e di eleggere John Fetterman come governatore (si candida per il Senato). Tutto normale.</td>\n",
       "      <td>0</td>\n",
       "      <td>201</td>\n",
       "      <td></td>\n",
       "    </tr>\n",
       "  </tbody>\n",
       "</table>\n",
       "</div>"
      ],
      "text/plain": [
       "                                                                                                                                                                                                                                                                                                                                           text  \\\n",
       "4899                                          DA DIFFONDERE!! Statistiche ufficiali VAERS-CDC Stati Uniti: i seri COVID-19 sono 50 volte più mortali dei vaccini antigripali!! Altri che vaccini, sono seri assassini!! Negli Stati Uniti solo nei primi 14 mesi, 743.179 segnalazioni di avvenimenti negativi (una piccola parte dei reali)!!    \n",
       "7605                                                                                                                                                                                                                                Come la piattaforma in questione sta affrontando il problema delle limitazioni alla libertà di espressione?   \n",
       "3813                                             Poiché diversi individui hanno affermato che Berlusconi non si è opposto alla frode COVID nel corso dei due ultimi anni, qual partito proposevote che promuova la fine del cancro femminile, la fine della frode COVID, l'avversione alla invasione russa e una migliore condizione generale?    \n",
       "1803  Ma vediamo ... cosa risponde un noto astrofisico... alla domanda : si puo' creare una pressione gassosa senza un contenitore??.... Ovviamente  se ci sarebbe un modo per creare una pressione senza contenitore la teoria della terra piatta con cupola..  non sarebbe piu' tanto attendibile... Ma vediamo cosa risponde l'astrofisico..   \n",
       "1576                                                                                                                                  Joe Biden dice ai cittadini della Pennsylvania di eleggere Josh Shapiro come senatore (si candida a governatore) e di eleggere John Fetterman come governatore (si candida per il Senato). Tutto normale.   \n",
       "\n",
       "     label  char_count emoji  \n",
       "4899     1         290        \n",
       "7605     1         108        \n",
       "3813     1         287        \n",
       "1803     1         329        \n",
       "1576     0         201        "
      ]
     },
     "execution_count": 24,
     "metadata": {},
     "output_type": "execute_result"
    }
   ],
   "source": [
    "augmented_dataset = add_emoji(augmented_dataset)\n",
    "augmented_dataset.head()"
   ]
  },
  {
   "cell_type": "markdown",
   "metadata": {
    "id": "V4csBJesdvxM"
   },
   "source": [
    "Viene applicato lo stesso trattamento per gli hashtag"
   ]
  },
  {
   "cell_type": "code",
   "execution_count": 8,
   "metadata": {
    "id": "Q3GdafcadvxQ"
   },
   "outputs": [],
   "source": [
    "def add_hashtag(dataset):\n",
    "    augmented_dataset = dataset.copy()\n",
    "    augmented_dataset['hashtag'] = ' '\n",
    "    data = []\n",
    "\n",
    "    for i in tqdm(range(len(dataset)), desc= \"Looking for hashtag\"):\n",
    "        text = dataset.loc[i,'text']\n",
    "        dato = [k for k in text.split() if k.startswith(\"#\")]\n",
    "        data.append(dato)\n",
    "\n",
    "    augmented_dataset['hashtag'] = data\n",
    "    augmented_dataset['hashtag'] = augmented_dataset['hashtag'].apply(lambda x: \" \".join(x).replace('#', ''))\n",
    "\n",
    "\n",
    "    return augmented_dataset"
   ]
  },
  {
   "cell_type": "code",
   "execution_count": 26,
   "metadata": {
    "colab": {
     "base_uri": "https://localhost:8080/",
     "height": 345
    },
    "id": "XIct5Kd_dvxQ",
    "outputId": "bd399a5f-2209-45ce-f5ee-2bac49ab48f6"
   },
   "outputs": [
    {
     "data": {
      "application/vnd.jupyter.widget-view+json": {
       "model_id": "fe54eb1907b441bb9708b3b3c1cea806",
       "version_major": 2,
       "version_minor": 0
      },
      "text/plain": [
       "Looking for hashtag:   0%|          | 0/10884 [00:00<?, ?it/s]"
      ]
     },
     "metadata": {},
     "output_type": "display_data"
    },
    {
     "data": {
      "text/html": [
       "<div>\n",
       "<style scoped>\n",
       "    .dataframe tbody tr th:only-of-type {\n",
       "        vertical-align: middle;\n",
       "    }\n",
       "\n",
       "    .dataframe tbody tr th {\n",
       "        vertical-align: top;\n",
       "    }\n",
       "\n",
       "    .dataframe thead th {\n",
       "        text-align: right;\n",
       "    }\n",
       "</style>\n",
       "<table border=\"1\" class=\"dataframe\">\n",
       "  <thead>\n",
       "    <tr style=\"text-align: right;\">\n",
       "      <th></th>\n",
       "      <th>text</th>\n",
       "      <th>label</th>\n",
       "      <th>char_count</th>\n",
       "      <th>emoji</th>\n",
       "      <th>hashtag</th>\n",
       "    </tr>\n",
       "  </thead>\n",
       "  <tbody>\n",
       "    <tr>\n",
       "      <th>4899</th>\n",
       "      <td>DA DIFFONDERE!! Statistiche ufficiali VAERS-CDC Stati Uniti: i seri COVID-19 sono 50 volte più mortali dei vaccini antigripali!! Altri che vaccini, sono seri assassini!! Negli Stati Uniti solo nei primi 14 mesi, 743.179 segnalazioni di avvenimenti negativi (una piccola parte dei reali)!!</td>\n",
       "      <td>1</td>\n",
       "      <td>290</td>\n",
       "      <td></td>\n",
       "      <td></td>\n",
       "    </tr>\n",
       "    <tr>\n",
       "      <th>7605</th>\n",
       "      <td>Come la piattaforma in questione sta affrontando il problema delle limitazioni alla libertà di espressione?</td>\n",
       "      <td>1</td>\n",
       "      <td>108</td>\n",
       "      <td></td>\n",
       "      <td></td>\n",
       "    </tr>\n",
       "    <tr>\n",
       "      <th>3813</th>\n",
       "      <td>Poiché diversi individui hanno affermato che Berlusconi non si è opposto alla frode COVID nel corso dei due ultimi anni, qual partito proposevote che promuova la fine del cancro femminile, la fine della frode COVID, l'avversione alla invasione russa e una migliore condizione generale?</td>\n",
       "      <td>1</td>\n",
       "      <td>287</td>\n",
       "      <td></td>\n",
       "      <td></td>\n",
       "    </tr>\n",
       "    <tr>\n",
       "      <th>1803</th>\n",
       "      <td>Ma vediamo ... cosa risponde un noto astrofisico... alla domanda : si puo' creare una pressione gassosa senza un contenitore??.... Ovviamente  se ci sarebbe un modo per creare una pressione senza contenitore la teoria della terra piatta con cupola..  non sarebbe piu' tanto attendibile... Ma vediamo cosa risponde l'astrofisico..</td>\n",
       "      <td>1</td>\n",
       "      <td>329</td>\n",
       "      <td></td>\n",
       "      <td></td>\n",
       "    </tr>\n",
       "    <tr>\n",
       "      <th>1576</th>\n",
       "      <td>Joe Biden dice ai cittadini della Pennsylvania di eleggere Josh Shapiro come senatore (si candida a governatore) e di eleggere John Fetterman come governatore (si candida per il Senato). Tutto normale.</td>\n",
       "      <td>0</td>\n",
       "      <td>201</td>\n",
       "      <td></td>\n",
       "      <td></td>\n",
       "    </tr>\n",
       "  </tbody>\n",
       "</table>\n",
       "</div>"
      ],
      "text/plain": [
       "                                                                                                                                                                                                                                                                                                                                           text  \\\n",
       "4899                                          DA DIFFONDERE!! Statistiche ufficiali VAERS-CDC Stati Uniti: i seri COVID-19 sono 50 volte più mortali dei vaccini antigripali!! Altri che vaccini, sono seri assassini!! Negli Stati Uniti solo nei primi 14 mesi, 743.179 segnalazioni di avvenimenti negativi (una piccola parte dei reali)!!    \n",
       "7605                                                                                                                                                                                                                                Come la piattaforma in questione sta affrontando il problema delle limitazioni alla libertà di espressione?   \n",
       "3813                                             Poiché diversi individui hanno affermato che Berlusconi non si è opposto alla frode COVID nel corso dei due ultimi anni, qual partito proposevote che promuova la fine del cancro femminile, la fine della frode COVID, l'avversione alla invasione russa e una migliore condizione generale?    \n",
       "1803  Ma vediamo ... cosa risponde un noto astrofisico... alla domanda : si puo' creare una pressione gassosa senza un contenitore??.... Ovviamente  se ci sarebbe un modo per creare una pressione senza contenitore la teoria della terra piatta con cupola..  non sarebbe piu' tanto attendibile... Ma vediamo cosa risponde l'astrofisico..   \n",
       "1576                                                                                                                                  Joe Biden dice ai cittadini della Pennsylvania di eleggere Josh Shapiro come senatore (si candida a governatore) e di eleggere John Fetterman come governatore (si candida per il Senato). Tutto normale.   \n",
       "\n",
       "     label  char_count emoji hashtag  \n",
       "4899     1         290                \n",
       "7605     1         108                \n",
       "3813     1         287                \n",
       "1803     1         329                \n",
       "1576     0         201                "
      ]
     },
     "execution_count": 26,
     "metadata": {},
     "output_type": "execute_result"
    }
   ],
   "source": [
    "augmented_dataset = add_hashtag(augmented_dataset)\n",
    "augmented_dataset.head()"
   ]
  },
  {
   "cell_type": "code",
   "execution_count": 27,
   "metadata": {
    "id": "2t0A2X_3dvxQ"
   },
   "outputs": [],
   "source": [
    "augmented_dataset.to_csv(f'{root}augmented_dataset_with_added_cols.csv', index=False)\n"
   ]
  },
  {
   "cell_type": "markdown",
   "metadata": {
    "id": "rwfNj74ydvxQ"
   },
   "source": [
    "Definizione pipeline"
   ]
  },
  {
   "cell_type": "code",
   "execution_count": 9,
   "metadata": {
    "id": "VfVF9ydIdvxR"
   },
   "outputs": [],
   "source": [
    "hyperparameters = {\n",
    "    \"#_classes\" : 1,\n",
    "    \"epochs\": 40,\n",
    "    \"learning_rate\": 1e-6,\n",
    "    \"batch_size\": 5,\n",
    "    \"dropout\": 0.1,\n",
    "    \"stopwords\": False,\n",
    "    \"h_dim\": 768,\n",
    "    \"patience\": 10,\n",
    "    \"min_delta\": 0.01,\n",
    "    \"language_model\": \"bert-base-multilingual-cased\",\n",
    "    \"extra_features\": 65, #32 emoji + 32 hashtag + 1 char_count\n",
    "}"
   ]
  },
  {
   "cell_type": "code",
   "execution_count": 29,
   "metadata": {
    "id": "D6FDEZvddvxR"
   },
   "outputs": [],
   "source": [
    "#(x_train, x_test,char_count_train,char_count_test, hashtag_train, hashtag_test,emoji_train,emoji_test,y_train, y_test) = train_test_split(augmented_dataset['text'],augmented_dataset['char_count'], augmented_dataset['hashtag'],augmented_dataset['emoji'] ,augmented_dataset['label'], test_size=0.2, random_state=42)\n",
    "\n",
    "#(x_train, x_val,char_count_train,char_count_val, hashtag_train, hashtag_val, emoji_train, emoji_val, y_train, y_val) = train_test_split( x_train,char_count_train,hashtag_train,emoji_train, y_train, test_size=0.1, random_state=42)"
   ]
  },
  {
   "cell_type": "code",
   "execution_count": 30,
   "metadata": {
    "id": "h96HGKPxhR4G"
   },
   "outputs": [],
   "source": [
    "(x_train, x_test,char_count_train,char_count_test, hashtag_train, hashtag_test,emoji_train,emoji_test,y_train, y_test) = train_test_split(augmented_dataset['text'],augmented_dataset['char_count'], augmented_dataset['hashtag'],augmented_dataset['emoji'] ,augmented_dataset['label'], test_size=0.1, random_state=42)\n"
   ]
  },
  {
   "cell_type": "code",
   "execution_count": 10,
   "metadata": {
    "colab": {
     "base_uri": "https://localhost:8080/"
    },
    "id": "1yOn-3kHdvxR",
    "outputId": "e798b73d-8b9c-43f8-de32-1b53a58cc6a3"
   },
   "outputs": [
    {
     "name": "stderr",
     "output_type": "stream",
     "text": [
      "[nltk_data] Downloading package punkt to /root/nltk_data...\n",
      "[nltk_data]   Package punkt is already up-to-date!\n",
      "[nltk_data] Downloading package stopwords to /root/nltk_data...\n",
      "[nltk_data]   Package stopwords is already up-to-date!\n"
     ]
    }
   ],
   "source": [
    "nltk.download('punkt')\n",
    "nltk.download('stopwords')\n",
    "\n",
    "class Dataset(torch.utils.data.Dataset):\n",
    "\n",
    "    def __init__(self, x, char_count, emoji, hashtag, y, stopwords):\n",
    "\n",
    "\n",
    "        tokens_litt = [nltk.word_tokenize(text, language='italian') for text in list(x)]\n",
    "\n",
    "        text_clean = []\n",
    "\n",
    "        for sentence in tqdm(tokens_litt, desc='Tokenizing text ... '):\n",
    "            text_clean.append(' '.join([w for w in sentence if not w.lower() in nltk.corpus.stopwords.words(\"italian\")]))\n",
    "\n",
    "\n",
    "        self.texts = [text for text in text_clean]\n",
    "        self.emoji = [e for e in emoji]\n",
    "        self.hashtag = [h for h in hashtag]\n",
    "        self.labels = [torch.tensor(label) for label in y]\n",
    "        self.char_count = [torch.tensor(char_count) for char_count in char_count]\n",
    "\n",
    "    def classes(self):\n",
    "        return self.labels\n",
    "\n",
    "    def __len__(self):\n",
    "        return len(self.labels)\n",
    "\n",
    "    def get_batch_labels(self, idx):\n",
    "        # Fetch a batch of labels\n",
    "        return np.array(self.labels[idx])\n",
    "\n",
    "    def get_batch_texts(self, idx):\n",
    "        # Fetch a batch of inputs\n",
    "        return self.texts[idx]\n",
    "\n",
    "    def get_batch_char_count(self, idx):\n",
    "        # Fetch a batch of inputs\n",
    "        return self.char_count[idx]\n",
    "\n",
    "    def get_batch_emoji(self, idx):\n",
    "        # Fetch a batch of inputs\n",
    "        return self.emoji[idx]\n",
    "\n",
    "    def get_batch_hashtag(self, idx):\n",
    "        # Fetch a batch of inputs\n",
    "        return self.hashtag[idx]\n",
    "\n",
    "    def __getitem__(self, idx):\n",
    "\n",
    "        batch_texts = self.get_batch_texts(idx)\n",
    "        batch_labels = self.get_batch_labels(idx)\n",
    "        batch_char_count = self.get_batch_char_count(idx)\n",
    "        batch_emoji = self.get_batch_emoji(idx)\n",
    "        batch_hashtag = self.get_batch_hashtag(idx)\n",
    "\n",
    "        return batch_texts, batch_labels, batch_char_count, batch_emoji, batch_hashtag"
   ]
  },
  {
   "cell_type": "code",
   "execution_count": 32,
   "metadata": {
    "id": "WdKkPMFVdvxR"
   },
   "outputs": [],
   "source": [
    "#train_dataset = Dataset(x_train, char_count_train,emoji_train,hashtag_train, y_train, hyperparameters[\"stopwords\"])\n",
    "#val_dataset = Dataset(x_val,char_count_val,emoji_val,hashtag_val, y_val, hyperparameters[\"stopwords\"])\n",
    "#test_dataset = Dataset(x_test, char_count_test,emoji_test,hashtag_test, y_test, hyperparameters[\"stopwords\"])"
   ]
  },
  {
   "cell_type": "code",
   "execution_count": 33,
   "metadata": {
    "colab": {
     "base_uri": "https://localhost:8080/"
    },
    "id": "6gdzfJgchKQ1",
    "outputId": "e79160e8-f80a-411a-d34f-06216f141d8e"
   },
   "outputs": [
    {
     "data": {
      "application/vnd.jupyter.widget-view+json": {
       "model_id": "cab0cfc798334635bc2cd2a295034bfa",
       "version_major": 2,
       "version_minor": 0
      },
      "text/plain": [
       "Tokenizing text ... :   0%|          | 0/9795 [00:00<?, ?it/s]"
      ]
     },
     "metadata": {},
     "output_type": "display_data"
    },
    {
     "data": {
      "application/vnd.jupyter.widget-view+json": {
       "model_id": "48989153b3704a2d863864b4be1b83a3",
       "version_major": 2,
       "version_minor": 0
      },
      "text/plain": [
       "Tokenizing text ... :   0%|          | 0/1089 [00:00<?, ?it/s]"
      ]
     },
     "metadata": {},
     "output_type": "display_data"
    }
   ],
   "source": [
    "train_dataset = Dataset(x_train, char_count_train,emoji_train,hashtag_train, y_train, hyperparameters[\"stopwords\"])\n",
    "test_dataset = Dataset(x_test, char_count_test,emoji_test,hashtag_test, y_test, hyperparameters[\"stopwords\"])"
   ]
  },
  {
   "cell_type": "code",
   "execution_count": 12,
   "metadata": {
    "id": "L0KkeIvCdvxR"
   },
   "outputs": [],
   "source": [
    "class EarlyStopping:\n",
    "    def __init__(self, patience=5, min_delta=0.0):\n",
    "\n",
    "        self.patience = patience\n",
    "        self.min_delta = min_delta              # valore minimo di decrescita della loss di validazione all'epoca corrente\n",
    "                                                # per asserire che c'è un miglioramenti della loss\n",
    "        self.counter = 0                        # contatore delle epoche di pazienza\n",
    "        self.early_stop = False                 # flag di early stop\n",
    "        self.min_validation_loss = torch.inf    # valore corrente ottimo della loss di validazione\n",
    "\n",
    "    def __call__(self, validation_loss):\n",
    "        # chiamata in forma funzionale dell'oggetto di classe EarlySopping\n",
    "        if (validation_loss + self.min_delta) >= self.min_validation_loss:  # la loss di validazione non decresce\n",
    "            self.counter += 1                                               # incrementiamo il contatore delle epoche di pazienza\n",
    "            if self.counter >= self.patience:\n",
    "                self.early_stop = True\n",
    "                print(\"Early stop!\")\n",
    "        else:                                                               # c'è un miglioramento della loss:\n",
    "            self.min_validation_loss = validation_loss                      # consideriamo la loss corrente\n",
    "                                                                            # come nuova loss ottimale\n",
    "            self.counter = 0                                                # e azzeriamo il contatore di pazienza"
   ]
  },
  {
   "cell_type": "code",
   "execution_count": 11,
   "metadata": {
    "id": "g3oztiLCdvxS"
   },
   "outputs": [],
   "source": [
    "class ClassifierDeep(nn.Module):\n",
    "\n",
    "    def __init__(self, labels, hdim, dropout, model_name,extra_features = hyperparameters['extra_features']):\n",
    "        super(ClassifierDeep, self).__init__()\n",
    "        config = AutoConfig.from_pretrained(model_name)\n",
    "        self.lm_model = AutoModel.from_pretrained(model_name, config=config)\n",
    "        self.classifier = nn.Sequential(\n",
    "            nn.Linear(hdim + extra_features, 512),\n",
    "            nn.Dropout(dropout),\n",
    "            nn.ReLU(),\n",
    "            nn.Linear(512, 128),\n",
    "            nn.Dropout(dropout),\n",
    "            nn.ReLU(),\n",
    "            nn.Linear(128, 1),\n",
    "            nn.Sigmoid()\n",
    "            )\n",
    "\n",
    "    def forward(self, input_id_text, attention_mask, char_count,emoji_text, hashtag):\n",
    "        output = self.lm_model(input_id_text, attention_mask).last_hidden_state\n",
    "        output = output[:,0,:]\n",
    "        output = torch.cat((output, char_count.unsqueeze(-1), emoji_text, hashtag), dim=1)  # Concatena il conteggio dei caratteri\n",
    "        return self.classifier(output)"
   ]
  },
  {
   "cell_type": "code",
   "execution_count": 18,
   "metadata": {
    "id": "n9jFk-cwdvxS"
   },
   "outputs": [],
   "source": [
    "def train_loop(model, dataloader, tokenizer, loss, optimizer, device):\n",
    "    model.train()\n",
    "\n",
    "    epoch_acc = 0\n",
    "    epoch_loss = 0\n",
    "\n",
    "    for batch_texts, batch_labels, batch_char_count, emoji, hashtag in tqdm(dataloader, desc='training set'):\n",
    "\n",
    "        optimizer.zero_grad()\n",
    "        tokens = tokenizer(list(batch_texts), add_special_tokens=True,\n",
    "                            return_tensors='pt', padding='max_length',\n",
    "                            max_length = 400, truncation=True)\n",
    "        tokens_emoji = tokenizer(list(emoji), add_special_tokens=True,\n",
    "                            return_tensors='pt', padding='max_length',\n",
    "                            max_length = 32, truncation=True)\n",
    "        tokens_hashtag = tokenizer(list(hashtag), add_special_tokens=True,\n",
    "                            return_tensors='pt', padding='max_length',\n",
    "                            max_length = 32, truncation=True)\n",
    "\n",
    "        input_id_texts = tokens['input_ids'].squeeze(1).to(device)\n",
    "        mask_texts = tokens['attention_mask'].squeeze(1).to(device)\n",
    "\n",
    "        input_id_emoji = tokens_emoji['input_ids'].squeeze(1).to(device)\n",
    "        mask_emoji = tokens_emoji['attention_mask'].squeeze(1).to(device)\n",
    "\n",
    "        input_id_hashtag = tokens_hashtag['input_ids'].squeeze(1).to(device)\n",
    "        mask_hashtag = tokens_hashtag['attention_mask'].squeeze(1).to(device)\n",
    "\n",
    "\n",
    "        batch_char_count = batch_char_count.to(device)\n",
    "        batch_labels = batch_labels.to(device)\n",
    "        batch_char_count = batch_char_count.to(device)\n",
    "\n",
    "\n",
    "\n",
    "        output = model(input_id_texts, mask_texts,batch_char_count, input_id_emoji, input_id_hashtag)\n",
    "\n",
    "        # la loss è una CrossEntropyLoss, al suo interno ha la logsoftmax + negative log likelihood loss\n",
    "        batch_loss = loss(output, batch_labels.unsqueeze(-1).float())\n",
    "        batch_loss.backward()\n",
    "        optimizer.step()\n",
    "\n",
    "        epoch_loss += batch_loss.item()\n",
    "\n",
    "        # per calcolare l'accuracy devo generare le predizioni applicando manualmente la logsoftmax\n",
    "        #softmax = nn.LogSoftmax(dim=1)\n",
    "        #epoch_acc += (softmax(output).argmax(dim=1) == batch_labels).sum().item()\n",
    "        epoch_acc += (output.squeeze().round() == batch_labels).float().mean()\n",
    "        batch_labels = batch_labels.detach().cpu()\n",
    "        input_id_texts = input_id_texts.detach().cpu()\n",
    "        mask_texts = mask_texts.detach().cpu()\n",
    "        output = output.detach().cpu()\n",
    "        batch_char_count = batch_char_count.detach().cpu()\n",
    "\n",
    "\n",
    "    return epoch_loss/len(dataloader), epoch_acc/len(dataloader)"
   ]
  },
  {
   "cell_type": "code",
   "execution_count": 14,
   "metadata": {
    "id": "3fgQ5_IjdvxS"
   },
   "outputs": [],
   "source": [
    "def test_loop(model, dataloader, tokenizer, loss, device, best_acc, best_weights):\n",
    "    model.eval()\n",
    "\n",
    "    epoch_acc = 0\n",
    "    epoch_loss = 0\n",
    "\n",
    "    with torch.no_grad():\n",
    "\n",
    "        for batch_texts, batch_labels, batch_char_count, emoji, hashtag in tqdm(dataloader, desc='dev set'):\n",
    "\n",
    "            tokens = tokenizer(list(batch_texts), add_special_tokens=True,\n",
    "                               return_tensors='pt', padding='max_length',\n",
    "                               max_length = 512, truncation=True)\n",
    "\n",
    "            tokens_emoji = tokenizer(list(emoji), add_special_tokens=True,\n",
    "                            return_tensors='pt', padding='max_length',\n",
    "                            max_length = 32, truncation=True)\n",
    "            tokens_hashtag = tokenizer(list(hashtag), add_special_tokens=True,\n",
    "                                return_tensors='pt', padding='max_length',\n",
    "                                max_length = 32, truncation=True)\n",
    "\n",
    "            input_id_texts = tokens['input_ids'].squeeze(1).to(device)\n",
    "            mask_texts = tokens['attention_mask'].squeeze(1).to(device)\n",
    "\n",
    "            input_id_emoji = tokens_emoji['input_ids'].squeeze(1).to(device)\n",
    "            mask_emoji = tokens_emoji['attention_mask'].squeeze(1).to(device)\n",
    "\n",
    "            input_id_hashtag = tokens_hashtag['input_ids'].squeeze(1).to(device)\n",
    "            mask_hashtag = tokens_hashtag['attention_mask'].squeeze(1).to(device)\n",
    "\n",
    "            batch_labels = batch_labels.to(device)\n",
    "            batch_char_count = batch_char_count.to(device)\n",
    "\n",
    "\n",
    "            output = model(input_id_texts, mask_texts,batch_char_count,input_id_emoji, input_id_hashtag)\n",
    "\n",
    "            batch_loss = loss(output, batch_labels.unsqueeze(-1).float())\n",
    "            epoch_loss += batch_loss.item()\n",
    "\n",
    "            #softmax = nn.LogSoftmax(dim=1)\n",
    "            #epoch_acc += (softmax(output).argmax(dim=1) == batch_labels).sum().item()\n",
    "            epoch_acc += (output.squeeze().round() == batch_labels).float().mean()\n",
    "\n",
    "\n",
    "            batch_labels = batch_labels.detach().cpu()\n",
    "            input_id_texts = input_id_texts.detach().cpu()\n",
    "            mask_texts = mask_texts.detach().cpu()\n",
    "            output = output.detach().cpu()\n",
    "            batch_char_count = batch_char_count.detach().cpu()\n",
    "        acc = float(epoch_acc/len(dataloader))\n",
    "        if acc > best_acc:\n",
    "            best_acc = acc\n",
    "            best_weights = copy.deepcopy(model.state_dict())\n",
    "\n",
    "\n",
    "    return epoch_loss/len(dataloader), epoch_acc/len(dataloader), best_acc, best_weights"
   ]
  },
  {
   "cell_type": "code",
   "execution_count": 15,
   "metadata": {
    "id": "eL44wD7hdvxS"
   },
   "outputs": [],
   "source": [
    "def train_test(model, epochs, optimizer, device, train_data, test_data,\n",
    "               batch_size, language_model, train_loss_fn, test_loss_fn=None,\n",
    "               early_stopping=None, val_data=None, scheduler=None):\n",
    "\n",
    "  train_dataloader = torch.utils.data.DataLoader(train_data, batch_size=batch_size, shuffle=True)\n",
    "  #val_dataloader = torch.utils.data.DataLoader(val_data, batch_size=batch_size)\n",
    "  test_dataloader = torch.utils.data.DataLoader(test_data, batch_size=batch_size)\n",
    "\n",
    "    # check sulle funzioni di loss\n",
    "  if test_loss_fn == None:\n",
    "    test_loss_fn = train_loss_fn\n",
    "\n",
    "    # liste dei valori di loss e accuracy epoca per epoca per il plot\n",
    "  train_loss = []\n",
    "  validation_loss = []\n",
    "  test_loss = []\n",
    "\n",
    "  train_acc = []\n",
    "  validation_acc = []\n",
    "  test_acc = []\n",
    "  best_acc = - np.inf\n",
    "  best_weights = None\n",
    "  tokenizer = AutoTokenizer.from_pretrained(language_model)\n",
    "\n",
    "    # Ciclo di addestramento con early stopping\n",
    "  for epoch in tqdm(range(1,epochs+1)):\n",
    "    epoch_train_loss, epoch_train_acc = train_loop(model, train_dataloader, tokenizer, train_loss_fn, optimizer, device)\n",
    "    train_loss.append(epoch_train_loss)\n",
    "    train_acc.append(epoch_train_acc/len(train_data))\n",
    "\n",
    "        # validation se è presente la callback di early stopping\n",
    "  #        if early_stopping != None:\n",
    "  #              epoch_validate_loss, epoch_validate_acc = test_loop(model,\n",
    "  #                              val_dataloader, tokenizer, test_loss_fn, device)\n",
    "  #              validation_loss.append(epoch_validate_loss)\n",
    "  #              validation_acc.append(epoch_validate_acc/len(val_data))\n",
    "\n",
    "        # test\n",
    "    epoch_test_loss, epoch_test_acc, best_acc, best_weights = test_loop(model, test_dataloader, tokenizer, test_loss_fn, device, best_acc, best_weights)\n",
    "    test_loss.append(epoch_test_loss)\n",
    "    test_acc.append(epoch_test_acc/len(test_data))\n",
    "\n",
    "    val_loss_str = f'Validation loss: {epoch_validate_loss:6.4f} ' if early_stopping != None else ' '\n",
    "    val_acc_str = f'Validation accuracy: {(epoch_validate_acc):6.4f} ' if early_stopping != None else ' '\n",
    "    print(f\"\\nTrain loss: {epoch_train_loss:6.4f} {val_loss_str}Test loss: {epoch_test_loss:6.4f}\")\n",
    "    print(f\"Train accuracy: {(epoch_train_acc):6.4f} {val_acc_str}Test accuracy: {(epoch_test_acc):6.4f}\")\n",
    "\n",
    "        # early stopping\n",
    "    #        if early_stopping != None:\n",
    "    #            early_stopping(epoch_validate_loss)\n",
    "    #            if early_stopping.early_stop:\n",
    "    #                break\n",
    "\n",
    "  return train_loss, validation_loss, test_loss, train_acc, validation_acc, test_acc, best_acc, best_weights"
   ]
  },
  {
   "cell_type": "code",
   "execution_count": 16,
   "metadata": {
    "colab": {
     "base_uri": "https://localhost:8080/"
    },
    "id": "bRX9xItRdvxS",
    "outputId": "f60c1e9b-d903-4b92-b0bc-0d58a7364a7e"
   },
   "outputs": [
    {
     "name": "stdout",
     "output_type": "stream",
     "text": [
      "Using cuda device\n",
      "ClassifierDeep(\n",
      "  (lm_model): BertModel(\n",
      "    (embeddings): BertEmbeddings(\n",
      "      (word_embeddings): Embedding(119547, 768, padding_idx=0)\n",
      "      (position_embeddings): Embedding(512, 768)\n",
      "      (token_type_embeddings): Embedding(2, 768)\n",
      "      (LayerNorm): LayerNorm((768,), eps=1e-12, elementwise_affine=True)\n",
      "      (dropout): Dropout(p=0.1, inplace=False)\n",
      "    )\n",
      "    (encoder): BertEncoder(\n",
      "      (layer): ModuleList(\n",
      "        (0-11): 12 x BertLayer(\n",
      "          (attention): BertAttention(\n",
      "            (self): BertSelfAttention(\n",
      "              (query): Linear(in_features=768, out_features=768, bias=True)\n",
      "              (key): Linear(in_features=768, out_features=768, bias=True)\n",
      "              (value): Linear(in_features=768, out_features=768, bias=True)\n",
      "              (dropout): Dropout(p=0.1, inplace=False)\n",
      "            )\n",
      "            (output): BertSelfOutput(\n",
      "              (dense): Linear(in_features=768, out_features=768, bias=True)\n",
      "              (LayerNorm): LayerNorm((768,), eps=1e-12, elementwise_affine=True)\n",
      "              (dropout): Dropout(p=0.1, inplace=False)\n",
      "            )\n",
      "          )\n",
      "          (intermediate): BertIntermediate(\n",
      "            (dense): Linear(in_features=768, out_features=3072, bias=True)\n",
      "            (intermediate_act_fn): GELUActivation()\n",
      "          )\n",
      "          (output): BertOutput(\n",
      "            (dense): Linear(in_features=3072, out_features=768, bias=True)\n",
      "            (LayerNorm): LayerNorm((768,), eps=1e-12, elementwise_affine=True)\n",
      "            (dropout): Dropout(p=0.1, inplace=False)\n",
      "          )\n",
      "        )\n",
      "      )\n",
      "    )\n",
      "    (pooler): BertPooler(\n",
      "      (dense): Linear(in_features=768, out_features=768, bias=True)\n",
      "      (activation): Tanh()\n",
      "    )\n",
      "  )\n",
      "  (classifier): Sequential(\n",
      "    (0): Linear(in_features=833, out_features=512, bias=True)\n",
      "    (1): Dropout(p=0.1, inplace=False)\n",
      "    (2): ReLU()\n",
      "    (3): Linear(in_features=512, out_features=128, bias=True)\n",
      "    (4): Dropout(p=0.1, inplace=False)\n",
      "    (5): ReLU()\n",
      "    (6): Linear(in_features=128, out_features=1, bias=True)\n",
      "    (7): Sigmoid()\n",
      "  )\n",
      ")\n",
      "Numbero totale dei parametri: 178346241\n"
     ]
    }
   ],
   "source": [
    "# Acquisiamo il device su cui effettueremo il training\n",
    "device = torch.device(\"cuda\" if torch.cuda.is_available() else \"cpu\")\n",
    "print(f\"Using {device} device\")\n",
    "\n",
    "model = ClassifierDeep(hyperparameters[\"#_classes\"],\n",
    "                    hyperparameters[\"h_dim\"],\n",
    "                    hyperparameters[\"dropout\"],\n",
    "                    hyperparameters[\"language_model\"]).to(device)\n",
    "print(model)\n",
    "\n",
    "# Calcoliamo il numero totale dei parametri del modello\n",
    "total_params = sum(p.numel() for p in model.parameters())\n",
    "print(f\"Numbero totale dei parametri: {total_params}\")\n",
    "#La funzione di loss va modificata in base al parametro #_classes\n",
    "criterion = nn.BCELoss()\n",
    "optimizer = Adam(model.parameters(), lr=hyperparameters[\"learning_rate\"])\n",
    "\n",
    "# Creiamo la callback di early stopping da passare al nostro metodo di addestramento\n",
    "#early_stopping = EarlyStopping(patience=hyperparameters['patience'],\n",
    "#                               min_delta=hyperparameters['min_delta'])"
   ]
  },
  {
   "cell_type": "code",
   "execution_count": 40,
   "metadata": {
    "colab": {
     "base_uri": "https://localhost:8080/"
    },
    "id": "IcwVy1HqdvxT",
    "outputId": "0e2e6bd6-05e0-48c1-a0ef-56764b878eb0"
   },
   "outputs": [
    {
     "data": {
      "application/vnd.jupyter.widget-view+json": {
       "model_id": "d999cfc4f9584045b54ae204ede90451",
       "version_major": 2,
       "version_minor": 0
      },
      "text/plain": [
       "  0%|          | 0/40 [00:00<?, ?it/s]"
      ]
     },
     "metadata": {},
     "output_type": "display_data"
    },
    {
     "data": {
      "application/vnd.jupyter.widget-view+json": {
       "model_id": "767cf5b790f64d45abff3bf5491ce5b5",
       "version_major": 2,
       "version_minor": 0
      },
      "text/plain": [
       "training set:   0%|          | 0/1959 [00:00<?, ?it/s]"
      ]
     },
     "metadata": {},
     "output_type": "display_data"
    },
    {
     "data": {
      "application/vnd.jupyter.widget-view+json": {
       "model_id": "fa2de0072a6244e586577d7d9d0f9dfa",
       "version_major": 2,
       "version_minor": 0
      },
      "text/plain": [
       "dev set:   0%|          | 0/218 [00:00<?, ?it/s]"
      ]
     },
     "metadata": {},
     "output_type": "display_data"
    },
    {
     "name": "stdout",
     "output_type": "stream",
     "text": [
      "\n",
      "Train loss: 6.4306  Test loss: 6.8527\n",
      "Train accuracy: 0.5497  Test accuracy: 0.6638\n"
     ]
    },
    {
     "data": {
      "application/vnd.jupyter.widget-view+json": {
       "model_id": "bdfde3704d1d444198c8ea58577ee72a",
       "version_major": 2,
       "version_minor": 0
      },
      "text/plain": [
       "training set:   0%|          | 0/1959 [00:00<?, ?it/s]"
      ]
     },
     "metadata": {},
     "output_type": "display_data"
    },
    {
     "data": {
      "application/vnd.jupyter.widget-view+json": {
       "model_id": "2ee5e067246b40a5950b64ff9eed45ef",
       "version_major": 2,
       "version_minor": 0
      },
      "text/plain": [
       "dev set:   0%|          | 0/218 [00:00<?, ?it/s]"
      ]
     },
     "metadata": {},
     "output_type": "display_data"
    },
    {
     "name": "stdout",
     "output_type": "stream",
     "text": [
      "\n",
      "Train loss: 6.2700  Test loss: 6.8595\n",
      "Train accuracy: 0.6769  Test accuracy: 0.7062\n"
     ]
    },
    {
     "data": {
      "application/vnd.jupyter.widget-view+json": {
       "model_id": "75d031e9039649e2872f7fd5b7e7c830",
       "version_major": 2,
       "version_minor": 0
      },
      "text/plain": [
       "training set:   0%|          | 0/1959 [00:00<?, ?it/s]"
      ]
     },
     "metadata": {},
     "output_type": "display_data"
    },
    {
     "data": {
      "application/vnd.jupyter.widget-view+json": {
       "model_id": "5e9823f8b919427988191541a1006e58",
       "version_major": 2,
       "version_minor": 0
      },
      "text/plain": [
       "dev set:   0%|          | 0/218 [00:00<?, ?it/s]"
      ]
     },
     "metadata": {},
     "output_type": "display_data"
    },
    {
     "name": "stdout",
     "output_type": "stream",
     "text": [
      "\n",
      "Train loss: 5.8859  Test loss: 6.8096\n",
      "Train accuracy: 0.7245  Test accuracy: 0.7261\n"
     ]
    },
    {
     "data": {
      "application/vnd.jupyter.widget-view+json": {
       "model_id": "ce4b1b07d90d4b9a923fa4f2d6e6cd6f",
       "version_major": 2,
       "version_minor": 0
      },
      "text/plain": [
       "training set:   0%|          | 0/1959 [00:00<?, ?it/s]"
      ]
     },
     "metadata": {},
     "output_type": "display_data"
    },
    {
     "data": {
      "application/vnd.jupyter.widget-view+json": {
       "model_id": "ca203901286840fd8fa4f193352e1b14",
       "version_major": 2,
       "version_minor": 0
      },
      "text/plain": [
       "dev set:   0%|          | 0/218 [00:00<?, ?it/s]"
      ]
     },
     "metadata": {},
     "output_type": "display_data"
    },
    {
     "name": "stdout",
     "output_type": "stream",
     "text": [
      "\n",
      "Train loss: 5.7026  Test loss: 6.2667\n",
      "Train accuracy: 0.7500  Test accuracy: 0.7255\n"
     ]
    },
    {
     "data": {
      "application/vnd.jupyter.widget-view+json": {
       "model_id": "ddf918d17bda48a3861aff0a83636f84",
       "version_major": 2,
       "version_minor": 0
      },
      "text/plain": [
       "training set:   0%|          | 0/1959 [00:00<?, ?it/s]"
      ]
     },
     "metadata": {},
     "output_type": "display_data"
    },
    {
     "data": {
      "application/vnd.jupyter.widget-view+json": {
       "model_id": "4a83fb7fe921421cab1465e724a82489",
       "version_major": 2,
       "version_minor": 0
      },
      "text/plain": [
       "dev set:   0%|          | 0/218 [00:00<?, ?it/s]"
      ]
     },
     "metadata": {},
     "output_type": "display_data"
    },
    {
     "name": "stdout",
     "output_type": "stream",
     "text": [
      "\n",
      "Train loss: 5.5708  Test loss: 6.0284\n",
      "Train accuracy: 0.7787  Test accuracy: 0.7493\n"
     ]
    },
    {
     "data": {
      "application/vnd.jupyter.widget-view+json": {
       "model_id": "5e59f0c1f2a4499ebf105162c0c68532",
       "version_major": 2,
       "version_minor": 0
      },
      "text/plain": [
       "training set:   0%|          | 0/1959 [00:00<?, ?it/s]"
      ]
     },
     "metadata": {},
     "output_type": "display_data"
    },
    {
     "data": {
      "application/vnd.jupyter.widget-view+json": {
       "model_id": "d4610f834c6a4bbcb521f12e87e2ab6f",
       "version_major": 2,
       "version_minor": 0
      },
      "text/plain": [
       "dev set:   0%|          | 0/218 [00:00<?, ?it/s]"
      ]
     },
     "metadata": {},
     "output_type": "display_data"
    },
    {
     "name": "stdout",
     "output_type": "stream",
     "text": [
      "\n",
      "Train loss: 5.1570  Test loss: 3.5435\n",
      "Train accuracy: 0.7925  Test accuracy: 0.7732\n"
     ]
    },
    {
     "data": {
      "application/vnd.jupyter.widget-view+json": {
       "model_id": "85e52a8bd6f046fc80ef0ba9fccd810b",
       "version_major": 2,
       "version_minor": 0
      },
      "text/plain": [
       "training set:   0%|          | 0/1959 [00:00<?, ?it/s]"
      ]
     },
     "metadata": {},
     "output_type": "display_data"
    },
    {
     "data": {
      "application/vnd.jupyter.widget-view+json": {
       "model_id": "162abfa5197c44ac9cf51e181b68e0d0",
       "version_major": 2,
       "version_minor": 0
      },
      "text/plain": [
       "dev set:   0%|          | 0/218 [00:00<?, ?it/s]"
      ]
     },
     "metadata": {},
     "output_type": "display_data"
    },
    {
     "name": "stdout",
     "output_type": "stream",
     "text": [
      "\n",
      "Train loss: 4.6988  Test loss: 5.4540\n",
      "Train accuracy: 0.8114  Test accuracy: 0.7606\n"
     ]
    },
    {
     "data": {
      "application/vnd.jupyter.widget-view+json": {
       "model_id": "1228ab2fdc8846cfb8ffce34f6a4c5bb",
       "version_major": 2,
       "version_minor": 0
      },
      "text/plain": [
       "training set:   0%|          | 0/1959 [00:00<?, ?it/s]"
      ]
     },
     "metadata": {},
     "output_type": "display_data"
    },
    {
     "data": {
      "application/vnd.jupyter.widget-view+json": {
       "model_id": "10f317248e6940feb1f3af77d25f1f35",
       "version_major": 2,
       "version_minor": 0
      },
      "text/plain": [
       "dev set:   0%|          | 0/218 [00:00<?, ?it/s]"
      ]
     },
     "metadata": {},
     "output_type": "display_data"
    },
    {
     "name": "stdout",
     "output_type": "stream",
     "text": [
      "\n",
      "Train loss: 4.8202  Test loss: 5.3267\n",
      "Train accuracy: 0.8296  Test accuracy: 0.7771\n"
     ]
    },
    {
     "data": {
      "application/vnd.jupyter.widget-view+json": {
       "model_id": "7d15ed146992452cbc67efb162bcf0d7",
       "version_major": 2,
       "version_minor": 0
      },
      "text/plain": [
       "training set:   0%|          | 0/1959 [00:00<?, ?it/s]"
      ]
     },
     "metadata": {},
     "output_type": "display_data"
    },
    {
     "data": {
      "application/vnd.jupyter.widget-view+json": {
       "model_id": "d61dfe52096b4005b21e4520b013a228",
       "version_major": 2,
       "version_minor": 0
      },
      "text/plain": [
       "dev set:   0%|          | 0/218 [00:00<?, ?it/s]"
      ]
     },
     "metadata": {},
     "output_type": "display_data"
    },
    {
     "name": "stdout",
     "output_type": "stream",
     "text": [
      "\n",
      "Train loss: 4.9130  Test loss: 5.3352\n",
      "Train accuracy: 0.8381  Test accuracy: 0.7780\n"
     ]
    },
    {
     "data": {
      "application/vnd.jupyter.widget-view+json": {
       "model_id": "83dfcc41c0304bde9d9a1e9269dc6120",
       "version_major": 2,
       "version_minor": 0
      },
      "text/plain": [
       "training set:   0%|          | 0/1959 [00:00<?, ?it/s]"
      ]
     },
     "metadata": {},
     "output_type": "display_data"
    },
    {
     "data": {
      "application/vnd.jupyter.widget-view+json": {
       "model_id": "0169dde0e68c41c2b40ed889ffdf7ac5",
       "version_major": 2,
       "version_minor": 0
      },
      "text/plain": [
       "dev set:   0%|          | 0/218 [00:00<?, ?it/s]"
      ]
     },
     "metadata": {},
     "output_type": "display_data"
    },
    {
     "name": "stdout",
     "output_type": "stream",
     "text": [
      "\n",
      "Train loss: 5.0631  Test loss: 5.2628\n",
      "Train accuracy: 0.8465  Test accuracy: 0.7862\n"
     ]
    },
    {
     "data": {
      "application/vnd.jupyter.widget-view+json": {
       "model_id": "3e562379713f41b8bffa9e00a828ba68",
       "version_major": 2,
       "version_minor": 0
      },
      "text/plain": [
       "training set:   0%|          | 0/1959 [00:00<?, ?it/s]"
      ]
     },
     "metadata": {},
     "output_type": "display_data"
    },
    {
     "data": {
      "application/vnd.jupyter.widget-view+json": {
       "model_id": "d3acabc7705d4742bc33770255fbfcda",
       "version_major": 2,
       "version_minor": 0
      },
      "text/plain": [
       "dev set:   0%|          | 0/218 [00:00<?, ?it/s]"
      ]
     },
     "metadata": {},
     "output_type": "display_data"
    },
    {
     "name": "stdout",
     "output_type": "stream",
     "text": [
      "\n",
      "Train loss: 5.1607  Test loss: 5.2604\n",
      "Train accuracy: 0.8565  Test accuracy: 0.7826\n"
     ]
    },
    {
     "data": {
      "application/vnd.jupyter.widget-view+json": {
       "model_id": "4e36bd46357b45cea1b8d7cdacc5c3f3",
       "version_major": 2,
       "version_minor": 0
      },
      "text/plain": [
       "training set:   0%|          | 0/1959 [00:00<?, ?it/s]"
      ]
     },
     "metadata": {},
     "output_type": "display_data"
    },
    {
     "data": {
      "application/vnd.jupyter.widget-view+json": {
       "model_id": "3a18582510f844b1b2915d8e83f7268f",
       "version_major": 2,
       "version_minor": 0
      },
      "text/plain": [
       "dev set:   0%|          | 0/218 [00:00<?, ?it/s]"
      ]
     },
     "metadata": {},
     "output_type": "display_data"
    },
    {
     "name": "stdout",
     "output_type": "stream",
     "text": [
      "\n",
      "Train loss: 5.0792  Test loss: 4.2228\n",
      "Train accuracy: 0.8662  Test accuracy: 0.8055\n"
     ]
    },
    {
     "data": {
      "application/vnd.jupyter.widget-view+json": {
       "model_id": "8bc6dcd729264eaa9217cf8208eb2d79",
       "version_major": 2,
       "version_minor": 0
      },
      "text/plain": [
       "training set:   0%|          | 0/1959 [00:00<?, ?it/s]"
      ]
     },
     "metadata": {},
     "output_type": "display_data"
    },
    {
     "data": {
      "application/vnd.jupyter.widget-view+json": {
       "model_id": "84e131365bd1439bbc8a9dc3bed3eda1",
       "version_major": 2,
       "version_minor": 0
      },
      "text/plain": [
       "dev set:   0%|          | 0/218 [00:00<?, ?it/s]"
      ]
     },
     "metadata": {},
     "output_type": "display_data"
    },
    {
     "name": "stdout",
     "output_type": "stream",
     "text": [
      "\n",
      "Train loss: 4.9258  Test loss: 4.1321\n",
      "Train accuracy: 0.8702  Test accuracy: 0.7954\n"
     ]
    },
    {
     "data": {
      "application/vnd.jupyter.widget-view+json": {
       "model_id": "0e8a76200f6e41c78e4aff75ca7f505e",
       "version_major": 2,
       "version_minor": 0
      },
      "text/plain": [
       "training set:   0%|          | 0/1959 [00:00<?, ?it/s]"
      ]
     },
     "metadata": {},
     "output_type": "display_data"
    },
    {
     "data": {
      "application/vnd.jupyter.widget-view+json": {
       "model_id": "03c6eeda79d245c192a39166edf413dc",
       "version_major": 2,
       "version_minor": 0
      },
      "text/plain": [
       "dev set:   0%|          | 0/218 [00:00<?, ?it/s]"
      ]
     },
     "metadata": {},
     "output_type": "display_data"
    },
    {
     "name": "stdout",
     "output_type": "stream",
     "text": [
      "\n",
      "Train loss: 4.9215  Test loss: 4.2247\n",
      "Train accuracy: 0.8754  Test accuracy: 0.7899\n"
     ]
    },
    {
     "data": {
      "application/vnd.jupyter.widget-view+json": {
       "model_id": "c84ea0f57f824d5bbab4f085c758a8c8",
       "version_major": 2,
       "version_minor": 0
      },
      "text/plain": [
       "training set:   0%|          | 0/1959 [00:00<?, ?it/s]"
      ]
     },
     "metadata": {},
     "output_type": "display_data"
    },
    {
     "data": {
      "application/vnd.jupyter.widget-view+json": {
       "model_id": "f32211c4025e4b6cb653343020b4a75a",
       "version_major": 2,
       "version_minor": 0
      },
      "text/plain": [
       "dev set:   0%|          | 0/218 [00:00<?, ?it/s]"
      ]
     },
     "metadata": {},
     "output_type": "display_data"
    },
    {
     "name": "stdout",
     "output_type": "stream",
     "text": [
      "\n",
      "Train loss: 4.8565  Test loss: 4.2478\n",
      "Train accuracy: 0.8785  Test accuracy: 0.8037\n"
     ]
    },
    {
     "data": {
      "application/vnd.jupyter.widget-view+json": {
       "model_id": "902aa5b875004b60860822a656b6af16",
       "version_major": 2,
       "version_minor": 0
      },
      "text/plain": [
       "training set:   0%|          | 0/1959 [00:00<?, ?it/s]"
      ]
     },
     "metadata": {},
     "output_type": "display_data"
    },
    {
     "data": {
      "application/vnd.jupyter.widget-view+json": {
       "model_id": "95b90cef94a3481baf7ec88c361744ab",
       "version_major": 2,
       "version_minor": 0
      },
      "text/plain": [
       "dev set:   0%|          | 0/218 [00:00<?, ?it/s]"
      ]
     },
     "metadata": {},
     "output_type": "display_data"
    },
    {
     "name": "stdout",
     "output_type": "stream",
     "text": [
      "\n",
      "Train loss: 4.5922  Test loss: 4.3995\n",
      "Train accuracy: 0.8835  Test accuracy: 0.8018\n"
     ]
    },
    {
     "data": {
      "application/vnd.jupyter.widget-view+json": {
       "model_id": "1fa41e8529f34f69a9f41731e7255696",
       "version_major": 2,
       "version_minor": 0
      },
      "text/plain": [
       "training set:   0%|          | 0/1959 [00:00<?, ?it/s]"
      ]
     },
     "metadata": {},
     "output_type": "display_data"
    },
    {
     "data": {
      "application/vnd.jupyter.widget-view+json": {
       "model_id": "14f88f772cfb4145a9096acee034a992",
       "version_major": 2,
       "version_minor": 0
      },
      "text/plain": [
       "dev set:   0%|          | 0/218 [00:00<?, ?it/s]"
      ]
     },
     "metadata": {},
     "output_type": "display_data"
    },
    {
     "name": "stdout",
     "output_type": "stream",
     "text": [
      "\n",
      "Train loss: 4.7487  Test loss: 4.2081\n",
      "Train accuracy: 0.8877  Test accuracy: 0.7982\n"
     ]
    },
    {
     "data": {
      "application/vnd.jupyter.widget-view+json": {
       "model_id": "30acb73b4c4b4f8fa7ea14d0cf1b7a6b",
       "version_major": 2,
       "version_minor": 0
      },
      "text/plain": [
       "training set:   0%|          | 0/1959 [00:00<?, ?it/s]"
      ]
     },
     "metadata": {},
     "output_type": "display_data"
    },
    {
     "data": {
      "application/vnd.jupyter.widget-view+json": {
       "model_id": "2fde9cf3bd01454bba22709a58e6800f",
       "version_major": 2,
       "version_minor": 0
      },
      "text/plain": [
       "dev set:   0%|          | 0/218 [00:00<?, ?it/s]"
      ]
     },
     "metadata": {},
     "output_type": "display_data"
    },
    {
     "name": "stdout",
     "output_type": "stream",
     "text": [
      "\n",
      "Train loss: 4.3651  Test loss: 4.3744\n",
      "Train accuracy: 0.8961  Test accuracy: 0.8073\n"
     ]
    },
    {
     "data": {
      "application/vnd.jupyter.widget-view+json": {
       "model_id": "a4db2049172947b49cb45c3271f96def",
       "version_major": 2,
       "version_minor": 0
      },
      "text/plain": [
       "training set:   0%|          | 0/1959 [00:00<?, ?it/s]"
      ]
     },
     "metadata": {},
     "output_type": "display_data"
    },
    {
     "data": {
      "application/vnd.jupyter.widget-view+json": {
       "model_id": "2dafba773d3a405b91ea2ad433e1fdfe",
       "version_major": 2,
       "version_minor": 0
      },
      "text/plain": [
       "dev set:   0%|          | 0/218 [00:00<?, ?it/s]"
      ]
     },
     "metadata": {},
     "output_type": "display_data"
    },
    {
     "name": "stdout",
     "output_type": "stream",
     "text": [
      "\n",
      "Train loss: 4.4562  Test loss: 4.2981\n",
      "Train accuracy: 0.8944  Test accuracy: 0.8000\n"
     ]
    },
    {
     "data": {
      "application/vnd.jupyter.widget-view+json": {
       "model_id": "8785c48f0cc34b94ac40d8738b9f3962",
       "version_major": 2,
       "version_minor": 0
      },
      "text/plain": [
       "training set:   0%|          | 0/1959 [00:00<?, ?it/s]"
      ]
     },
     "metadata": {},
     "output_type": "display_data"
    },
    {
     "data": {
      "application/vnd.jupyter.widget-view+json": {
       "model_id": "93eb74545a7b481f9a97a839b06db3a2",
       "version_major": 2,
       "version_minor": 0
      },
      "text/plain": [
       "dev set:   0%|          | 0/218 [00:00<?, ?it/s]"
      ]
     },
     "metadata": {},
     "output_type": "display_data"
    },
    {
     "name": "stdout",
     "output_type": "stream",
     "text": [
      "\n",
      "Train loss: 4.6375  Test loss: 4.1218\n",
      "Train accuracy: 0.8965  Test accuracy: 0.8193\n"
     ]
    },
    {
     "data": {
      "application/vnd.jupyter.widget-view+json": {
       "model_id": "8264a1dee4c64ce5b2af71d25df879ba",
       "version_major": 2,
       "version_minor": 0
      },
      "text/plain": [
       "training set:   0%|          | 0/1959 [00:00<?, ?it/s]"
      ]
     },
     "metadata": {},
     "output_type": "display_data"
    },
    {
     "data": {
      "application/vnd.jupyter.widget-view+json": {
       "model_id": "8f2a7ac1a6494600a4f133fde9a95983",
       "version_major": 2,
       "version_minor": 0
      },
      "text/plain": [
       "dev set:   0%|          | 0/218 [00:00<?, ?it/s]"
      ]
     },
     "metadata": {},
     "output_type": "display_data"
    },
    {
     "name": "stdout",
     "output_type": "stream",
     "text": [
      "\n",
      "Train loss: 4.3852  Test loss: 4.0651\n",
      "Train accuracy: 0.9017  Test accuracy: 0.8110\n"
     ]
    },
    {
     "data": {
      "application/vnd.jupyter.widget-view+json": {
       "model_id": "d15a9518262641a7a503b678ddabc0de",
       "version_major": 2,
       "version_minor": 0
      },
      "text/plain": [
       "training set:   0%|          | 0/1959 [00:00<?, ?it/s]"
      ]
     },
     "metadata": {},
     "output_type": "display_data"
    },
    {
     "data": {
      "application/vnd.jupyter.widget-view+json": {
       "model_id": "74fefded4c744385b483d2f8fb7e0e21",
       "version_major": 2,
       "version_minor": 0
      },
      "text/plain": [
       "dev set:   0%|          | 0/218 [00:00<?, ?it/s]"
      ]
     },
     "metadata": {},
     "output_type": "display_data"
    },
    {
     "name": "stdout",
     "output_type": "stream",
     "text": [
      "\n",
      "Train loss: 4.6119  Test loss: 4.1625\n",
      "Train accuracy: 0.9019  Test accuracy: 0.8055\n"
     ]
    },
    {
     "data": {
      "application/vnd.jupyter.widget-view+json": {
       "model_id": "080aea984fea4034bfd6c9411aeb0a0b",
       "version_major": 2,
       "version_minor": 0
      },
      "text/plain": [
       "training set:   0%|          | 0/1959 [00:00<?, ?it/s]"
      ]
     },
     "metadata": {},
     "output_type": "display_data"
    },
    {
     "data": {
      "application/vnd.jupyter.widget-view+json": {
       "model_id": "c774a9e5e0f64e9fbcbdb1b2b3ab10f1",
       "version_major": 2,
       "version_minor": 0
      },
      "text/plain": [
       "dev set:   0%|          | 0/218 [00:00<?, ?it/s]"
      ]
     },
     "metadata": {},
     "output_type": "display_data"
    },
    {
     "name": "stdout",
     "output_type": "stream",
     "text": [
      "\n",
      "Train loss: 4.5791  Test loss: 4.2404\n",
      "Train accuracy: 0.9042  Test accuracy: 0.8138\n"
     ]
    },
    {
     "data": {
      "application/vnd.jupyter.widget-view+json": {
       "model_id": "037b5d2dd1df4d3081827f5af5afa1b1",
       "version_major": 2,
       "version_minor": 0
      },
      "text/plain": [
       "training set:   0%|          | 0/1959 [00:00<?, ?it/s]"
      ]
     },
     "metadata": {},
     "output_type": "display_data"
    },
    {
     "data": {
      "application/vnd.jupyter.widget-view+json": {
       "model_id": "69efcfa089fa4340a1ec914585d8a981",
       "version_major": 2,
       "version_minor": 0
      },
      "text/plain": [
       "dev set:   0%|          | 0/218 [00:00<?, ?it/s]"
      ]
     },
     "metadata": {},
     "output_type": "display_data"
    },
    {
     "name": "stdout",
     "output_type": "stream",
     "text": [
      "\n",
      "Train loss: 4.6143  Test loss: 4.3417\n",
      "Train accuracy: 0.9050  Test accuracy: 0.8055\n"
     ]
    },
    {
     "data": {
      "application/vnd.jupyter.widget-view+json": {
       "model_id": "17f41887d5144d47bae8084fbd3aa0c9",
       "version_major": 2,
       "version_minor": 0
      },
      "text/plain": [
       "training set:   0%|          | 0/1959 [00:00<?, ?it/s]"
      ]
     },
     "metadata": {},
     "output_type": "display_data"
    },
    {
     "data": {
      "application/vnd.jupyter.widget-view+json": {
       "model_id": "de8963c75d454eaa890695ef771549f8",
       "version_major": 2,
       "version_minor": 0
      },
      "text/plain": [
       "dev set:   0%|          | 0/218 [00:00<?, ?it/s]"
      ]
     },
     "metadata": {},
     "output_type": "display_data"
    },
    {
     "name": "stdout",
     "output_type": "stream",
     "text": [
      "\n",
      "Train loss: 4.4624  Test loss: 4.3048\n",
      "Train accuracy: 0.9062  Test accuracy: 0.8119\n"
     ]
    },
    {
     "data": {
      "application/vnd.jupyter.widget-view+json": {
       "model_id": "5e0730080f6f454680f9aa5dada3d35b",
       "version_major": 2,
       "version_minor": 0
      },
      "text/plain": [
       "training set:   0%|          | 0/1959 [00:00<?, ?it/s]"
      ]
     },
     "metadata": {},
     "output_type": "display_data"
    },
    {
     "data": {
      "application/vnd.jupyter.widget-view+json": {
       "model_id": "bcfb336b5ade4e339dcc511f09bc0e42",
       "version_major": 2,
       "version_minor": 0
      },
      "text/plain": [
       "dev set:   0%|          | 0/218 [00:00<?, ?it/s]"
      ]
     },
     "metadata": {},
     "output_type": "display_data"
    },
    {
     "name": "stdout",
     "output_type": "stream",
     "text": [
      "\n",
      "Train loss: 4.6619  Test loss: 4.2585\n",
      "Train accuracy: 0.9049  Test accuracy: 0.8110\n"
     ]
    },
    {
     "data": {
      "application/vnd.jupyter.widget-view+json": {
       "model_id": "59201233c7004e23bcffc14254c76028",
       "version_major": 2,
       "version_minor": 0
      },
      "text/plain": [
       "training set:   0%|          | 0/1959 [00:00<?, ?it/s]"
      ]
     },
     "metadata": {},
     "output_type": "display_data"
    },
    {
     "data": {
      "application/vnd.jupyter.widget-view+json": {
       "model_id": "0b87047e2ba145efb1a5c6586159d716",
       "version_major": 2,
       "version_minor": 0
      },
      "text/plain": [
       "dev set:   0%|          | 0/218 [00:00<?, ?it/s]"
      ]
     },
     "metadata": {},
     "output_type": "display_data"
    },
    {
     "name": "stdout",
     "output_type": "stream",
     "text": [
      "\n",
      "Train loss: 4.7132  Test loss: 4.3607\n",
      "Train accuracy: 0.9070  Test accuracy: 0.8055\n"
     ]
    },
    {
     "data": {
      "application/vnd.jupyter.widget-view+json": {
       "model_id": "02731c82af7a4991a60985360e60ed4c",
       "version_major": 2,
       "version_minor": 0
      },
      "text/plain": [
       "training set:   0%|          | 0/1959 [00:00<?, ?it/s]"
      ]
     },
     "metadata": {},
     "output_type": "display_data"
    },
    {
     "data": {
      "application/vnd.jupyter.widget-view+json": {
       "model_id": "e276d8b6a7e149a8b77e679bca0f9b33",
       "version_major": 2,
       "version_minor": 0
      },
      "text/plain": [
       "dev set:   0%|          | 0/218 [00:00<?, ?it/s]"
      ]
     },
     "metadata": {},
     "output_type": "display_data"
    },
    {
     "name": "stdout",
     "output_type": "stream",
     "text": [
      "\n",
      "Train loss: 4.5692  Test loss: 4.2764\n",
      "Train accuracy: 0.9050  Test accuracy: 0.8092\n"
     ]
    },
    {
     "data": {
      "application/vnd.jupyter.widget-view+json": {
       "model_id": "bb2b553e24c24feb977a6cf39e04d1a8",
       "version_major": 2,
       "version_minor": 0
      },
      "text/plain": [
       "training set:   0%|          | 0/1959 [00:00<?, ?it/s]"
      ]
     },
     "metadata": {},
     "output_type": "display_data"
    },
    {
     "data": {
      "application/vnd.jupyter.widget-view+json": {
       "model_id": "1b2912fd4faa4777a2a767504c0b8d58",
       "version_major": 2,
       "version_minor": 0
      },
      "text/plain": [
       "dev set:   0%|          | 0/218 [00:00<?, ?it/s]"
      ]
     },
     "metadata": {},
     "output_type": "display_data"
    },
    {
     "name": "stdout",
     "output_type": "stream",
     "text": [
      "\n",
      "Train loss: 4.5779  Test loss: 4.2839\n",
      "Train accuracy: 0.9097  Test accuracy: 0.8083\n"
     ]
    },
    {
     "data": {
      "application/vnd.jupyter.widget-view+json": {
       "model_id": "ae4acb6a7f6442afa17e43bde406fb90",
       "version_major": 2,
       "version_minor": 0
      },
      "text/plain": [
       "training set:   0%|          | 0/1959 [00:00<?, ?it/s]"
      ]
     },
     "metadata": {},
     "output_type": "display_data"
    },
    {
     "data": {
      "application/vnd.jupyter.widget-view+json": {
       "model_id": "fddd1aabf9a244899ccb1fc7e117b630",
       "version_major": 2,
       "version_minor": 0
      },
      "text/plain": [
       "dev set:   0%|          | 0/218 [00:00<?, ?it/s]"
      ]
     },
     "metadata": {},
     "output_type": "display_data"
    },
    {
     "name": "stdout",
     "output_type": "stream",
     "text": [
      "\n",
      "Train loss: 4.5129  Test loss: 4.2949\n",
      "Train accuracy: 0.9073  Test accuracy: 0.8193\n"
     ]
    },
    {
     "data": {
      "application/vnd.jupyter.widget-view+json": {
       "model_id": "6595f16747b742ef86f6abbc9b22608d",
       "version_major": 2,
       "version_minor": 0
      },
      "text/plain": [
       "training set:   0%|          | 0/1959 [00:00<?, ?it/s]"
      ]
     },
     "metadata": {},
     "output_type": "display_data"
    },
    {
     "data": {
      "application/vnd.jupyter.widget-view+json": {
       "model_id": "c68fc8d922c346ecb9d8bdf3e6cd43f3",
       "version_major": 2,
       "version_minor": 0
      },
      "text/plain": [
       "dev set:   0%|          | 0/218 [00:00<?, ?it/s]"
      ]
     },
     "metadata": {},
     "output_type": "display_data"
    },
    {
     "name": "stdout",
     "output_type": "stream",
     "text": [
      "\n",
      "Train loss: 4.4187  Test loss: 4.3005\n",
      "Train accuracy: 0.9128  Test accuracy: 0.8165\n"
     ]
    },
    {
     "data": {
      "application/vnd.jupyter.widget-view+json": {
       "model_id": "8a9b96bae5ae44b5996f1090aebad098",
       "version_major": 2,
       "version_minor": 0
      },
      "text/plain": [
       "training set:   0%|          | 0/1959 [00:00<?, ?it/s]"
      ]
     },
     "metadata": {},
     "output_type": "display_data"
    },
    {
     "data": {
      "application/vnd.jupyter.widget-view+json": {
       "model_id": "6883ebf3fd174be89a03725a5745334f",
       "version_major": 2,
       "version_minor": 0
      },
      "text/plain": [
       "dev set:   0%|          | 0/218 [00:00<?, ?it/s]"
      ]
     },
     "metadata": {},
     "output_type": "display_data"
    },
    {
     "name": "stdout",
     "output_type": "stream",
     "text": [
      "\n",
      "Train loss: 4.4071  Test loss: 4.2546\n",
      "Train accuracy: 0.9116  Test accuracy: 0.8174\n"
     ]
    },
    {
     "data": {
      "application/vnd.jupyter.widget-view+json": {
       "model_id": "7310bb18e68249c799ee689cdbd87b1c",
       "version_major": 2,
       "version_minor": 0
      },
      "text/plain": [
       "training set:   0%|          | 0/1959 [00:00<?, ?it/s]"
      ]
     },
     "metadata": {},
     "output_type": "display_data"
    },
    {
     "data": {
      "application/vnd.jupyter.widget-view+json": {
       "model_id": "b057a0ab3de4451e8b8315c7cb234c88",
       "version_major": 2,
       "version_minor": 0
      },
      "text/plain": [
       "dev set:   0%|          | 0/218 [00:00<?, ?it/s]"
      ]
     },
     "metadata": {},
     "output_type": "display_data"
    },
    {
     "name": "stdout",
     "output_type": "stream",
     "text": [
      "\n",
      "Train loss: 4.4882  Test loss: 4.2791\n",
      "Train accuracy: 0.9130  Test accuracy: 0.8073\n"
     ]
    },
    {
     "data": {
      "application/vnd.jupyter.widget-view+json": {
       "model_id": "e1891978a4a44433820d912fddcf798f",
       "version_major": 2,
       "version_minor": 0
      },
      "text/plain": [
       "training set:   0%|          | 0/1959 [00:00<?, ?it/s]"
      ]
     },
     "metadata": {},
     "output_type": "display_data"
    },
    {
     "data": {
      "application/vnd.jupyter.widget-view+json": {
       "model_id": "417ddb5d17124f6aa56cac3f8b6308f7",
       "version_major": 2,
       "version_minor": 0
      },
      "text/plain": [
       "dev set:   0%|          | 0/218 [00:00<?, ?it/s]"
      ]
     },
     "metadata": {},
     "output_type": "display_data"
    },
    {
     "name": "stdout",
     "output_type": "stream",
     "text": [
      "\n",
      "Train loss: 4.4304  Test loss: 4.2441\n",
      "Train accuracy: 0.9129  Test accuracy: 0.8211\n"
     ]
    },
    {
     "data": {
      "application/vnd.jupyter.widget-view+json": {
       "model_id": "48021ee92d9443d19688fbbe450adfd2",
       "version_major": 2,
       "version_minor": 0
      },
      "text/plain": [
       "training set:   0%|          | 0/1959 [00:00<?, ?it/s]"
      ]
     },
     "metadata": {},
     "output_type": "display_data"
    },
    {
     "data": {
      "application/vnd.jupyter.widget-view+json": {
       "model_id": "fe2b89e5627f4645a79b306441582818",
       "version_major": 2,
       "version_minor": 0
      },
      "text/plain": [
       "dev set:   0%|          | 0/218 [00:00<?, ?it/s]"
      ]
     },
     "metadata": {},
     "output_type": "display_data"
    },
    {
     "name": "stdout",
     "output_type": "stream",
     "text": [
      "\n",
      "Train loss: 4.4475  Test loss: 4.2185\n",
      "Train accuracy: 0.9129  Test accuracy: 0.8239\n"
     ]
    },
    {
     "data": {
      "application/vnd.jupyter.widget-view+json": {
       "model_id": "0800952becd043d0817f34b83723fa91",
       "version_major": 2,
       "version_minor": 0
      },
      "text/plain": [
       "training set:   0%|          | 0/1959 [00:00<?, ?it/s]"
      ]
     },
     "metadata": {},
     "output_type": "display_data"
    },
    {
     "data": {
      "application/vnd.jupyter.widget-view+json": {
       "model_id": "d44a331cda7d482da5285010bb4c9993",
       "version_major": 2,
       "version_minor": 0
      },
      "text/plain": [
       "dev set:   0%|          | 0/218 [00:00<?, ?it/s]"
      ]
     },
     "metadata": {},
     "output_type": "display_data"
    },
    {
     "name": "stdout",
     "output_type": "stream",
     "text": [
      "\n",
      "Train loss: 4.5861  Test loss: 4.3939\n",
      "Train accuracy: 0.9107  Test accuracy: 0.8128\n"
     ]
    },
    {
     "data": {
      "application/vnd.jupyter.widget-view+json": {
       "model_id": "64c83a2163864ac2860f6142af2ef5aa",
       "version_major": 2,
       "version_minor": 0
      },
      "text/plain": [
       "training set:   0%|          | 0/1959 [00:00<?, ?it/s]"
      ]
     },
     "metadata": {},
     "output_type": "display_data"
    },
    {
     "data": {
      "application/vnd.jupyter.widget-view+json": {
       "model_id": "a9677a5eedaf41bfaf397c77ea93df14",
       "version_major": 2,
       "version_minor": 0
      },
      "text/plain": [
       "dev set:   0%|          | 0/218 [00:00<?, ?it/s]"
      ]
     },
     "metadata": {},
     "output_type": "display_data"
    },
    {
     "name": "stdout",
     "output_type": "stream",
     "text": [
      "\n",
      "Train loss: 4.6460  Test loss: 4.3818\n",
      "Train accuracy: 0.9136  Test accuracy: 0.8257\n"
     ]
    },
    {
     "data": {
      "application/vnd.jupyter.widget-view+json": {
       "model_id": "2d814b763a8f48cd83348b049debc8db",
       "version_major": 2,
       "version_minor": 0
      },
      "text/plain": [
       "training set:   0%|          | 0/1959 [00:00<?, ?it/s]"
      ]
     },
     "metadata": {},
     "output_type": "display_data"
    },
    {
     "data": {
      "application/vnd.jupyter.widget-view+json": {
       "model_id": "a62468b3a9004f839a8b2f909a65f370",
       "version_major": 2,
       "version_minor": 0
      },
      "text/plain": [
       "dev set:   0%|          | 0/218 [00:00<?, ?it/s]"
      ]
     },
     "metadata": {},
     "output_type": "display_data"
    },
    {
     "name": "stdout",
     "output_type": "stream",
     "text": [
      "\n",
      "Train loss: 4.6256  Test loss: 4.3443\n",
      "Train accuracy: 0.9145  Test accuracy: 0.8220\n"
     ]
    },
    {
     "data": {
      "application/vnd.jupyter.widget-view+json": {
       "model_id": "e7a25d9bd3c74bcab5faebf2e86fe33d",
       "version_major": 2,
       "version_minor": 0
      },
      "text/plain": [
       "training set:   0%|          | 0/1959 [00:00<?, ?it/s]"
      ]
     },
     "metadata": {},
     "output_type": "display_data"
    },
    {
     "data": {
      "application/vnd.jupyter.widget-view+json": {
       "model_id": "921558a52b9d44ecabf500b786cdd90e",
       "version_major": 2,
       "version_minor": 0
      },
      "text/plain": [
       "dev set:   0%|          | 0/218 [00:00<?, ?it/s]"
      ]
     },
     "metadata": {},
     "output_type": "display_data"
    },
    {
     "name": "stdout",
     "output_type": "stream",
     "text": [
      "\n",
      "Train loss: 4.6027  Test loss: 4.3735\n",
      "Train accuracy: 0.9131  Test accuracy: 0.8202\n"
     ]
    },
    {
     "data": {
      "application/vnd.jupyter.widget-view+json": {
       "model_id": "37bb9b51070a4ed592906fda1a3cff0e",
       "version_major": 2,
       "version_minor": 0
      },
      "text/plain": [
       "training set:   0%|          | 0/1959 [00:00<?, ?it/s]"
      ]
     },
     "metadata": {},
     "output_type": "display_data"
    },
    {
     "data": {
      "application/vnd.jupyter.widget-view+json": {
       "model_id": "9cf4f1344ad14fd08334a69fe09a69ac",
       "version_major": 2,
       "version_minor": 0
      },
      "text/plain": [
       "dev set:   0%|          | 0/218 [00:00<?, ?it/s]"
      ]
     },
     "metadata": {},
     "output_type": "display_data"
    },
    {
     "name": "stdout",
     "output_type": "stream",
     "text": [
      "\n",
      "Train loss: 4.3826  Test loss: 4.3733\n",
      "Train accuracy: 0.9191  Test accuracy: 0.8202\n"
     ]
    }
   ],
   "source": [
    "train_loss, validation_loss,test_loss, train_acc, validation_acc, test_acc, best_acc, best_weights = train_test(\n",
    "                                                model,\n",
    "                                                hyperparameters['epochs'],\n",
    "                                                optimizer,\n",
    "                                                device,\n",
    "                                                train_dataset,\n",
    "                                                test_dataset,\n",
    "                                                hyperparameters['batch_size'],\n",
    "                                                hyperparameters['language_model'],\n",
    "                                                criterion,\n",
    "                                                criterion,\n",
    "                                               )\n",
    "with open(\"best_weight.pkl\", 'wb') as f:\n",
    "  pickle.dump(best_weights, f)\n",
    "\n"
   ]
  },
  {
   "cell_type": "code",
   "execution_count": 41,
   "metadata": {
    "id": "u8XtmxwidvxT"
   },
   "outputs": [
    {
     "data": {
      "image/png": "[encoded data removed]",
      "text/plain": [
       "<Figure size 640x480 with 1 Axes>"
      ]
     },
     "metadata": {},
     "output_type": "display_data"
    }
   ],
   "source": [
    "import matplotlib.pyplot as plt\n",
    "\n",
    "plt.plot(train_loss, label='training loss')\n",
    "plt.plot(validation_loss, label='validation loss')\n",
    "plt.plot(test_loss, label='test loss')\n",
    "plt.legend(loc='lower right')\n",
    "plt.show()"
   ]
  },
  {
   "cell_type": "code",
   "execution_count": 42,
   "metadata": {
    "id": "czbSDOIudvxT"
   },
   "outputs": [
    {
     "ename": "TypeError",
     "evalue": "can't convert cuda:0 device type tensor to numpy. Use Tensor.cpu() to copy the tensor to host memory first.",
     "output_type": "error",
     "traceback": [
      "\u001b[0;31m---------------------------------------------------------------------------\u001b[0m",
      "\u001b[0;31mTypeError\u001b[0m                                 Traceback (most recent call last)",
      "Cell \u001b[0;32mIn[42], line 3\u001b[0m\n\u001b[1;32m      1\u001b[0m \u001b[38;5;66;03m#plt.plot(train_acc, label='training accuracy')\u001b[39;00m\n\u001b[1;32m      2\u001b[0m plt\u001b[38;5;241m.\u001b[39mplot(validation_acc, label\u001b[38;5;241m=\u001b[39m\u001b[38;5;124m'\u001b[39m\u001b[38;5;124mvalidation accuracy\u001b[39m\u001b[38;5;124m'\u001b[39m)\n\u001b[0;32m----> 3\u001b[0m \u001b[43mplt\u001b[49m\u001b[38;5;241;43m.\u001b[39;49m\u001b[43mplot\u001b[49m\u001b[43m(\u001b[49m\u001b[43mtest_acc\u001b[49m\u001b[43m,\u001b[49m\u001b[43m \u001b[49m\u001b[43mlabel\u001b[49m\u001b[38;5;241;43m=\u001b[39;49m\u001b[38;5;124;43m'\u001b[39;49m\u001b[38;5;124;43mtest accuracy\u001b[39;49m\u001b[38;5;124;43m'\u001b[39;49m\u001b[43m)\u001b[49m\n\u001b[1;32m      4\u001b[0m plt\u001b[38;5;241m.\u001b[39mlegend(loc\u001b[38;5;241m=\u001b[39m\u001b[38;5;124m'\u001b[39m\u001b[38;5;124mlower right\u001b[39m\u001b[38;5;124m'\u001b[39m)\n\u001b[1;32m      5\u001b[0m plt\u001b[38;5;241m.\u001b[39mylim(\u001b[38;5;241m0\u001b[39m,\u001b[38;5;241m2\u001b[39m)\n",
      "File \u001b[0;32m/usr/local/lib/python3.11/dist-packages/matplotlib/pyplot.py:3575\u001b[0m, in \u001b[0;36mplot\u001b[0;34m(scalex, scaley, data, *args, **kwargs)\u001b[0m\n\u001b[1;32m   3567\u001b[0m \u001b[38;5;129m@_copy_docstring_and_deprecators\u001b[39m(Axes\u001b[38;5;241m.\u001b[39mplot)\n\u001b[1;32m   3568\u001b[0m \u001b[38;5;28;01mdef\u001b[39;00m \u001b[38;5;21mplot\u001b[39m(\n\u001b[1;32m   3569\u001b[0m     \u001b[38;5;241m*\u001b[39margs: \u001b[38;5;28mfloat\u001b[39m \u001b[38;5;241m|\u001b[39m ArrayLike \u001b[38;5;241m|\u001b[39m \u001b[38;5;28mstr\u001b[39m,\n\u001b[0;32m   (...)\u001b[0m\n\u001b[1;32m   3573\u001b[0m     \u001b[38;5;241m*\u001b[39m\u001b[38;5;241m*\u001b[39mkwargs,\n\u001b[1;32m   3574\u001b[0m ) \u001b[38;5;241m-\u001b[39m\u001b[38;5;241m>\u001b[39m \u001b[38;5;28mlist\u001b[39m[Line2D]:\n\u001b[0;32m-> 3575\u001b[0m     \u001b[38;5;28;01mreturn\u001b[39;00m \u001b[43mgca\u001b[49m\u001b[43m(\u001b[49m\u001b[43m)\u001b[49m\u001b[38;5;241;43m.\u001b[39;49m\u001b[43mplot\u001b[49m\u001b[43m(\u001b[49m\n\u001b[1;32m   3576\u001b[0m \u001b[43m        \u001b[49m\u001b[38;5;241;43m*\u001b[39;49m\u001b[43margs\u001b[49m\u001b[43m,\u001b[49m\n\u001b[1;32m   3577\u001b[0m \u001b[43m        \u001b[49m\u001b[43mscalex\u001b[49m\u001b[38;5;241;43m=\u001b[39;49m\u001b[43mscalex\u001b[49m\u001b[43m,\u001b[49m\n\u001b[1;32m   3578\u001b[0m \u001b[43m        \u001b[49m\u001b[43mscaley\u001b[49m\u001b[38;5;241;43m=\u001b[39;49m\u001b[43mscaley\u001b[49m\u001b[43m,\u001b[49m\n\u001b[1;32m   3579\u001b[0m \u001b[43m        \u001b[49m\u001b[38;5;241;43m*\u001b[39;49m\u001b[38;5;241;43m*\u001b[39;49m\u001b[43m(\u001b[49m\u001b[43m{\u001b[49m\u001b[38;5;124;43m\"\u001b[39;49m\u001b[38;5;124;43mdata\u001b[39;49m\u001b[38;5;124;43m\"\u001b[39;49m\u001b[43m:\u001b[49m\u001b[43m \u001b[49m\u001b[43mdata\u001b[49m\u001b[43m}\u001b[49m\u001b[43m \u001b[49m\u001b[38;5;28;43;01mif\u001b[39;49;00m\u001b[43m \u001b[49m\u001b[43mdata\u001b[49m\u001b[43m \u001b[49m\u001b[38;5;129;43;01mis\u001b[39;49;00m\u001b[43m \u001b[49m\u001b[38;5;129;43;01mnot\u001b[39;49;00m\u001b[43m \u001b[49m\u001b[38;5;28;43;01mNone\u001b[39;49;00m\u001b[43m \u001b[49m\u001b[38;5;28;43;01melse\u001b[39;49;00m\u001b[43m \u001b[49m\u001b[43m{\u001b[49m\u001b[43m}\u001b[49m\u001b[43m)\u001b[49m\u001b[43m,\u001b[49m\n\u001b[1;32m   3580\u001b[0m \u001b[43m        \u001b[49m\u001b[38;5;241;43m*\u001b[39;49m\u001b[38;5;241;43m*\u001b[39;49m\u001b[43mkwargs\u001b[49m\u001b[43m,\u001b[49m\n\u001b[1;32m   3581\u001b[0m \u001b[43m    \u001b[49m\u001b[43m)\u001b[49m\n",
      "File \u001b[0;32m/usr/local/lib/python3.11/dist-packages/matplotlib/axes/_axes.py:1721\u001b[0m, in \u001b[0;36mAxes.plot\u001b[0;34m(self, scalex, scaley, data, *args, **kwargs)\u001b[0m\n\u001b[1;32m   1478\u001b[0m \u001b[38;5;250m\u001b[39m\u001b[38;5;124;03m\"\"\"\u001b[39;00m\n\u001b[1;32m   1479\u001b[0m \u001b[38;5;124;03mPlot y versus x as lines and/or markers.\u001b[39;00m\n\u001b[1;32m   1480\u001b[0m \n\u001b[0;32m   (...)\u001b[0m\n\u001b[1;32m   1718\u001b[0m \u001b[38;5;124;03m(``'green'``) or hex strings (``'#008000'``).\u001b[39;00m\n\u001b[1;32m   1719\u001b[0m \u001b[38;5;124;03m\"\"\"\u001b[39;00m\n\u001b[1;32m   1720\u001b[0m kwargs \u001b[38;5;241m=\u001b[39m cbook\u001b[38;5;241m.\u001b[39mnormalize_kwargs(kwargs, mlines\u001b[38;5;241m.\u001b[39mLine2D)\n\u001b[0;32m-> 1721\u001b[0m lines \u001b[38;5;241m=\u001b[39m [\u001b[38;5;241m*\u001b[39m\u001b[38;5;28mself\u001b[39m\u001b[38;5;241m.\u001b[39m_get_lines(\u001b[38;5;28mself\u001b[39m, \u001b[38;5;241m*\u001b[39margs, data\u001b[38;5;241m=\u001b[39mdata, \u001b[38;5;241m*\u001b[39m\u001b[38;5;241m*\u001b[39mkwargs)]\n\u001b[1;32m   1722\u001b[0m \u001b[38;5;28;01mfor\u001b[39;00m line \u001b[38;5;129;01min\u001b[39;00m lines:\n\u001b[1;32m   1723\u001b[0m     \u001b[38;5;28mself\u001b[39m\u001b[38;5;241m.\u001b[39madd_line(line)\n",
      "File \u001b[0;32m/usr/local/lib/python3.11/dist-packages/matplotlib/axes/_base.py:303\u001b[0m, in \u001b[0;36m_process_plot_var_args.__call__\u001b[0;34m(self, axes, data, *args, **kwargs)\u001b[0m\n\u001b[1;32m    301\u001b[0m     this \u001b[38;5;241m+\u001b[39m\u001b[38;5;241m=\u001b[39m args[\u001b[38;5;241m0\u001b[39m],\n\u001b[1;32m    302\u001b[0m     args \u001b[38;5;241m=\u001b[39m args[\u001b[38;5;241m1\u001b[39m:]\n\u001b[0;32m--> 303\u001b[0m \u001b[38;5;28;01myield from\u001b[39;00m \u001b[38;5;28;43mself\u001b[39;49m\u001b[38;5;241;43m.\u001b[39;49m\u001b[43m_plot_args\u001b[49m\u001b[43m(\u001b[49m\n\u001b[1;32m    304\u001b[0m \u001b[43m    \u001b[49m\u001b[43maxes\u001b[49m\u001b[43m,\u001b[49m\u001b[43m \u001b[49m\u001b[43mthis\u001b[49m\u001b[43m,\u001b[49m\u001b[43m \u001b[49m\u001b[43mkwargs\u001b[49m\u001b[43m,\u001b[49m\u001b[43m \u001b[49m\u001b[43mambiguous_fmt_datakey\u001b[49m\u001b[38;5;241;43m=\u001b[39;49m\u001b[43mambiguous_fmt_datakey\u001b[49m\u001b[43m)\u001b[49m\n",
      "File \u001b[0;32m/usr/local/lib/python3.11/dist-packages/matplotlib/axes/_base.py:491\u001b[0m, in \u001b[0;36m_process_plot_var_args._plot_args\u001b[0;34m(self, axes, tup, kwargs, return_kwargs, ambiguous_fmt_datakey)\u001b[0m\n\u001b[1;32m    489\u001b[0m     y \u001b[38;5;241m=\u001b[39m _check_1d(xy[\u001b[38;5;241m1\u001b[39m])\n\u001b[1;32m    490\u001b[0m \u001b[38;5;28;01melse\u001b[39;00m:\n\u001b[0;32m--> 491\u001b[0m     x, y \u001b[38;5;241m=\u001b[39m \u001b[43mindex_of\u001b[49m\u001b[43m(\u001b[49m\u001b[43mxy\u001b[49m\u001b[43m[\u001b[49m\u001b[38;5;241;43m-\u001b[39;49m\u001b[38;5;241;43m1\u001b[39;49m\u001b[43m]\u001b[49m\u001b[43m)\u001b[49m\n\u001b[1;32m    493\u001b[0m \u001b[38;5;28;01mif\u001b[39;00m axes\u001b[38;5;241m.\u001b[39mxaxis \u001b[38;5;129;01mis\u001b[39;00m \u001b[38;5;129;01mnot\u001b[39;00m \u001b[38;5;28;01mNone\u001b[39;00m:\n\u001b[1;32m    494\u001b[0m     axes\u001b[38;5;241m.\u001b[39mxaxis\u001b[38;5;241m.\u001b[39mupdate_units(x)\n",
      "File \u001b[0;32m/usr/local/lib/python3.11/dist-packages/matplotlib/cbook.py:1666\u001b[0m, in \u001b[0;36mindex_of\u001b[0;34m(y)\u001b[0m\n\u001b[1;32m   1664\u001b[0m     \u001b[38;5;28;01mpass\u001b[39;00m\n\u001b[1;32m   1665\u001b[0m \u001b[38;5;28;01mtry\u001b[39;00m:\n\u001b[0;32m-> 1666\u001b[0m     y \u001b[38;5;241m=\u001b[39m \u001b[43m_check_1d\u001b[49m\u001b[43m(\u001b[49m\u001b[43my\u001b[49m\u001b[43m)\u001b[49m\n\u001b[1;32m   1667\u001b[0m \u001b[38;5;28;01mexcept\u001b[39;00m (VisibleDeprecationWarning, \u001b[38;5;167;01mValueError\u001b[39;00m):\n\u001b[1;32m   1668\u001b[0m     \u001b[38;5;66;03m# NumPy 1.19 will warn on ragged input, and we can't actually use it.\u001b[39;00m\n\u001b[1;32m   1669\u001b[0m     \u001b[38;5;28;01mpass\u001b[39;00m\n",
      "File \u001b[0;32m/usr/local/lib/python3.11/dist-packages/matplotlib/cbook.py:1358\u001b[0m, in \u001b[0;36m_check_1d\u001b[0;34m(x)\u001b[0m\n\u001b[1;32m   1352\u001b[0m \u001b[38;5;66;03m# plot requires `shape` and `ndim`.  If passed an\u001b[39;00m\n\u001b[1;32m   1353\u001b[0m \u001b[38;5;66;03m# object that doesn't provide them, then force to numpy array.\u001b[39;00m\n\u001b[1;32m   1354\u001b[0m \u001b[38;5;66;03m# Note this will strip unit information.\u001b[39;00m\n\u001b[1;32m   1355\u001b[0m \u001b[38;5;28;01mif\u001b[39;00m (\u001b[38;5;129;01mnot\u001b[39;00m \u001b[38;5;28mhasattr\u001b[39m(x, \u001b[38;5;124m'\u001b[39m\u001b[38;5;124mshape\u001b[39m\u001b[38;5;124m'\u001b[39m) \u001b[38;5;129;01mor\u001b[39;00m\n\u001b[1;32m   1356\u001b[0m         \u001b[38;5;129;01mnot\u001b[39;00m \u001b[38;5;28mhasattr\u001b[39m(x, \u001b[38;5;124m'\u001b[39m\u001b[38;5;124mndim\u001b[39m\u001b[38;5;124m'\u001b[39m) \u001b[38;5;129;01mor\u001b[39;00m\n\u001b[1;32m   1357\u001b[0m         \u001b[38;5;28mlen\u001b[39m(x\u001b[38;5;241m.\u001b[39mshape) \u001b[38;5;241m<\u001b[39m \u001b[38;5;241m1\u001b[39m):\n\u001b[0;32m-> 1358\u001b[0m     \u001b[38;5;28;01mreturn\u001b[39;00m \u001b[43mnp\u001b[49m\u001b[38;5;241;43m.\u001b[39;49m\u001b[43matleast_1d\u001b[49m\u001b[43m(\u001b[49m\u001b[43mx\u001b[49m\u001b[43m)\u001b[49m\n\u001b[1;32m   1359\u001b[0m \u001b[38;5;28;01melse\u001b[39;00m:\n\u001b[1;32m   1360\u001b[0m     \u001b[38;5;28;01mreturn\u001b[39;00m x\n",
      "File \u001b[0;32m/usr/local/lib/python3.11/dist-packages/numpy/core/shape_base.py:65\u001b[0m, in \u001b[0;36matleast_1d\u001b[0;34m(*arys)\u001b[0m\n\u001b[1;32m     63\u001b[0m res \u001b[38;5;241m=\u001b[39m []\n\u001b[1;32m     64\u001b[0m \u001b[38;5;28;01mfor\u001b[39;00m ary \u001b[38;5;129;01min\u001b[39;00m arys:\n\u001b[0;32m---> 65\u001b[0m     ary \u001b[38;5;241m=\u001b[39m asanyarray(ary)\n\u001b[1;32m     66\u001b[0m     \u001b[38;5;28;01mif\u001b[39;00m ary\u001b[38;5;241m.\u001b[39mndim \u001b[38;5;241m==\u001b[39m \u001b[38;5;241m0\u001b[39m:\n\u001b[1;32m     67\u001b[0m         result \u001b[38;5;241m=\u001b[39m ary\u001b[38;5;241m.\u001b[39mreshape(\u001b[38;5;241m1\u001b[39m)\n",
      "File \u001b[0;32m/usr/local/lib/python3.11/dist-packages/torch/_tensor.py:1030\u001b[0m, in \u001b[0;36mTensor.__array__\u001b[0;34m(self, dtype)\u001b[0m\n\u001b[1;32m   1028\u001b[0m     \u001b[38;5;28;01mreturn\u001b[39;00m handle_torch_function(Tensor\u001b[38;5;241m.\u001b[39m__array__, (\u001b[38;5;28mself\u001b[39m,), \u001b[38;5;28mself\u001b[39m, dtype\u001b[38;5;241m=\u001b[39mdtype)\n\u001b[1;32m   1029\u001b[0m \u001b[38;5;28;01mif\u001b[39;00m dtype \u001b[38;5;129;01mis\u001b[39;00m \u001b[38;5;28;01mNone\u001b[39;00m:\n\u001b[0;32m-> 1030\u001b[0m     \u001b[38;5;28;01mreturn\u001b[39;00m \u001b[38;5;28;43mself\u001b[39;49m\u001b[38;5;241;43m.\u001b[39;49m\u001b[43mnumpy\u001b[49m\u001b[43m(\u001b[49m\u001b[43m)\u001b[49m\n\u001b[1;32m   1031\u001b[0m \u001b[38;5;28;01melse\u001b[39;00m:\n\u001b[1;32m   1032\u001b[0m     \u001b[38;5;28;01mreturn\u001b[39;00m \u001b[38;5;28mself\u001b[39m\u001b[38;5;241m.\u001b[39mnumpy()\u001b[38;5;241m.\u001b[39mastype(dtype, copy\u001b[38;5;241m=\u001b[39m\u001b[38;5;28;01mFalse\u001b[39;00m)\n",
      "\u001b[0;31mTypeError\u001b[0m: can't convert cuda:0 device type tensor to numpy. Use Tensor.cpu() to copy the tensor to host memory first."
     ]
    },
    {
     "data": {
      "image/png": "[encoded data removed]",
      "text/plain": [
       "<Figure size 640x480 with 1 Axes>"
      ]
     },
     "metadata": {},
     "output_type": "display_data"
    }
   ],
   "source": [
    "train_acc = [ np.array(x.cpu().float()) for x in train_acc ]\n",
    "validation_acc = [ np.array(x.cpu().float()) for x in validation_acc ]\n",
    "test_acc = [ np.array(x.cpu().float()) for x in test_acc ]\n",
    "\n",
    "\n",
    "plt.plot(train_acc, label='training accuracy')\n",
    "plt.plot(validation_acc, label='validation accuracy')\n",
    "plt.plot(test_acc, label='test accuracy')\n",
    "plt.legend(loc='lower right')\n",
    "plt.ylim(0,2)\n",
    "plt.show()"
   ]
  },
  {
   "cell_type": "markdown",
   "metadata": {
    "id": "Bbf_dJy-dvxT"
   },
   "source": [
    "Per completezza viene testato anche il dataset originale con le sole colonne aggiunte"
   ]
  },
  {
   "cell_type": "code",
   "execution_count": 19,
   "metadata": {
    "id": "FDIgAiSidvxT",
    "scrolled": true
   },
   "outputs": [
    {
     "data": {
      "application/vnd.jupyter.widget-view+json": {
       "model_id": "42351c150abe475295d4ce693e9e140b",
       "version_major": 2,
       "version_minor": 0
      },
      "text/plain": [
       "Looking for emoji:   0%|          | 0/1842 [00:00<?, ?it/s]"
      ]
     },
     "metadata": {},
     "output_type": "display_data"
    },
    {
     "data": {
      "application/vnd.jupyter.widget-view+json": {
       "model_id": "bc913e16c9874ef590c82d819b259c3f",
       "version_major": 2,
       "version_minor": 0
      },
      "text/plain": [
       "Looking for hashtag:   0%|          | 0/1842 [00:00<?, ?it/s]"
      ]
     },
     "metadata": {},
     "output_type": "display_data"
    },
    {
     "data": {
      "application/vnd.jupyter.widget-view+json": {
       "model_id": "c57bcd63a44f46cdb9faecbb9aec7be6",
       "version_major": 2,
       "version_minor": 0
      },
      "text/plain": [
       "Tokenizing text ... :   0%|          | 0/1473 [00:00<?, ?it/s]"
      ]
     },
     "metadata": {},
     "output_type": "display_data"
    },
    {
     "data": {
      "application/vnd.jupyter.widget-view+json": {
       "model_id": "89d18800d925408dace9aea5fb5b318f",
       "version_major": 2,
       "version_minor": 0
      },
      "text/plain": [
       "Tokenizing text ... :   0%|          | 0/369 [00:00<?, ?it/s]"
      ]
     },
     "metadata": {},
     "output_type": "display_data"
    },
    {
     "data": {
      "application/vnd.jupyter.widget-view+json": {
       "model_id": "1e6079fd7236495f90dcf2375d3fb75f",
       "version_major": 2,
       "version_minor": 0
      },
      "text/plain": [
       "  0%|          | 0/40 [00:00<?, ?it/s]"
      ]
     },
     "metadata": {},
     "output_type": "display_data"
    },
    {
     "data": {
      "application/vnd.jupyter.widget-view+json": {
       "model_id": "83685372093a49369cd4e36dfffc92a3",
       "version_major": 2,
       "version_minor": 0
      },
      "text/plain": [
       "training set:   0%|          | 0/295 [00:00<?, ?it/s]"
      ]
     },
     "metadata": {},
     "output_type": "display_data"
    },
    {
     "data": {
      "application/vnd.jupyter.widget-view+json": {
       "model_id": "f25696dd99e249fc84612435fa0b8d7a",
       "version_major": 2,
       "version_minor": 0
      },
      "text/plain": [
       "dev set:   0%|          | 0/74 [00:00<?, ?it/s]"
      ]
     },
     "metadata": {},
     "output_type": "display_data"
    },
    {
     "name": "stdout",
     "output_type": "stream",
     "text": [
      "\n",
      "Train loss: 14.0468  Test loss: 11.8309\n",
      "Train accuracy: 0.5040  Test accuracy: 0.6284\n"
     ]
    },
    {
     "data": {
      "application/vnd.jupyter.widget-view+json": {
       "model_id": "bb151356fc81487b8b12838fc5aeef95",
       "version_major": 2,
       "version_minor": 0
      },
      "text/plain": [
       "training set:   0%|          | 0/295 [00:00<?, ?it/s]"
      ]
     },
     "metadata": {},
     "output_type": "display_data"
    },
    {
     "data": {
      "application/vnd.jupyter.widget-view+json": {
       "model_id": "c31fe53ef2d34e039c88086b703ae584",
       "version_major": 2,
       "version_minor": 0
      },
      "text/plain": [
       "dev set:   0%|          | 0/74 [00:00<?, ?it/s]"
      ]
     },
     "metadata": {},
     "output_type": "display_data"
    },
    {
     "name": "stdout",
     "output_type": "stream",
     "text": [
      "\n",
      "Train loss: 13.1728  Test loss: 9.8908\n",
      "Train accuracy: 0.6090  Test accuracy: 0.6311\n"
     ]
    },
    {
     "data": {
      "application/vnd.jupyter.widget-view+json": {
       "model_id": "f3b4e1d558b842f28fdd300d9bae7552",
       "version_major": 2,
       "version_minor": 0
      },
      "text/plain": [
       "training set:   0%|          | 0/295 [00:00<?, ?it/s]"
      ]
     },
     "metadata": {},
     "output_type": "display_data"
    },
    {
     "data": {
      "application/vnd.jupyter.widget-view+json": {
       "model_id": "3bdba690ab174ef7bdb1fa42396a6911",
       "version_major": 2,
       "version_minor": 0
      },
      "text/plain": [
       "dev set:   0%|          | 0/74 [00:00<?, ?it/s]"
      ]
     },
     "metadata": {},
     "output_type": "display_data"
    },
    {
     "name": "stdout",
     "output_type": "stream",
     "text": [
      "\n",
      "Train loss: 13.4991  Test loss: 9.0049\n",
      "Train accuracy: 0.6307  Test accuracy: 0.6365\n"
     ]
    },
    {
     "data": {
      "application/vnd.jupyter.widget-view+json": {
       "model_id": "b733501d947c4e769b9dfb2c4b2dd13a",
       "version_major": 2,
       "version_minor": 0
      },
      "text/plain": [
       "training set:   0%|          | 0/295 [00:00<?, ?it/s]"
      ]
     },
     "metadata": {},
     "output_type": "display_data"
    },
    {
     "data": {
      "application/vnd.jupyter.widget-view+json": {
       "model_id": "47f6c2aab33144f7b758b67f779d746e",
       "version_major": 2,
       "version_minor": 0
      },
      "text/plain": [
       "dev set:   0%|          | 0/74 [00:00<?, ?it/s]"
      ]
     },
     "metadata": {},
     "output_type": "display_data"
    },
    {
     "name": "stdout",
     "output_type": "stream",
     "text": [
      "\n",
      "Train loss: 11.9542  Test loss: 8.7160\n",
      "Train accuracy: 0.6701  Test accuracy: 0.6743\n"
     ]
    },
    {
     "data": {
      "application/vnd.jupyter.widget-view+json": {
       "model_id": "8b0b7062e8e549e28120f6a1b6363013",
       "version_major": 2,
       "version_minor": 0
      },
      "text/plain": [
       "training set:   0%|          | 0/295 [00:00<?, ?it/s]"
      ]
     },
     "metadata": {},
     "output_type": "display_data"
    },
    {
     "data": {
      "application/vnd.jupyter.widget-view+json": {
       "model_id": "23cfef44e3fb4d09a010e7036c4fae3c",
       "version_major": 2,
       "version_minor": 0
      },
      "text/plain": [
       "dev set:   0%|          | 0/74 [00:00<?, ?it/s]"
      ]
     },
     "metadata": {},
     "output_type": "display_data"
    },
    {
     "name": "stdout",
     "output_type": "stream",
     "text": [
      "\n",
      "Train loss: 11.8202  Test loss: 13.4705\n",
      "Train accuracy: 0.6823  Test accuracy: 0.6635\n"
     ]
    },
    {
     "data": {
      "application/vnd.jupyter.widget-view+json": {
       "model_id": "3fa7da4a1e8748a8bfd0387f1f355247",
       "version_major": 2,
       "version_minor": 0
      },
      "text/plain": [
       "training set:   0%|          | 0/295 [00:00<?, ?it/s]"
      ]
     },
     "metadata": {},
     "output_type": "display_data"
    },
    {
     "data": {
      "application/vnd.jupyter.widget-view+json": {
       "model_id": "df86980a6aa842daac4c8f0f2893eeba",
       "version_major": 2,
       "version_minor": 0
      },
      "text/plain": [
       "dev set:   0%|          | 0/74 [00:00<?, ?it/s]"
      ]
     },
     "metadata": {},
     "output_type": "display_data"
    },
    {
     "name": "stdout",
     "output_type": "stream",
     "text": [
      "\n",
      "Train loss: 13.4193  Test loss: 13.1017\n",
      "Train accuracy: 0.6850  Test accuracy: 0.6824\n"
     ]
    },
    {
     "data": {
      "application/vnd.jupyter.widget-view+json": {
       "model_id": "ec31b80626384f2292b112150ce49554",
       "version_major": 2,
       "version_minor": 0
      },
      "text/plain": [
       "training set:   0%|          | 0/295 [00:00<?, ?it/s]"
      ]
     },
     "metadata": {},
     "output_type": "display_data"
    },
    {
     "data": {
      "application/vnd.jupyter.widget-view+json": {
       "model_id": "9ed2f5492997463fa8b728f79199efae",
       "version_major": 2,
       "version_minor": 0
      },
      "text/plain": [
       "dev set:   0%|          | 0/74 [00:00<?, ?it/s]"
      ]
     },
     "metadata": {},
     "output_type": "display_data"
    },
    {
     "name": "stdout",
     "output_type": "stream",
     "text": [
      "\n",
      "Train loss: 11.9445  Test loss: 13.0995\n",
      "Train accuracy: 0.7241  Test accuracy: 0.6662\n"
     ]
    },
    {
     "data": {
      "application/vnd.jupyter.widget-view+json": {
       "model_id": "332021d611a94687a3988205199c9f43",
       "version_major": 2,
       "version_minor": 0
      },
      "text/plain": [
       "training set:   0%|          | 0/295 [00:00<?, ?it/s]"
      ]
     },
     "metadata": {},
     "output_type": "display_data"
    },
    {
     "data": {
      "application/vnd.jupyter.widget-view+json": {
       "model_id": "fe04cba9a51e48689c7c8088c80285fa",
       "version_major": 2,
       "version_minor": 0
      },
      "text/plain": [
       "dev set:   0%|          | 0/74 [00:00<?, ?it/s]"
      ]
     },
     "metadata": {},
     "output_type": "display_data"
    },
    {
     "name": "stdout",
     "output_type": "stream",
     "text": [
      "\n",
      "Train loss: 13.2284  Test loss: 15.9270\n",
      "Train accuracy: 0.7290  Test accuracy: 0.6662\n"
     ]
    },
    {
     "data": {
      "application/vnd.jupyter.widget-view+json": {
       "model_id": "a56cf4865d804c1a8e07abb074c47639",
       "version_major": 2,
       "version_minor": 0
      },
      "text/plain": [
       "training set:   0%|          | 0/295 [00:00<?, ?it/s]"
      ]
     },
     "metadata": {},
     "output_type": "display_data"
    },
    {
     "data": {
      "application/vnd.jupyter.widget-view+json": {
       "model_id": "06f2c0fca7e34841a80fc36c5adba96b",
       "version_major": 2,
       "version_minor": 0
      },
      "text/plain": [
       "dev set:   0%|          | 0/74 [00:00<?, ?it/s]"
      ]
     },
     "metadata": {},
     "output_type": "display_data"
    },
    {
     "name": "stdout",
     "output_type": "stream",
     "text": [
      "\n",
      "Train loss: 13.2465  Test loss: 13.0623\n",
      "Train accuracy: 0.7586  Test accuracy: 0.7014\n"
     ]
    },
    {
     "data": {
      "application/vnd.jupyter.widget-view+json": {
       "model_id": "23c805f05ec740c8be1d2447402aec88",
       "version_major": 2,
       "version_minor": 0
      },
      "text/plain": [
       "training set:   0%|          | 0/295 [00:00<?, ?it/s]"
      ]
     },
     "metadata": {},
     "output_type": "display_data"
    },
    {
     "data": {
      "application/vnd.jupyter.widget-view+json": {
       "model_id": "71424c1d6033488e8869de2cec08ab20",
       "version_major": 2,
       "version_minor": 0
      },
      "text/plain": [
       "dev set:   0%|          | 0/74 [00:00<?, ?it/s]"
      ]
     },
     "metadata": {},
     "output_type": "display_data"
    },
    {
     "name": "stdout",
     "output_type": "stream",
     "text": [
      "\n",
      "Train loss: 13.3516  Test loss: 13.0510\n",
      "Train accuracy: 0.7779  Test accuracy: 0.6878\n"
     ]
    },
    {
     "data": {
      "application/vnd.jupyter.widget-view+json": {
       "model_id": "0cff754dff104bc583b4a066f3e255b1",
       "version_major": 2,
       "version_minor": 0
      },
      "text/plain": [
       "training set:   0%|          | 0/295 [00:00<?, ?it/s]"
      ]
     },
     "metadata": {},
     "output_type": "display_data"
    },
    {
     "data": {
      "application/vnd.jupyter.widget-view+json": {
       "model_id": "891a5bf2c02b421f991989ce164e5a41",
       "version_major": 2,
       "version_minor": 0
      },
      "text/plain": [
       "dev set:   0%|          | 0/74 [00:00<?, ?it/s]"
      ]
     },
     "metadata": {},
     "output_type": "display_data"
    },
    {
     "name": "stdout",
     "output_type": "stream",
     "text": [
      "\n",
      "Train loss: 12.7061  Test loss: 13.0931\n",
      "Train accuracy: 0.7860  Test accuracy: 0.6993\n"
     ]
    },
    {
     "data": {
      "application/vnd.jupyter.widget-view+json": {
       "model_id": "3e3e94da40c84639af9b043acd6854bf",
       "version_major": 2,
       "version_minor": 0
      },
      "text/plain": [
       "training set:   0%|          | 0/295 [00:00<?, ?it/s]"
      ]
     },
     "metadata": {},
     "output_type": "display_data"
    },
    {
     "data": {
      "application/vnd.jupyter.widget-view+json": {
       "model_id": "98e31c5dcc064611ac70cec2d3036f4a",
       "version_major": 2,
       "version_minor": 0
      },
      "text/plain": [
       "dev set:   0%|          | 0/74 [00:00<?, ?it/s]"
      ]
     },
     "metadata": {},
     "output_type": "display_data"
    },
    {
     "name": "stdout",
     "output_type": "stream",
     "text": [
      "\n",
      "Train loss: 12.3125  Test loss: 13.1522\n",
      "Train accuracy: 0.8090  Test accuracy: 0.6993\n"
     ]
    },
    {
     "data": {
      "application/vnd.jupyter.widget-view+json": {
       "model_id": "5d6ba6acaa844707af49f5a28b8dcbf1",
       "version_major": 2,
       "version_minor": 0
      },
      "text/plain": [
       "training set:   0%|          | 0/295 [00:00<?, ?it/s]"
      ]
     },
     "metadata": {},
     "output_type": "display_data"
    },
    {
     "data": {
      "application/vnd.jupyter.widget-view+json": {
       "model_id": "aaed24cfbaed4f259fad60485341c877",
       "version_major": 2,
       "version_minor": 0
      },
      "text/plain": [
       "dev set:   0%|          | 0/74 [00:00<?, ?it/s]"
      ]
     },
     "metadata": {},
     "output_type": "display_data"
    },
    {
     "name": "stdout",
     "output_type": "stream",
     "text": [
      "\n",
      "Train loss: 12.7348  Test loss: 13.1785\n",
      "Train accuracy: 0.8084  Test accuracy: 0.6824\n"
     ]
    },
    {
     "data": {
      "application/vnd.jupyter.widget-view+json": {
       "model_id": "46f0c7e26f3c4f7cbddfbadbd5c4e590",
       "version_major": 2,
       "version_minor": 0
      },
      "text/plain": [
       "training set:   0%|          | 0/295 [00:00<?, ?it/s]"
      ]
     },
     "metadata": {},
     "output_type": "display_data"
    },
    {
     "data": {
      "application/vnd.jupyter.widget-view+json": {
       "model_id": "577445c4b7784d0dbf09ec4806b84efe",
       "version_major": 2,
       "version_minor": 0
      },
      "text/plain": [
       "dev set:   0%|          | 0/74 [00:00<?, ?it/s]"
      ]
     },
     "metadata": {},
     "output_type": "display_data"
    },
    {
     "name": "stdout",
     "output_type": "stream",
     "text": [
      "\n",
      "Train loss: 12.9834  Test loss: 13.2840\n",
      "Train accuracy: 0.8138  Test accuracy: 0.7074\n"
     ]
    },
    {
     "data": {
      "application/vnd.jupyter.widget-view+json": {
       "model_id": "77a0742d9e0747a79b52fea977ac3832",
       "version_major": 2,
       "version_minor": 0
      },
      "text/plain": [
       "training set:   0%|          | 0/295 [00:00<?, ?it/s]"
      ]
     },
     "metadata": {},
     "output_type": "display_data"
    },
    {
     "data": {
      "application/vnd.jupyter.widget-view+json": {
       "model_id": "f7b2769426bf47e4997af3b4cf9d79e1",
       "version_major": 2,
       "version_minor": 0
      },
      "text/plain": [
       "dev set:   0%|          | 0/74 [00:00<?, ?it/s]"
      ]
     },
     "metadata": {},
     "output_type": "display_data"
    },
    {
     "name": "stdout",
     "output_type": "stream",
     "text": [
      "\n",
      "Train loss: 12.8104  Test loss: 13.2259\n",
      "Train accuracy: 0.8212  Test accuracy: 0.6939\n"
     ]
    },
    {
     "data": {
      "application/vnd.jupyter.widget-view+json": {
       "model_id": "b242f429eb4a4fc4901f8e93803af6ce",
       "version_major": 2,
       "version_minor": 0
      },
      "text/plain": [
       "training set:   0%|          | 0/295 [00:00<?, ?it/s]"
      ]
     },
     "metadata": {},
     "output_type": "display_data"
    },
    {
     "data": {
      "application/vnd.jupyter.widget-view+json": {
       "model_id": "b5cf8e991d824cd9ace8e24489d004e6",
       "version_major": 2,
       "version_minor": 0
      },
      "text/plain": [
       "dev set:   0%|          | 0/74 [00:00<?, ?it/s]"
      ]
     },
     "metadata": {},
     "output_type": "display_data"
    },
    {
     "name": "stdout",
     "output_type": "stream",
     "text": [
      "\n",
      "Train loss: 11.4862  Test loss: 13.4006\n",
      "Train accuracy: 0.8332  Test accuracy: 0.6885\n"
     ]
    },
    {
     "data": {
      "application/vnd.jupyter.widget-view+json": {
       "model_id": "db26b530949846379f1ec3b9b5075a69",
       "version_major": 2,
       "version_minor": 0
      },
      "text/plain": [
       "training set:   0%|          | 0/295 [00:00<?, ?it/s]"
      ]
     },
     "metadata": {},
     "output_type": "display_data"
    },
    {
     "data": {
      "application/vnd.jupyter.widget-view+json": {
       "model_id": "3591a0c3218e42c58c12b9f8ac6dd2ef",
       "version_major": 2,
       "version_minor": 0
      },
      "text/plain": [
       "dev set:   0%|          | 0/74 [00:00<?, ?it/s]"
      ]
     },
     "metadata": {},
     "output_type": "display_data"
    },
    {
     "name": "stdout",
     "output_type": "stream",
     "text": [
      "\n",
      "Train loss: 12.7452  Test loss: 13.2688\n",
      "Train accuracy: 0.8267  Test accuracy: 0.6959\n"
     ]
    },
    {
     "data": {
      "application/vnd.jupyter.widget-view+json": {
       "model_id": "b4e3a4e786524f4099cb560cda399674",
       "version_major": 2,
       "version_minor": 0
      },
      "text/plain": [
       "training set:   0%|          | 0/295 [00:00<?, ?it/s]"
      ]
     },
     "metadata": {},
     "output_type": "display_data"
    },
    {
     "data": {
      "application/vnd.jupyter.widget-view+json": {
       "model_id": "12a932ef6224413da74bf5fa88bf81cc",
       "version_major": 2,
       "version_minor": 0
      },
      "text/plain": [
       "dev set:   0%|          | 0/74 [00:00<?, ?it/s]"
      ]
     },
     "metadata": {},
     "output_type": "display_data"
    },
    {
     "name": "stdout",
     "output_type": "stream",
     "text": [
      "\n",
      "Train loss: 13.1275  Test loss: 13.5074\n",
      "Train accuracy: 0.8280  Test accuracy: 0.6878\n"
     ]
    },
    {
     "data": {
      "application/vnd.jupyter.widget-view+json": {
       "model_id": "3786099c0c1749459418ba4af0f1f491",
       "version_major": 2,
       "version_minor": 0
      },
      "text/plain": [
       "training set:   0%|          | 0/295 [00:00<?, ?it/s]"
      ]
     },
     "metadata": {},
     "output_type": "display_data"
    },
    {
     "data": {
      "application/vnd.jupyter.widget-view+json": {
       "model_id": "9f2510134e9d46a6b0e759a427b4f3a2",
       "version_major": 2,
       "version_minor": 0
      },
      "text/plain": [
       "dev set:   0%|          | 0/74 [00:00<?, ?it/s]"
      ]
     },
     "metadata": {},
     "output_type": "display_data"
    },
    {
     "name": "stdout",
     "output_type": "stream",
     "text": [
      "\n",
      "Train loss: 12.1285  Test loss: 13.4872\n",
      "Train accuracy: 0.8436  Test accuracy: 0.6905\n"
     ]
    },
    {
     "data": {
      "application/vnd.jupyter.widget-view+json": {
       "model_id": "81b668d0376d400ab728fa6ab47129c2",
       "version_major": 2,
       "version_minor": 0
      },
      "text/plain": [
       "training set:   0%|          | 0/295 [00:00<?, ?it/s]"
      ]
     },
     "metadata": {},
     "output_type": "display_data"
    },
    {
     "data": {
      "application/vnd.jupyter.widget-view+json": {
       "model_id": "a520201ffe3f40b2948b7aaf8e9a2b7e",
       "version_major": 2,
       "version_minor": 0
      },
      "text/plain": [
       "dev set:   0%|          | 0/74 [00:00<?, ?it/s]"
      ]
     },
     "metadata": {},
     "output_type": "display_data"
    },
    {
     "name": "stdout",
     "output_type": "stream",
     "text": [
      "\n",
      "Train loss: 12.1340  Test loss: 13.6562\n",
      "Train accuracy: 0.8359  Test accuracy: 0.6878\n"
     ]
    },
    {
     "data": {
      "application/vnd.jupyter.widget-view+json": {
       "model_id": "419f2b62defc403682278e7554dc40c5",
       "version_major": 2,
       "version_minor": 0
      },
      "text/plain": [
       "training set:   0%|          | 0/295 [00:00<?, ?it/s]"
      ]
     },
     "metadata": {},
     "output_type": "display_data"
    },
    {
     "data": {
      "application/vnd.jupyter.widget-view+json": {
       "model_id": "778b50c028e246b8a587250619688026",
       "version_major": 2,
       "version_minor": 0
      },
      "text/plain": [
       "dev set:   0%|          | 0/74 [00:00<?, ?it/s]"
      ]
     },
     "metadata": {},
     "output_type": "display_data"
    },
    {
     "name": "stdout",
     "output_type": "stream",
     "text": [
      "\n",
      "Train loss: 12.3796  Test loss: 13.6657\n",
      "Train accuracy: 0.8366  Test accuracy: 0.6750\n"
     ]
    },
    {
     "data": {
      "application/vnd.jupyter.widget-view+json": {
       "model_id": "53bd7f09b0a84820816a5aa1e7212032",
       "version_major": 2,
       "version_minor": 0
      },
      "text/plain": [
       "training set:   0%|          | 0/295 [00:00<?, ?it/s]"
      ]
     },
     "metadata": {},
     "output_type": "display_data"
    },
    {
     "data": {
      "application/vnd.jupyter.widget-view+json": {
       "model_id": "4f0b16ab59be443494fab93f96fcadb8",
       "version_major": 2,
       "version_minor": 0
      },
      "text/plain": [
       "dev set:   0%|          | 0/74 [00:00<?, ?it/s]"
      ]
     },
     "metadata": {},
     "output_type": "display_data"
    },
    {
     "name": "stdout",
     "output_type": "stream",
     "text": [
      "\n",
      "Train loss: 12.6433  Test loss: 13.7200\n",
      "Train accuracy: 0.8425  Test accuracy: 0.6824\n"
     ]
    },
    {
     "data": {
      "application/vnd.jupyter.widget-view+json": {
       "model_id": "436d078b75af4b118fc9c87b0a752738",
       "version_major": 2,
       "version_minor": 0
      },
      "text/plain": [
       "training set:   0%|          | 0/295 [00:00<?, ?it/s]"
      ]
     },
     "metadata": {},
     "output_type": "display_data"
    },
    {
     "data": {
      "application/vnd.jupyter.widget-view+json": {
       "model_id": "b97f66d2a404404bb5f82b871a1ffec0",
       "version_major": 2,
       "version_minor": 0
      },
      "text/plain": [
       "dev set:   0%|          | 0/74 [00:00<?, ?it/s]"
      ]
     },
     "metadata": {},
     "output_type": "display_data"
    },
    {
     "name": "stdout",
     "output_type": "stream",
     "text": [
      "\n",
      "Train loss: 12.4169  Test loss: 13.7074\n",
      "Train accuracy: 0.8481  Test accuracy: 0.6878\n"
     ]
    },
    {
     "data": {
      "application/vnd.jupyter.widget-view+json": {
       "model_id": "d37ded05dc05400697c7e5aab98a3685",
       "version_major": 2,
       "version_minor": 0
      },
      "text/plain": [
       "training set:   0%|          | 0/295 [00:00<?, ?it/s]"
      ]
     },
     "metadata": {},
     "output_type": "display_data"
    },
    {
     "data": {
      "application/vnd.jupyter.widget-view+json": {
       "model_id": "8eefea3731ff4620af335f4b40bed1f9",
       "version_major": 2,
       "version_minor": 0
      },
      "text/plain": [
       "dev set:   0%|          | 0/74 [00:00<?, ?it/s]"
      ]
     },
     "metadata": {},
     "output_type": "display_data"
    },
    {
     "name": "stdout",
     "output_type": "stream",
     "text": [
      "\n",
      "Train loss: 12.0112  Test loss: 13.5567\n",
      "Train accuracy: 0.8536  Test accuracy: 0.7095\n"
     ]
    },
    {
     "data": {
      "application/vnd.jupyter.widget-view+json": {
       "model_id": "57b83d49921e48828c07d769aa61dbf3",
       "version_major": 2,
       "version_minor": 0
      },
      "text/plain": [
       "training set:   0%|          | 0/295 [00:00<?, ?it/s]"
      ]
     },
     "metadata": {},
     "output_type": "display_data"
    },
    {
     "data": {
      "application/vnd.jupyter.widget-view+json": {
       "model_id": "05273d69de8b49e1ace97318d88059c2",
       "version_major": 2,
       "version_minor": 0
      },
      "text/plain": [
       "dev set:   0%|          | 0/74 [00:00<?, ?it/s]"
      ]
     },
     "metadata": {},
     "output_type": "display_data"
    },
    {
     "name": "stdout",
     "output_type": "stream",
     "text": [
      "\n",
      "Train loss: 12.2031  Test loss: 13.7496\n",
      "Train accuracy: 0.8502  Test accuracy: 0.6932\n"
     ]
    },
    {
     "data": {
      "application/vnd.jupyter.widget-view+json": {
       "model_id": "7c6f27407b284335b31a65741028ae52",
       "version_major": 2,
       "version_minor": 0
      },
      "text/plain": [
       "training set:   0%|          | 0/295 [00:00<?, ?it/s]"
      ]
     },
     "metadata": {},
     "output_type": "display_data"
    },
    {
     "data": {
      "application/vnd.jupyter.widget-view+json": {
       "model_id": "7db31714ea014bd6a7a314cf8bbbc51a",
       "version_major": 2,
       "version_minor": 0
      },
      "text/plain": [
       "dev set:   0%|          | 0/74 [00:00<?, ?it/s]"
      ]
     },
     "metadata": {},
     "output_type": "display_data"
    },
    {
     "name": "stdout",
     "output_type": "stream",
     "text": [
      "\n",
      "Train loss: 12.2216  Test loss: 13.7341\n",
      "Train accuracy: 0.8468  Test accuracy: 0.6905\n"
     ]
    },
    {
     "data": {
      "application/vnd.jupyter.widget-view+json": {
       "model_id": "0aeae62db80942389891dc22604b85c3",
       "version_major": 2,
       "version_minor": 0
      },
      "text/plain": [
       "training set:   0%|          | 0/295 [00:00<?, ?it/s]"
      ]
     },
     "metadata": {},
     "output_type": "display_data"
    },
    {
     "data": {
      "application/vnd.jupyter.widget-view+json": {
       "model_id": "a409fb805df84defac5343323ee095f0",
       "version_major": 2,
       "version_minor": 0
      },
      "text/plain": [
       "dev set:   0%|          | 0/74 [00:00<?, ?it/s]"
      ]
     },
     "metadata": {},
     "output_type": "display_data"
    },
    {
     "name": "stdout",
     "output_type": "stream",
     "text": [
      "\n",
      "Train loss: 12.4084  Test loss: 13.6405\n",
      "Train accuracy: 0.8504  Test accuracy: 0.6858\n"
     ]
    },
    {
     "data": {
      "application/vnd.jupyter.widget-view+json": {
       "model_id": "779594d71fd744e697db11c0da80a96e",
       "version_major": 2,
       "version_minor": 0
      },
      "text/plain": [
       "training set:   0%|          | 0/295 [00:00<?, ?it/s]"
      ]
     },
     "metadata": {},
     "output_type": "display_data"
    },
    {
     "data": {
      "application/vnd.jupyter.widget-view+json": {
       "model_id": "8644d707db5f4a138ae6abbf2af51d70",
       "version_major": 2,
       "version_minor": 0
      },
      "text/plain": [
       "dev set:   0%|          | 0/74 [00:00<?, ?it/s]"
      ]
     },
     "metadata": {},
     "output_type": "display_data"
    },
    {
     "name": "stdout",
     "output_type": "stream",
     "text": [
      "\n",
      "Train loss: 12.1897  Test loss: 13.8193\n",
      "Train accuracy: 0.8522  Test accuracy: 0.6912\n"
     ]
    },
    {
     "data": {
      "application/vnd.jupyter.widget-view+json": {
       "model_id": "3db2a433c4764f9fb2bfcf460d1d952c",
       "version_major": 2,
       "version_minor": 0
      },
      "text/plain": [
       "training set:   0%|          | 0/295 [00:00<?, ?it/s]"
      ]
     },
     "metadata": {},
     "output_type": "display_data"
    },
    {
     "data": {
      "application/vnd.jupyter.widget-view+json": {
       "model_id": "6301e167cc1341eaaee4fea3c7253d66",
       "version_major": 2,
       "version_minor": 0
      },
      "text/plain": [
       "dev set:   0%|          | 0/74 [00:00<?, ?it/s]"
      ]
     },
     "metadata": {},
     "output_type": "display_data"
    },
    {
     "name": "stdout",
     "output_type": "stream",
     "text": [
      "\n",
      "Train loss: 11.9112  Test loss: 13.8059\n",
      "Train accuracy: 0.8549  Test accuracy: 0.6878\n"
     ]
    },
    {
     "data": {
      "application/vnd.jupyter.widget-view+json": {
       "model_id": "d3007303ef594097a4cdb6cb41bad7dd",
       "version_major": 2,
       "version_minor": 0
      },
      "text/plain": [
       "training set:   0%|          | 0/295 [00:00<?, ?it/s]"
      ]
     },
     "metadata": {},
     "output_type": "display_data"
    },
    {
     "data": {
      "application/vnd.jupyter.widget-view+json": {
       "model_id": "c90b4237bd0c4defa5bb9fac76602fa3",
       "version_major": 2,
       "version_minor": 0
      },
      "text/plain": [
       "dev set:   0%|          | 0/74 [00:00<?, ?it/s]"
      ]
     },
     "metadata": {},
     "output_type": "display_data"
    },
    {
     "name": "stdout",
     "output_type": "stream",
     "text": [
      "\n",
      "Train loss: 12.7792  Test loss: 14.0992\n",
      "Train accuracy: 0.8441  Test accuracy: 0.6797\n"
     ]
    },
    {
     "data": {
      "application/vnd.jupyter.widget-view+json": {
       "model_id": "dc1d17cc56654c3f97ccb012c705cc97",
       "version_major": 2,
       "version_minor": 0
      },
      "text/plain": [
       "training set:   0%|          | 0/295 [00:00<?, ?it/s]"
      ]
     },
     "metadata": {},
     "output_type": "display_data"
    },
    {
     "data": {
      "application/vnd.jupyter.widget-view+json": {
       "model_id": "fb56b9e39e004f59a6f52b630231bb16",
       "version_major": 2,
       "version_minor": 0
      },
      "text/plain": [
       "dev set:   0%|          | 0/74 [00:00<?, ?it/s]"
      ]
     },
     "metadata": {},
     "output_type": "display_data"
    },
    {
     "name": "stdout",
     "output_type": "stream",
     "text": [
      "\n",
      "Train loss: 11.6986  Test loss: 14.0211\n",
      "Train accuracy: 0.8612  Test accuracy: 0.6912\n"
     ]
    },
    {
     "data": {
      "application/vnd.jupyter.widget-view+json": {
       "model_id": "5d80a78a1f174762b78eb3205412f770",
       "version_major": 2,
       "version_minor": 0
      },
      "text/plain": [
       "training set:   0%|          | 0/295 [00:00<?, ?it/s]"
      ]
     },
     "metadata": {},
     "output_type": "display_data"
    },
    {
     "data": {
      "application/vnd.jupyter.widget-view+json": {
       "model_id": "406412ce75d8479498c078236e535f90",
       "version_major": 2,
       "version_minor": 0
      },
      "text/plain": [
       "dev set:   0%|          | 0/74 [00:00<?, ?it/s]"
      ]
     },
     "metadata": {},
     "output_type": "display_data"
    },
    {
     "name": "stdout",
     "output_type": "stream",
     "text": [
      "\n",
      "Train loss: 10.9048  Test loss: 13.8208\n",
      "Train accuracy: 0.8631  Test accuracy: 0.6878\n"
     ]
    },
    {
     "data": {
      "application/vnd.jupyter.widget-view+json": {
       "model_id": "6a9895d5988f4b168ab8e0cf1502bade",
       "version_major": 2,
       "version_minor": 0
      },
      "text/plain": [
       "training set:   0%|          | 0/295 [00:00<?, ?it/s]"
      ]
     },
     "metadata": {},
     "output_type": "display_data"
    },
    {
     "data": {
      "application/vnd.jupyter.widget-view+json": {
       "model_id": "93a8743c9c154fc6956c9138883da66b",
       "version_major": 2,
       "version_minor": 0
      },
      "text/plain": [
       "dev set:   0%|          | 0/74 [00:00<?, ?it/s]"
      ]
     },
     "metadata": {},
     "output_type": "display_data"
    },
    {
     "name": "stdout",
     "output_type": "stream",
     "text": [
      "\n",
      "Train loss: 10.6591  Test loss: 14.1013\n",
      "Train accuracy: 0.8624  Test accuracy: 0.6885\n"
     ]
    },
    {
     "data": {
      "application/vnd.jupyter.widget-view+json": {
       "model_id": "c1255e579e62431a82aba56292e0259e",
       "version_major": 2,
       "version_minor": 0
      },
      "text/plain": [
       "training set:   0%|          | 0/295 [00:00<?, ?it/s]"
      ]
     },
     "metadata": {},
     "output_type": "display_data"
    },
    {
     "data": {
      "application/vnd.jupyter.widget-view+json": {
       "model_id": "7fc7765dcbcc4c3cabe6ffa1dfb6e72d",
       "version_major": 2,
       "version_minor": 0
      },
      "text/plain": [
       "dev set:   0%|          | 0/74 [00:00<?, ?it/s]"
      ]
     },
     "metadata": {},
     "output_type": "display_data"
    },
    {
     "name": "stdout",
     "output_type": "stream",
     "text": [
      "\n",
      "Train loss: 12.0547  Test loss: 14.2124\n",
      "Train accuracy: 0.8590  Test accuracy: 0.6885\n"
     ]
    },
    {
     "data": {
      "application/vnd.jupyter.widget-view+json": {
       "model_id": "2e03b6baa9cb4194b54b9cd573605756",
       "version_major": 2,
       "version_minor": 0
      },
      "text/plain": [
       "training set:   0%|          | 0/295 [00:00<?, ?it/s]"
      ]
     },
     "metadata": {},
     "output_type": "display_data"
    },
    {
     "data": {
      "application/vnd.jupyter.widget-view+json": {
       "model_id": "b5fdc392b9b7463d9b2d9661ee6fd518",
       "version_major": 2,
       "version_minor": 0
      },
      "text/plain": [
       "dev set:   0%|          | 0/74 [00:00<?, ?it/s]"
      ]
     },
     "metadata": {},
     "output_type": "display_data"
    },
    {
     "name": "stdout",
     "output_type": "stream",
     "text": [
      "\n",
      "Train loss: 11.3597  Test loss: 14.1939\n",
      "Train accuracy: 0.8678  Test accuracy: 0.6878\n"
     ]
    },
    {
     "data": {
      "application/vnd.jupyter.widget-view+json": {
       "model_id": "bd010c41da084dc78d5554312e188e58",
       "version_major": 2,
       "version_minor": 0
      },
      "text/plain": [
       "training set:   0%|          | 0/295 [00:00<?, ?it/s]"
      ]
     },
     "metadata": {},
     "output_type": "display_data"
    },
    {
     "data": {
      "application/vnd.jupyter.widget-view+json": {
       "model_id": "e4fe5d709c3849dea20c3889d5f1705d",
       "version_major": 2,
       "version_minor": 0
      },
      "text/plain": [
       "dev set:   0%|          | 0/74 [00:00<?, ?it/s]"
      ]
     },
     "metadata": {},
     "output_type": "display_data"
    },
    {
     "name": "stdout",
     "output_type": "stream",
     "text": [
      "\n",
      "Train loss: 11.3678  Test loss: 14.2114\n",
      "Train accuracy: 0.8617  Test accuracy: 0.6932\n"
     ]
    },
    {
     "data": {
      "application/vnd.jupyter.widget-view+json": {
       "model_id": "d05e0a99afdd4c7997528dc0b9ed93de",
       "version_major": 2,
       "version_minor": 0
      },
      "text/plain": [
       "training set:   0%|          | 0/295 [00:00<?, ?it/s]"
      ]
     },
     "metadata": {},
     "output_type": "display_data"
    },
    {
     "data": {
      "application/vnd.jupyter.widget-view+json": {
       "model_id": "e510c71b6a544c24b0c6758e000c3c26",
       "version_major": 2,
       "version_minor": 0
      },
      "text/plain": [
       "dev set:   0%|          | 0/74 [00:00<?, ?it/s]"
      ]
     },
     "metadata": {},
     "output_type": "display_data"
    },
    {
     "name": "stdout",
     "output_type": "stream",
     "text": [
      "\n",
      "Train loss: 11.2174  Test loss: 14.3034\n",
      "Train accuracy: 0.8651  Test accuracy: 0.6851\n"
     ]
    },
    {
     "data": {
      "application/vnd.jupyter.widget-view+json": {
       "model_id": "1132964c751d4ab1bd3c175c82ed4661",
       "version_major": 2,
       "version_minor": 0
      },
      "text/plain": [
       "training set:   0%|          | 0/295 [00:00<?, ?it/s]"
      ]
     },
     "metadata": {},
     "output_type": "display_data"
    },
    {
     "data": {
      "application/vnd.jupyter.widget-view+json": {
       "model_id": "a42db36c33124a198460565a812f58f6",
       "version_major": 2,
       "version_minor": 0
      },
      "text/plain": [
       "dev set:   0%|          | 0/74 [00:00<?, ?it/s]"
      ]
     },
     "metadata": {},
     "output_type": "display_data"
    },
    {
     "name": "stdout",
     "output_type": "stream",
     "text": [
      "\n",
      "Train loss: 11.7820  Test loss: 14.2238\n",
      "Train accuracy: 0.8574  Test accuracy: 0.6797\n"
     ]
    },
    {
     "data": {
      "application/vnd.jupyter.widget-view+json": {
       "model_id": "7be03c6541e84db3a58299da20ce42fb",
       "version_major": 2,
       "version_minor": 0
      },
      "text/plain": [
       "training set:   0%|          | 0/295 [00:00<?, ?it/s]"
      ]
     },
     "metadata": {},
     "output_type": "display_data"
    },
    {
     "data": {
      "application/vnd.jupyter.widget-view+json": {
       "model_id": "75aa70ee16ed4ffd8bc47576020d7212",
       "version_major": 2,
       "version_minor": 0
      },
      "text/plain": [
       "dev set:   0%|          | 0/74 [00:00<?, ?it/s]"
      ]
     },
     "metadata": {},
     "output_type": "display_data"
    },
    {
     "name": "stdout",
     "output_type": "stream",
     "text": [
      "\n",
      "Train loss: 11.1650  Test loss: 14.2453\n",
      "Train accuracy: 0.8610  Test accuracy: 0.6689\n"
     ]
    },
    {
     "data": {
      "application/vnd.jupyter.widget-view+json": {
       "model_id": "f4c2f040a2fd4b318b0edb6f8b77aa59",
       "version_major": 2,
       "version_minor": 0
      },
      "text/plain": [
       "training set:   0%|          | 0/295 [00:00<?, ?it/s]"
      ]
     },
     "metadata": {},
     "output_type": "display_data"
    },
    {
     "data": {
      "application/vnd.jupyter.widget-view+json": {
       "model_id": "0f4f47f649af419b9ceb07e09e02bb99",
       "version_major": 2,
       "version_minor": 0
      },
      "text/plain": [
       "dev set:   0%|          | 0/74 [00:00<?, ?it/s]"
      ]
     },
     "metadata": {},
     "output_type": "display_data"
    },
    {
     "name": "stdout",
     "output_type": "stream",
     "text": [
      "\n",
      "Train loss: 12.1946  Test loss: 14.1304\n",
      "Train accuracy: 0.8583  Test accuracy: 0.6689\n"
     ]
    }
   ],
   "source": [
    "dataset = pd.read_csv(f'{root}subtaskA_train.csv',  header=0, names=['id', 'text', 'label'])\n",
    "dataset['text'] = dataset['text'].apply(lambda x: x.replace('\\r', ' ').replace('\\n', ' '))\n",
    "dataset['char_count'] = dataset['text'].str.len()\n",
    "dataset = add_emoji(dataset)\n",
    "dataset = add_hashtag(dataset)\n",
    "dataset.drop(columns=['id'], inplace=True)\n",
    "dataset = shuffle(dataset, random_state=42)\n",
    "\n",
    "(x_train_original_dataset, x_test_original_dataset,char_count_train_original_dataset,char_count_test_original_dataset, hashtag_train_original_dataset, hashtag_test_original_dataset,emoji_train_original_dataset,emoji_test_original_dataset,y_train_original_dataset, y_test_original_dataset) = train_test_split(dataset['text'],dataset['char_count'], dataset['hashtag'],dataset['emoji'] ,dataset['label'], test_size=0.2, random_state=42)\n",
    "\n",
    "#(x_train_original_dataset, x_val_original_dataset,char_count_train_original_dataset,char_count_val_original_dataset, hashtag_train_original_dataset, hashtag_val_original_dataset, emoji_train_original_dataset, emoji_val_original_dataset, y_train_original_dataset, y_val_original_dataset) = train_test_split( x_train_original_dataset,char_count_train_original_dataset,hashtag_train_original_dataset,emoji_train_original_dataset, y_train_original_dataset, test_size=0.1, random_state=42)\n",
    "\n",
    "train_dataset_original_dataset = Dataset(x_train_original_dataset, char_count_train_original_dataset,emoji_train_original_dataset,hashtag_train_original_dataset, y_train_original_dataset, hyperparameters[\"stopwords\"])\n",
    "#val_dataset_original_dataset = Dataset(x_val_original_dataset,char_count_val_original_dataset,emoji_val_original_dataset,hashtag_val_original_dataset, y_val_original_dataset, hyperparameters[\"stopwords\"])\n",
    "test_dataset_original_dataset = Dataset(x_test_original_dataset, char_count_test_original_dataset,emoji_test_original_dataset,hashtag_test_original_dataset, y_test_original_dataset, hyperparameters[\"stopwords\"])\n",
    "\n",
    "\n",
    "model = ClassifierDeep(hyperparameters[\"#_classes\"],\n",
    "                    hyperparameters[\"h_dim\"],\n",
    "                    hyperparameters[\"dropout\"],\n",
    "                    hyperparameters[\"language_model\"]).to(device)\n",
    "\n",
    "#La funzione di loss va modificata in base al parametro #_classes\n",
    "criterion = nn.BCELoss()\n",
    "optimizer = Adam(model.parameters(), lr=hyperparameters[\"learning_rate\"])\n",
    "\n",
    "# Creiamo la callback di early stopping da passare al nostro metodo di addestramento\n",
    "#early_stopping = EarlyStopping(patience=hyperparameters['patience'],\n",
    "#                               min_delta=hyperparameters['min_delta'])\n",
    "\n",
    "\n",
    "train_loss_original_dataset, validation_loss_original_dataset,test_loss_original_dataset, train_acc_original_dataset, validation_acc_original_dataset, test_acc_original_dataset, best_acc, best_weights = train_test(\n",
    "                                                model,\n",
    "                                                hyperparameters['epochs'],\n",
    "                                                optimizer,\n",
    "                                                device,\n",
    "                                                train_dataset_original_dataset,\n",
    "                                                test_dataset_original_dataset,\n",
    "                                                hyperparameters['batch_size'],\n",
    "                                                hyperparameters['language_model'],\n",
    "                                                criterion,\n",
    "                                                criterion,\n",
    "                                                None,\n",
    "                                                None)\n",
    "with open(\"best_weight_original.pkl\", 'wb') as f:\n",
    "  pickle.dump(best_weights, f)\n"
   ]
  },
  {
   "cell_type": "code",
   "execution_count": 20,
   "metadata": {
    "id": "dSRvz7kDdvxU"
   },
   "outputs": [
    {
     "data": {
      "image/png": "[encoded data removed]",
      "text/plain": [
       "<Figure size 640x480 with 1 Axes>"
      ]
     },
     "metadata": {},
     "output_type": "display_data"
    }
   ],
   "source": [
    "plt.plot(train_loss_original_dataset, label='training loss')\n",
    "plt.plot(validation_loss_original_dataset, label='validation loss')\n",
    "plt.plot(test_loss_original_dataset, label='test loss')\n",
    "plt.legend(loc='lower right')\n",
    "plt.show()"
   ]
  },
  {
   "cell_type": "code",
   "execution_count": 21,
   "metadata": {
    "id": "fsfX46nodvxU"
   },
   "outputs": [
    {
     "ename": "TypeError",
     "evalue": "can't convert cuda:0 device type tensor to numpy. Use Tensor.cpu() to copy the tensor to host memory first.",
     "output_type": "error",
     "traceback": [
      "\u001b[0;31m---------------------------------------------------------------------------\u001b[0m",
      "\u001b[0;31mTypeError\u001b[0m                                 Traceback (most recent call last)",
      "Cell \u001b[0;32mIn[21], line 1\u001b[0m\n\u001b[0;32m----> 1\u001b[0m \u001b[43mplt\u001b[49m\u001b[38;5;241;43m.\u001b[39;49m\u001b[43mplot\u001b[49m\u001b[43m(\u001b[49m\u001b[43mtrain_acc_original_dataset\u001b[49m\u001b[43m,\u001b[49m\u001b[43m \u001b[49m\u001b[43mlabel\u001b[49m\u001b[38;5;241;43m=\u001b[39;49m\u001b[38;5;124;43m'\u001b[39;49m\u001b[38;5;124;43mtraining accuracy\u001b[39;49m\u001b[38;5;124;43m'\u001b[39;49m\u001b[43m)\u001b[49m\n\u001b[1;32m      2\u001b[0m plt\u001b[38;5;241m.\u001b[39mplot(validation_acc_original_dataset, label\u001b[38;5;241m=\u001b[39m\u001b[38;5;124m'\u001b[39m\u001b[38;5;124mvalidation accuracy\u001b[39m\u001b[38;5;124m'\u001b[39m)\n\u001b[1;32m      3\u001b[0m plt\u001b[38;5;241m.\u001b[39mplot(test_acc_original_dataset, label\u001b[38;5;241m=\u001b[39m\u001b[38;5;124m'\u001b[39m\u001b[38;5;124mtest accuracy\u001b[39m\u001b[38;5;124m'\u001b[39m)\n",
      "File \u001b[0;32m/usr/local/lib/python3.11/dist-packages/matplotlib/pyplot.py:3575\u001b[0m, in \u001b[0;36mplot\u001b[0;34m(scalex, scaley, data, *args, **kwargs)\u001b[0m\n\u001b[1;32m   3567\u001b[0m \u001b[38;5;129m@_copy_docstring_and_deprecators\u001b[39m(Axes\u001b[38;5;241m.\u001b[39mplot)\n\u001b[1;32m   3568\u001b[0m \u001b[38;5;28;01mdef\u001b[39;00m \u001b[38;5;21mplot\u001b[39m(\n\u001b[1;32m   3569\u001b[0m     \u001b[38;5;241m*\u001b[39margs: \u001b[38;5;28mfloat\u001b[39m \u001b[38;5;241m|\u001b[39m ArrayLike \u001b[38;5;241m|\u001b[39m \u001b[38;5;28mstr\u001b[39m,\n\u001b[0;32m   (...)\u001b[0m\n\u001b[1;32m   3573\u001b[0m     \u001b[38;5;241m*\u001b[39m\u001b[38;5;241m*\u001b[39mkwargs,\n\u001b[1;32m   3574\u001b[0m ) \u001b[38;5;241m-\u001b[39m\u001b[38;5;241m>\u001b[39m \u001b[38;5;28mlist\u001b[39m[Line2D]:\n\u001b[0;32m-> 3575\u001b[0m     \u001b[38;5;28;01mreturn\u001b[39;00m \u001b[43mgca\u001b[49m\u001b[43m(\u001b[49m\u001b[43m)\u001b[49m\u001b[38;5;241;43m.\u001b[39;49m\u001b[43mplot\u001b[49m\u001b[43m(\u001b[49m\n\u001b[1;32m   3576\u001b[0m \u001b[43m        \u001b[49m\u001b[38;5;241;43m*\u001b[39;49m\u001b[43margs\u001b[49m\u001b[43m,\u001b[49m\n\u001b[1;32m   3577\u001b[0m \u001b[43m        \u001b[49m\u001b[43mscalex\u001b[49m\u001b[38;5;241;43m=\u001b[39;49m\u001b[43mscalex\u001b[49m\u001b[43m,\u001b[49m\n\u001b[1;32m   3578\u001b[0m \u001b[43m        \u001b[49m\u001b[43mscaley\u001b[49m\u001b[38;5;241;43m=\u001b[39;49m\u001b[43mscaley\u001b[49m\u001b[43m,\u001b[49m\n\u001b[1;32m   3579\u001b[0m \u001b[43m        \u001b[49m\u001b[38;5;241;43m*\u001b[39;49m\u001b[38;5;241;43m*\u001b[39;49m\u001b[43m(\u001b[49m\u001b[43m{\u001b[49m\u001b[38;5;124;43m\"\u001b[39;49m\u001b[38;5;124;43mdata\u001b[39;49m\u001b[38;5;124;43m\"\u001b[39;49m\u001b[43m:\u001b[49m\u001b[43m \u001b[49m\u001b[43mdata\u001b[49m\u001b[43m}\u001b[49m\u001b[43m \u001b[49m\u001b[38;5;28;43;01mif\u001b[39;49;00m\u001b[43m \u001b[49m\u001b[43mdata\u001b[49m\u001b[43m \u001b[49m\u001b[38;5;129;43;01mis\u001b[39;49;00m\u001b[43m \u001b[49m\u001b[38;5;129;43;01mnot\u001b[39;49;00m\u001b[43m \u001b[49m\u001b[38;5;28;43;01mNone\u001b[39;49;00m\u001b[43m \u001b[49m\u001b[38;5;28;43;01melse\u001b[39;49;00m\u001b[43m \u001b[49m\u001b[43m{\u001b[49m\u001b[43m}\u001b[49m\u001b[43m)\u001b[49m\u001b[43m,\u001b[49m\n\u001b[1;32m   3580\u001b[0m \u001b[43m        \u001b[49m\u001b[38;5;241;43m*\u001b[39;49m\u001b[38;5;241;43m*\u001b[39;49m\u001b[43mkwargs\u001b[49m\u001b[43m,\u001b[49m\n\u001b[1;32m   3581\u001b[0m \u001b[43m    \u001b[49m\u001b[43m)\u001b[49m\n",
      "File \u001b[0;32m/usr/local/lib/python3.11/dist-packages/matplotlib/axes/_axes.py:1721\u001b[0m, in \u001b[0;36mAxes.plot\u001b[0;34m(self, scalex, scaley, data, *args, **kwargs)\u001b[0m\n\u001b[1;32m   1478\u001b[0m \u001b[38;5;250m\u001b[39m\u001b[38;5;124;03m\"\"\"\u001b[39;00m\n\u001b[1;32m   1479\u001b[0m \u001b[38;5;124;03mPlot y versus x as lines and/or markers.\u001b[39;00m\n\u001b[1;32m   1480\u001b[0m \n\u001b[0;32m   (...)\u001b[0m\n\u001b[1;32m   1718\u001b[0m \u001b[38;5;124;03m(``'green'``) or hex strings (``'#008000'``).\u001b[39;00m\n\u001b[1;32m   1719\u001b[0m \u001b[38;5;124;03m\"\"\"\u001b[39;00m\n\u001b[1;32m   1720\u001b[0m kwargs \u001b[38;5;241m=\u001b[39m cbook\u001b[38;5;241m.\u001b[39mnormalize_kwargs(kwargs, mlines\u001b[38;5;241m.\u001b[39mLine2D)\n\u001b[0;32m-> 1721\u001b[0m lines \u001b[38;5;241m=\u001b[39m [\u001b[38;5;241m*\u001b[39m\u001b[38;5;28mself\u001b[39m\u001b[38;5;241m.\u001b[39m_get_lines(\u001b[38;5;28mself\u001b[39m, \u001b[38;5;241m*\u001b[39margs, data\u001b[38;5;241m=\u001b[39mdata, \u001b[38;5;241m*\u001b[39m\u001b[38;5;241m*\u001b[39mkwargs)]\n\u001b[1;32m   1722\u001b[0m \u001b[38;5;28;01mfor\u001b[39;00m line \u001b[38;5;129;01min\u001b[39;00m lines:\n\u001b[1;32m   1723\u001b[0m     \u001b[38;5;28mself\u001b[39m\u001b[38;5;241m.\u001b[39madd_line(line)\n",
      "File \u001b[0;32m/usr/local/lib/python3.11/dist-packages/matplotlib/axes/_base.py:303\u001b[0m, in \u001b[0;36m_process_plot_var_args.__call__\u001b[0;34m(self, axes, data, *args, **kwargs)\u001b[0m\n\u001b[1;32m    301\u001b[0m     this \u001b[38;5;241m+\u001b[39m\u001b[38;5;241m=\u001b[39m args[\u001b[38;5;241m0\u001b[39m],\n\u001b[1;32m    302\u001b[0m     args \u001b[38;5;241m=\u001b[39m args[\u001b[38;5;241m1\u001b[39m:]\n\u001b[0;32m--> 303\u001b[0m \u001b[38;5;28;01myield from\u001b[39;00m \u001b[38;5;28;43mself\u001b[39;49m\u001b[38;5;241;43m.\u001b[39;49m\u001b[43m_plot_args\u001b[49m\u001b[43m(\u001b[49m\n\u001b[1;32m    304\u001b[0m \u001b[43m    \u001b[49m\u001b[43maxes\u001b[49m\u001b[43m,\u001b[49m\u001b[43m \u001b[49m\u001b[43mthis\u001b[49m\u001b[43m,\u001b[49m\u001b[43m \u001b[49m\u001b[43mkwargs\u001b[49m\u001b[43m,\u001b[49m\u001b[43m \u001b[49m\u001b[43mambiguous_fmt_datakey\u001b[49m\u001b[38;5;241;43m=\u001b[39;49m\u001b[43mambiguous_fmt_datakey\u001b[49m\u001b[43m)\u001b[49m\n",
      "File \u001b[0;32m/usr/local/lib/python3.11/dist-packages/matplotlib/axes/_base.py:491\u001b[0m, in \u001b[0;36m_process_plot_var_args._plot_args\u001b[0;34m(self, axes, tup, kwargs, return_kwargs, ambiguous_fmt_datakey)\u001b[0m\n\u001b[1;32m    489\u001b[0m     y \u001b[38;5;241m=\u001b[39m _check_1d(xy[\u001b[38;5;241m1\u001b[39m])\n\u001b[1;32m    490\u001b[0m \u001b[38;5;28;01melse\u001b[39;00m:\n\u001b[0;32m--> 491\u001b[0m     x, y \u001b[38;5;241m=\u001b[39m \u001b[43mindex_of\u001b[49m\u001b[43m(\u001b[49m\u001b[43mxy\u001b[49m\u001b[43m[\u001b[49m\u001b[38;5;241;43m-\u001b[39;49m\u001b[38;5;241;43m1\u001b[39;49m\u001b[43m]\u001b[49m\u001b[43m)\u001b[49m\n\u001b[1;32m    493\u001b[0m \u001b[38;5;28;01mif\u001b[39;00m axes\u001b[38;5;241m.\u001b[39mxaxis \u001b[38;5;129;01mis\u001b[39;00m \u001b[38;5;129;01mnot\u001b[39;00m \u001b[38;5;28;01mNone\u001b[39;00m:\n\u001b[1;32m    494\u001b[0m     axes\u001b[38;5;241m.\u001b[39mxaxis\u001b[38;5;241m.\u001b[39mupdate_units(x)\n",
      "File \u001b[0;32m/usr/local/lib/python3.11/dist-packages/matplotlib/cbook.py:1666\u001b[0m, in \u001b[0;36mindex_of\u001b[0;34m(y)\u001b[0m\n\u001b[1;32m   1664\u001b[0m     \u001b[38;5;28;01mpass\u001b[39;00m\n\u001b[1;32m   1665\u001b[0m \u001b[38;5;28;01mtry\u001b[39;00m:\n\u001b[0;32m-> 1666\u001b[0m     y \u001b[38;5;241m=\u001b[39m \u001b[43m_check_1d\u001b[49m\u001b[43m(\u001b[49m\u001b[43my\u001b[49m\u001b[43m)\u001b[49m\n\u001b[1;32m   1667\u001b[0m \u001b[38;5;28;01mexcept\u001b[39;00m (VisibleDeprecationWarning, \u001b[38;5;167;01mValueError\u001b[39;00m):\n\u001b[1;32m   1668\u001b[0m     \u001b[38;5;66;03m# NumPy 1.19 will warn on ragged input, and we can't actually use it.\u001b[39;00m\n\u001b[1;32m   1669\u001b[0m     \u001b[38;5;28;01mpass\u001b[39;00m\n",
      "File \u001b[0;32m/usr/local/lib/python3.11/dist-packages/matplotlib/cbook.py:1358\u001b[0m, in \u001b[0;36m_check_1d\u001b[0;34m(x)\u001b[0m\n\u001b[1;32m   1352\u001b[0m \u001b[38;5;66;03m# plot requires `shape` and `ndim`.  If passed an\u001b[39;00m\n\u001b[1;32m   1353\u001b[0m \u001b[38;5;66;03m# object that doesn't provide them, then force to numpy array.\u001b[39;00m\n\u001b[1;32m   1354\u001b[0m \u001b[38;5;66;03m# Note this will strip unit information.\u001b[39;00m\n\u001b[1;32m   1355\u001b[0m \u001b[38;5;28;01mif\u001b[39;00m (\u001b[38;5;129;01mnot\u001b[39;00m \u001b[38;5;28mhasattr\u001b[39m(x, \u001b[38;5;124m'\u001b[39m\u001b[38;5;124mshape\u001b[39m\u001b[38;5;124m'\u001b[39m) \u001b[38;5;129;01mor\u001b[39;00m\n\u001b[1;32m   1356\u001b[0m         \u001b[38;5;129;01mnot\u001b[39;00m \u001b[38;5;28mhasattr\u001b[39m(x, \u001b[38;5;124m'\u001b[39m\u001b[38;5;124mndim\u001b[39m\u001b[38;5;124m'\u001b[39m) \u001b[38;5;129;01mor\u001b[39;00m\n\u001b[1;32m   1357\u001b[0m         \u001b[38;5;28mlen\u001b[39m(x\u001b[38;5;241m.\u001b[39mshape) \u001b[38;5;241m<\u001b[39m \u001b[38;5;241m1\u001b[39m):\n\u001b[0;32m-> 1358\u001b[0m     \u001b[38;5;28;01mreturn\u001b[39;00m \u001b[43mnp\u001b[49m\u001b[38;5;241;43m.\u001b[39;49m\u001b[43matleast_1d\u001b[49m\u001b[43m(\u001b[49m\u001b[43mx\u001b[49m\u001b[43m)\u001b[49m\n\u001b[1;32m   1359\u001b[0m \u001b[38;5;28;01melse\u001b[39;00m:\n\u001b[1;32m   1360\u001b[0m     \u001b[38;5;28;01mreturn\u001b[39;00m x\n",
      "File \u001b[0;32m/usr/local/lib/python3.11/dist-packages/numpy/core/shape_base.py:65\u001b[0m, in \u001b[0;36matleast_1d\u001b[0;34m(*arys)\u001b[0m\n\u001b[1;32m     63\u001b[0m res \u001b[38;5;241m=\u001b[39m []\n\u001b[1;32m     64\u001b[0m \u001b[38;5;28;01mfor\u001b[39;00m ary \u001b[38;5;129;01min\u001b[39;00m arys:\n\u001b[0;32m---> 65\u001b[0m     ary \u001b[38;5;241m=\u001b[39m asanyarray(ary)\n\u001b[1;32m     66\u001b[0m     \u001b[38;5;28;01mif\u001b[39;00m ary\u001b[38;5;241m.\u001b[39mndim \u001b[38;5;241m==\u001b[39m \u001b[38;5;241m0\u001b[39m:\n\u001b[1;32m     67\u001b[0m         result \u001b[38;5;241m=\u001b[39m ary\u001b[38;5;241m.\u001b[39mreshape(\u001b[38;5;241m1\u001b[39m)\n",
      "File \u001b[0;32m/usr/local/lib/python3.11/dist-packages/torch/_tensor.py:1030\u001b[0m, in \u001b[0;36mTensor.__array__\u001b[0;34m(self, dtype)\u001b[0m\n\u001b[1;32m   1028\u001b[0m     \u001b[38;5;28;01mreturn\u001b[39;00m handle_torch_function(Tensor\u001b[38;5;241m.\u001b[39m__array__, (\u001b[38;5;28mself\u001b[39m,), \u001b[38;5;28mself\u001b[39m, dtype\u001b[38;5;241m=\u001b[39mdtype)\n\u001b[1;32m   1029\u001b[0m \u001b[38;5;28;01mif\u001b[39;00m dtype \u001b[38;5;129;01mis\u001b[39;00m \u001b[38;5;28;01mNone\u001b[39;00m:\n\u001b[0;32m-> 1030\u001b[0m     \u001b[38;5;28;01mreturn\u001b[39;00m \u001b[38;5;28;43mself\u001b[39;49m\u001b[38;5;241;43m.\u001b[39;49m\u001b[43mnumpy\u001b[49m\u001b[43m(\u001b[49m\u001b[43m)\u001b[49m\n\u001b[1;32m   1031\u001b[0m \u001b[38;5;28;01melse\u001b[39;00m:\n\u001b[1;32m   1032\u001b[0m     \u001b[38;5;28;01mreturn\u001b[39;00m \u001b[38;5;28mself\u001b[39m\u001b[38;5;241m.\u001b[39mnumpy()\u001b[38;5;241m.\u001b[39mastype(dtype, copy\u001b[38;5;241m=\u001b[39m\u001b[38;5;28;01mFalse\u001b[39;00m)\n",
      "\u001b[0;31mTypeError\u001b[0m: can't convert cuda:0 device type tensor to numpy. Use Tensor.cpu() to copy the tensor to host memory first."
     ]
    },
    {
     "data": {
      "image/png": "[encoded data removed]",
      "text/plain": [
       "<Figure size 640x480 with 1 Axes>"
      ]
     },
     "metadata": {},
     "output_type": "display_data"
    }
   ],
   "source": [
    "train_acc_original_dataset = [ np.array(x.cpu().float()) for x in train_acc_original_dataset ]\n",
    "validation_acc_original_dataset = [ np.array(x.cpu().float()) for x in validation_acc_original_dataset ]\n",
    "test_acc_original_dataset = [ np.array(x.cpu().float()) for x in test_acc_original_dataset ]\n",
    "\n",
    "plt.plot(train_acc_original_dataset, label='training accuracy')\n",
    "plt.plot(validation_acc_original_dataset, label='validation accuracy')\n",
    "plt.plot(test_acc_original_dataset, label='test accuracy')\n",
    "plt.legend(loc='lower right')\n",
    "plt.ylim(0,2)\n",
    "plt.show()"
   ]
  }
 ],
 "metadata": {
  "accelerator": "GPU",
  "colab": {
   "gpuType": "T4",
   "provenance": []
  },
  "kernelspec": {
   "display_name": "Python 3 (ipykernel)",
   "language": "python",
   "name": "python3"
  },
  "language_info": {
   "codemirror_mode": {
    "name": "ipython",
    "version": 3
   },
   "file_extension": ".py",
   "mimetype": "text/x-python",
   "name": "python",
   "nbconvert_exporter": "python",
   "pygments_lexer": "ipython3",
   "version": "3.11.0rc1"
  }
 },
 "nbformat": 4,
 "nbformat_minor": 4
}
