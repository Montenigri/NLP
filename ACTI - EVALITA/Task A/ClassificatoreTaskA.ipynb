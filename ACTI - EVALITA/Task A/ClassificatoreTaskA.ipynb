{
 "cells": [
  {
   "cell_type": "markdown",
   "metadata": {
    "id": "F6umUgiAdvw9"
   },
   "source": [
    "Task\n",
    "\n",
    "Subtask A: Conspiratorial Content Classification: A system must recognize if a telegram\n",
    "post is conspiratorial or not.\n",
    "\n",
    "A sentence is Conspiratorial if either  \n",
    "(i) expresses the belief that major events(e.g., covid) are manipulation created by powerful people to protect their interests  \n",
    " or  \n",
    "(ii) an interpretation of events meant to contribute to strengthening the underlying narrative of the conspiracy theory.\n",
    "\n",
    "A sentence is Not Conspiratorial if it does not diffuse any kind of beliefs linked to the conspiracy theory."
   ]
  },
  {
   "cell_type": "markdown",
   "metadata": {
    "id": "0uq79po2dvw9"
   },
   "source": [
    "Definizione della teoria del complotto\n",
    "\n",
    "Una teoria del complotto o della cospirazione (talvolta nella forma aggettivale: teoria complottista o cospirativa) è una teoria o spiegazione di un evento o una situazione, spesso alimentata da motivazioni politiche, che ne attribuisce cause e responsabilità a una cospirazione ordita da gruppi elitari e potenti (spesso detti «poteri forti»), nonostante le altre spiegazioni già fornite siano più plausibili e affidabili. Il termine ha una connotazione negativa, poiché implica che il credere a tali teorie sia una pratica basata sul mero pregiudizio e su prove insufficienti. Una «teoria del complotto» non è la stessa cosa di una cospirazione; perché si riferisce a una cospirazione ipotizzata con caratteristiche specifiche, come un'opposizione al consenso tradizionale (talvolta detto «mainstream») tra quelle persone, come scienziati o storici, che sono qualificate per valutarne l'accuratezza.\n",
    "\n",
    "Le teorie del complotto sono restie alle critiche e al principio di falsificabilità; al contrario trovano forza nella logica circolare: sia le prove che confutano il complotto che l'assenza di prove a favore della sua esistenza sono reinterpretate dai complottisti come indiscutibili dimostrazioni della sua verità, per cui la cospirazione diventa una questione di fede piuttosto che qualcosa che può essere provato o confutato. La ricerca suggerisce che l'ideologia complottista—la fede nelle teorie del complotto—può essere psicologicamente dannosa o patologica e che è correlata a scarso pensiero analitico, basso quoziente d'intelligenza, proiezione psicologica, paranoia e machiavellismo. Gli psicologi attribuiscono il trovare teorie del complotto lì dove non ce ne sono a un fenomeno mentale chiamato «apofenia».\n",
    "\n",
    "[Fonte](https://it.wikipedia.org/wiki/Teoria_del_complotto)"
   ]
  },
  {
   "cell_type": "code",
   "execution_count": 1,
   "metadata": {
    "colab": {
     "base_uri": "https://localhost:8080/"
    },
    "id": "mxJfV3QAdvw-",
    "outputId": "b86eff8a-1b2c-47e7-b305-840621f502e2"
   },
   "outputs": [],
   "source": [
    "#!pip install scikit-learn pandas numpy nltk transformers torch matplotlib seaborn python-dotenv emoji "
   ]
  },
  {
   "cell_type": "markdown",
   "metadata": {
    "id": "eYXgZesCdvw_"
   },
   "source": [
    "Documentazioni:  \n",
    "Hugchat: https://pypi.org/project/hugchat/\n"
   ]
  },
  {
   "cell_type": "markdown",
   "metadata": {
    "id": "ySxXEAVcdvxA"
   },
   "source": [
    "Il dataset presenta una lista di messaggi/post raccolti su vari social, una delle caratteristiche di queste forme di comunicazioni sono le emoticon (o emoji) e la forma del messaggio in se.\n",
    "Questo significa che un testo che vuole catturare l'attenzione avrà un \"titolo\" d'impatto e spesso in maiuscolo, in quanto l'attenzione dedicata a questo tipo di contenuti è poca e di carattere transitorio.  \n",
    "\n",
    "Inoltre il dataset presenta una quantità di dati inadatta all'addestramento di un classficatore superabile tramite tecniche di data augmentation, questa caratteristica è intriseca nel problema in quanto i trend [^1] durano molto poco nel tempo e per un sistema di riconoscimento dei contenuti fuorvianti è necessario essere in grado di adattarsi in breve a queste variazioni.  \n",
    "\n",
    "Il dataset ha dimensione eterogenea, il che potrebbe portare a esempi per il transformer dove sono presenti lunghe stringhe di filler.  \n",
    "\n",
    "Di seguito verranno proposte alcune tecniche di preprocessing e di data augmentation  \n",
    "\n",
    "\n",
    "\n",
    "\n",
    "[^1]: Per trend si indica un argomento che cattura l'attenzione del pubblico e che ha orizzonte temporale molto breve, di solito nell'ordine dei giorni."
   ]
  },
  {
   "cell_type": "markdown",
   "metadata": {
    "id": "4aAGJXfQdvxA"
   },
   "source": [
    "Possibili tentativi  \n",
    "\n",
    "Data augmentation\n",
    "- prendere solo i caratteri ripetuti o parole maiuscole e emoticon dal testo e verificare la label, questo può funzionare in quanto spesso la comunicazione passa per l'impatto della forma  \n",
    "\n",
    "- utilizzare altri modelli di elaborazione del linguaggio, chiedendo di modificare il testo mantenendone il significato, nascondendone parti o riformulare la frase\n",
    "\n",
    "\n",
    "Data preprocessing  \n",
    "\n",
    "- Raccolta di una percentuale della frase per raccogliere il \"titolo\""
   ]
  },
  {
   "cell_type": "markdown",
   "metadata": {},
   "source": [
    "I tentativi seguiti sono stati quelli della raccolta delle emoji e dell'aumento dei dati tramite LLM, di seguito vengono discussi i risultati"
   ]
  },
  {
   "cell_type": "code",
   "execution_count": 1,
   "metadata": {
    "colab": {
     "base_uri": "https://localhost:8080/"
    },
    "id": "abpDpfNrdw6O",
    "outputId": "13ce04ab-6c81-4658-d02c-0ebf3af73da6"
   },
   "outputs": [],
   "source": [
    "#from google.colab import drive\n",
    "\n",
    "#drive.mount('/content/gdrive')\n",
    "#root = '/content/gdrive/MyDrive/Colab Notebooks/dataset/'\n",
    "\n",
    "root = './Dataset/'"
   ]
  },
  {
   "cell_type": "code",
   "execution_count": 2,
   "metadata": {
    "id": "bl9NyuJXdvxB"
   },
   "outputs": [],
   "source": [
    "import numpy as np\n",
    "import pandas as pd\n",
    "import os\n",
    "from tqdm.notebook import tqdm\n",
    "import time\n",
    "from torch.optim import Adam\n",
    "from torch import nn\n",
    "import torch\n",
    "from sklearn.model_selection import train_test_split\n",
    "from transformers import AutoConfig, AutoModel, AutoTokenizer, AutoModelForSequenceClassification\n",
    "from sklearn.utils import shuffle\n",
    "import nltk\n",
    "import matplotlib.pyplot as plt\n",
    "import emoji\n",
    "import copy\n",
    "import pickle\n",
    "pd.set_option('display.max_colwidth', None)\n"
   ]
  },
  {
   "cell_type": "code",
   "execution_count": 8,
   "metadata": {
    "id": "1vjCCR8PdvxB"
   },
   "outputs": [],
   "source": [
    "dataset = pd.read_csv(f'{root}subtaskA_train.csv',  header=0, names=['id', 'text', 'label'])\n",
    "color1 = (0.2, # redness\n",
    "         0.4, # greenness\n",
    "         0.2, # blueness\n",
    "         0.6 # transparency\n",
    "         )\n",
    "color2 = (0.4, 0.2, 0.2, 0.6)\n",
    "color3 = (0.6, 0.3, 0.1, 0.7)\n",
    "color4 = (0.1, 0.5, 0.4, 0.5)\n",
    "color5 = (0.8, 0.2, 0.3, 0.8)\n",
    "colors = [color1, color2, color3, color4, color5]"
   ]
  },
  {
   "cell_type": "code",
   "execution_count": 5,
   "metadata": {
    "colab": {
     "base_uri": "https://localhost:8080/",
     "height": 447
    },
    "id": "z7wOyJfNdvxC",
    "outputId": "879dfd0b-e61f-4c50-c62c-3d89ef87308e"
   },
   "outputs": [
    {
     "data": {
      "image/png": "[encoded data removed]",
      "text/plain": [
       "<Figure size 640x480 with 1 Axes>"
      ]
     },
     "metadata": {},
     "output_type": "display_data"
    }
   ],
   "source": [
    "dataset['label'].value_counts().plot(kind='bar', color=[color2,color1])\n",
    "plt.title('Distribuzione delle classi')\n",
    "plt.show()\n"
   ]
  },
  {
   "cell_type": "code",
   "execution_count": 6,
   "metadata": {
    "colab": {
     "base_uri": "https://localhost:8080/"
    },
    "id": "LKugjKrIdvxD",
    "outputId": "80d9d246-13d2-4ec7-b83b-77431434eb9a"
   },
   "outputs": [
    {
     "name": "stdout",
     "output_type": "stream",
     "text": [
      "dati mancanti\n",
      "id       0\n",
      "text     0\n",
      "label    0\n",
      "dtype: int64\n"
     ]
    }
   ],
   "source": [
    "print(\"dati mancanti\")\n",
    "print(dataset.isna().sum())"
   ]
  },
  {
   "cell_type": "code",
   "execution_count": 7,
   "metadata": {
    "colab": {
     "base_uri": "https://localhost:8080/",
     "height": 408
    },
    "id": "shjHm8B_dvxD",
    "outputId": "55b8ccdf-7911-45b1-dd0f-6878aa6e9f2b"
   },
   "outputs": [
    {
     "data": {
      "image/png": "[encoded data removed]",
      "text/plain": [
       "<Figure size 1000x400 with 2 Axes>"
      ]
     },
     "metadata": {},
     "output_type": "display_data"
    }
   ],
   "source": [
    "fig,(ax1,ax2)=plt.subplots(1,2,figsize=(10,4))\n",
    "ax1.set_xticks([0,30,60,90,120,150,180,210,240,270,300])\n",
    "ax2.set_xticks([0,30,60,90,120,150,180,210,240,270,300])\n",
    "dataset_words=dataset[dataset['label']==1]['text'].str.split().map(lambda x: len(x) if len(x)<300 else 300)\n",
    "ax1.hist(dataset_words,color=color2)\n",
    "ax1.set_title('Messaggi appartenti alla teoria del complotto')\n",
    "dataset_words=dataset[dataset['label']==0]['text'].str.split().map(lambda x: len(x) if len(x)<300 else 300)\n",
    "ax2.hist(dataset_words,color=color1)\n",
    "ax2.set_title('Messaggi NON appartenti alla teoria del complotto')\n",
    "fig.suptitle('Parole per messaggio (max 300 parole)')\n",
    "plt.show()"
   ]
  },
  {
   "cell_type": "markdown",
   "metadata": {
    "id": "0NNeU65KdvxD"
   },
   "source": [
    "Dall'analisi effetuata sul dataset notiamo come sia bilanciato rispetto alle labels e non presenta mancanza di dati nei sample.\n",
    "\n",
    "Da quest'ultimo grafico notiamo che i messaggi più lunghi di un ottantina di caratteri hanno un alta probabilità di appartenere alla teoria del complotto, questo comportamento può indicare che la lunghezza dei messaggi può essere utile alla classificazione, sarà quindi necessario verificare se la tendenza è presente anche nel dataset aumentato."
   ]
  },
  {
   "cell_type": "markdown",
   "metadata": {
    "id": "OUcewThedvxE"
   },
   "source": [
    "Per aumentare i dati utilizziamo delle api per il chatbot presente su [huggingface](https://huggingface.co/chat/).  \n",
    "\n",
    "Di seguito i prompt testati e quello utilizzato per l'effettivo aumento:\n",
    "\n",
    "<details>\n",
    "<summary>Prompt test 1</summary>\n",
    "<br>\n",
    "\n",
    "    Sei un sistema per fare data augmentation per un task NLP che deve classificare se un testo è  cospirazionista o no, ti verrà fornita una coppia di valori testo-label e dovrai generare nuove righe di dati.  \n",
    "\n",
    "    I dati generati avranno lo stesso significato di quelli inviati ma con parole diverse.   \n",
    "    \n",
    "    Genererai 4 righe per ogni input di cui: una con lo stesso significato e tono, una riassunta, una con lo stesso significato ed un tono più aggressivo ed  una con lo stesso significato ed un tono più amichevole.   \n",
    "    \n",
    "    I dati forniti sono nella forma text, label,  la label è un valore booleano che indica se il testo è cospirazionista o meno.   \n",
    "    \n",
    "    La label deve essere coerente con il contenuto del testo generato. La lingua del risultato deve essere italiano.\n",
    "</details>\n",
    "\n",
    "<details>\n",
    "<summary>Prompt test 2</summary>\n",
    "<br>\n",
    "\n",
    "    Testo originale: Testo preso dalla cella i-esima \"  \n",
    "\n",
    "    Output desiderato:  \n",
    "\n",
    "    \"Riscrivi il testo originale utilizzando sinonimi per esprimere lo stesso significato.\"  \n",
    "    \"Fornisci un riassunto del testo originale.\"  \n",
    "    \"Sostituisci alcune parole chiave nel testo originale.\"  \n",
    "    \"Riscrivi il testo originale con un tono diverso, mantenendo però il medesimo significato ed in lingua italiana.\"  \n",
    "    \"Trasforma il testo originale in una domanda diretta.\"  \n",
    "    \n",
    "    Tutti gli output devono essere in italiano\n",
    "</details>\n",
    "\n",
    "<details>\n",
    "<summary>Prompt utilizzato</summary>\n",
    "<br>\n",
    "\n",
    "    Input:\n",
    "    \"Testo originale: Testo preso dalla cella i-esima \"\n",
    "\n",
    "    Output desiderato:\n",
    "\n",
    "    \"Riscrivi il testo originale utilizzando sinonimi per esprimere lo stesso significato in italiano.\"\n",
    "    \"Fornisci un riassunto del testo originale in italiano.\"\n",
    "    \"Riscrivi il testo originale con un tono diverso, mantenendo però il medesimo significato in italiano.\"\n",
    "    \"Sostituisci alcune parole chiave nel testo originale in italiano.\"\n",
    "    \"Trasforma il testo originale in una domanda diretta in italiano.\"\n",
    "    \n",
    "    Richiesta di risposta (formato predefinito):\n",
    "    \"Inserisci qui i risultati delle trasformazioni. Usa il formato seguente senza aggiungere nulla se non il testo richiesto:\n",
    "\n",
    "    [Sinonimi]: [Testo risultante sostituendo le parole chiave con dei sinonimi]\n",
    "    [Riassunto]: [Riassunto risultante]\n",
    "    [Tono diverso]: [Testo risultante con tono diverso]\n",
    "    [Parole chiave sostituite]: [Testo risultante con parole chiave sostituite]\n",
    "    [Domanda diretta]: [Testo risultante come domanda diretta]\"\n",
    "\n",
    "</details>  \n",
    "\n",
    "Dai test effettuati, il miglior prompt è risultato essere quello che esplicitamente chiede la forma e imposta la formattazione del risultato, che ha permesso anche una estrazione dei dati aumentiati più veloce e semplice.  \n",
    "Si è inoltre variato nelle richieste in quanto le richieste riguardo al tono non sortivano i risultati sperati, quindi si è optato per richieste più generiche e che mantenessero lo stesso significante."
   ]
  },
  {
   "cell_type": "markdown",
   "metadata": {
    "id": "1BUyVtJDdvxE"
   },
   "source": [
    "La libreria utilizzata è quella di hugchat, che ci permette di interfacciarci facilmente ai chatbot messi a disposizione da huggingface e di sfruttarne le potenzialità nel codice."
   ]
  },
  {
   "cell_type": "code",
   "execution_count": 8,
   "metadata": {
    "colab": {
     "base_uri": "https://localhost:8080/",
     "height": 70
    },
    "id": "RzthTv_CdvxE",
    "outputId": "c9fea3cf-5de6-4c07-de3c-8632d00c8c3f"
   },
   "outputs": [
    {
     "data": {
      "text/plain": [
       "'\\nfrom hugchat import hugchat\\nfrom hugchat.login import Login\\nfrom dotenv import load_dotenv\\n\\n\\nload_dotenv()\\n\\nemail = os.getenv(\"EMAIL_HF\")\\npasswd = os.getenv(\"PASS_HF\")\\n\\n\\n# Log in to huggingface and grant authorization to huggingchat\\nsign = Login(email, passwd)\\ncookies = sign.login()\\n\\n# Save cookies to the local directory\\ncookie_path_dir = \"./cookies_snapshot\"\\nsign.saveCookiesToDir(cookie_path_dir)\\n'"
      ]
     },
     "execution_count": 8,
     "metadata": {},
     "output_type": "execute_result"
    }
   ],
   "source": [
    "'''\n",
    "from hugchat import hugchat\n",
    "from hugchat.login import Login\n",
    "from dotenv import load_dotenv\n",
    "\n",
    "\n",
    "load_dotenv()\n",
    "\n",
    "email = os.getenv(\"EMAIL_HF\")\n",
    "passwd = os.getenv(\"PASS_HF\")\n",
    "\n",
    "\n",
    "# Log in to huggingface and grant authorization to huggingchat\n",
    "sign = Login(email, passwd)\n",
    "cookies = sign.login()\n",
    "\n",
    "# Save cookies to the local directory\n",
    "cookie_path_dir = \"./cookies_snapshot\"\n",
    "sign.saveCookiesToDir(cookie_path_dir)\n",
    "'''\n"
   ]
  },
  {
   "cell_type": "markdown",
   "metadata": {
    "id": "vGgYijQ0dvxF"
   },
   "source": [
    "I modelli disponibili sono i seguenti, è possibile cambiare cambiare modello con _chatbot.switch_llm(index)_\n",
    "\n",
    "_mistralai/Mixtral-8x7B-Instruct-v0.1_\n",
    "_meta-llama/Llama-2-70b-chat-hf_\n",
    "_codellama/CodeLlama-34b-Instruct-hf_\n",
    "_tiiuae/falcon-180B-chat_\n",
    "_mistralai/Mistral-7B-Instruct-v0.2_\n",
    "_openchat/openchat-3.5-1210_"
   ]
  },
  {
   "cell_type": "code",
   "execution_count": 9,
   "metadata": {
    "colab": {
     "base_uri": "https://localhost:8080/",
     "height": 70
    },
    "id": "zXldZcsQdvxF",
    "outputId": "9de8003d-f262-4081-a35a-d6abe8a31590"
   },
   "outputs": [
    {
     "data": {
      "text/plain": [
       "'\\n\\ncookie_path_dir = \"./cookies_snapshot\"\\nsign = Login(email, None)\\ncookies = sign.loadCookiesFromDir(cookie_path_dir)\\nchatbot = hugchat.ChatBot(cookies=cookies.get_dict())\\nmodels = chatbot.get_available_llm_models()\\nactive_model = chatbot.switch_llm(4)\\nid = chatbot.new_conversation()\\nchatbot.change_conversation(id)\\nprint(\"Modelli disponibili:\")\\nfor m in range(len(models)):\\n    print(models[m])\\n\\n'"
      ]
     },
     "execution_count": 9,
     "metadata": {},
     "output_type": "execute_result"
    }
   ],
   "source": [
    "'''\n",
    "\n",
    "cookie_path_dir = \"./cookies_snapshot\"\n",
    "sign = Login(email, None)\n",
    "cookies = sign.loadCookiesFromDir(cookie_path_dir)\n",
    "chatbot = hugchat.ChatBot(cookies=cookies.get_dict())\n",
    "models = chatbot.get_available_llm_models()\n",
    "active_model = chatbot.switch_llm(4)\n",
    "id = chatbot.new_conversation()\n",
    "chatbot.change_conversation(id)\n",
    "print(\"Modelli disponibili:\")\n",
    "for m in range(len(models)):\n",
    "    print(models[m])\n",
    "\n",
    "'''"
   ]
  },
  {
   "cell_type": "markdown",
   "metadata": {
    "id": "5YpGqsVCdvxG"
   },
   "source": [
    "Sono stati testati tutti i chatbot, per lo scopo del progetto sono stati utilizzati i modelli _openchat/openchat\\_3.5_ e _tiiuae/falcon-180B-chat_ in quanto davano le risposte più coerenti e più vicine alla forma desiderata."
   ]
  },
  {
   "cell_type": "markdown",
   "metadata": {},
   "source": [
    "L'aumento dei dati ha richiesto molto tempo per via delle api improprie usate, un alternativa poteva essere quella di fare il deploy in locale di una LLM tramite tool come _OLLAMA_ e modelli quantizzati per ridurre la richiesta di memoria, la strada non è stata scelta in quanto anche utilizzando queste ottimizzazioni i tempi non si sarebbero ridotti di molto per le limitate capacità delle macchine locali in mio possesso (portatile con RTX 3060 6GB e fisso con 1650 4GB)."
   ]
  },
  {
   "cell_type": "code",
   "execution_count": 10,
   "metadata": {
    "colab": {
     "base_uri": "https://localhost:8080/",
     "height": 622
    },
    "id": "emFzOtk0dvxG",
    "outputId": "f6edc3a5-a901-46af-96ab-eb081eaef39c"
   },
   "outputs": [
    {
     "data": {
      "text/html": [
       "<div>\n",
       "<style scoped>\n",
       "    .dataframe tbody tr th:only-of-type {\n",
       "        vertical-align: middle;\n",
       "    }\n",
       "\n",
       "    .dataframe tbody tr th {\n",
       "        vertical-align: top;\n",
       "    }\n",
       "\n",
       "    .dataframe thead th {\n",
       "        text-align: right;\n",
       "    }\n",
       "</style>\n",
       "<table border=\"1\" class=\"dataframe\">\n",
       "  <thead>\n",
       "    <tr style=\"text-align: right;\">\n",
       "      <th></th>\n",
       "      <th>id</th>\n",
       "      <th>text</th>\n",
       "      <th>label</th>\n",
       "    </tr>\n",
       "  </thead>\n",
       "  <tbody>\n",
       "    <tr>\n",
       "      <th>0</th>\n",
       "      <td>0</td>\n",
       "      <td>⚡Se non ci fossero soldati non ci sarebbero guerre.</td>\n",
       "      <td>0</td>\n",
       "    </tr>\n",
       "    <tr>\n",
       "      <th>1</th>\n",
       "      <td>1</td>\n",
       "      <td>21/08/21]( [PRE-PRINT]    📄__ \"Shedding of Infectious SARS-CoV-2 Despite Vaccination\"  🇮🇹 \"Diffusione del SARS-CoV-2 nonostante la vaccinazione\"__    📊 \"La variante Delta del SARS-CoV-2 può causare elevate cariche virali, è al trasmissibile e contiene mutazioni che conferiscono una fuga immunitaria parziale. [...] le indagini sull'epidemia suggeriscono che le persone vaccinate possono diffondere [la variante] Delta\"    ⚠️ \"[...] questi risultati indicano che anche le **persone asintomatiche e comple vaccinate possono diffondere il virus infettivo**.\"    ⚠️ \"[...] questi dati indicano che gli individui **vaccinati e non vaccinati** infettati dalla variante Delta **possono trasmettere l'infezione**.\"    📚 **</td>\n",
       "      <td>1</td>\n",
       "    </tr>\n",
       "    <tr>\n",
       "      <th>2</th>\n",
       "      <td>2</td>\n",
       "      <td>PAURA E DELIRIO ALLA CNN: IL MINISTERO DELLA VERITA'  La scorsa settimana Elon Musk ha dichiarato di volere che la \"libertà di parola\" sui social media sia tutelata ai sensi della Legge del Paese.  I DEM sono spaventatissimi dalla scelta coraggiosa del magnate dello Spazio di acquistare Twitter  così scontrandosi frontalmente, e senza paura, con BlackRock, Vanguard e State Street, cioè i tre fondi di inves che controllano il 95% delle multinazionali tra le prime 500 al Mondo. I DEM americani hanno risposto con la grande sorella Hillary e il grande fratello Obama,  i quali twittando hanno ordinato di allestire opportuni apparati di censura, una comanda ovviamente presa dai loro camerieri della UE e della ridicola Amministrazione Biden. Si tratta di un disperato tentativo di nascondere le Verità che stanno emergendo sul Covid19 e i vaccini, i supposti morti 'senza correlazione', le elezioni americane e francesi colossalmente truccate, i ladrocini finanziari trilionari con i derivati, i sacrifici umani e soprattutto di bambini  e tante altre rivelazioni usando  un \"Ministero della Verità\" in perfetto stile Orwell 1984.    Questa risposta DEM è assolu incostituzionale e non basta chiamare questi abomini  'Board per la Disinformazione' (in America) o 'Piattaforma per la Disinformazione' (in Unione Europea) per giustificare il tentativo di nascondere la Verità agli occhi della gente, tentando di non sembrare quello che sempre più palesemente si è:   Tiranni Globali come quelli descritti in tutta la Letteratura distopica.  Ricordo che Twitter aveva censurato la Verità sul  laptop di Hunter Biden poco prima delle elezioni del 2020, e se ciò non fosse stato fatto e i media avessero fatto il loro lavoro, tutti sapremmo dei traffici di esseri umani ed energetici all'ombra di BURISMA, la compagnia del gas Ucraino nel cui board sedeva il figlio di Joe Biden dopo il colpo di stato del 2014, per il fine di realizzare in Ucraina quella base della piattaforma del Male oggi usata per alimentare la possibilità di una Terza Guerra Mondiale Nucleare.  Le cose stanno precipitando per i DEM con la prospettiva di ricongiungerli ai loro DEMoni ispiratori. In questo senso è al simbolica l'uscita dell'analista politico della CNN David Zurawik di ieri, quando ha detto che è molto pericolosa l'acquisizione di Twitter da parte di Elon Musk, e che l'America deve guardare all'Europa per le risposte. In preda ad un sen di paura e delirio come quello del letterato iconico dei democratici americani, il drogato di adrenocromo Hunter Thompson nel suo famoso romanzo autobiografico \"Paura e Delirio al Las Vegas\", l'opinionista della  CNN ha dichiarato:    \"Hai bisogno di regolamentazione. Non puoi lasciare che questi ragazzi controllino la narrazione in questo paese o saremo diretti all'inferno. Noi ci siamo. Trump ha aperto le porte dell'inferno e ora ci stanno inseguendo\".   Sono d'accordo con David Zurawik ma nel senso che le porte dell'Inferno sono effettivamente spalancate e pronte ad accogliere i meritevoli. Tutti gli esseri umani corrotti dal potere, dalla fama e dal denaro che sono stati strumenti del maligno, avranno il loro posto meritato.  Nove, Nove, Nove.  P.S. Godetevi il video con la Paura e il Delirio alla CNN.</td>\n",
       "      <td>1</td>\n",
       "    </tr>\n",
       "    <tr>\n",
       "      <th>3</th>\n",
       "      <td>3</td>\n",
       "      <td>L'Aspirina non aumenta la sopravvivenza dei pazienti ricoverati in ospedale per Covid-19,</td>\n",
       "      <td>0</td>\n",
       "    </tr>\n",
       "    <tr>\n",
       "      <th>4</th>\n",
       "      <td>4</td>\n",
       "      <td>L'Italia non puo' dare armi lo vieta la Costituzione..</td>\n",
       "      <td>0</td>\n",
       "    </tr>\n",
       "  </tbody>\n",
       "</table>\n",
       "</div>"
      ],
      "text/plain": [
       "   id  \\\n",
       "0   0   \n",
       "1   1   \n",
       "2   2   \n",
       "3   3   \n",
       "4   4   \n",
       "\n",
       "                                                                                                                                                                                                                                                                                                                                                                                                                                                                                                                                                                                                                                                                                                                                                                                                                                                                                                                                                                                                                                                                                                                                                                                                                                                                                                                                                                                                                                                                                                                                                                                                                                                                                                                                                                                                                                                                                                                                                                                                                                                                                                                                                                                                                                                                                                                                                                                                                                                                                                                                                                                                                                                                                                                                                                                                                                                                                                                                                                                                                                                                                                                                                                                                                                                                                                                                                                               text  \\\n",
       "0                                                                                                                                                                                                                                                                                                                                                                                                                                                                                                                                                                                                                                                                                                                                                                                                                                                                                                                                                                                                                                                                                                                                                                                                                                                                                                                                                                                                                                                                                                                                                                                                                                                                                                                                                                                                                                                                                                                                                                                                                                                                                                                                                                                                                                                                                                                                                                                                                                                                                                                                                                                                                                                                                                                                                                                                                                                                                                                                                                                                                                                                                                                                                                                                                                                                                                                               ⚡Se non ci fossero soldati non ci sarebbero guerre.   \n",
       "1                                                                                                                                                                                                                                                                                                                                                                                                                                                                                                                                                                                                                                                                                                                                                                                                                                                                                                                                                                                                                                                                                                                                                                                                                                                                                                                                                                                                                                                                                                                                                                                                                                                                                                                                                                                                                                                                                                                                                                                                                                                                                                                                                                                                                                                                                                                                                                                                                                                                                                                                                                                                                                       21/08/21]( [PRE-PRINT]    📄__ \"Shedding of Infectious SARS-CoV-2 Despite Vaccination\"  🇮🇹 \"Diffusione del SARS-CoV-2 nonostante la vaccinazione\"__    📊 \"La variante Delta del SARS-CoV-2 può causare elevate cariche virali, è al trasmissibile e contiene mutazioni che conferiscono una fuga immunitaria parziale. [...] le indagini sull'epidemia suggeriscono che le persone vaccinate possono diffondere [la variante] Delta\"    ⚠️ \"[...] questi risultati indicano che anche le **persone asintomatiche e comple vaccinate possono diffondere il virus infettivo**.\"    ⚠️ \"[...] questi dati indicano che gli individui **vaccinati e non vaccinati** infettati dalla variante Delta **possono trasmettere l'infezione**.\"    📚 **   \n",
       "2  PAURA E DELIRIO ALLA CNN: IL MINISTERO DELLA VERITA'  La scorsa settimana Elon Musk ha dichiarato di volere che la \"libertà di parola\" sui social media sia tutelata ai sensi della Legge del Paese.  I DEM sono spaventatissimi dalla scelta coraggiosa del magnate dello Spazio di acquistare Twitter  così scontrandosi frontalmente, e senza paura, con BlackRock, Vanguard e State Street, cioè i tre fondi di inves che controllano il 95% delle multinazionali tra le prime 500 al Mondo. I DEM americani hanno risposto con la grande sorella Hillary e il grande fratello Obama,  i quali twittando hanno ordinato di allestire opportuni apparati di censura, una comanda ovviamente presa dai loro camerieri della UE e della ridicola Amministrazione Biden. Si tratta di un disperato tentativo di nascondere le Verità che stanno emergendo sul Covid19 e i vaccini, i supposti morti 'senza correlazione', le elezioni americane e francesi colossalmente truccate, i ladrocini finanziari trilionari con i derivati, i sacrifici umani e soprattutto di bambini  e tante altre rivelazioni usando  un \"Ministero della Verità\" in perfetto stile Orwell 1984.    Questa risposta DEM è assolu incostituzionale e non basta chiamare questi abomini  'Board per la Disinformazione' (in America) o 'Piattaforma per la Disinformazione' (in Unione Europea) per giustificare il tentativo di nascondere la Verità agli occhi della gente, tentando di non sembrare quello che sempre più palesemente si è:   Tiranni Globali come quelli descritti in tutta la Letteratura distopica.  Ricordo che Twitter aveva censurato la Verità sul  laptop di Hunter Biden poco prima delle elezioni del 2020, e se ciò non fosse stato fatto e i media avessero fatto il loro lavoro, tutti sapremmo dei traffici di esseri umani ed energetici all'ombra di BURISMA, la compagnia del gas Ucraino nel cui board sedeva il figlio di Joe Biden dopo il colpo di stato del 2014, per il fine di realizzare in Ucraina quella base della piattaforma del Male oggi usata per alimentare la possibilità di una Terza Guerra Mondiale Nucleare.  Le cose stanno precipitando per i DEM con la prospettiva di ricongiungerli ai loro DEMoni ispiratori. In questo senso è al simbolica l'uscita dell'analista politico della CNN David Zurawik di ieri, quando ha detto che è molto pericolosa l'acquisizione di Twitter da parte di Elon Musk, e che l'America deve guardare all'Europa per le risposte. In preda ad un sen di paura e delirio come quello del letterato iconico dei democratici americani, il drogato di adrenocromo Hunter Thompson nel suo famoso romanzo autobiografico \"Paura e Delirio al Las Vegas\", l'opinionista della  CNN ha dichiarato:    \"Hai bisogno di regolamentazione. Non puoi lasciare che questi ragazzi controllino la narrazione in questo paese o saremo diretti all'inferno. Noi ci siamo. Trump ha aperto le porte dell'inferno e ora ci stanno inseguendo\".   Sono d'accordo con David Zurawik ma nel senso che le porte dell'Inferno sono effettivamente spalancate e pronte ad accogliere i meritevoli. Tutti gli esseri umani corrotti dal potere, dalla fama e dal denaro che sono stati strumenti del maligno, avranno il loro posto meritato.  Nove, Nove, Nove.  P.S. Godetevi il video con la Paura e il Delirio alla CNN.    \n",
       "3                                                                                                                                                                                                                                                                                                                                                                                                                                                                                                                                                                                                                                                                                                                                                                                                                                                                                                                                                                                                                                                                                                                                                                                                                                                                                                                                                                                                                                                                                                                                                                                                                                                                                                                                                                                                                                                                                                                                                                                                                                                                                                                                                                                                                                                                                                                                                                                                                                                                                                                                                                                                                                                                                                                                                                                                                                                                                                                                                                                                                                                                                                                                                                                                                                                                                         L'Aspirina non aumenta la sopravvivenza dei pazienti ricoverati in ospedale per Covid-19,   \n",
       "4                                                                                                                                                                                                                                                                                                                                                                                                                                                                                                                                                                                                                                                                                                                                                                                                                                                                                                                                                                                                                                                                                                                                                                                                                                                                                                                                                                                                                                                                                                                                                                                                                                                                                                                                                                                                                                                                                                                                                                                                                                                                                                                                                                                                                                                                                                                                                                                                                                                                                                                                                                                                                                                                                                                                                                                                                                                                                                                                                                                                                                                                                                                                                                                                                                                                                                                            L'Italia non puo' dare armi lo vieta la Costituzione..   \n",
       "\n",
       "   label  \n",
       "0      0  \n",
       "1      1  \n",
       "2      1  \n",
       "3      0  \n",
       "4      0  "
      ]
     },
     "execution_count": 10,
     "metadata": {},
     "output_type": "execute_result"
    }
   ],
   "source": [
    "##Dataset di prova per testare il funzionamento dell'augmenter\n",
    "df_test = dataset[:5].copy()\n",
    "#Vengon rimossi i caratteri speciali per semplificare i processi successivi\n",
    "df_test['text'] = df_test['text'].apply(lambda x: x.replace('\\r', ' ').replace('\\n', ' '))\n",
    "df_test.head()\n"
   ]
  },
  {
   "cell_type": "code",
   "execution_count": 11,
   "metadata": {
    "id": "dX1GDzB1dvxG"
   },
   "outputs": [],
   "source": [
    "def get_prompt_list(dataframe):\n",
    "    prompt_list = []\n",
    "    for i in range(len(dataframe)):\n",
    "        prompt_list.append(f\"\"\"\n",
    "        Input:\n",
    "        \"Testo originale: '''{dataframe.loc[i,'text']}'''\"\n",
    "\n",
    "        Output desiderato:\n",
    "\n",
    "        \"Riscrivi il testo originale utilizzando sinonimi per esprimere lo stesso significato in italiano.\"\n",
    "        \"Fornisci un riassunto del testo originale in italiano.\"\n",
    "        \"Riscrivi il testo originale con un tono diverso, mantenendo però il medesimo significato in italiano.\"\n",
    "        \"Sostituisci alcune parole chiave nel testo originale in italiano.\"\n",
    "        \"Trasforma il testo originale in una domanda diretta in italiano.\"\n",
    "\n",
    "        Richiesta di risposta (formato predefinito):\n",
    "        \"Inserisci qui i risultati delle trasformazioni. Usa il formato seguente senza aggiungere nulla se non il testo richiesto:\n",
    "\n",
    "        [Sinonimi]: [Testo risultante sostituendo le parole chiave con dei sinonimi]\n",
    "        [Riassunto]: [Riassunto risultante]\n",
    "        [Tono diverso]: [Testo risultante con tono diverso]\n",
    "        [Parole chiave sostituite]: [Testo risultante con parole chiave sostituite]\n",
    "        [Domanda diretta]: [Testo risultante come domanda diretta]\"\n",
    "\n",
    "\n",
    "    \"\"\")\n",
    "\n",
    "    return prompt_list"
   ]
  },
  {
   "cell_type": "markdown",
   "metadata": {},
   "source": [
    "Viene creata una copia del dataset originale per prepararlo al processo di aggiunta di testi."
   ]
  },
  {
   "cell_type": "code",
   "execution_count": 12,
   "metadata": {
    "id": "T2cGWlOGdvxG"
   },
   "outputs": [],
   "source": [
    "augmented_dataset = dataset.copy()\n",
    "augmented_dataset = augmented_dataset['text'].apply(lambda x: x.replace('\\r', ' ').replace('\\n', ' '))\n"
   ]
  },
  {
   "cell_type": "code",
   "execution_count": 13,
   "metadata": {
    "colab": {
     "base_uri": "https://localhost:8080/",
     "height": 122
    },
    "id": "e9GcAFNgdvxH",
    "outputId": "44e2b6cf-9468-4b2a-c4bc-adc4c692c39d"
   },
   "outputs": [
    {
     "data": {
      "text/plain": [
       "\"\\nprompt_list = get_prompt_list(df_test)\\naugmented_dataset = pd.DataFrame(columns=['text', 'label'])\\n\\nfor i in range(len(prompt_list)):\\n    query_result = chatbot.query(prompt_list[i])\\n    print(query_result['text'])\\n    text_array = get_clean_text(query_result['text'])\\n    augmented_dataset = pd.concat([augmented_dataset,get_augmented_dataset(text_array, df_test.at[df_test.index[i],'text'], df_test.at[df_test.index[i],'label'])],ignore_index=True)\\n    #timeout per evitare di essere bannati\\n    time.sleep(5)\\naugmented_dataset['text'] = augmented_dataset['text'].apply(lambda x: x.replace('```testo modificato:`', ' ').replace('`testo originale:`', ' ')).replace('```testo alternativo:``',' ' )\\nprint(augmented_dataset)\\n\""
      ]
     },
     "execution_count": 13,
     "metadata": {},
     "output_type": "execute_result"
    }
   ],
   "source": [
    "'''\n",
    "prompt_list = get_prompt_list(df_test)\n",
    "augmented_dataset = pd.DataFrame(columns=['text', 'label'])\n",
    "\n",
    "for i in range(len(prompt_list)):\n",
    "    text_array = get_clean_text(query_result['text'])\n",
    "    augmented_dataset = pd.concat([augmented_dataset,get_augmented_dataset(text_array, df_test.at[df_test.index[i],'text'], df_test.at[df_test.index[i],'label'])],ignore_index=True)\n",
    "    query_result = chatbot.query(prompt_list[i])\n",
    "    augmented_dataset.loc[i,'text'] = dataset.loc[i,'text']\n",
    "    augmented_dataset.loc[i,'label'] = dataset.loc[i,'topic']\n",
    "    augmented_dataset.loc[i,'augmented_text'] = query_result['text']\n",
    "    #timeout per evitare di essere bannati\n",
    "    time.sleep(5)\n",
    "print(augmented_dataset)\n",
    "'''"
   ]
  },
  {
   "cell_type": "markdown",
   "metadata": {
    "id": "bpz5nNMCdvxJ"
   },
   "source": [
    "Il dataset presenta tre colonne prima del preprocess, questo è dovuto al fatto che l'output dell'augmenter è stato posto nella riga di riferimento per manetenere l'integrità e la relazione tra i dati.  \n",
    "\n",
    "Qui la terza colonna viene droppata e le informazioni sono trasferite in nuove righe, mantenendo la label."
   ]
  },
  {
   "cell_type": "code",
   "execution_count": 16,
   "metadata": {
    "id": "f-hamFrFdvxJ"
   },
   "outputs": [],
   "source": [
    "def process_data_augmentation(dataset):\n",
    "    typeA=['[Sinonimi]:','[Riassunto]:','[Tono diverso]:','[Parole chiave sostituite]:','[Domanda diretta]:']\n",
    "    typeB=['Riscrivi il testo originale utilizzando sinonimi per esprimere lo stesso significato in italiano:','Fornisci un riassunto del testo originale in italiano:','Riscrivi il testo originale con un tono diverso, mantenendo però il medesimo significato in italiano:', 'Sostituisci alcune parole chiave nel testo originale in italiano:','Trasforma il testo originale in una domanda diretta in italiano:']\n",
    "    processed_dataset = dataset.copy()\n",
    "    processed_dataset = processed_dataset.drop(columns=['augmented_text'])\n",
    "    augmented_dataset = pd.DataFrame(columns=['text', 'label'])\n",
    "    #dataset['augmented_text'] = dataset['augmented_text'].apply(lambda x: x.replace('\\r', ' ').replace('\\n', ' '))\n",
    "\n",
    "    for i in tqdm(range(len(dataset))):\n",
    "        #Copio la singola riga del dataset in una variabile per usarla come stringa\n",
    "\n",
    "        augmented = dataset.loc[i,'augmented_text']\n",
    "        #Divido la stringa per riga\n",
    "        augmented = augmented.split('\\n')\n",
    "        #Per ogni riga controllo se è presente una delle stringhe di tipo A o B\n",
    "        #Esistono due tipi poiché i due modelli restituivano due strutture leggermente diverse\n",
    "        for statement in augmented:\n",
    "            #Verifico la riga appartenga al risultato e taglio la parte introduttiva\n",
    "            for start in typeA:\n",
    "                if start in statement:\n",
    "                    augmented_dataset.loc[0,'text'] = statement.replace(start, '')\n",
    "                    augmented_dataset.loc[0,'label'] = dataset.loc[i,'label']\n",
    "                    #Aggiungo la riga al dataset\n",
    "                    processed_dataset = pd.concat([processed_dataset,augmented_dataset],ignore_index=True)\n",
    "            for start in typeB:\n",
    "                if start in statement:\n",
    "                    augmented_dataset.loc[0,'text'] = statement.replace(start, '')\n",
    "                    augmented_dataset.loc[0,'label'] = dataset.loc[i,'label']\n",
    "                    processed_dataset = pd.concat([processed_dataset,augmented_dataset],ignore_index=True)\n",
    "\n",
    "    processed_dataset['text'] = processed_dataset['text'].apply(lambda x: x.replace('\\r', ' ').replace('\\n', ' '))\n",
    "\n",
    "    return processed_dataset\n",
    "\n",
    "\n"
   ]
  },
  {
   "cell_type": "code",
   "execution_count": 17,
   "metadata": {
    "colab": {
     "base_uri": "https://localhost:8080/"
    },
    "id": "Em-uV_gzdvxJ",
    "outputId": "82ac213a-1b5e-410a-c1f5-4de710c847b5"
   },
   "outputs": [
    {
     "data": {
      "application/vnd.jupyter.widget-view+json": {
       "model_id": "20bd18f505564a94a0cbcd90256cb683",
       "version_major": 2,
       "version_minor": 0
      },
      "text/plain": [
       "  0%|          | 0/1842 [00:00<?, ?it/s]"
      ]
     },
     "metadata": {},
     "output_type": "display_data"
    }
   ],
   "source": [
    "augmented_dataset = pd.read_csv(f'{root}augmented_dataset1.csv',  header=0, names=['text', 'label','augmented_text'])\n",
    "\n",
    "augmented_dataset = process_data_augmentation(augmented_dataset)"
   ]
  },
  {
   "cell_type": "markdown",
   "metadata": {
    "id": "fpBkiMlTdvxK"
   },
   "source": [
    "Effettuiamo nuovamente l'analisi sulla distrubuzione e forma dei dati per verificare che si siano mantenute le relazioni trovate in precendenza"
   ]
  },
  {
   "cell_type": "code",
   "execution_count": 18,
   "metadata": {
    "colab": {
     "base_uri": "https://localhost:8080/",
     "height": 447
    },
    "id": "rmdL1al8dvxK",
    "outputId": "e39d190b-3c87-453b-dbf2-cdf721497aba"
   },
   "outputs": [
    {
     "data": {
      "image/png": "[encoded data removed]",
      "text/plain": [
       "<Figure size 640x480 with 1 Axes>"
      ]
     },
     "metadata": {},
     "output_type": "display_data"
    }
   ],
   "source": [
    "augmented_dataset['label'].value_counts().plot(kind='bar', color=[color1,color2])\n",
    "plt.title('Distribuzione delle classi')\n",
    "plt.show()"
   ]
  },
  {
   "cell_type": "code",
   "execution_count": 19,
   "metadata": {
    "colab": {
     "base_uri": "https://localhost:8080/"
    },
    "id": "7Pm3H_1HdvxK",
    "outputId": "a7278ed5-d012-4d37-df9b-880d23d6dde3"
   },
   "outputs": [
    {
     "name": "stdout",
     "output_type": "stream",
     "text": [
      "dati mancanti\n",
      "text     0\n",
      "label    0\n",
      "dtype: int64\n"
     ]
    }
   ],
   "source": [
    "print(\"dati mancanti\")\n",
    "print(augmented_dataset.isna().sum())"
   ]
  },
  {
   "cell_type": "code",
   "execution_count": 20,
   "metadata": {
    "colab": {
     "base_uri": "https://localhost:8080/",
     "height": 408
    },
    "id": "Ttoljuc9dvxK",
    "outputId": "63931b91-bcca-4acb-9244-662888484d9e"
   },
   "outputs": [
    {
     "data": {
      "image/png": "[encoded data removed]",
      "text/plain": [
       "<Figure size 1000x400 with 2 Axes>"
      ]
     },
     "metadata": {},
     "output_type": "display_data"
    }
   ],
   "source": [
    "fig,(ax1,ax2)=plt.subplots(1,2,figsize=(10,4))\n",
    "ax1.set_xticks([0,30,60,90,120,150,180,210,240,270,300])\n",
    "ax1.set_ylim([0,4000])\n",
    "ax2.set_xticks([0,30,60,90,120,150,180,210,240,270,300])\n",
    "ax2.set_ylim([0,4000])\n",
    "dataset_words=augmented_dataset[augmented_dataset['label']==1]['text'].str.split().map(lambda x: len(x) if len(x)<300 else 300)\n",
    "ax1.hist(dataset_words,color=color2)\n",
    "ax1.set_title('Messaggi appartenti alla teoria del complotto')\n",
    "dataset_words=augmented_dataset[augmented_dataset['label']==0]['text'].str.split().map(lambda x: len(x) if len(x)<300 else 300)\n",
    "ax2.hist(dataset_words,color=color1)\n",
    "ax2.set_title('Messaggi NON appartenti alla teoria del complotto')\n",
    "fig.suptitle('Parole per messaggio (max 300 parole)')\n",
    "plt.show()"
   ]
  },
  {
   "cell_type": "markdown",
   "metadata": {
    "id": "FgQi8KK9dvxL"
   },
   "source": [
    "Dai dati rilevati e mostrati sopra, possiamo osservare come si sia mantenuta la relazione, seppur appiattita, del maggior numero di caratteri per i messaggi appartenti alla teoria del complotto, viene quindi integrata la colonna che include i caratteri del testo"
   ]
  },
  {
   "cell_type": "code",
   "execution_count": 21,
   "metadata": {
    "colab": {
     "base_uri": "https://localhost:8080/",
     "height": 674
    },
    "id": "ZQbQve0-dvxL",
    "outputId": "7e8695ea-ffe9-460c-d5c4-324e547ffa2d"
   },
   "outputs": [
    {
     "data": {
      "text/html": [
       "<div>\n",
       "<style scoped>\n",
       "    .dataframe tbody tr th:only-of-type {\n",
       "        vertical-align: middle;\n",
       "    }\n",
       "\n",
       "    .dataframe tbody tr th {\n",
       "        vertical-align: top;\n",
       "    }\n",
       "\n",
       "    .dataframe thead th {\n",
       "        text-align: right;\n",
       "    }\n",
       "</style>\n",
       "<table border=\"1\" class=\"dataframe\">\n",
       "  <thead>\n",
       "    <tr style=\"text-align: right;\">\n",
       "      <th></th>\n",
       "      <th>text</th>\n",
       "      <th>label</th>\n",
       "      <th>char_count</th>\n",
       "    </tr>\n",
       "  </thead>\n",
       "  <tbody>\n",
       "    <tr>\n",
       "      <th>0</th>\n",
       "      <td>⚡Se non ci fossero soldati non ci sarebbero guerre.</td>\n",
       "      <td>0</td>\n",
       "      <td>51</td>\n",
       "    </tr>\n",
       "    <tr>\n",
       "      <th>1</th>\n",
       "      <td>21/08/21]( [PRE-PRINT]    📄__ \"Shedding of Infectious SARS-CoV-2 Despite Vaccination\"  🇮🇹 \"Diffusione del SARS-CoV-2 nonostante la vaccinazione\"__    📊 \"La variante Delta del SARS-CoV-2 può causare elevate cariche virali, è al trasmissibile e contiene mutazioni che conferiscono una fuga immunitaria parziale. [...] le indagini sull'epidemia suggeriscono che le persone vaccinate possono diffondere [la variante] Delta\"    ⚠️ \"[...] questi risultati indicano che anche le **persone asintomatiche e comple vaccinate possono diffondere il virus infettivo**.\"    ⚠️ \"[...] questi dati indicano che gli individui **vaccinati e non vaccinati** infettati dalla variante Delta **possono trasmettere l'infezione**.\"    📚 **</td>\n",
       "      <td>1</td>\n",
       "      <td>715</td>\n",
       "    </tr>\n",
       "    <tr>\n",
       "      <th>2</th>\n",
       "      <td>PAURA E DELIRIO ALLA CNN: IL MINISTERO DELLA VERITA'  La scorsa settimana Elon Musk ha dichiarato di volere che la \"libertà di parola\" sui social media sia tutelata ai sensi della Legge del Paese.  I DEM sono spaventatissimi dalla scelta coraggiosa del magnate dello Spazio di acquistare Twitter  così scontrandosi frontalmente, e senza paura, con BlackRock, Vanguard e State Street, cioè i tre fondi di inves che controllano il 95% delle multinazionali tra le prime 500 al Mondo. I DEM americani hanno risposto con la grande sorella Hillary e il grande fratello Obama,  i quali twittando hanno ordinato di allestire opportuni apparati di censura, una comanda ovviamente presa dai loro camerieri della UE e della ridicola Amministrazione Biden. Si tratta di un disperato tentativo di nascondere le Verità che stanno emergendo sul Covid19 e i vaccini, i supposti morti 'senza correlazione', le elezioni americane e francesi colossalmente truccate, i ladrocini finanziari trilionari con i derivati, i sacrifici umani e soprattutto di bambini  e tante altre rivelazioni usando  un \"Ministero della Verità\" in perfetto stile Orwell 1984.    Questa risposta DEM è assolu incostituzionale e non basta chiamare questi abomini  'Board per la Disinformazione' (in America) o 'Piattaforma per la Disinformazione' (in Unione Europea) per giustificare il tentativo di nascondere la Verità agli occhi della gente, tentando di non sembrare quello che sempre più palesemente si è:   Tiranni Globali come quelli descritti in tutta la Letteratura distopica.  Ricordo che Twitter aveva censurato la Verità sul  laptop di Hunter Biden poco prima delle elezioni del 2020, e se ciò non fosse stato fatto e i media avessero fatto il loro lavoro, tutti sapremmo dei traffici di esseri umani ed energetici all'ombra di BURISMA, la compagnia del gas Ucraino nel cui board sedeva il figlio di Joe Biden dopo il colpo di stato del 2014, per il fine di realizzare in Ucraina quella base della piattaforma del Male oggi usata per alimentare la possibilità di una Terza Guerra Mondiale Nucleare.  Le cose stanno precipitando per i DEM con la prospettiva di ricongiungerli ai loro DEMoni ispiratori. In questo senso è al simbolica l'uscita dell'analista politico della CNN David Zurawik di ieri, quando ha detto che è molto pericolosa l'acquisizione di Twitter da parte di Elon Musk, e che l'America deve guardare all'Europa per le risposte. In preda ad un sen di paura e delirio come quello del letterato iconico dei democratici americani, il drogato di adrenocromo Hunter Thompson nel suo famoso romanzo autobiografico \"Paura e Delirio al Las Vegas\", l'opinionista della  CNN ha dichiarato:    \"Hai bisogno di regolamentazione. Non puoi lasciare che questi ragazzi controllino la narrazione in questo paese o saremo diretti all'inferno. Noi ci siamo. Trump ha aperto le porte dell'inferno e ora ci stanno inseguendo\".   Sono d'accordo con David Zurawik ma nel senso che le porte dell'Inferno sono effettivamente spalancate e pronte ad accogliere i meritevoli. Tutti gli esseri umani corrotti dal potere, dalla fama e dal denaro che sono stati strumenti del maligno, avranno il loro posto meritato.  Nove, Nove, Nove.  P.S. Godetevi il video con la Paura e il Delirio alla CNN.</td>\n",
       "      <td>1</td>\n",
       "      <td>3248</td>\n",
       "    </tr>\n",
       "    <tr>\n",
       "      <th>3</th>\n",
       "      <td>L'Aspirina non aumenta la sopravvivenza dei pazienti ricoverati in ospedale per Covid-19,</td>\n",
       "      <td>0</td>\n",
       "      <td>89</td>\n",
       "    </tr>\n",
       "    <tr>\n",
       "      <th>4</th>\n",
       "      <td>L'Italia non puo' dare armi lo vieta la Costituzione..</td>\n",
       "      <td>0</td>\n",
       "      <td>54</td>\n",
       "    </tr>\n",
       "  </tbody>\n",
       "</table>\n",
       "</div>"
      ],
      "text/plain": [
       "                                                                                                                                                                                                                                                                                                                                                                                                                                                                                                                                                                                                                                                                                                                                                                                                                                                                                                                                                                                                                                                                                                                                                                                                                                                                                                                                                                                                                                                                                                                                                                                                                                                                                                                                                                                                                                                                                                                                                                                                                                                                                                                                                                                                                                                                                                                                                                                                                                                                                                                                                                                                                                                                                                                                                                                                                                                                                                                                                                                                                                                                                                                                                                                                                                                                                                                                                                               text  \\\n",
       "0                                                                                                                                                                                                                                                                                                                                                                                                                                                                                                                                                                                                                                                                                                                                                                                                                                                                                                                                                                                                                                                                                                                                                                                                                                                                                                                                                                                                                                                                                                                                                                                                                                                                                                                                                                                                                                                                                                                                                                                                                                                                                                                                                                                                                                                                                                                                                                                                                                                                                                                                                                                                                                                                                                                                                                                                                                                                                                                                                                                                                                                                                                                                                                                                                                                                                                                               ⚡Se non ci fossero soldati non ci sarebbero guerre.   \n",
       "1                                                                                                                                                                                                                                                                                                                                                                                                                                                                                                                                                                                                                                                                                                                                                                                                                                                                                                                                                                                                                                                                                                                                                                                                                                                                                                                                                                                                                                                                                                                                                                                                                                                                                                                                                                                                                                                                                                                                                                                                                                                                                                                                                                                                                                                                                                                                                                                                                                                                                                                                                                                                                                       21/08/21]( [PRE-PRINT]    📄__ \"Shedding of Infectious SARS-CoV-2 Despite Vaccination\"  🇮🇹 \"Diffusione del SARS-CoV-2 nonostante la vaccinazione\"__    📊 \"La variante Delta del SARS-CoV-2 può causare elevate cariche virali, è al trasmissibile e contiene mutazioni che conferiscono una fuga immunitaria parziale. [...] le indagini sull'epidemia suggeriscono che le persone vaccinate possono diffondere [la variante] Delta\"    ⚠️ \"[...] questi risultati indicano che anche le **persone asintomatiche e comple vaccinate possono diffondere il virus infettivo**.\"    ⚠️ \"[...] questi dati indicano che gli individui **vaccinati e non vaccinati** infettati dalla variante Delta **possono trasmettere l'infezione**.\"    📚 **   \n",
       "2  PAURA E DELIRIO ALLA CNN: IL MINISTERO DELLA VERITA'  La scorsa settimana Elon Musk ha dichiarato di volere che la \"libertà di parola\" sui social media sia tutelata ai sensi della Legge del Paese.  I DEM sono spaventatissimi dalla scelta coraggiosa del magnate dello Spazio di acquistare Twitter  così scontrandosi frontalmente, e senza paura, con BlackRock, Vanguard e State Street, cioè i tre fondi di inves che controllano il 95% delle multinazionali tra le prime 500 al Mondo. I DEM americani hanno risposto con la grande sorella Hillary e il grande fratello Obama,  i quali twittando hanno ordinato di allestire opportuni apparati di censura, una comanda ovviamente presa dai loro camerieri della UE e della ridicola Amministrazione Biden. Si tratta di un disperato tentativo di nascondere le Verità che stanno emergendo sul Covid19 e i vaccini, i supposti morti 'senza correlazione', le elezioni americane e francesi colossalmente truccate, i ladrocini finanziari trilionari con i derivati, i sacrifici umani e soprattutto di bambini  e tante altre rivelazioni usando  un \"Ministero della Verità\" in perfetto stile Orwell 1984.    Questa risposta DEM è assolu incostituzionale e non basta chiamare questi abomini  'Board per la Disinformazione' (in America) o 'Piattaforma per la Disinformazione' (in Unione Europea) per giustificare il tentativo di nascondere la Verità agli occhi della gente, tentando di non sembrare quello che sempre più palesemente si è:   Tiranni Globali come quelli descritti in tutta la Letteratura distopica.  Ricordo che Twitter aveva censurato la Verità sul  laptop di Hunter Biden poco prima delle elezioni del 2020, e se ciò non fosse stato fatto e i media avessero fatto il loro lavoro, tutti sapremmo dei traffici di esseri umani ed energetici all'ombra di BURISMA, la compagnia del gas Ucraino nel cui board sedeva il figlio di Joe Biden dopo il colpo di stato del 2014, per il fine di realizzare in Ucraina quella base della piattaforma del Male oggi usata per alimentare la possibilità di una Terza Guerra Mondiale Nucleare.  Le cose stanno precipitando per i DEM con la prospettiva di ricongiungerli ai loro DEMoni ispiratori. In questo senso è al simbolica l'uscita dell'analista politico della CNN David Zurawik di ieri, quando ha detto che è molto pericolosa l'acquisizione di Twitter da parte di Elon Musk, e che l'America deve guardare all'Europa per le risposte. In preda ad un sen di paura e delirio come quello del letterato iconico dei democratici americani, il drogato di adrenocromo Hunter Thompson nel suo famoso romanzo autobiografico \"Paura e Delirio al Las Vegas\", l'opinionista della  CNN ha dichiarato:    \"Hai bisogno di regolamentazione. Non puoi lasciare che questi ragazzi controllino la narrazione in questo paese o saremo diretti all'inferno. Noi ci siamo. Trump ha aperto le porte dell'inferno e ora ci stanno inseguendo\".   Sono d'accordo con David Zurawik ma nel senso che le porte dell'Inferno sono effettivamente spalancate e pronte ad accogliere i meritevoli. Tutti gli esseri umani corrotti dal potere, dalla fama e dal denaro che sono stati strumenti del maligno, avranno il loro posto meritato.  Nove, Nove, Nove.  P.S. Godetevi il video con la Paura e il Delirio alla CNN.    \n",
       "3                                                                                                                                                                                                                                                                                                                                                                                                                                                                                                                                                                                                                                                                                                                                                                                                                                                                                                                                                                                                                                                                                                                                                                                                                                                                                                                                                                                                                                                                                                                                                                                                                                                                                                                                                                                                                                                                                                                                                                                                                                                                                                                                                                                                                                                                                                                                                                                                                                                                                                                                                                                                                                                                                                                                                                                                                                                                                                                                                                                                                                                                                                                                                                                                                                                                                         L'Aspirina non aumenta la sopravvivenza dei pazienti ricoverati in ospedale per Covid-19,   \n",
       "4                                                                                                                                                                                                                                                                                                                                                                                                                                                                                                                                                                                                                                                                                                                                                                                                                                                                                                                                                                                                                                                                                                                                                                                                                                                                                                                                                                                                                                                                                                                                                                                                                                                                                                                                                                                                                                                                                                                                                                                                                                                                                                                                                                                                                                                                                                                                                                                                                                                                                                                                                                                                                                                                                                                                                                                                                                                                                                                                                                                                                                                                                                                                                                                                                                                                                                                            L'Italia non puo' dare armi lo vieta la Costituzione..   \n",
       "\n",
       "  label  char_count  \n",
       "0     0          51  \n",
       "1     1         715  \n",
       "2     1        3248  \n",
       "3     0          89  \n",
       "4     0          54  "
      ]
     },
     "execution_count": 21,
     "metadata": {},
     "output_type": "execute_result"
    }
   ],
   "source": [
    "augmented_dataset['char_count'] = augmented_dataset['text'].str.len()\n",
    "augmented_dataset.head()"
   ]
  },
  {
   "cell_type": "code",
   "execution_count": 22,
   "metadata": {
    "colab": {
     "base_uri": "https://localhost:8080/",
     "height": 327
    },
    "id": "qxkKdaF7dvxM",
    "outputId": "b7a59204-fce0-4bda-92b1-91fec7106d52"
   },
   "outputs": [
    {
     "data": {
      "text/html": [
       "<div>\n",
       "<style scoped>\n",
       "    .dataframe tbody tr th:only-of-type {\n",
       "        vertical-align: middle;\n",
       "    }\n",
       "\n",
       "    .dataframe tbody tr th {\n",
       "        vertical-align: top;\n",
       "    }\n",
       "\n",
       "    .dataframe thead th {\n",
       "        text-align: right;\n",
       "    }\n",
       "</style>\n",
       "<table border=\"1\" class=\"dataframe\">\n",
       "  <thead>\n",
       "    <tr style=\"text-align: right;\">\n",
       "      <th></th>\n",
       "      <th>text</th>\n",
       "      <th>label</th>\n",
       "      <th>char_count</th>\n",
       "    </tr>\n",
       "  </thead>\n",
       "  <tbody>\n",
       "    <tr>\n",
       "      <th>4899</th>\n",
       "      <td>DA DIFFONDERE!! Statistiche ufficiali VAERS-CDC Stati Uniti: i seri COVID-19 sono 50 volte più mortali dei vaccini antigripali!! Altri che vaccini, sono seri assassini!! Negli Stati Uniti solo nei primi 14 mesi, 743.179 segnalazioni di avvenimenti negativi (una piccola parte dei reali)!!</td>\n",
       "      <td>1</td>\n",
       "      <td>290</td>\n",
       "    </tr>\n",
       "    <tr>\n",
       "      <th>7605</th>\n",
       "      <td>Come la piattaforma in questione sta affrontando il problema delle limitazioni alla libertà di espressione?</td>\n",
       "      <td>1</td>\n",
       "      <td>108</td>\n",
       "    </tr>\n",
       "    <tr>\n",
       "      <th>3813</th>\n",
       "      <td>Poiché diversi individui hanno affermato che Berlusconi non si è opposto alla frode COVID nel corso dei due ultimi anni, qual partito proposevote che promuova la fine del cancro femminile, la fine della frode COVID, l'avversione alla invasione russa e una migliore condizione generale?</td>\n",
       "      <td>1</td>\n",
       "      <td>287</td>\n",
       "    </tr>\n",
       "    <tr>\n",
       "      <th>1803</th>\n",
       "      <td>Ma vediamo ... cosa risponde un noto astrofisico... alla domanda : si puo' creare una pressione gassosa senza un contenitore??.... Ovviamente  se ci sarebbe un modo per creare una pressione senza contenitore la teoria della terra piatta con cupola..  non sarebbe piu' tanto attendibile... Ma vediamo cosa risponde l'astrofisico..</td>\n",
       "      <td>1</td>\n",
       "      <td>329</td>\n",
       "    </tr>\n",
       "    <tr>\n",
       "      <th>1576</th>\n",
       "      <td>Joe Biden dice ai cittadini della Pennsylvania di eleggere Josh Shapiro come senatore (si candida a governatore) e di eleggere John Fetterman come governatore (si candida per il Senato). Tutto normale.</td>\n",
       "      <td>0</td>\n",
       "      <td>201</td>\n",
       "    </tr>\n",
       "  </tbody>\n",
       "</table>\n",
       "</div>"
      ],
      "text/plain": [
       "                                                                                                                                                                                                                                                                                                                                           text  \\\n",
       "4899                                          DA DIFFONDERE!! Statistiche ufficiali VAERS-CDC Stati Uniti: i seri COVID-19 sono 50 volte più mortali dei vaccini antigripali!! Altri che vaccini, sono seri assassini!! Negli Stati Uniti solo nei primi 14 mesi, 743.179 segnalazioni di avvenimenti negativi (una piccola parte dei reali)!!    \n",
       "7605                                                                                                                                                                                                                                Come la piattaforma in questione sta affrontando il problema delle limitazioni alla libertà di espressione?   \n",
       "3813                                             Poiché diversi individui hanno affermato che Berlusconi non si è opposto alla frode COVID nel corso dei due ultimi anni, qual partito proposevote che promuova la fine del cancro femminile, la fine della frode COVID, l'avversione alla invasione russa e una migliore condizione generale?    \n",
       "1803  Ma vediamo ... cosa risponde un noto astrofisico... alla domanda : si puo' creare una pressione gassosa senza un contenitore??.... Ovviamente  se ci sarebbe un modo per creare una pressione senza contenitore la teoria della terra piatta con cupola..  non sarebbe piu' tanto attendibile... Ma vediamo cosa risponde l'astrofisico..   \n",
       "1576                                                                                                                                  Joe Biden dice ai cittadini della Pennsylvania di eleggere Josh Shapiro come senatore (si candida a governatore) e di eleggere John Fetterman come governatore (si candida per il Senato). Tutto normale.   \n",
       "\n",
       "     label  char_count  \n",
       "4899     1         290  \n",
       "7605     1         108  \n",
       "3813     1         287  \n",
       "1803     1         329  \n",
       "1576     0         201  "
      ]
     },
     "execution_count": 22,
     "metadata": {},
     "output_type": "execute_result"
    }
   ],
   "source": [
    "#Effettuiamo lo shuffle per evitare problemi al classificatore\n",
    "augmented_dataset = shuffle(augmented_dataset, random_state=42)\n",
    "augmented_dataset.head()"
   ]
  },
  {
   "cell_type": "markdown",
   "metadata": {
    "id": "C0D95TevdvxM"
   },
   "source": [
    "Qui vengono scovate ed analizzate le emoticon, permettendoci di aggiungere le colonne che riguardano le emoticon presenti ed il loro numero"
   ]
  },
  {
   "cell_type": "code",
   "execution_count": 3,
   "metadata": {
    "id": "puL7uGC2dvxM"
   },
   "outputs": [],
   "source": [
    "import re\n",
    "def add_emoji(dataset):\n",
    "\n",
    "    augmented_dataset = dataset.copy()\n",
    "    augmented_dataset['emoji'] = ' '\n",
    "\n",
    "    for i in tqdm(range(len(dataset)), desc= \"Looking for emoji\"):\n",
    "        text = dataset.loc[i,'text']\n",
    "        data = emoji.demojize(text, language='it')\n",
    "        pattern = r\":(\\w+):\"\n",
    "\n",
    "        emoji_found = re.findall(pattern,data)\n",
    "        emoji_found = ' '.join(emoji_found)\n",
    "        augmented_dataset.at[i,'emoji'] = emoji_found\n",
    "\n",
    "    return augmented_dataset"
   ]
  },
  {
   "cell_type": "code",
   "execution_count": 24,
   "metadata": {
    "colab": {
     "base_uri": "https://localhost:8080/",
     "height": 345
    },
    "id": "U_AAK-rBdvxM",
    "outputId": "90106678-62d9-4b1a-9bb4-0a23eedd76a4"
   },
   "outputs": [
    {
     "data": {
      "application/vnd.jupyter.widget-view+json": {
       "model_id": "05bc599a27154a4b87cb139298e98711",
       "version_major": 2,
       "version_minor": 0
      },
      "text/plain": [
       "Looking for emoji:   0%|          | 0/10884 [00:00<?, ?it/s]"
      ]
     },
     "metadata": {},
     "output_type": "display_data"
    },
    {
     "data": {
      "text/html": [
       "<div>\n",
       "<style scoped>\n",
       "    .dataframe tbody tr th:only-of-type {\n",
       "        vertical-align: middle;\n",
       "    }\n",
       "\n",
       "    .dataframe tbody tr th {\n",
       "        vertical-align: top;\n",
       "    }\n",
       "\n",
       "    .dataframe thead th {\n",
       "        text-align: right;\n",
       "    }\n",
       "</style>\n",
       "<table border=\"1\" class=\"dataframe\">\n",
       "  <thead>\n",
       "    <tr style=\"text-align: right;\">\n",
       "      <th></th>\n",
       "      <th>text</th>\n",
       "      <th>label</th>\n",
       "      <th>char_count</th>\n",
       "      <th>emoji</th>\n",
       "    </tr>\n",
       "  </thead>\n",
       "  <tbody>\n",
       "    <tr>\n",
       "      <th>4899</th>\n",
       "      <td>DA DIFFONDERE!! Statistiche ufficiali VAERS-CDC Stati Uniti: i seri COVID-19 sono 50 volte più mortali dei vaccini antigripali!! Altri che vaccini, sono seri assassini!! Negli Stati Uniti solo nei primi 14 mesi, 743.179 segnalazioni di avvenimenti negativi (una piccola parte dei reali)!!</td>\n",
       "      <td>1</td>\n",
       "      <td>290</td>\n",
       "      <td></td>\n",
       "    </tr>\n",
       "    <tr>\n",
       "      <th>7605</th>\n",
       "      <td>Come la piattaforma in questione sta affrontando il problema delle limitazioni alla libertà di espressione?</td>\n",
       "      <td>1</td>\n",
       "      <td>108</td>\n",
       "      <td></td>\n",
       "    </tr>\n",
       "    <tr>\n",
       "      <th>3813</th>\n",
       "      <td>Poiché diversi individui hanno affermato che Berlusconi non si è opposto alla frode COVID nel corso dei due ultimi anni, qual partito proposevote che promuova la fine del cancro femminile, la fine della frode COVID, l'avversione alla invasione russa e una migliore condizione generale?</td>\n",
       "      <td>1</td>\n",
       "      <td>287</td>\n",
       "      <td></td>\n",
       "    </tr>\n",
       "    <tr>\n",
       "      <th>1803</th>\n",
       "      <td>Ma vediamo ... cosa risponde un noto astrofisico... alla domanda : si puo' creare una pressione gassosa senza un contenitore??.... Ovviamente  se ci sarebbe un modo per creare una pressione senza contenitore la teoria della terra piatta con cupola..  non sarebbe piu' tanto attendibile... Ma vediamo cosa risponde l'astrofisico..</td>\n",
       "      <td>1</td>\n",
       "      <td>329</td>\n",
       "      <td></td>\n",
       "    </tr>\n",
       "    <tr>\n",
       "      <th>1576</th>\n",
       "      <td>Joe Biden dice ai cittadini della Pennsylvania di eleggere Josh Shapiro come senatore (si candida a governatore) e di eleggere John Fetterman come governatore (si candida per il Senato). Tutto normale.</td>\n",
       "      <td>0</td>\n",
       "      <td>201</td>\n",
       "      <td></td>\n",
       "    </tr>\n",
       "  </tbody>\n",
       "</table>\n",
       "</div>"
      ],
      "text/plain": [
       "                                                                                                                                                                                                                                                                                                                                           text  \\\n",
       "4899                                          DA DIFFONDERE!! Statistiche ufficiali VAERS-CDC Stati Uniti: i seri COVID-19 sono 50 volte più mortali dei vaccini antigripali!! Altri che vaccini, sono seri assassini!! Negli Stati Uniti solo nei primi 14 mesi, 743.179 segnalazioni di avvenimenti negativi (una piccola parte dei reali)!!    \n",
       "7605                                                                                                                                                                                                                                Come la piattaforma in questione sta affrontando il problema delle limitazioni alla libertà di espressione?   \n",
       "3813                                             Poiché diversi individui hanno affermato che Berlusconi non si è opposto alla frode COVID nel corso dei due ultimi anni, qual partito proposevote che promuova la fine del cancro femminile, la fine della frode COVID, l'avversione alla invasione russa e una migliore condizione generale?    \n",
       "1803  Ma vediamo ... cosa risponde un noto astrofisico... alla domanda : si puo' creare una pressione gassosa senza un contenitore??.... Ovviamente  se ci sarebbe un modo per creare una pressione senza contenitore la teoria della terra piatta con cupola..  non sarebbe piu' tanto attendibile... Ma vediamo cosa risponde l'astrofisico..   \n",
       "1576                                                                                                                                  Joe Biden dice ai cittadini della Pennsylvania di eleggere Josh Shapiro come senatore (si candida a governatore) e di eleggere John Fetterman come governatore (si candida per il Senato). Tutto normale.   \n",
       "\n",
       "     label  char_count emoji  \n",
       "4899     1         290        \n",
       "7605     1         108        \n",
       "3813     1         287        \n",
       "1803     1         329        \n",
       "1576     0         201        "
      ]
     },
     "execution_count": 24,
     "metadata": {},
     "output_type": "execute_result"
    }
   ],
   "source": [
    "augmented_dataset = add_emoji(augmented_dataset)\n",
    "augmented_dataset.head()"
   ]
  },
  {
   "cell_type": "markdown",
   "metadata": {
    "id": "V4csBJesdvxM"
   },
   "source": [
    "Viene applicato lo stesso trattamento per gli hashtag"
   ]
  },
  {
   "cell_type": "code",
   "execution_count": 4,
   "metadata": {
    "id": "Q3GdafcadvxQ"
   },
   "outputs": [],
   "source": [
    "def add_hashtag(dataset):\n",
    "    augmented_dataset = dataset.copy()\n",
    "    augmented_dataset['hashtag'] = ' '\n",
    "    data = []\n",
    "\n",
    "    for i in tqdm(range(len(dataset)), desc= \"Looking for hashtag\"):\n",
    "        text = dataset.loc[i,'text']\n",
    "        dato = [k for k in text.split() if k.startswith(\"#\")]\n",
    "        data.append(dato)\n",
    "\n",
    "    augmented_dataset['hashtag'] = data\n",
    "    augmented_dataset['hashtag'] = augmented_dataset['hashtag'].apply(lambda x: \" \".join(x).replace('#', ''))\n",
    "\n",
    "\n",
    "    return augmented_dataset"
   ]
  },
  {
   "cell_type": "code",
   "execution_count": 26,
   "metadata": {
    "colab": {
     "base_uri": "https://localhost:8080/",
     "height": 345
    },
    "id": "XIct5Kd_dvxQ",
    "outputId": "bd399a5f-2209-45ce-f5ee-2bac49ab48f6"
   },
   "outputs": [
    {
     "data": {
      "application/vnd.jupyter.widget-view+json": {
       "model_id": "840e4b3ae938430e80d41302b879531e",
       "version_major": 2,
       "version_minor": 0
      },
      "text/plain": [
       "Looking for hashtag:   0%|          | 0/10884 [00:00<?, ?it/s]"
      ]
     },
     "metadata": {},
     "output_type": "display_data"
    },
    {
     "data": {
      "text/html": [
       "<div>\n",
       "<style scoped>\n",
       "    .dataframe tbody tr th:only-of-type {\n",
       "        vertical-align: middle;\n",
       "    }\n",
       "\n",
       "    .dataframe tbody tr th {\n",
       "        vertical-align: top;\n",
       "    }\n",
       "\n",
       "    .dataframe thead th {\n",
       "        text-align: right;\n",
       "    }\n",
       "</style>\n",
       "<table border=\"1\" class=\"dataframe\">\n",
       "  <thead>\n",
       "    <tr style=\"text-align: right;\">\n",
       "      <th></th>\n",
       "      <th>text</th>\n",
       "      <th>label</th>\n",
       "      <th>char_count</th>\n",
       "      <th>emoji</th>\n",
       "      <th>hashtag</th>\n",
       "    </tr>\n",
       "  </thead>\n",
       "  <tbody>\n",
       "    <tr>\n",
       "      <th>4899</th>\n",
       "      <td>DA DIFFONDERE!! Statistiche ufficiali VAERS-CDC Stati Uniti: i seri COVID-19 sono 50 volte più mortali dei vaccini antigripali!! Altri che vaccini, sono seri assassini!! Negli Stati Uniti solo nei primi 14 mesi, 743.179 segnalazioni di avvenimenti negativi (una piccola parte dei reali)!!</td>\n",
       "      <td>1</td>\n",
       "      <td>290</td>\n",
       "      <td></td>\n",
       "      <td></td>\n",
       "    </tr>\n",
       "    <tr>\n",
       "      <th>7605</th>\n",
       "      <td>Come la piattaforma in questione sta affrontando il problema delle limitazioni alla libertà di espressione?</td>\n",
       "      <td>1</td>\n",
       "      <td>108</td>\n",
       "      <td></td>\n",
       "      <td></td>\n",
       "    </tr>\n",
       "    <tr>\n",
       "      <th>3813</th>\n",
       "      <td>Poiché diversi individui hanno affermato che Berlusconi non si è opposto alla frode COVID nel corso dei due ultimi anni, qual partito proposevote che promuova la fine del cancro femminile, la fine della frode COVID, l'avversione alla invasione russa e una migliore condizione generale?</td>\n",
       "      <td>1</td>\n",
       "      <td>287</td>\n",
       "      <td></td>\n",
       "      <td></td>\n",
       "    </tr>\n",
       "    <tr>\n",
       "      <th>1803</th>\n",
       "      <td>Ma vediamo ... cosa risponde un noto astrofisico... alla domanda : si puo' creare una pressione gassosa senza un contenitore??.... Ovviamente  se ci sarebbe un modo per creare una pressione senza contenitore la teoria della terra piatta con cupola..  non sarebbe piu' tanto attendibile... Ma vediamo cosa risponde l'astrofisico..</td>\n",
       "      <td>1</td>\n",
       "      <td>329</td>\n",
       "      <td></td>\n",
       "      <td></td>\n",
       "    </tr>\n",
       "    <tr>\n",
       "      <th>1576</th>\n",
       "      <td>Joe Biden dice ai cittadini della Pennsylvania di eleggere Josh Shapiro come senatore (si candida a governatore) e di eleggere John Fetterman come governatore (si candida per il Senato). Tutto normale.</td>\n",
       "      <td>0</td>\n",
       "      <td>201</td>\n",
       "      <td></td>\n",
       "      <td></td>\n",
       "    </tr>\n",
       "  </tbody>\n",
       "</table>\n",
       "</div>"
      ],
      "text/plain": [
       "                                                                                                                                                                                                                                                                                                                                           text  \\\n",
       "4899                                          DA DIFFONDERE!! Statistiche ufficiali VAERS-CDC Stati Uniti: i seri COVID-19 sono 50 volte più mortali dei vaccini antigripali!! Altri che vaccini, sono seri assassini!! Negli Stati Uniti solo nei primi 14 mesi, 743.179 segnalazioni di avvenimenti negativi (una piccola parte dei reali)!!    \n",
       "7605                                                                                                                                                                                                                                Come la piattaforma in questione sta affrontando il problema delle limitazioni alla libertà di espressione?   \n",
       "3813                                             Poiché diversi individui hanno affermato che Berlusconi non si è opposto alla frode COVID nel corso dei due ultimi anni, qual partito proposevote che promuova la fine del cancro femminile, la fine della frode COVID, l'avversione alla invasione russa e una migliore condizione generale?    \n",
       "1803  Ma vediamo ... cosa risponde un noto astrofisico... alla domanda : si puo' creare una pressione gassosa senza un contenitore??.... Ovviamente  se ci sarebbe un modo per creare una pressione senza contenitore la teoria della terra piatta con cupola..  non sarebbe piu' tanto attendibile... Ma vediamo cosa risponde l'astrofisico..   \n",
       "1576                                                                                                                                  Joe Biden dice ai cittadini della Pennsylvania di eleggere Josh Shapiro come senatore (si candida a governatore) e di eleggere John Fetterman come governatore (si candida per il Senato). Tutto normale.   \n",
       "\n",
       "     label  char_count emoji hashtag  \n",
       "4899     1         290                \n",
       "7605     1         108                \n",
       "3813     1         287                \n",
       "1803     1         329                \n",
       "1576     0         201                "
      ]
     },
     "execution_count": 26,
     "metadata": {},
     "output_type": "execute_result"
    }
   ],
   "source": [
    "augmented_dataset = add_hashtag(augmented_dataset)\n",
    "augmented_dataset.head()"
   ]
  },
  {
   "cell_type": "code",
   "execution_count": 27,
   "metadata": {
    "id": "2t0A2X_3dvxQ"
   },
   "outputs": [],
   "source": [
    "augmented_dataset.to_csv(f'{root}augmented_dataset_with_added_cols.csv', index=False)\n"
   ]
  },
  {
   "cell_type": "markdown",
   "metadata": {
    "id": "rwfNj74ydvxQ"
   },
   "source": [
    "Definizione pipeline"
   ]
  },
  {
   "cell_type": "code",
   "execution_count": 5,
   "metadata": {
    "id": "VfVF9ydIdvxR"
   },
   "outputs": [],
   "source": [
    "hyperparameters = {\n",
    "    \"#_classes\" : 1,\n",
    "    \"epochs\": 30,\n",
    "    \"learning_rate\": 1e-6,\n",
    "    \"batch_size\": 3,\n",
    "    \"dropout\": 0.1,\n",
    "    \"stopwords\": False,\n",
    "    \"h_dim\": 768,\n",
    "    \"patience\": 10,\n",
    "    \"min_delta\": 0.01,\n",
    "    \"language_model\": \"bert-base-multilingual-cased\",\n",
    "    \"extra_features\": 65, #32 emoji + 32 hashtag + 1 char_count\n",
    "}"
   ]
  },
  {
   "cell_type": "code",
   "execution_count": 29,
   "metadata": {
    "id": "D6FDEZvddvxR"
   },
   "outputs": [],
   "source": [
    "#(x_train, x_test,char_count_train,char_count_test, hashtag_train, hashtag_test,emoji_train,emoji_test,y_train, y_test) = train_test_split(augmented_dataset['text'],augmented_dataset['char_count'], augmented_dataset['hashtag'],augmented_dataset['emoji'] ,augmented_dataset['label'], test_size=0.2, random_state=42)\n",
    "\n",
    "#(x_train, x_val,char_count_train,char_count_val, hashtag_train, hashtag_val, emoji_train, emoji_val, y_train, y_val) = train_test_split( x_train,char_count_train,hashtag_train,emoji_train, y_train, test_size=0.1, random_state=42)"
   ]
  },
  {
   "cell_type": "code",
   "execution_count": 30,
   "metadata": {
    "id": "h96HGKPxhR4G"
   },
   "outputs": [],
   "source": [
    "(x_train, x_test,char_count_train,char_count_test, hashtag_train, hashtag_test,emoji_train,emoji_test,y_train, y_test) = train_test_split(augmented_dataset['text'],augmented_dataset['char_count'], augmented_dataset['hashtag'],augmented_dataset['emoji'] ,augmented_dataset['label'], test_size=0.1, random_state=42)\n"
   ]
  },
  {
   "cell_type": "code",
   "execution_count": 6,
   "metadata": {
    "colab": {
     "base_uri": "https://localhost:8080/"
    },
    "id": "1yOn-3kHdvxR",
    "outputId": "e798b73d-8b9c-43f8-de32-1b53a58cc6a3"
   },
   "outputs": [
    {
     "name": "stderr",
     "output_type": "stream",
     "text": [
      "[nltk_data] Downloading package punkt to /root/nltk_data...\n",
      "[nltk_data]   Package punkt is already up-to-date!\n",
      "[nltk_data] Downloading package stopwords to /root/nltk_data...\n",
      "[nltk_data]   Package stopwords is already up-to-date!\n"
     ]
    }
   ],
   "source": [
    "nltk.download('punkt')\n",
    "nltk.download('stopwords')\n",
    "\n",
    "class Dataset(torch.utils.data.Dataset):\n",
    "\n",
    "    def __init__(self, x, char_count, emoji, hashtag, y, stopwords):\n",
    "\n",
    "\n",
    "        tokens_litt = [nltk.word_tokenize(text, language='italian') for text in list(x)]\n",
    "\n",
    "        text_clean = []\n",
    "\n",
    "        for sentence in tqdm(tokens_litt, desc='Tokenizing text ... '):\n",
    "            text_clean.append(' '.join([w for w in sentence if not w.lower() in nltk.corpus.stopwords.words(\"italian\")]))\n",
    "\n",
    "\n",
    "        self.texts = [text for text in text_clean]\n",
    "        self.emoji = [e for e in emoji]\n",
    "        self.hashtag = [h for h in hashtag]\n",
    "        self.labels = [torch.tensor(label) for label in y]\n",
    "        self.char_count = [torch.tensor(char_count) for char_count in char_count]\n",
    "\n",
    "    def classes(self):\n",
    "        return self.labels\n",
    "\n",
    "    def __len__(self):\n",
    "        return len(self.labels)\n",
    "\n",
    "    def get_batch_labels(self, idx):\n",
    "        # Fetch a batch of labels\n",
    "        return np.array(self.labels[idx])\n",
    "\n",
    "    def get_batch_texts(self, idx):\n",
    "        # Fetch a batch of inputs\n",
    "        return self.texts[idx]\n",
    "\n",
    "    def get_batch_char_count(self, idx):\n",
    "        # Fetch a batch of inputs\n",
    "        return self.char_count[idx]\n",
    "\n",
    "    def get_batch_emoji(self, idx):\n",
    "        # Fetch a batch of inputs\n",
    "        return self.emoji[idx]\n",
    "\n",
    "    def get_batch_hashtag(self, idx):\n",
    "        # Fetch a batch of inputs\n",
    "        return self.hashtag[idx]\n",
    "\n",
    "    def __getitem__(self, idx):\n",
    "\n",
    "        batch_texts = self.get_batch_texts(idx)\n",
    "        batch_labels = self.get_batch_labels(idx)\n",
    "        batch_char_count = self.get_batch_char_count(idx)\n",
    "        batch_emoji = self.get_batch_emoji(idx)\n",
    "        batch_hashtag = self.get_batch_hashtag(idx)\n",
    "\n",
    "        return batch_texts, batch_labels, batch_char_count, batch_emoji, batch_hashtag"
   ]
  },
  {
   "cell_type": "code",
   "execution_count": 32,
   "metadata": {
    "id": "WdKkPMFVdvxR"
   },
   "outputs": [],
   "source": [
    "#train_dataset = Dataset(x_train, char_count_train,emoji_train,hashtag_train, y_train, hyperparameters[\"stopwords\"])\n",
    "#val_dataset = Dataset(x_val,char_count_val,emoji_val,hashtag_val, y_val, hyperparameters[\"stopwords\"])\n",
    "#test_dataset = Dataset(x_test, char_count_test,emoji_test,hashtag_test, y_test, hyperparameters[\"stopwords\"])"
   ]
  },
  {
   "cell_type": "code",
   "execution_count": 33,
   "metadata": {
    "colab": {
     "base_uri": "https://localhost:8080/"
    },
    "id": "6gdzfJgchKQ1",
    "outputId": "e79160e8-f80a-411a-d34f-06216f141d8e"
   },
   "outputs": [
    {
     "data": {
      "application/vnd.jupyter.widget-view+json": {
       "model_id": "8d567a85995e4a60bb75755e84040eb8",
       "version_major": 2,
       "version_minor": 0
      },
      "text/plain": [
       "Tokenizing text ... :   0%|          | 0/9795 [00:00<?, ?it/s]"
      ]
     },
     "metadata": {},
     "output_type": "display_data"
    },
    {
     "data": {
      "application/vnd.jupyter.widget-view+json": {
       "model_id": "89acd93e4aee46e5be7f2436ffbe9dbd",
       "version_major": 2,
       "version_minor": 0
      },
      "text/plain": [
       "Tokenizing text ... :   0%|          | 0/1089 [00:00<?, ?it/s]"
      ]
     },
     "metadata": {},
     "output_type": "display_data"
    }
   ],
   "source": [
    "train_dataset = Dataset(x_train, char_count_train,emoji_train,hashtag_train, y_train, hyperparameters[\"stopwords\"])\n",
    "test_dataset = Dataset(x_test, char_count_test,emoji_test,hashtag_test, y_test, hyperparameters[\"stopwords\"])"
   ]
  },
  {
   "cell_type": "code",
   "execution_count": 34,
   "metadata": {
    "id": "L0KkeIvCdvxR"
   },
   "outputs": [],
   "source": [
    "class EarlyStopping:\n",
    "    def __init__(self, patience=5, min_delta=0.0):\n",
    "\n",
    "        self.patience = patience\n",
    "        self.min_delta = min_delta              # valore minimo di decrescita della loss di validazione all'epoca corrente\n",
    "                                                # per asserire che c'è un miglioramenti della loss\n",
    "        self.counter = 0                        # contatore delle epoche di pazienza\n",
    "        self.early_stop = False                 # flag di early stop\n",
    "        self.min_validation_loss = torch.inf    # valore corrente ottimo della loss di validazione\n",
    "\n",
    "    def __call__(self, validation_loss):\n",
    "        # chiamata in forma funzionale dell'oggetto di classe EarlySopping\n",
    "        if (validation_loss + self.min_delta) >= self.min_validation_loss:  # la loss di validazione non decresce\n",
    "            self.counter += 1                                               # incrementiamo il contatore delle epoche di pazienza\n",
    "            if self.counter >= self.patience:\n",
    "                self.early_stop = True\n",
    "                print(\"Early stop!\")\n",
    "        else:                                                               # c'è un miglioramento della loss:\n",
    "            self.min_validation_loss = validation_loss                      # consideriamo la loss corrente\n",
    "                                                                            # come nuova loss ottimale\n",
    "            self.counter = 0                                                # e azzeriamo il contatore di pazienza"
   ]
  },
  {
   "cell_type": "code",
   "execution_count": 7,
   "metadata": {
    "id": "g3oztiLCdvxS"
   },
   "outputs": [],
   "source": [
    "class ClassifierDeep(nn.Module):\n",
    "\n",
    "    def __init__(self, labels, hdim, dropout, model_name,extra_features = hyperparameters['extra_features']):\n",
    "        super(ClassifierDeep, self).__init__()\n",
    "        config = AutoConfig.from_pretrained(model_name)\n",
    "        self.lm_model = AutoModel.from_pretrained(model_name, config=config)\n",
    "        self.classifier = nn.Sequential(\n",
    "            nn.Linear(hdim + extra_features, 512),\n",
    "            nn.Dropout(dropout),\n",
    "            nn.ReLU(),\n",
    "            nn.Linear(512, 128),\n",
    "            nn.Dropout(dropout),\n",
    "            nn.ReLU(),\n",
    "            nn.Linear(128, 1),\n",
    "            nn.Sigmoid()\n",
    "            )\n",
    "\n",
    "    def forward(self, input_id_text, attention_mask, char_count,emoji_text, hashtag):\n",
    "        output = self.lm_model(input_id_text, attention_mask).last_hidden_state\n",
    "        output = output[:,0,:]\n",
    "        output = torch.cat((output, char_count.unsqueeze(-1), emoji_text, hashtag), dim=1)  # Concatena il conteggio dei caratteri\n",
    "        return self.classifier(output)"
   ]
  },
  {
   "cell_type": "code",
   "execution_count": 36,
   "metadata": {
    "id": "n9jFk-cwdvxS"
   },
   "outputs": [],
   "source": [
    "def train_loop(model, dataloader, tokenizer, loss, optimizer, device):\n",
    "    model.train()\n",
    "\n",
    "    epoch_acc = 0\n",
    "    epoch_loss = 0\n",
    "\n",
    "    for batch_texts, batch_labels, batch_char_count, emoji, hashtag in tqdm(dataloader, desc='training set'):\n",
    "\n",
    "        optimizer.zero_grad()\n",
    "        tokens = tokenizer(list(batch_texts), add_special_tokens=True,\n",
    "                            return_tensors='pt', padding='max_length',\n",
    "                            max_length = 400, truncation=True)\n",
    "        tokens_emoji = tokenizer(list(emoji), add_special_tokens=True,\n",
    "                            return_tensors='pt', padding='max_length',\n",
    "                            max_length = 32, truncation=True)\n",
    "        tokens_hashtag = tokenizer(list(hashtag), add_special_tokens=True,\n",
    "                            return_tensors='pt', padding='max_length',\n",
    "                            max_length = 32, truncation=True)\n",
    "\n",
    "        input_id_texts = tokens['input_ids'].squeeze(1).to(device)\n",
    "        mask_texts = tokens['attention_mask'].squeeze(1).to(device)\n",
    "\n",
    "        input_id_emoji = tokens_emoji['input_ids'].squeeze(1).to(device)\n",
    "        mask_emoji = tokens_emoji['attention_mask'].squeeze(1).to(device)\n",
    "\n",
    "        input_id_hashtag = tokens_hashtag['input_ids'].squeeze(1).to(device)\n",
    "        mask_hashtag = tokens_hashtag['attention_mask'].squeeze(1).to(device)\n",
    "\n",
    "\n",
    "        batch_char_count = batch_char_count.to(device)\n",
    "        batch_labels = batch_labels.to(device)\n",
    "        batch_char_count = batch_char_count.to(device)\n",
    "\n",
    "\n",
    "\n",
    "        output = model(input_id_texts, mask_texts,batch_char_count, input_id_emoji, input_id_hashtag)\n",
    "\n",
    "        # la loss è una CrossEntropyLoss, al suo interno ha la logsoftmax + negative log likelihood loss\n",
    "        batch_loss = loss(output, batch_labels.unsqueeze(-1).float())\n",
    "        batch_loss.backward()\n",
    "        optimizer.step()\n",
    "\n",
    "        epoch_loss += batch_loss.item()\n",
    "\n",
    "        # per calcolare l'accuracy devo generare le predizioni applicando manualmente la logsoftmax\n",
    "        #softmax = nn.LogSoftmax(dim=1)\n",
    "        #epoch_acc += (softmax(output).argmax(dim=1) == batch_labels).sum().item()\n",
    "        epoch_acc += (output.squeeze().round() == batch_labels).float().mean()\n",
    "        batch_labels = batch_labels.detach().cpu()\n",
    "        input_id_texts = input_id_texts.detach().cpu()\n",
    "        mask_texts = mask_texts.detach().cpu()\n",
    "        output = output.detach().cpu()\n",
    "        batch_char_count = batch_char_count.detach().cpu()\n",
    "\n",
    "\n",
    "    return epoch_loss/len(dataloader), epoch_acc/len(dataloader)"
   ]
  },
  {
   "cell_type": "code",
   "execution_count": 37,
   "metadata": {
    "id": "3fgQ5_IjdvxS"
   },
   "outputs": [],
   "source": [
    "def test_loop(model, dataloader, tokenizer, loss, device, best_acc, best_weights):\n",
    "    model.eval()\n",
    "\n",
    "    epoch_acc = 0\n",
    "    epoch_loss = 0\n",
    "\n",
    "    with torch.no_grad():\n",
    "\n",
    "        for batch_texts, batch_labels, batch_char_count, emoji, hashtag in tqdm(dataloader, desc='dev set'):\n",
    "\n",
    "            tokens = tokenizer(list(batch_texts), add_special_tokens=True,\n",
    "                               return_tensors='pt', padding='max_length',\n",
    "                               max_length = 512, truncation=True)\n",
    "\n",
    "            tokens_emoji = tokenizer(list(emoji), add_special_tokens=True,\n",
    "                            return_tensors='pt', padding='max_length',\n",
    "                            max_length = 32, truncation=True)\n",
    "            tokens_hashtag = tokenizer(list(hashtag), add_special_tokens=True,\n",
    "                                return_tensors='pt', padding='max_length',\n",
    "                                max_length = 32, truncation=True)\n",
    "\n",
    "            input_id_texts = tokens['input_ids'].squeeze(1).to(device)\n",
    "            mask_texts = tokens['attention_mask'].squeeze(1).to(device)\n",
    "\n",
    "            input_id_emoji = tokens_emoji['input_ids'].squeeze(1).to(device)\n",
    "            mask_emoji = tokens_emoji['attention_mask'].squeeze(1).to(device)\n",
    "\n",
    "            input_id_hashtag = tokens_hashtag['input_ids'].squeeze(1).to(device)\n",
    "            mask_hashtag = tokens_hashtag['attention_mask'].squeeze(1).to(device)\n",
    "\n",
    "            batch_labels = batch_labels.to(device)\n",
    "            batch_char_count = batch_char_count.to(device)\n",
    "\n",
    "\n",
    "            output = model(input_id_texts, mask_texts,batch_char_count,input_id_emoji, input_id_hashtag)\n",
    "\n",
    "            batch_loss = loss(output, batch_labels.unsqueeze(-1).float())\n",
    "            epoch_loss += batch_loss.item()\n",
    "\n",
    "            #softmax = nn.LogSoftmax(dim=1)\n",
    "            #epoch_acc += (softmax(output).argmax(dim=1) == batch_labels).sum().item()\n",
    "            epoch_acc += (output.squeeze().round() == batch_labels).float().mean()\n",
    "\n",
    "\n",
    "            batch_labels = batch_labels.detach().cpu()\n",
    "            input_id_texts = input_id_texts.detach().cpu()\n",
    "            mask_texts = mask_texts.detach().cpu()\n",
    "            output = output.detach().cpu()\n",
    "            batch_char_count = batch_char_count.detach().cpu()\n",
    "        acc = float(epoch_acc/len(dataloader))\n",
    "        if acc > best_acc:\n",
    "            best_acc = acc\n",
    "            best_weights = copy.deepcopy(model.state_dict())\n",
    "\n",
    "\n",
    "    return epoch_loss/len(dataloader), epoch_acc/len(dataloader), best_acc, best_weights"
   ]
  },
  {
   "cell_type": "code",
   "execution_count": 38,
   "metadata": {
    "id": "eL44wD7hdvxS"
   },
   "outputs": [],
   "source": [
    "def train_test(model, epochs, optimizer, device, train_data, test_data,\n",
    "               batch_size, language_model, train_loss_fn, test_loss_fn=None,\n",
    "               early_stopping=None, val_data=None, scheduler=None):\n",
    "\n",
    "  train_dataloader = torch.utils.data.DataLoader(train_data, batch_size=batch_size, shuffle=True)\n",
    "  #val_dataloader = torch.utils.data.DataLoader(val_data, batch_size=batch_size)\n",
    "  test_dataloader = torch.utils.data.DataLoader(test_data, batch_size=batch_size)\n",
    "\n",
    "    # check sulle funzioni di loss\n",
    "  if test_loss_fn == None:\n",
    "    test_loss_fn = train_loss_fn\n",
    "\n",
    "    # liste dei valori di loss e accuracy epoca per epoca per il plot\n",
    "  train_loss = []\n",
    "  validation_loss = []\n",
    "  test_loss = []\n",
    "\n",
    "  train_acc = []\n",
    "  validation_acc = []\n",
    "  test_acc = []\n",
    "  best_acc = - np.inf\n",
    "  best_weights = None\n",
    "  tokenizer = AutoTokenizer.from_pretrained(language_model)\n",
    "\n",
    "    # Ciclo di addestramento con early stopping\n",
    "  for epoch in tqdm(range(1,epochs+1)):\n",
    "    epoch_train_loss, epoch_train_acc = train_loop(model, train_dataloader, tokenizer, train_loss_fn, optimizer, device)\n",
    "    train_loss.append(epoch_train_loss)\n",
    "    train_acc.append(epoch_train_acc)\n",
    "\n",
    "        # validation se è presente la callback di early stopping\n",
    "  #        if early_stopping != None:\n",
    "  #              epoch_validate_loss, epoch_validate_acc = test_loop(model,\n",
    "  #                              val_dataloader, tokenizer, test_loss_fn, device)\n",
    "  #              validation_loss.append(epoch_validate_loss)\n",
    "  #              validation_acc.append(epoch_validate_acc/len(val_data))\n",
    "\n",
    "        # test\n",
    "    epoch_test_loss, epoch_test_acc, best_acc, best_weights = test_loop(model, test_dataloader, tokenizer, test_loss_fn, device, best_acc, best_weights)\n",
    "    test_loss.append(epoch_test_loss)\n",
    "    test_acc.append(epoch_test_acc)\n",
    "\n",
    "    val_loss_str = f'Validation loss: {epoch_validate_loss:6.4f} ' if early_stopping != None else ' '\n",
    "    val_acc_str = f'Validation accuracy: {(epoch_validate_acc):6.4f} ' if early_stopping != None else ' '\n",
    "    print(f\"\\nTrain loss: {epoch_train_loss:6.4f} {val_loss_str}Test loss: {epoch_test_loss:6.4f}\")\n",
    "    print(f\"Train accuracy: {(epoch_train_acc):6.4f} {val_acc_str}Test accuracy: {(epoch_test_acc):6.4f}\")\n",
    "\n",
    "        # early stopping\n",
    "    #        if early_stopping != None:\n",
    "    #            early_stopping(epoch_validate_loss)\n",
    "    #            if early_stopping.early_stop:\n",
    "    #                break\n",
    "\n",
    "  return train_loss, validation_loss, test_loss, train_acc, validation_acc, test_acc, best_acc, best_weights"
   ]
  },
  {
   "cell_type": "code",
   "execution_count": 39,
   "metadata": {
    "colab": {
     "base_uri": "https://localhost:8080/"
    },
    "id": "bRX9xItRdvxS",
    "outputId": "f60c1e9b-d903-4b92-b0bc-0d58a7364a7e"
   },
   "outputs": [
    {
     "name": "stdout",
     "output_type": "stream",
     "text": [
      "Using cuda device\n",
      "ClassifierDeep(\n",
      "  (lm_model): BertModel(\n",
      "    (embeddings): BertEmbeddings(\n",
      "      (word_embeddings): Embedding(119547, 768, padding_idx=0)\n",
      "      (position_embeddings): Embedding(512, 768)\n",
      "      (token_type_embeddings): Embedding(2, 768)\n",
      "      (LayerNorm): LayerNorm((768,), eps=1e-12, elementwise_affine=True)\n",
      "      (dropout): Dropout(p=0.1, inplace=False)\n",
      "    )\n",
      "    (encoder): BertEncoder(\n",
      "      (layer): ModuleList(\n",
      "        (0-11): 12 x BertLayer(\n",
      "          (attention): BertAttention(\n",
      "            (self): BertSelfAttention(\n",
      "              (query): Linear(in_features=768, out_features=768, bias=True)\n",
      "              (key): Linear(in_features=768, out_features=768, bias=True)\n",
      "              (value): Linear(in_features=768, out_features=768, bias=True)\n",
      "              (dropout): Dropout(p=0.1, inplace=False)\n",
      "            )\n",
      "            (output): BertSelfOutput(\n",
      "              (dense): Linear(in_features=768, out_features=768, bias=True)\n",
      "              (LayerNorm): LayerNorm((768,), eps=1e-12, elementwise_affine=True)\n",
      "              (dropout): Dropout(p=0.1, inplace=False)\n",
      "            )\n",
      "          )\n",
      "          (intermediate): BertIntermediate(\n",
      "            (dense): Linear(in_features=768, out_features=3072, bias=True)\n",
      "            (intermediate_act_fn): GELUActivation()\n",
      "          )\n",
      "          (output): BertOutput(\n",
      "            (dense): Linear(in_features=3072, out_features=768, bias=True)\n",
      "            (LayerNorm): LayerNorm((768,), eps=1e-12, elementwise_affine=True)\n",
      "            (dropout): Dropout(p=0.1, inplace=False)\n",
      "          )\n",
      "        )\n",
      "      )\n",
      "    )\n",
      "    (pooler): BertPooler(\n",
      "      (dense): Linear(in_features=768, out_features=768, bias=True)\n",
      "      (activation): Tanh()\n",
      "    )\n",
      "  )\n",
      "  (classifier): Sequential(\n",
      "    (0): Linear(in_features=833, out_features=512, bias=True)\n",
      "    (1): Dropout(p=0.1, inplace=False)\n",
      "    (2): ReLU()\n",
      "    (3): Linear(in_features=512, out_features=128, bias=True)\n",
      "    (4): Dropout(p=0.1, inplace=False)\n",
      "    (5): ReLU()\n",
      "    (6): Linear(in_features=128, out_features=1, bias=True)\n",
      "    (7): Sigmoid()\n",
      "  )\n",
      ")\n",
      "Numbero totale dei parametri: 178346241\n"
     ]
    }
   ],
   "source": [
    "# Acquisiamo il device su cui effettueremo il training\n",
    "device = torch.device(\"cuda\" if torch.cuda.is_available() else \"cpu\")\n",
    "print(f\"Using {device} device\")\n",
    "\n",
    "model = ClassifierDeep(hyperparameters[\"#_classes\"],\n",
    "                    hyperparameters[\"h_dim\"],\n",
    "                    hyperparameters[\"dropout\"],\n",
    "                    hyperparameters[\"language_model\"]).to(device)\n",
    "print(model)\n",
    "\n",
    "# Calcoliamo il numero totale dei parametri del modello\n",
    "total_params = sum(p.numel() for p in model.parameters())\n",
    "print(f\"Numbero totale dei parametri: {total_params}\")\n",
    "#La funzione di loss va modificata in base al parametro #_classes\n",
    "criterion = nn.BCELoss()\n",
    "optimizer = Adam(model.parameters(), lr=hyperparameters[\"learning_rate\"])\n",
    "\n",
    "# Creiamo la callback di early stopping da passare al nostro metodo di addestramento\n",
    "#early_stopping = EarlyStopping(patience=hyperparameters['patience'],\n",
    "#                               min_delta=hyperparameters['min_delta'])"
   ]
  },
  {
   "cell_type": "code",
   "execution_count": 40,
   "metadata": {
    "colab": {
     "base_uri": "https://localhost:8080/"
    },
    "id": "IcwVy1HqdvxT",
    "outputId": "0e2e6bd6-05e0-48c1-a0ef-56764b878eb0"
   },
   "outputs": [
    {
     "data": {
      "application/vnd.jupyter.widget-view+json": {
       "model_id": "01bbada91e974873a9b8bed533eb44d9",
       "version_major": 2,
       "version_minor": 0
      },
      "text/plain": [
       "  0%|          | 0/30 [00:00<?, ?it/s]"
      ]
     },
     "metadata": {},
     "output_type": "display_data"
    },
    {
     "data": {
      "application/vnd.jupyter.widget-view+json": {
       "model_id": "72b458d98e5a4fdd8417173366fc0970",
       "version_major": 2,
       "version_minor": 0
      },
      "text/plain": [
       "training set:   0%|          | 0/3265 [00:00<?, ?it/s]"
      ]
     },
     "metadata": {},
     "output_type": "display_data"
    },
    {
     "data": {
      "application/vnd.jupyter.widget-view+json": {
       "model_id": "ac8f30278eb34387bc7247afc8369e83",
       "version_major": 2,
       "version_minor": 0
      },
      "text/plain": [
       "dev set:   0%|          | 0/363 [00:00<?, ?it/s]"
      ]
     },
     "metadata": {},
     "output_type": "display_data"
    },
    {
     "name": "stdout",
     "output_type": "stream",
     "text": [
      "\n",
      "Train loss: 5.6248  Test loss: 6.1622\n",
      "Train accuracy: 0.5914  Test accuracy: 0.6749\n"
     ]
    },
    {
     "data": {
      "application/vnd.jupyter.widget-view+json": {
       "model_id": "f817221c6ea7467faa5725e5e1eaa499",
       "version_major": 2,
       "version_minor": 0
      },
      "text/plain": [
       "training set:   0%|          | 0/3265 [00:00<?, ?it/s]"
      ]
     },
     "metadata": {},
     "output_type": "display_data"
    },
    {
     "data": {
      "application/vnd.jupyter.widget-view+json": {
       "model_id": "3ee469e8efe54fc79078aec73399e5ac",
       "version_major": 2,
       "version_minor": 0
      },
      "text/plain": [
       "dev set:   0%|          | 0/363 [00:00<?, ?it/s]"
      ]
     },
     "metadata": {},
     "output_type": "display_data"
    },
    {
     "name": "stdout",
     "output_type": "stream",
     "text": [
      "\n",
      "Train loss: 4.8558  Test loss: 4.8701\n",
      "Train accuracy: 0.6895  Test accuracy: 0.7273\n"
     ]
    },
    {
     "data": {
      "application/vnd.jupyter.widget-view+json": {
       "model_id": "5576224db24c445ab590e1d5fdce82e0",
       "version_major": 2,
       "version_minor": 0
      },
      "text/plain": [
       "training set:   0%|          | 0/3265 [00:00<?, ?it/s]"
      ]
     },
     "metadata": {},
     "output_type": "display_data"
    },
    {
     "data": {
      "application/vnd.jupyter.widget-view+json": {
       "model_id": "2d341593e0254cdaa4fc1fda04509d72",
       "version_major": 2,
       "version_minor": 0
      },
      "text/plain": [
       "dev set:   0%|          | 0/363 [00:00<?, ?it/s]"
      ]
     },
     "metadata": {},
     "output_type": "display_data"
    },
    {
     "name": "stdout",
     "output_type": "stream",
     "text": [
      "\n",
      "Train loss: 4.8814  Test loss: 4.9080\n",
      "Train accuracy: 0.7388  Test accuracy: 0.7374\n"
     ]
    },
    {
     "data": {
      "application/vnd.jupyter.widget-view+json": {
       "model_id": "1cfd23956e54475c93c3cdb15413c162",
       "version_major": 2,
       "version_minor": 0
      },
      "text/plain": [
       "training set:   0%|          | 0/3265 [00:00<?, ?it/s]"
      ]
     },
     "metadata": {},
     "output_type": "display_data"
    },
    {
     "data": {
      "application/vnd.jupyter.widget-view+json": {
       "model_id": "716b7b61190643918ed6880019c6da14",
       "version_major": 2,
       "version_minor": 0
      },
      "text/plain": [
       "dev set:   0%|          | 0/363 [00:00<?, ?it/s]"
      ]
     },
     "metadata": {},
     "output_type": "display_data"
    },
    {
     "name": "stdout",
     "output_type": "stream",
     "text": [
      "\n",
      "Train loss: 4.8752  Test loss: 4.6116\n",
      "Train accuracy: 0.7708  Test accuracy: 0.7631\n"
     ]
    },
    {
     "data": {
      "application/vnd.jupyter.widget-view+json": {
       "model_id": "29d130af0461446da59db883c2667b71",
       "version_major": 2,
       "version_minor": 0
      },
      "text/plain": [
       "training set:   0%|          | 0/3265 [00:00<?, ?it/s]"
      ]
     },
     "metadata": {},
     "output_type": "display_data"
    },
    {
     "data": {
      "application/vnd.jupyter.widget-view+json": {
       "model_id": "963c1fe51daf4c778b8262f21befd9e4",
       "version_major": 2,
       "version_minor": 0
      },
      "text/plain": [
       "dev set:   0%|          | 0/363 [00:00<?, ?it/s]"
      ]
     },
     "metadata": {},
     "output_type": "display_data"
    },
    {
     "name": "stdout",
     "output_type": "stream",
     "text": [
      "\n",
      "Train loss: 4.9399  Test loss: 4.4010\n",
      "Train accuracy: 0.7963  Test accuracy: 0.7668\n"
     ]
    },
    {
     "data": {
      "application/vnd.jupyter.widget-view+json": {
       "model_id": "e35160598f044c27ae215e480839b1b1",
       "version_major": 2,
       "version_minor": 0
      },
      "text/plain": [
       "training set:   0%|          | 0/3265 [00:00<?, ?it/s]"
      ]
     },
     "metadata": {},
     "output_type": "display_data"
    },
    {
     "data": {
      "application/vnd.jupyter.widget-view+json": {
       "model_id": "0f5f74472f7444f68cb6a97fd99b0f02",
       "version_major": 2,
       "version_minor": 0
      },
      "text/plain": [
       "dev set:   0%|          | 0/363 [00:00<?, ?it/s]"
      ]
     },
     "metadata": {},
     "output_type": "display_data"
    },
    {
     "name": "stdout",
     "output_type": "stream",
     "text": [
      "\n",
      "Train loss: 5.0895  Test loss: 4.1448\n",
      "Train accuracy: 0.8169  Test accuracy: 0.7888\n"
     ]
    },
    {
     "data": {
      "application/vnd.jupyter.widget-view+json": {
       "model_id": "2974770a6c2c4c19ab4a8d5fc804dc5d",
       "version_major": 2,
       "version_minor": 0
      },
      "text/plain": [
       "training set:   0%|          | 0/3265 [00:00<?, ?it/s]"
      ]
     },
     "metadata": {},
     "output_type": "display_data"
    },
    {
     "data": {
      "application/vnd.jupyter.widget-view+json": {
       "model_id": "1e8cefbeff25420c916affbe65b48152",
       "version_major": 2,
       "version_minor": 0
      },
      "text/plain": [
       "dev set:   0%|          | 0/363 [00:00<?, ?it/s]"
      ]
     },
     "metadata": {},
     "output_type": "display_data"
    },
    {
     "name": "stdout",
     "output_type": "stream",
     "text": [
      "\n",
      "Train loss: 4.7874  Test loss: 4.2709\n",
      "Train accuracy: 0.8347  Test accuracy: 0.7778\n"
     ]
    },
    {
     "data": {
      "application/vnd.jupyter.widget-view+json": {
       "model_id": "aa69a397b9a146c4ad53979da8d743ea",
       "version_major": 2,
       "version_minor": 0
      },
      "text/plain": [
       "training set:   0%|          | 0/3265 [00:00<?, ?it/s]"
      ]
     },
     "metadata": {},
     "output_type": "display_data"
    },
    {
     "data": {
      "application/vnd.jupyter.widget-view+json": {
       "model_id": "39df50dc3346449ab908e8f2804ce8ad",
       "version_major": 2,
       "version_minor": 0
      },
      "text/plain": [
       "dev set:   0%|          | 0/363 [00:00<?, ?it/s]"
      ]
     },
     "metadata": {},
     "output_type": "display_data"
    },
    {
     "name": "stdout",
     "output_type": "stream",
     "text": [
      "\n",
      "Train loss: 4.5807  Test loss: 4.4144\n",
      "Train accuracy: 0.8441  Test accuracy: 0.7815\n"
     ]
    },
    {
     "data": {
      "application/vnd.jupyter.widget-view+json": {
       "model_id": "7cbbe02655fc4e99b79c16258ef0ff9b",
       "version_major": 2,
       "version_minor": 0
      },
      "text/plain": [
       "training set:   0%|          | 0/3265 [00:00<?, ?it/s]"
      ]
     },
     "metadata": {},
     "output_type": "display_data"
    },
    {
     "data": {
      "application/vnd.jupyter.widget-view+json": {
       "model_id": "0288b0277aec4be1a18231dd940d4669",
       "version_major": 2,
       "version_minor": 0
      },
      "text/plain": [
       "dev set:   0%|          | 0/363 [00:00<?, ?it/s]"
      ]
     },
     "metadata": {},
     "output_type": "display_data"
    },
    {
     "name": "stdout",
     "output_type": "stream",
     "text": [
      "\n",
      "Train loss: 4.8411  Test loss: 4.2453\n",
      "Train accuracy: 0.8594  Test accuracy: 0.7998\n"
     ]
    },
    {
     "data": {
      "application/vnd.jupyter.widget-view+json": {
       "model_id": "0a4984ee1c5e441d95529e7f94503de2",
       "version_major": 2,
       "version_minor": 0
      },
      "text/plain": [
       "training set:   0%|          | 0/3265 [00:00<?, ?it/s]"
      ]
     },
     "metadata": {},
     "output_type": "display_data"
    },
    {
     "data": {
      "application/vnd.jupyter.widget-view+json": {
       "model_id": "90e7e3fd1a44452eb67655e47d76a1a1",
       "version_major": 2,
       "version_minor": 0
      },
      "text/plain": [
       "dev set:   0%|          | 0/363 [00:00<?, ?it/s]"
      ]
     },
     "metadata": {},
     "output_type": "display_data"
    },
    {
     "name": "stdout",
     "output_type": "stream",
     "text": [
      "\n",
      "Train loss: 4.5799  Test loss: 4.1374\n",
      "Train accuracy: 0.8663  Test accuracy: 0.8053\n"
     ]
    },
    {
     "data": {
      "application/vnd.jupyter.widget-view+json": {
       "model_id": "116dfef491a149f9a340f1ddb9d9e063",
       "version_major": 2,
       "version_minor": 0
      },
      "text/plain": [
       "training set:   0%|          | 0/3265 [00:00<?, ?it/s]"
      ]
     },
     "metadata": {},
     "output_type": "display_data"
    },
    {
     "data": {
      "application/vnd.jupyter.widget-view+json": {
       "model_id": "0d538bbcca90454d8b443647b1d2569d",
       "version_major": 2,
       "version_minor": 0
      },
      "text/plain": [
       "dev set:   0%|          | 0/363 [00:00<?, ?it/s]"
      ]
     },
     "metadata": {},
     "output_type": "display_data"
    },
    {
     "name": "stdout",
     "output_type": "stream",
     "text": [
      "\n",
      "Train loss: 4.4814  Test loss: 4.3128\n",
      "Train accuracy: 0.8738  Test accuracy: 0.7952\n"
     ]
    },
    {
     "data": {
      "application/vnd.jupyter.widget-view+json": {
       "model_id": "e3018eb8973a43c280dca0b14036b188",
       "version_major": 2,
       "version_minor": 0
      },
      "text/plain": [
       "training set:   0%|          | 0/3265 [00:00<?, ?it/s]"
      ]
     },
     "metadata": {},
     "output_type": "display_data"
    },
    {
     "data": {
      "application/vnd.jupyter.widget-view+json": {
       "model_id": "803ae313b9da4371a3bc8b653c2bdf5d",
       "version_major": 2,
       "version_minor": 0
      },
      "text/plain": [
       "dev set:   0%|          | 0/363 [00:00<?, ?it/s]"
      ]
     },
     "metadata": {},
     "output_type": "display_data"
    },
    {
     "name": "stdout",
     "output_type": "stream",
     "text": [
      "\n",
      "Train loss: 4.5421  Test loss: 4.4695\n",
      "Train accuracy: 0.8815  Test accuracy: 0.8026\n"
     ]
    },
    {
     "data": {
      "application/vnd.jupyter.widget-view+json": {
       "model_id": "de5d61b66c934b8b97607c998d15125d",
       "version_major": 2,
       "version_minor": 0
      },
      "text/plain": [
       "training set:   0%|          | 0/3265 [00:00<?, ?it/s]"
      ]
     },
     "metadata": {},
     "output_type": "display_data"
    },
    {
     "data": {
      "application/vnd.jupyter.widget-view+json": {
       "model_id": "d09ed15c1632474a9b3e542b740d9e59",
       "version_major": 2,
       "version_minor": 0
      },
      "text/plain": [
       "dev set:   0%|          | 0/363 [00:00<?, ?it/s]"
      ]
     },
     "metadata": {},
     "output_type": "display_data"
    },
    {
     "name": "stdout",
     "output_type": "stream",
     "text": [
      "\n",
      "Train loss: 4.5649  Test loss: 4.4072\n",
      "Train accuracy: 0.8885  Test accuracy: 0.8035\n"
     ]
    },
    {
     "data": {
      "application/vnd.jupyter.widget-view+json": {
       "model_id": "ebe1e2dab6d34704932714ba326def7f",
       "version_major": 2,
       "version_minor": 0
      },
      "text/plain": [
       "training set:   0%|          | 0/3265 [00:00<?, ?it/s]"
      ]
     },
     "metadata": {},
     "output_type": "display_data"
    },
    {
     "data": {
      "application/vnd.jupyter.widget-view+json": {
       "model_id": "baa18294c3ce4a3a9576518149b3ff9c",
       "version_major": 2,
       "version_minor": 0
      },
      "text/plain": [
       "dev set:   0%|          | 0/363 [00:00<?, ?it/s]"
      ]
     },
     "metadata": {},
     "output_type": "display_data"
    },
    {
     "name": "stdout",
     "output_type": "stream",
     "text": [
      "\n",
      "Train loss: 4.5878  Test loss: 4.4013\n",
      "Train accuracy: 0.8894  Test accuracy: 0.7989\n"
     ]
    },
    {
     "data": {
      "application/vnd.jupyter.widget-view+json": {
       "model_id": "c2e36c2e34504c7abc3ee5f583ba658a",
       "version_major": 2,
       "version_minor": 0
      },
      "text/plain": [
       "training set:   0%|          | 0/3265 [00:00<?, ?it/s]"
      ]
     },
     "metadata": {},
     "output_type": "display_data"
    },
    {
     "data": {
      "application/vnd.jupyter.widget-view+json": {
       "model_id": "987f48735ada440796889f5882e64322",
       "version_major": 2,
       "version_minor": 0
      },
      "text/plain": [
       "dev set:   0%|          | 0/363 [00:00<?, ?it/s]"
      ]
     },
     "metadata": {},
     "output_type": "display_data"
    },
    {
     "name": "stdout",
     "output_type": "stream",
     "text": [
      "\n",
      "Train loss: 4.4120  Test loss: 4.3607\n",
      "Train accuracy: 0.8909  Test accuracy: 0.8154\n"
     ]
    },
    {
     "data": {
      "application/vnd.jupyter.widget-view+json": {
       "model_id": "d889fc684b0a46dbbaa96674cbc2fa49",
       "version_major": 2,
       "version_minor": 0
      },
      "text/plain": [
       "training set:   0%|          | 0/3265 [00:00<?, ?it/s]"
      ]
     },
     "metadata": {},
     "output_type": "display_data"
    },
    {
     "data": {
      "application/vnd.jupyter.widget-view+json": {
       "model_id": "2d8524b8b91547308f32e91fb72db630",
       "version_major": 2,
       "version_minor": 0
      },
      "text/plain": [
       "dev set:   0%|          | 0/363 [00:00<?, ?it/s]"
      ]
     },
     "metadata": {},
     "output_type": "display_data"
    },
    {
     "name": "stdout",
     "output_type": "stream",
     "text": [
      "\n",
      "Train loss: 4.2830  Test loss: 4.5213\n",
      "Train accuracy: 0.8992  Test accuracy: 0.8145\n"
     ]
    },
    {
     "data": {
      "application/vnd.jupyter.widget-view+json": {
       "model_id": "5a36c86941ab408c8d54c11808b367c1",
       "version_major": 2,
       "version_minor": 0
      },
      "text/plain": [
       "training set:   0%|          | 0/3265 [00:00<?, ?it/s]"
      ]
     },
     "metadata": {},
     "output_type": "display_data"
    },
    {
     "data": {
      "application/vnd.jupyter.widget-view+json": {
       "model_id": "4aff21547d294f5f984cb07f9dd3adfd",
       "version_major": 2,
       "version_minor": 0
      },
      "text/plain": [
       "dev set:   0%|          | 0/363 [00:00<?, ?it/s]"
      ]
     },
     "metadata": {},
     "output_type": "display_data"
    },
    {
     "name": "stdout",
     "output_type": "stream",
     "text": [
      "\n",
      "Train loss: 4.4442  Test loss: 4.4217\n",
      "Train accuracy: 0.8991  Test accuracy: 0.8062\n"
     ]
    },
    {
     "data": {
      "application/vnd.jupyter.widget-view+json": {
       "model_id": "8dbd2a42c2374f0c86cc325b036e653f",
       "version_major": 2,
       "version_minor": 0
      },
      "text/plain": [
       "training set:   0%|          | 0/3265 [00:00<?, ?it/s]"
      ]
     },
     "metadata": {},
     "output_type": "display_data"
    },
    {
     "data": {
      "application/vnd.jupyter.widget-view+json": {
       "model_id": "d5cad28b1dfb4a9ab2de84bc93d9769b",
       "version_major": 2,
       "version_minor": 0
      },
      "text/plain": [
       "dev set:   0%|          | 0/363 [00:00<?, ?it/s]"
      ]
     },
     "metadata": {},
     "output_type": "display_data"
    },
    {
     "name": "stdout",
     "output_type": "stream",
     "text": [
      "\n",
      "Train loss: 4.4405  Test loss: 4.4131\n",
      "Train accuracy: 0.9056  Test accuracy: 0.8017\n"
     ]
    },
    {
     "data": {
      "application/vnd.jupyter.widget-view+json": {
       "model_id": "f22f4fc9b2f3459aa37cbe7bb2298a55",
       "version_major": 2,
       "version_minor": 0
      },
      "text/plain": [
       "training set:   0%|          | 0/3265 [00:00<?, ?it/s]"
      ]
     },
     "metadata": {},
     "output_type": "display_data"
    },
    {
     "data": {
      "application/vnd.jupyter.widget-view+json": {
       "model_id": "6396c49e27ac4171b7ac2dcb63f47b94",
       "version_major": 2,
       "version_minor": 0
      },
      "text/plain": [
       "dev set:   0%|          | 0/363 [00:00<?, ?it/s]"
      ]
     },
     "metadata": {},
     "output_type": "display_data"
    },
    {
     "name": "stdout",
     "output_type": "stream",
     "text": [
      "\n",
      "Train loss: 4.3901  Test loss: 4.3841\n",
      "Train accuracy: 0.9041  Test accuracy: 0.8053\n"
     ]
    },
    {
     "data": {
      "application/vnd.jupyter.widget-view+json": {
       "model_id": "214656bece7448cbb3593efa5401df1d",
       "version_major": 2,
       "version_minor": 0
      },
      "text/plain": [
       "training set:   0%|          | 0/3265 [00:00<?, ?it/s]"
      ]
     },
     "metadata": {},
     "output_type": "display_data"
    },
    {
     "data": {
      "application/vnd.jupyter.widget-view+json": {
       "model_id": "afdc9232cb914a598d8847d33b5df079",
       "version_major": 2,
       "version_minor": 0
      },
      "text/plain": [
       "dev set:   0%|          | 0/363 [00:00<?, ?it/s]"
      ]
     },
     "metadata": {},
     "output_type": "display_data"
    },
    {
     "name": "stdout",
     "output_type": "stream",
     "text": [
      "\n",
      "Train loss: 4.3664  Test loss: 4.4024\n",
      "Train accuracy: 0.9043  Test accuracy: 0.8209\n"
     ]
    },
    {
     "data": {
      "application/vnd.jupyter.widget-view+json": {
       "model_id": "ac7b2a26d5174afba66617eeb2aa61fa",
       "version_major": 2,
       "version_minor": 0
      },
      "text/plain": [
       "training set:   0%|          | 0/3265 [00:00<?, ?it/s]"
      ]
     },
     "metadata": {},
     "output_type": "display_data"
    },
    {
     "data": {
      "application/vnd.jupyter.widget-view+json": {
       "model_id": "bf35cd12a17d48d8a6689a18a2be2235",
       "version_major": 2,
       "version_minor": 0
      },
      "text/plain": [
       "dev set:   0%|          | 0/363 [00:00<?, ?it/s]"
      ]
     },
     "metadata": {},
     "output_type": "display_data"
    },
    {
     "name": "stdout",
     "output_type": "stream",
     "text": [
      "\n",
      "Train loss: 4.2423  Test loss: 4.2801\n",
      "Train accuracy: 0.9089  Test accuracy: 0.8163\n"
     ]
    },
    {
     "data": {
      "application/vnd.jupyter.widget-view+json": {
       "model_id": "9f63e3fff98f43cf8426b3e31dd3e204",
       "version_major": 2,
       "version_minor": 0
      },
      "text/plain": [
       "training set:   0%|          | 0/3265 [00:00<?, ?it/s]"
      ]
     },
     "metadata": {},
     "output_type": "display_data"
    },
    {
     "data": {
      "application/vnd.jupyter.widget-view+json": {
       "model_id": "bbacf184b3cb438ea731d5b2f42aafb1",
       "version_major": 2,
       "version_minor": 0
      },
      "text/plain": [
       "dev set:   0%|          | 0/363 [00:00<?, ?it/s]"
      ]
     },
     "metadata": {},
     "output_type": "display_data"
    },
    {
     "name": "stdout",
     "output_type": "stream",
     "text": [
      "\n",
      "Train loss: 4.4253  Test loss: 4.3449\n",
      "Train accuracy: 0.9072  Test accuracy: 0.8136\n"
     ]
    },
    {
     "data": {
      "application/vnd.jupyter.widget-view+json": {
       "model_id": "38845666d027428db0e50336916a58fa",
       "version_major": 2,
       "version_minor": 0
      },
      "text/plain": [
       "training set:   0%|          | 0/3265 [00:00<?, ?it/s]"
      ]
     },
     "metadata": {},
     "output_type": "display_data"
    },
    {
     "data": {
      "application/vnd.jupyter.widget-view+json": {
       "model_id": "2c9ffb0e2a91438abf3b417993a1073e",
       "version_major": 2,
       "version_minor": 0
      },
      "text/plain": [
       "dev set:   0%|          | 0/363 [00:00<?, ?it/s]"
      ]
     },
     "metadata": {},
     "output_type": "display_data"
    },
    {
     "name": "stdout",
     "output_type": "stream",
     "text": [
      "\n",
      "Train loss: 4.2661  Test loss: 4.3217\n",
      "Train accuracy: 0.9114  Test accuracy: 0.8136\n"
     ]
    },
    {
     "data": {
      "application/vnd.jupyter.widget-view+json": {
       "model_id": "a20f52bb8e464989aebca5eda58be7c9",
       "version_major": 2,
       "version_minor": 0
      },
      "text/plain": [
       "training set:   0%|          | 0/3265 [00:00<?, ?it/s]"
      ]
     },
     "metadata": {},
     "output_type": "display_data"
    },
    {
     "data": {
      "application/vnd.jupyter.widget-view+json": {
       "model_id": "6073630484b64bd6bf92796503ed6a62",
       "version_major": 2,
       "version_minor": 0
      },
      "text/plain": [
       "dev set:   0%|          | 0/363 [00:00<?, ?it/s]"
      ]
     },
     "metadata": {},
     "output_type": "display_data"
    },
    {
     "name": "stdout",
     "output_type": "stream",
     "text": [
      "\n",
      "Train loss: 4.1980  Test loss: 4.2397\n",
      "Train accuracy: 0.9108  Test accuracy: 0.8191\n"
     ]
    },
    {
     "data": {
      "application/vnd.jupyter.widget-view+json": {
       "model_id": "d03cdd6680a94b3dacede53898184355",
       "version_major": 2,
       "version_minor": 0
      },
      "text/plain": [
       "training set:   0%|          | 0/3265 [00:00<?, ?it/s]"
      ]
     },
     "metadata": {},
     "output_type": "display_data"
    },
    {
     "data": {
      "application/vnd.jupyter.widget-view+json": {
       "model_id": "8b0e12dfe0d94e7e948170fea5db4e89",
       "version_major": 2,
       "version_minor": 0
      },
      "text/plain": [
       "dev set:   0%|          | 0/363 [00:00<?, ?it/s]"
      ]
     },
     "metadata": {},
     "output_type": "display_data"
    },
    {
     "name": "stdout",
     "output_type": "stream",
     "text": [
      "\n",
      "Train loss: 4.1324  Test loss: 4.3104\n",
      "Train accuracy: 0.9146  Test accuracy: 0.8219\n"
     ]
    },
    {
     "data": {
      "application/vnd.jupyter.widget-view+json": {
       "model_id": "155905a23a1d4a599f666f5c5260d2ad",
       "version_major": 2,
       "version_minor": 0
      },
      "text/plain": [
       "training set:   0%|          | 0/3265 [00:00<?, ?it/s]"
      ]
     },
     "metadata": {},
     "output_type": "display_data"
    },
    {
     "data": {
      "application/vnd.jupyter.widget-view+json": {
       "model_id": "62938afb2a0b4a6d9ac9c1a0bf663dbc",
       "version_major": 2,
       "version_minor": 0
      },
      "text/plain": [
       "dev set:   0%|          | 0/363 [00:00<?, ?it/s]"
      ]
     },
     "metadata": {},
     "output_type": "display_data"
    },
    {
     "name": "stdout",
     "output_type": "stream",
     "text": [
      "\n",
      "Train loss: 4.2453  Test loss: 4.4775\n",
      "Train accuracy: 0.9158  Test accuracy: 0.8081\n"
     ]
    },
    {
     "data": {
      "application/vnd.jupyter.widget-view+json": {
       "model_id": "60037e9092554edca96d3d4048151b16",
       "version_major": 2,
       "version_minor": 0
      },
      "text/plain": [
       "training set:   0%|          | 0/3265 [00:00<?, ?it/s]"
      ]
     },
     "metadata": {},
     "output_type": "display_data"
    },
    {
     "data": {
      "application/vnd.jupyter.widget-view+json": {
       "model_id": "bd66c1652b014390baa195d41f60d666",
       "version_major": 2,
       "version_minor": 0
      },
      "text/plain": [
       "dev set:   0%|          | 0/363 [00:00<?, ?it/s]"
      ]
     },
     "metadata": {},
     "output_type": "display_data"
    },
    {
     "name": "stdout",
     "output_type": "stream",
     "text": [
      "\n",
      "Train loss: 4.0763  Test loss: 4.5520\n",
      "Train accuracy: 0.9154  Test accuracy: 0.8182\n"
     ]
    },
    {
     "data": {
      "application/vnd.jupyter.widget-view+json": {
       "model_id": "47c98b2de331436c80b8c78b7a3b8f1d",
       "version_major": 2,
       "version_minor": 0
      },
      "text/plain": [
       "training set:   0%|          | 0/3265 [00:00<?, ?it/s]"
      ]
     },
     "metadata": {},
     "output_type": "display_data"
    },
    {
     "data": {
      "application/vnd.jupyter.widget-view+json": {
       "model_id": "e6779f1b77b246d78970587102e0c30a",
       "version_major": 2,
       "version_minor": 0
      },
      "text/plain": [
       "dev set:   0%|          | 0/363 [00:00<?, ?it/s]"
      ]
     },
     "metadata": {},
     "output_type": "display_data"
    },
    {
     "name": "stdout",
     "output_type": "stream",
     "text": [
      "\n",
      "Train loss: 4.2249  Test loss: 4.4464\n",
      "Train accuracy: 0.9168  Test accuracy: 0.8182\n"
     ]
    },
    {
     "data": {
      "application/vnd.jupyter.widget-view+json": {
       "model_id": "bdfe7b907d6943de810b985b27942eac",
       "version_major": 2,
       "version_minor": 0
      },
      "text/plain": [
       "training set:   0%|          | 0/3265 [00:00<?, ?it/s]"
      ]
     },
     "metadata": {},
     "output_type": "display_data"
    },
    {
     "data": {
      "application/vnd.jupyter.widget-view+json": {
       "model_id": "6a7e96c3b4484d7abcf88534361552c8",
       "version_major": 2,
       "version_minor": 0
      },
      "text/plain": [
       "dev set:   0%|          | 0/363 [00:00<?, ?it/s]"
      ]
     },
     "metadata": {},
     "output_type": "display_data"
    },
    {
     "name": "stdout",
     "output_type": "stream",
     "text": [
      "\n",
      "Train loss: 4.2909  Test loss: 4.4801\n",
      "Train accuracy: 0.9152  Test accuracy: 0.8108\n"
     ]
    },
    {
     "data": {
      "application/vnd.jupyter.widget-view+json": {
       "model_id": "f67cc546b7724e60b06bdae4ccb63c81",
       "version_major": 2,
       "version_minor": 0
      },
      "text/plain": [
       "training set:   0%|          | 0/3265 [00:00<?, ?it/s]"
      ]
     },
     "metadata": {},
     "output_type": "display_data"
    },
    {
     "data": {
      "application/vnd.jupyter.widget-view+json": {
       "model_id": "5d153253300340058cd71fa4267b70fa",
       "version_major": 2,
       "version_minor": 0
      },
      "text/plain": [
       "dev set:   0%|          | 0/363 [00:00<?, ?it/s]"
      ]
     },
     "metadata": {},
     "output_type": "display_data"
    },
    {
     "name": "stdout",
     "output_type": "stream",
     "text": [
      "\n",
      "Train loss: 4.1029  Test loss: 4.3693\n",
      "Train accuracy: 0.9178  Test accuracy: 0.8118\n"
     ]
    }
   ],
   "source": [
    "train_loss, validation_loss,test_loss, train_acc, validation_acc, test_acc, best_acc, best_weights = train_test(\n",
    "                                                model,\n",
    "                                                hyperparameters['epochs'],\n",
    "                                                optimizer,\n",
    "                                                device,\n",
    "                                                train_dataset,\n",
    "                                                test_dataset,\n",
    "                                                hyperparameters['batch_size'],\n",
    "                                                hyperparameters['language_model'],\n",
    "                                                criterion,\n",
    "                                                criterion,\n",
    "                                               )\n",
    "#with open(\"best_weight.pkl\", 'wb') as f:\n",
    "#  pickle.dump(best_weights, f)\n",
    "\n"
   ]
  },
  {
   "cell_type": "code",
   "execution_count": 41,
   "metadata": {
    "id": "u8XtmxwidvxT"
   },
   "outputs": [
    {
     "data": {
      "image/png": "[encoded data removed]",
      "text/plain": [
       "<Figure size 640x480 with 1 Axes>"
      ]
     },
     "metadata": {},
     "output_type": "display_data"
    }
   ],
   "source": [
    "import matplotlib.pyplot as plt\n",
    "\n",
    "plt.plot(train_loss, label='training loss')\n",
    "plt.plot(validation_loss, label='validation loss')\n",
    "plt.plot(test_loss, label='test loss')\n",
    "plt.legend(loc='lower right')\n",
    "plt.show()"
   ]
  },
  {
   "cell_type": "code",
   "execution_count": 42,
   "metadata": {
    "id": "czbSDOIudvxT"
   },
   "outputs": [
    {
     "data": {
      "image/png": "[encoded data removed]",
      "text/plain": [
       "<Figure size 640x480 with 1 Axes>"
      ]
     },
     "metadata": {},
     "output_type": "display_data"
    }
   ],
   "source": [
    "train_acc = [ np.array(x.cpu()) for x in train_acc ]\n",
    "validation_acc = [ np.array(x.cpu()) for x in validation_acc ]\n",
    "test_acc = [ np.array(x.cpu()) for x in test_acc ]\n",
    "\n",
    "\n",
    "plt.plot(train_acc, label='training accuracy')\n",
    "plt.plot(validation_acc, label='validation accuracy')\n",
    "plt.plot(test_acc, label='test accuracy')\n",
    "plt.legend(loc='lower right')\n",
    "plt.ylim(0,2)\n",
    "plt.show()"
   ]
  },
  {
   "cell_type": "markdown",
   "metadata": {
    "id": "Bbf_dJy-dvxT"
   },
   "source": [
    "Per completezza viene testato anche il dataset originale con le sole colonne aggiunte"
   ]
  },
  {
   "cell_type": "code",
   "execution_count": 43,
   "metadata": {
    "id": "FDIgAiSidvxT",
    "scrolled": true
   },
   "outputs": [
    {
     "data": {
      "application/vnd.jupyter.widget-view+json": {
       "model_id": "5abb19b51d3a49a0b50e0e0f45fb3979",
       "version_major": 2,
       "version_minor": 0
      },
      "text/plain": [
       "Looking for emoji:   0%|          | 0/1842 [00:00<?, ?it/s]"
      ]
     },
     "metadata": {},
     "output_type": "display_data"
    },
    {
     "data": {
      "application/vnd.jupyter.widget-view+json": {
       "model_id": "7c03301915a642098f3dc6d90dcd94e8",
       "version_major": 2,
       "version_minor": 0
      },
      "text/plain": [
       "Looking for hashtag:   0%|          | 0/1842 [00:00<?, ?it/s]"
      ]
     },
     "metadata": {},
     "output_type": "display_data"
    },
    {
     "data": {
      "application/vnd.jupyter.widget-view+json": {
       "model_id": "971f5171606b41c4a629eaba038b1857",
       "version_major": 2,
       "version_minor": 0
      },
      "text/plain": [
       "Tokenizing text ... :   0%|          | 0/1473 [00:00<?, ?it/s]"
      ]
     },
     "metadata": {},
     "output_type": "display_data"
    },
    {
     "data": {
      "application/vnd.jupyter.widget-view+json": {
       "model_id": "484c46ceb70f45a684d9dc17d4841cc9",
       "version_major": 2,
       "version_minor": 0
      },
      "text/plain": [
       "Tokenizing text ... :   0%|          | 0/369 [00:00<?, ?it/s]"
      ]
     },
     "metadata": {},
     "output_type": "display_data"
    },
    {
     "data": {
      "application/vnd.jupyter.widget-view+json": {
       "model_id": "25b45dd3c00942c8b1dbdbe8a0d4f997",
       "version_major": 2,
       "version_minor": 0
      },
      "text/plain": [
       "  0%|          | 0/30 [00:00<?, ?it/s]"
      ]
     },
     "metadata": {},
     "output_type": "display_data"
    },
    {
     "data": {
      "application/vnd.jupyter.widget-view+json": {
       "model_id": "65ca32aa55aa4b76aa8332f7fb34f3e0",
       "version_major": 2,
       "version_minor": 0
      },
      "text/plain": [
       "training set:   0%|          | 0/491 [00:00<?, ?it/s]"
      ]
     },
     "metadata": {},
     "output_type": "display_data"
    },
    {
     "data": {
      "application/vnd.jupyter.widget-view+json": {
       "model_id": "e2c6c082a3414f919443278f53ad2b7e",
       "version_major": 2,
       "version_minor": 0
      },
      "text/plain": [
       "dev set:   0%|          | 0/123 [00:00<?, ?it/s]"
      ]
     },
     "metadata": {},
     "output_type": "display_data"
    },
    {
     "name": "stdout",
     "output_type": "stream",
     "text": [
      "\n",
      "Train loss: 14.6110  Test loss: 10.8502\n",
      "Train accuracy: 0.5431  Test accuracy: 0.6856\n"
     ]
    },
    {
     "data": {
      "application/vnd.jupyter.widget-view+json": {
       "model_id": "d6186a99af2149f7ac9fdab119008b03",
       "version_major": 2,
       "version_minor": 0
      },
      "text/plain": [
       "training set:   0%|          | 0/491 [00:00<?, ?it/s]"
      ]
     },
     "metadata": {},
     "output_type": "display_data"
    },
    {
     "data": {
      "application/vnd.jupyter.widget-view+json": {
       "model_id": "c64c1f3ea6f248af9a357c018b5b8784",
       "version_major": 2,
       "version_minor": 0
      },
      "text/plain": [
       "dev set:   0%|          | 0/123 [00:00<?, ?it/s]"
      ]
     },
     "metadata": {},
     "output_type": "display_data"
    },
    {
     "name": "stdout",
     "output_type": "stream",
     "text": [
      "\n",
      "Train loss: 14.5341  Test loss: 11.0819\n",
      "Train accuracy: 0.6158  Test accuracy: 0.7019\n"
     ]
    },
    {
     "data": {
      "application/vnd.jupyter.widget-view+json": {
       "model_id": "ec86e74c4a4d41839ab80ce9798a88e2",
       "version_major": 2,
       "version_minor": 0
      },
      "text/plain": [
       "training set:   0%|          | 0/491 [00:00<?, ?it/s]"
      ]
     },
     "metadata": {},
     "output_type": "display_data"
    },
    {
     "data": {
      "application/vnd.jupyter.widget-view+json": {
       "model_id": "7c2aec884a85423ca843293a41601b06",
       "version_major": 2,
       "version_minor": 0
      },
      "text/plain": [
       "dev set:   0%|          | 0/123 [00:00<?, ?it/s]"
      ]
     },
     "metadata": {},
     "output_type": "display_data"
    },
    {
     "name": "stdout",
     "output_type": "stream",
     "text": [
      "\n",
      "Train loss: 14.8291  Test loss: 11.4430\n",
      "Train accuracy: 0.6375  Test accuracy: 0.6965\n"
     ]
    },
    {
     "data": {
      "application/vnd.jupyter.widget-view+json": {
       "model_id": "f1ac378f70034958911cf9342dba38a7",
       "version_major": 2,
       "version_minor": 0
      },
      "text/plain": [
       "training set:   0%|          | 0/491 [00:00<?, ?it/s]"
      ]
     },
     "metadata": {},
     "output_type": "display_data"
    },
    {
     "data": {
      "application/vnd.jupyter.widget-view+json": {
       "model_id": "ed128ea556314b6692d98e0d2a972c63",
       "version_major": 2,
       "version_minor": 0
      },
      "text/plain": [
       "dev set:   0%|          | 0/123 [00:00<?, ?it/s]"
      ]
     },
     "metadata": {},
     "output_type": "display_data"
    },
    {
     "name": "stdout",
     "output_type": "stream",
     "text": [
      "\n",
      "Train loss: 13.7849  Test loss: 11.0527\n",
      "Train accuracy: 0.6694  Test accuracy: 0.6965\n"
     ]
    },
    {
     "data": {
      "application/vnd.jupyter.widget-view+json": {
       "model_id": "d966f31b9e634745b5e77c34eb5528c3",
       "version_major": 2,
       "version_minor": 0
      },
      "text/plain": [
       "training set:   0%|          | 0/491 [00:00<?, ?it/s]"
      ]
     },
     "metadata": {},
     "output_type": "display_data"
    },
    {
     "data": {
      "application/vnd.jupyter.widget-view+json": {
       "model_id": "afc0bdeeb53e4a019d6e356d6fea0a6c",
       "version_major": 2,
       "version_minor": 0
      },
      "text/plain": [
       "dev set:   0%|          | 0/123 [00:00<?, ?it/s]"
      ]
     },
     "metadata": {},
     "output_type": "display_data"
    },
    {
     "name": "stdout",
     "output_type": "stream",
     "text": [
      "\n",
      "Train loss: 12.8368  Test loss: 11.0377\n",
      "Train accuracy: 0.7074  Test accuracy: 0.7127\n"
     ]
    },
    {
     "data": {
      "application/vnd.jupyter.widget-view+json": {
       "model_id": "e979dacf73144b9cb14056a995fc0a7d",
       "version_major": 2,
       "version_minor": 0
      },
      "text/plain": [
       "training set:   0%|          | 0/491 [00:00<?, ?it/s]"
      ]
     },
     "metadata": {},
     "output_type": "display_data"
    },
    {
     "data": {
      "application/vnd.jupyter.widget-view+json": {
       "model_id": "03104f620a6b4a3795b88141c41e6048",
       "version_major": 2,
       "version_minor": 0
      },
      "text/plain": [
       "dev set:   0%|          | 0/123 [00:00<?, ?it/s]"
      ]
     },
     "metadata": {},
     "output_type": "display_data"
    },
    {
     "name": "stdout",
     "output_type": "stream",
     "text": [
      "\n",
      "Train loss: 13.3244  Test loss: 11.1058\n",
      "Train accuracy: 0.7251  Test accuracy: 0.6992\n"
     ]
    },
    {
     "data": {
      "application/vnd.jupyter.widget-view+json": {
       "model_id": "ceaacc9e262f4f28820a003ff62d86f6",
       "version_major": 2,
       "version_minor": 0
      },
      "text/plain": [
       "training set:   0%|          | 0/491 [00:00<?, ?it/s]"
      ]
     },
     "metadata": {},
     "output_type": "display_data"
    },
    {
     "data": {
      "application/vnd.jupyter.widget-view+json": {
       "model_id": "0460336fbff84843a65123315ac712b7",
       "version_major": 2,
       "version_minor": 0
      },
      "text/plain": [
       "dev set:   0%|          | 0/123 [00:00<?, ?it/s]"
      ]
     },
     "metadata": {},
     "output_type": "display_data"
    },
    {
     "name": "stdout",
     "output_type": "stream",
     "text": [
      "\n",
      "Train loss: 14.0590  Test loss: 11.2223\n",
      "Train accuracy: 0.7488  Test accuracy: 0.6992\n"
     ]
    },
    {
     "data": {
      "application/vnd.jupyter.widget-view+json": {
       "model_id": "c5689de37ebf4069ba244a91e5ebeb71",
       "version_major": 2,
       "version_minor": 0
      },
      "text/plain": [
       "training set:   0%|          | 0/491 [00:00<?, ?it/s]"
      ]
     },
     "metadata": {},
     "output_type": "display_data"
    },
    {
     "data": {
      "application/vnd.jupyter.widget-view+json": {
       "model_id": "b679cb5b6c034276ac26487d69ebfd1a",
       "version_major": 2,
       "version_minor": 0
      },
      "text/plain": [
       "dev set:   0%|          | 0/123 [00:00<?, ?it/s]"
      ]
     },
     "metadata": {},
     "output_type": "display_data"
    },
    {
     "name": "stdout",
     "output_type": "stream",
     "text": [
      "\n",
      "Train loss: 12.8335  Test loss: 11.1785\n",
      "Train accuracy: 0.7868  Test accuracy: 0.7019\n"
     ]
    },
    {
     "data": {
      "application/vnd.jupyter.widget-view+json": {
       "model_id": "7393dacca24c4e179cffc37516acda4f",
       "version_major": 2,
       "version_minor": 0
      },
      "text/plain": [
       "training set:   0%|          | 0/491 [00:00<?, ?it/s]"
      ]
     },
     "metadata": {},
     "output_type": "display_data"
    },
    {
     "data": {
      "application/vnd.jupyter.widget-view+json": {
       "model_id": "4cc94f037902458999c4347221cc1c30",
       "version_major": 2,
       "version_minor": 0
      },
      "text/plain": [
       "dev set:   0%|          | 0/123 [00:00<?, ?it/s]"
      ]
     },
     "metadata": {},
     "output_type": "display_data"
    },
    {
     "name": "stdout",
     "output_type": "stream",
     "text": [
      "\n",
      "Train loss: 13.3699  Test loss: 10.8840\n",
      "Train accuracy: 0.7943  Test accuracy: 0.7100\n"
     ]
    },
    {
     "data": {
      "application/vnd.jupyter.widget-view+json": {
       "model_id": "0ac8d67d348a49f0a6db88d62c195ad4",
       "version_major": 2,
       "version_minor": 0
      },
      "text/plain": [
       "training set:   0%|          | 0/491 [00:00<?, ?it/s]"
      ]
     },
     "metadata": {},
     "output_type": "display_data"
    },
    {
     "data": {
      "application/vnd.jupyter.widget-view+json": {
       "model_id": "8f93fd05e6ad43648d6ed52eabc8915f",
       "version_major": 2,
       "version_minor": 0
      },
      "text/plain": [
       "dev set:   0%|          | 0/123 [00:00<?, ?it/s]"
      ]
     },
     "metadata": {},
     "output_type": "display_data"
    },
    {
     "name": "stdout",
     "output_type": "stream",
     "text": [
      "\n",
      "Train loss: 13.1533  Test loss: 11.6784\n",
      "Train accuracy: 0.8072  Test accuracy: 0.7100\n"
     ]
    },
    {
     "data": {
      "application/vnd.jupyter.widget-view+json": {
       "model_id": "9b6a20d6367e424b80cf2bb0f707fb3a",
       "version_major": 2,
       "version_minor": 0
      },
      "text/plain": [
       "training set:   0%|          | 0/491 [00:00<?, ?it/s]"
      ]
     },
     "metadata": {},
     "output_type": "display_data"
    },
    {
     "data": {
      "application/vnd.jupyter.widget-view+json": {
       "model_id": "ee64240f16f14af393bf43b6a7af3f7d",
       "version_major": 2,
       "version_minor": 0
      },
      "text/plain": [
       "dev set:   0%|          | 0/123 [00:00<?, ?it/s]"
      ]
     },
     "metadata": {},
     "output_type": "display_data"
    },
    {
     "name": "stdout",
     "output_type": "stream",
     "text": [
      "\n",
      "Train loss: 13.7610  Test loss: 11.7329\n",
      "Train accuracy: 0.7984  Test accuracy: 0.7046\n"
     ]
    },
    {
     "data": {
      "application/vnd.jupyter.widget-view+json": {
       "model_id": "d0380d89755b4e42bc129242c5a0d4d4",
       "version_major": 2,
       "version_minor": 0
      },
      "text/plain": [
       "training set:   0%|          | 0/491 [00:00<?, ?it/s]"
      ]
     },
     "metadata": {},
     "output_type": "display_data"
    },
    {
     "data": {
      "application/vnd.jupyter.widget-view+json": {
       "model_id": "c84b9b5207904a0ca7537bc0838c8212",
       "version_major": 2,
       "version_minor": 0
      },
      "text/plain": [
       "dev set:   0%|          | 0/123 [00:00<?, ?it/s]"
      ]
     },
     "metadata": {},
     "output_type": "display_data"
    },
    {
     "name": "stdout",
     "output_type": "stream",
     "text": [
      "\n",
      "Train loss: 13.3754  Test loss: 11.7483\n",
      "Train accuracy: 0.8167  Test accuracy: 0.7073\n"
     ]
    },
    {
     "data": {
      "application/vnd.jupyter.widget-view+json": {
       "model_id": "90c88e0d16c1476d8e01c6061a4acfd4",
       "version_major": 2,
       "version_minor": 0
      },
      "text/plain": [
       "training set:   0%|          | 0/491 [00:00<?, ?it/s]"
      ]
     },
     "metadata": {},
     "output_type": "display_data"
    },
    {
     "data": {
      "application/vnd.jupyter.widget-view+json": {
       "model_id": "3a66a443017040c6aeac613e688b1362",
       "version_major": 2,
       "version_minor": 0
      },
      "text/plain": [
       "dev set:   0%|          | 0/123 [00:00<?, ?it/s]"
      ]
     },
     "metadata": {},
     "output_type": "display_data"
    },
    {
     "name": "stdout",
     "output_type": "stream",
     "text": [
      "\n",
      "Train loss: 14.3556  Test loss: 12.8467\n",
      "Train accuracy: 0.8113  Test accuracy: 0.6883\n"
     ]
    },
    {
     "data": {
      "application/vnd.jupyter.widget-view+json": {
       "model_id": "402a81e7cfed4c27990c2a3829423fbb",
       "version_major": 2,
       "version_minor": 0
      },
      "text/plain": [
       "training set:   0%|          | 0/491 [00:00<?, ?it/s]"
      ]
     },
     "metadata": {},
     "output_type": "display_data"
    },
    {
     "data": {
      "application/vnd.jupyter.widget-view+json": {
       "model_id": "55038ae181e34dcabfe26aa31a28a6e6",
       "version_major": 2,
       "version_minor": 0
      },
      "text/plain": [
       "dev set:   0%|          | 0/123 [00:00<?, ?it/s]"
      ]
     },
     "metadata": {},
     "output_type": "display_data"
    },
    {
     "name": "stdout",
     "output_type": "stream",
     "text": [
      "\n",
      "Train loss: 13.7427  Test loss: 12.8132\n",
      "Train accuracy: 0.8194  Test accuracy: 0.6829\n"
     ]
    },
    {
     "data": {
      "application/vnd.jupyter.widget-view+json": {
       "model_id": "89b2c05c5bf1440b85baeb5a17b0e15f",
       "version_major": 2,
       "version_minor": 0
      },
      "text/plain": [
       "training set:   0%|          | 0/491 [00:00<?, ?it/s]"
      ]
     },
     "metadata": {},
     "output_type": "display_data"
    },
    {
     "data": {
      "application/vnd.jupyter.widget-view+json": {
       "model_id": "356a0a382253494ea511efed6171bc3b",
       "version_major": 2,
       "version_minor": 0
      },
      "text/plain": [
       "dev set:   0%|          | 0/123 [00:00<?, ?it/s]"
      ]
     },
     "metadata": {},
     "output_type": "display_data"
    },
    {
     "name": "stdout",
     "output_type": "stream",
     "text": [
      "\n",
      "Train loss: 13.3114  Test loss: 12.8011\n",
      "Train accuracy: 0.8235  Test accuracy: 0.6829\n"
     ]
    },
    {
     "data": {
      "application/vnd.jupyter.widget-view+json": {
       "model_id": "a2e4d4aecfb2415598aef45fe3b08ff9",
       "version_major": 2,
       "version_minor": 0
      },
      "text/plain": [
       "training set:   0%|          | 0/491 [00:00<?, ?it/s]"
      ]
     },
     "metadata": {},
     "output_type": "display_data"
    },
    {
     "data": {
      "application/vnd.jupyter.widget-view+json": {
       "model_id": "7d409d380e9a43cbb8a80d4b41b53ddd",
       "version_major": 2,
       "version_minor": 0
      },
      "text/plain": [
       "dev set:   0%|          | 0/123 [00:00<?, ?it/s]"
      ]
     },
     "metadata": {},
     "output_type": "display_data"
    },
    {
     "name": "stdout",
     "output_type": "stream",
     "text": [
      "\n",
      "Train loss: 12.6111  Test loss: 12.8514\n",
      "Train accuracy: 0.8248  Test accuracy: 0.7127\n"
     ]
    },
    {
     "data": {
      "application/vnd.jupyter.widget-view+json": {
       "model_id": "ee6d6f33ee64449ba1d32dcabbde40a6",
       "version_major": 2,
       "version_minor": 0
      },
      "text/plain": [
       "training set:   0%|          | 0/491 [00:00<?, ?it/s]"
      ]
     },
     "metadata": {},
     "output_type": "display_data"
    },
    {
     "data": {
      "application/vnd.jupyter.widget-view+json": {
       "model_id": "dec3c736a98b4fd0bcfa1e47e1de9fcb",
       "version_major": 2,
       "version_minor": 0
      },
      "text/plain": [
       "dev set:   0%|          | 0/123 [00:00<?, ?it/s]"
      ]
     },
     "metadata": {},
     "output_type": "display_data"
    },
    {
     "name": "stdout",
     "output_type": "stream",
     "text": [
      "\n",
      "Train loss: 13.1022  Test loss: 12.8928\n",
      "Train accuracy: 0.8316  Test accuracy: 0.6829\n"
     ]
    },
    {
     "data": {
      "application/vnd.jupyter.widget-view+json": {
       "model_id": "026d89d0199b4ed9a82306be001aad62",
       "version_major": 2,
       "version_minor": 0
      },
      "text/plain": [
       "training set:   0%|          | 0/491 [00:00<?, ?it/s]"
      ]
     },
     "metadata": {},
     "output_type": "display_data"
    },
    {
     "data": {
      "application/vnd.jupyter.widget-view+json": {
       "model_id": "364ef67d12bc4e1ebc68e9467f1d1552",
       "version_major": 2,
       "version_minor": 0
      },
      "text/plain": [
       "dev set:   0%|          | 0/123 [00:00<?, ?it/s]"
      ]
     },
     "metadata": {},
     "output_type": "display_data"
    },
    {
     "name": "stdout",
     "output_type": "stream",
     "text": [
      "\n",
      "Train loss: 13.1923  Test loss: 13.0260\n",
      "Train accuracy: 0.8323  Test accuracy: 0.6829\n"
     ]
    },
    {
     "data": {
      "application/vnd.jupyter.widget-view+json": {
       "model_id": "e31fae5699d5432297c90836ba250cd2",
       "version_major": 2,
       "version_minor": 0
      },
      "text/plain": [
       "training set:   0%|          | 0/491 [00:00<?, ?it/s]"
      ]
     },
     "metadata": {},
     "output_type": "display_data"
    },
    {
     "data": {
      "application/vnd.jupyter.widget-view+json": {
       "model_id": "86ee990304b141e8b8a52574f7b23215",
       "version_major": 2,
       "version_minor": 0
      },
      "text/plain": [
       "dev set:   0%|          | 0/123 [00:00<?, ?it/s]"
      ]
     },
     "metadata": {},
     "output_type": "display_data"
    },
    {
     "name": "stdout",
     "output_type": "stream",
     "text": [
      "\n",
      "Train loss: 12.9977  Test loss: 12.8849\n",
      "Train accuracy: 0.8425  Test accuracy: 0.6802\n"
     ]
    },
    {
     "data": {
      "application/vnd.jupyter.widget-view+json": {
       "model_id": "d7beda74df8f4c549ddf4f9875914fe0",
       "version_major": 2,
       "version_minor": 0
      },
      "text/plain": [
       "training set:   0%|          | 0/491 [00:00<?, ?it/s]"
      ]
     },
     "metadata": {},
     "output_type": "display_data"
    },
    {
     "data": {
      "application/vnd.jupyter.widget-view+json": {
       "model_id": "57f8ba774acc4a0381979fe31a314dd5",
       "version_major": 2,
       "version_minor": 0
      },
      "text/plain": [
       "dev set:   0%|          | 0/123 [00:00<?, ?it/s]"
      ]
     },
     "metadata": {},
     "output_type": "display_data"
    },
    {
     "name": "stdout",
     "output_type": "stream",
     "text": [
      "\n",
      "Train loss: 12.8697  Test loss: 13.1534\n",
      "Train accuracy: 0.8411  Test accuracy: 0.6829\n"
     ]
    },
    {
     "data": {
      "application/vnd.jupyter.widget-view+json": {
       "model_id": "59268bb020a1458b91d1c0274caf84cf",
       "version_major": 2,
       "version_minor": 0
      },
      "text/plain": [
       "training set:   0%|          | 0/491 [00:00<?, ?it/s]"
      ]
     },
     "metadata": {},
     "output_type": "display_data"
    },
    {
     "data": {
      "application/vnd.jupyter.widget-view+json": {
       "model_id": "9bfb4621e94d4a3e9c65044bf4493f5a",
       "version_major": 2,
       "version_minor": 0
      },
      "text/plain": [
       "dev set:   0%|          | 0/123 [00:00<?, ?it/s]"
      ]
     },
     "metadata": {},
     "output_type": "display_data"
    },
    {
     "name": "stdout",
     "output_type": "stream",
     "text": [
      "\n",
      "Train loss: 11.8250  Test loss: 12.6431\n",
      "Train accuracy: 0.8534  Test accuracy: 0.6911\n"
     ]
    },
    {
     "data": {
      "application/vnd.jupyter.widget-view+json": {
       "model_id": "ef3c0be5fca2433ba3c3a9234afaea82",
       "version_major": 2,
       "version_minor": 0
      },
      "text/plain": [
       "training set:   0%|          | 0/491 [00:00<?, ?it/s]"
      ]
     },
     "metadata": {},
     "output_type": "display_data"
    },
    {
     "data": {
      "application/vnd.jupyter.widget-view+json": {
       "model_id": "7f425a0d7999425286a6ec80a7d904d9",
       "version_major": 2,
       "version_minor": 0
      },
      "text/plain": [
       "dev set:   0%|          | 0/123 [00:00<?, ?it/s]"
      ]
     },
     "metadata": {},
     "output_type": "display_data"
    },
    {
     "name": "stdout",
     "output_type": "stream",
     "text": [
      "\n",
      "Train loss: 12.2493  Test loss: 12.6976\n",
      "Train accuracy: 0.8472  Test accuracy: 0.6938\n"
     ]
    },
    {
     "data": {
      "application/vnd.jupyter.widget-view+json": {
       "model_id": "7e66f9726cd045e9be1333b921b48f5f",
       "version_major": 2,
       "version_minor": 0
      },
      "text/plain": [
       "training set:   0%|          | 0/491 [00:00<?, ?it/s]"
      ]
     },
     "metadata": {},
     "output_type": "display_data"
    },
    {
     "data": {
      "application/vnd.jupyter.widget-view+json": {
       "model_id": "e782a7141aa64e39be074f7bd69cb674",
       "version_major": 2,
       "version_minor": 0
      },
      "text/plain": [
       "dev set:   0%|          | 0/123 [00:00<?, ?it/s]"
      ]
     },
     "metadata": {},
     "output_type": "display_data"
    },
    {
     "name": "stdout",
     "output_type": "stream",
     "text": [
      "\n",
      "Train loss: 12.2249  Test loss: 12.6998\n",
      "Train accuracy: 0.8479  Test accuracy: 0.6938\n"
     ]
    },
    {
     "data": {
      "application/vnd.jupyter.widget-view+json": {
       "model_id": "9c0c818e44a84656bb010c2440e75e63",
       "version_major": 2,
       "version_minor": 0
      },
      "text/plain": [
       "training set:   0%|          | 0/491 [00:00<?, ?it/s]"
      ]
     },
     "metadata": {},
     "output_type": "display_data"
    },
    {
     "data": {
      "application/vnd.jupyter.widget-view+json": {
       "model_id": "b352b296056c4d31bd6827e6ae5b02e6",
       "version_major": 2,
       "version_minor": 0
      },
      "text/plain": [
       "dev set:   0%|          | 0/123 [00:00<?, ?it/s]"
      ]
     },
     "metadata": {},
     "output_type": "display_data"
    },
    {
     "name": "stdout",
     "output_type": "stream",
     "text": [
      "\n",
      "Train loss: 11.8708  Test loss: 12.4458\n",
      "Train accuracy: 0.8595  Test accuracy: 0.6992\n"
     ]
    },
    {
     "data": {
      "application/vnd.jupyter.widget-view+json": {
       "model_id": "2f079f70a64f476ca43c8e597a1214ba",
       "version_major": 2,
       "version_minor": 0
      },
      "text/plain": [
       "training set:   0%|          | 0/491 [00:00<?, ?it/s]"
      ]
     },
     "metadata": {},
     "output_type": "display_data"
    },
    {
     "data": {
      "application/vnd.jupyter.widget-view+json": {
       "model_id": "27dd1d7ebd5b4306afdea2c118f120d2",
       "version_major": 2,
       "version_minor": 0
      },
      "text/plain": [
       "dev set:   0%|          | 0/123 [00:00<?, ?it/s]"
      ]
     },
     "metadata": {},
     "output_type": "display_data"
    },
    {
     "name": "stdout",
     "output_type": "stream",
     "text": [
      "\n",
      "Train loss: 12.9184  Test loss: 12.5061\n",
      "Train accuracy: 0.8493  Test accuracy: 0.6992\n"
     ]
    },
    {
     "data": {
      "application/vnd.jupyter.widget-view+json": {
       "model_id": "c1bc11ab5e4343328a10c54c0b6753b7",
       "version_major": 2,
       "version_minor": 0
      },
      "text/plain": [
       "training set:   0%|          | 0/491 [00:00<?, ?it/s]"
      ]
     },
     "metadata": {},
     "output_type": "display_data"
    },
    {
     "data": {
      "application/vnd.jupyter.widget-view+json": {
       "model_id": "10dbc8e6208344e8b56b3266868c13d2",
       "version_major": 2,
       "version_minor": 0
      },
      "text/plain": [
       "dev set:   0%|          | 0/123 [00:00<?, ?it/s]"
      ]
     },
     "metadata": {},
     "output_type": "display_data"
    },
    {
     "name": "stdout",
     "output_type": "stream",
     "text": [
      "\n",
      "Train loss: 11.8597  Test loss: 12.4325\n",
      "Train accuracy: 0.8581  Test accuracy: 0.6883\n"
     ]
    },
    {
     "data": {
      "application/vnd.jupyter.widget-view+json": {
       "model_id": "c94dc3eb2a03489bab5113f47f2d376e",
       "version_major": 2,
       "version_minor": 0
      },
      "text/plain": [
       "training set:   0%|          | 0/491 [00:00<?, ?it/s]"
      ]
     },
     "metadata": {},
     "output_type": "display_data"
    },
    {
     "data": {
      "application/vnd.jupyter.widget-view+json": {
       "model_id": "9a1a829683fa4a4fabedc0eda28970a4",
       "version_major": 2,
       "version_minor": 0
      },
      "text/plain": [
       "dev set:   0%|          | 0/123 [00:00<?, ?it/s]"
      ]
     },
     "metadata": {},
     "output_type": "display_data"
    },
    {
     "name": "stdout",
     "output_type": "stream",
     "text": [
      "\n",
      "Train loss: 11.7301  Test loss: 12.6148\n",
      "Train accuracy: 0.8574  Test accuracy: 0.6829\n"
     ]
    },
    {
     "data": {
      "application/vnd.jupyter.widget-view+json": {
       "model_id": "558c43df3da84aa994124d7f762c7c92",
       "version_major": 2,
       "version_minor": 0
      },
      "text/plain": [
       "training set:   0%|          | 0/491 [00:00<?, ?it/s]"
      ]
     },
     "metadata": {},
     "output_type": "display_data"
    },
    {
     "data": {
      "application/vnd.jupyter.widget-view+json": {
       "model_id": "39e7a68b0f3942ca845069cde19aa9de",
       "version_major": 2,
       "version_minor": 0
      },
      "text/plain": [
       "dev set:   0%|          | 0/123 [00:00<?, ?it/s]"
      ]
     },
     "metadata": {},
     "output_type": "display_data"
    },
    {
     "name": "stdout",
     "output_type": "stream",
     "text": [
      "\n",
      "Train loss: 11.5498  Test loss: 13.0997\n",
      "Train accuracy: 0.8608  Test accuracy: 0.6775\n"
     ]
    },
    {
     "data": {
      "application/vnd.jupyter.widget-view+json": {
       "model_id": "5d007a58275747708da02b336735394a",
       "version_major": 2,
       "version_minor": 0
      },
      "text/plain": [
       "training set:   0%|          | 0/491 [00:00<?, ?it/s]"
      ]
     },
     "metadata": {},
     "output_type": "display_data"
    },
    {
     "data": {
      "application/vnd.jupyter.widget-view+json": {
       "model_id": "39b7e32c1d5d4a428fd2a17d48a67047",
       "version_major": 2,
       "version_minor": 0
      },
      "text/plain": [
       "dev set:   0%|          | 0/123 [00:00<?, ?it/s]"
      ]
     },
     "metadata": {},
     "output_type": "display_data"
    },
    {
     "name": "stdout",
     "output_type": "stream",
     "text": [
      "\n",
      "Train loss: 12.1082  Test loss: 13.0888\n",
      "Train accuracy: 0.8615  Test accuracy: 0.6965\n"
     ]
    },
    {
     "data": {
      "application/vnd.jupyter.widget-view+json": {
       "model_id": "ad6b6a0b724a497c98e564bbcc4af072",
       "version_major": 2,
       "version_minor": 0
      },
      "text/plain": [
       "training set:   0%|          | 0/491 [00:00<?, ?it/s]"
      ]
     },
     "metadata": {},
     "output_type": "display_data"
    },
    {
     "data": {
      "application/vnd.jupyter.widget-view+json": {
       "model_id": "e32f54eef51e4f5aaf5270d82ec6128a",
       "version_major": 2,
       "version_minor": 0
      },
      "text/plain": [
       "dev set:   0%|          | 0/123 [00:00<?, ?it/s]"
      ]
     },
     "metadata": {},
     "output_type": "display_data"
    },
    {
     "name": "stdout",
     "output_type": "stream",
     "text": [
      "\n",
      "Train loss: 11.8391  Test loss: 12.9360\n",
      "Train accuracy: 0.8622  Test accuracy: 0.6802\n"
     ]
    }
   ],
   "source": [
    "dataset = pd.read_csv(f'{root}subtaskA_train.csv',  header=0, names=['id', 'text', 'label'])\n",
    "dataset['text'] = dataset['text'].apply(lambda x: x.replace('\\r', ' ').replace('\\n', ' '))\n",
    "dataset['char_count'] = dataset['text'].str.len()\n",
    "dataset = add_emoji(dataset)\n",
    "dataset = add_hashtag(dataset)\n",
    "dataset.drop(columns=['id'], inplace=True)\n",
    "dataset = shuffle(dataset, random_state=42)\n",
    "\n",
    "(x_train_original_dataset, x_test_original_dataset,char_count_train_original_dataset,char_count_test_original_dataset, hashtag_train_original_dataset, hashtag_test_original_dataset,emoji_train_original_dataset,emoji_test_original_dataset,y_train_original_dataset, y_test_original_dataset) = train_test_split(dataset['text'],dataset['char_count'], dataset['hashtag'],dataset['emoji'] ,dataset['label'], test_size=0.2, random_state=42)\n",
    "\n",
    "#(x_train_original_dataset, x_val_original_dataset,char_count_train_original_dataset,char_count_val_original_dataset, hashtag_train_original_dataset, hashtag_val_original_dataset, emoji_train_original_dataset, emoji_val_original_dataset, y_train_original_dataset, y_val_original_dataset) = train_test_split( x_train_original_dataset,char_count_train_original_dataset,hashtag_train_original_dataset,emoji_train_original_dataset, y_train_original_dataset, test_size=0.1, random_state=42)\n",
    "\n",
    "train_dataset_original_dataset = Dataset(x_train_original_dataset, char_count_train_original_dataset,emoji_train_original_dataset,hashtag_train_original_dataset, y_train_original_dataset, hyperparameters[\"stopwords\"])\n",
    "#val_dataset_original_dataset = Dataset(x_val_original_dataset,char_count_val_original_dataset,emoji_val_original_dataset,hashtag_val_original_dataset, y_val_original_dataset, hyperparameters[\"stopwords\"])\n",
    "test_dataset_original_dataset = Dataset(x_test_original_dataset, char_count_test_original_dataset,emoji_test_original_dataset,hashtag_test_original_dataset, y_test_original_dataset, hyperparameters[\"stopwords\"])\n",
    "\n",
    "\n",
    "model = ClassifierDeep(hyperparameters[\"#_classes\"],\n",
    "                    hyperparameters[\"h_dim\"],\n",
    "                    hyperparameters[\"dropout\"],\n",
    "                    hyperparameters[\"language_model\"]).to(device)\n",
    "\n",
    "#La funzione di loss va modificata in base al parametro #_classes\n",
    "criterion = nn.BCELoss()\n",
    "optimizer = Adam(model.parameters(), lr=hyperparameters[\"learning_rate\"])\n",
    "\n",
    "# Creiamo la callback di early stopping da passare al nostro metodo di addestramento\n",
    "#early_stopping = EarlyStopping(patience=hyperparameters['patience'],\n",
    "#                               min_delta=hyperparameters['min_delta'])\n",
    "\n",
    "\n",
    "train_loss_original_dataset, validation_loss_original_dataset,test_loss_original_dataset, train_acc_original_dataset, validation_acc_original_dataset, test_acc_original_dataset, best_acc, best_weights = train_test(\n",
    "                                                model,\n",
    "                                                hyperparameters['epochs'],\n",
    "                                                optimizer,\n",
    "                                                device,\n",
    "                                                train_dataset_original_dataset,\n",
    "                                                test_dataset_original_dataset,\n",
    "                                                hyperparameters['batch_size'],\n",
    "                                                hyperparameters['language_model'],\n",
    "                                                criterion,\n",
    "                                                criterion,\n",
    "                                                None,\n",
    "                                                None)\n",
    "#with open(\"best_weight_original.pkl\", 'wb') as f:\n",
    "#  pickle.dump(best_weights, f)\n"
   ]
  },
  {
   "cell_type": "code",
   "execution_count": 44,
   "metadata": {
    "id": "dSRvz7kDdvxU"
   },
   "outputs": [
    {
     "data": {
      "image/png": "[encoded data removed]",
      "text/plain": [
       "<Figure size 640x480 with 1 Axes>"
      ]
     },
     "metadata": {},
     "output_type": "display_data"
    }
   ],
   "source": [
    "plt.plot(train_loss_original_dataset, label='training loss')\n",
    "plt.plot(validation_loss_original_dataset, label='validation loss')\n",
    "plt.plot(test_loss_original_dataset, label='test loss')\n",
    "plt.legend(loc='lower right')\n",
    "plt.show()"
   ]
  },
  {
   "cell_type": "code",
   "execution_count": 45,
   "metadata": {
    "id": "fsfX46nodvxU"
   },
   "outputs": [
    {
     "data": {
      "image/png": "[encoded data removed]",
      "text/plain": [
       "<Figure size 640x480 with 1 Axes>"
      ]
     },
     "metadata": {},
     "output_type": "display_data"
    }
   ],
   "source": [
    "train_acc_original_dataset = [ np.array(x.cpu()) for x in train_acc_original_dataset ]\n",
    "validation_acc_original_dataset = [ np.array(x.cpu()) for x in validation_acc_original_dataset ]\n",
    "test_acc_original_dataset = [ np.array(x.cpu()) for x in test_acc_original_dataset ]\n",
    "\n",
    "plt.plot(train_acc_original_dataset, label='training accuracy')\n",
    "plt.plot(validation_acc_original_dataset, label='validation accuracy')\n",
    "plt.plot(test_acc_original_dataset, label='test accuracy')\n",
    "plt.legend(loc='lower right')\n",
    "\n",
    "plt.show()"
   ]
  },
  {
   "cell_type": "code",
   "execution_count": null,
   "metadata": {},
   "outputs": [
    {
     "data": {
      "application/vnd.jupyter.widget-view+json": {
       "model_id": "a378b5bce12744e2bbf3b069de61a7bd",
       "version_major": 2,
       "version_minor": 0
      },
      "text/plain": [
       "Looking for emoji:   0%|          | 0/460 [00:00<?, ?it/s]"
      ]
     },
     "metadata": {},
     "output_type": "display_data"
    },
    {
     "data": {
      "application/vnd.jupyter.widget-view+json": {
       "model_id": "49a5f7690c944aea8f6baf9aadaeb230",
       "version_major": 2,
       "version_minor": 0
      },
      "text/plain": [
       "Looking for hashtag:   0%|          | 0/460 [00:00<?, ?it/s]"
      ]
     },
     "metadata": {},
     "output_type": "display_data"
    },
    {
     "data": {
      "application/vnd.jupyter.widget-view+json": {
       "model_id": "87503c31843e4f1385fb15c94f818513",
       "version_major": 2,
       "version_minor": 0
      },
      "text/plain": [
       "  0%|          | 0/92 [00:00<?, ?it/s]"
      ]
     },
     "metadata": {},
     "output_type": "display_data"
    },
    {
     "data": {
      "text/html": [
       "<div>\n",
       "<style scoped>\n",
       "    .dataframe tbody tr th:only-of-type {\n",
       "        vertical-align: middle;\n",
       "    }\n",
       "\n",
       "    .dataframe tbody tr th {\n",
       "        vertical-align: top;\n",
       "    }\n",
       "\n",
       "    .dataframe thead th {\n",
       "        text-align: right;\n",
       "    }\n",
       "</style>\n",
       "<table border=\"1\" class=\"dataframe\">\n",
       "  <thead>\n",
       "    <tr style=\"text-align: right;\">\n",
       "      <th></th>\n",
       "      <th>predicted_label</th>\n",
       "    </tr>\n",
       "  </thead>\n",
       "  <tbody>\n",
       "    <tr>\n",
       "      <th>0</th>\n",
       "      <td>1</td>\n",
       "    </tr>\n",
       "    <tr>\n",
       "      <th>1</th>\n",
       "      <td>0</td>\n",
       "    </tr>\n",
       "    <tr>\n",
       "      <th>2</th>\n",
       "      <td>0</td>\n",
       "    </tr>\n",
       "    <tr>\n",
       "      <th>3</th>\n",
       "      <td>0</td>\n",
       "    </tr>\n",
       "    <tr>\n",
       "      <th>4</th>\n",
       "      <td>0</td>\n",
       "    </tr>\n",
       "  </tbody>\n",
       "</table>\n",
       "</div>"
      ],
      "text/plain": [
       "  predicted_label\n",
       "0               1\n",
       "1               0\n",
       "2               0\n",
       "3               0\n",
       "4               0"
      ]
     },
     "metadata": {},
     "output_type": "display_data"
    }
   ],
   "source": [
    "with open(\"best_weight_original.pkl\", 'rb') as f:\n",
    "  weights = pickle.load(f)\n",
    "\n",
    "device = torch.device(\"cuda\" if torch.cuda.is_available() else \"cpu\")\n",
    "\n",
    "tokenizer = AutoTokenizer.from_pretrained(hyperparameters[\"language_model\"])\n",
    "\n",
    "\n",
    "result_dataset = pd.DataFrame(columns=['Id', 'predicted_label'])\n",
    "result_dataset.set_index('Id', inplace=True)\n",
    "\n",
    "\n",
    "model = ClassifierDeep(hyperparameters[\"#_classes\"],\n",
    "                    hyperparameters[\"h_dim\"],\n",
    "                    hyperparameters[\"dropout\"],\n",
    "                    hyperparameters[\"language_model\"]).to(device)\n",
    "model.load_state_dict(weights)\n",
    "\n",
    "model.eval()\n",
    "\n",
    "test_set = pd.read_csv(f'{root}subtaskA_test.csv',  header=0, names=['id', 'text'])\n",
    "test_set['text'] = test_set['text'].apply(lambda x: x.replace('\\r', ' ').replace('\\n', ' '))\n",
    "test_set['char_count'] = test_set['text'].str.len()\n",
    "test_set = add_emoji(test_set)\n",
    "test_set = add_hashtag(test_set)\n",
    "test_set.drop(columns=['id'], inplace=True)\n",
    "\n",
    "batch_size = 5\n",
    "\n",
    "with torch.no_grad():\n",
    "    for i in tqdm(range(0,len(test_set),batch_size)):\n",
    "        tokens = tokenizer(list(test_set[\"text\"].iloc[i:i+batch_size]), add_special_tokens=True,\n",
    "                                   return_tensors='pt', padding='max_length',\n",
    "                                   max_length = 512, truncation=True)\n",
    "    \n",
    "        tokens_emoji = tokenizer(list(test_set[\"emoji\"].iloc[i:i+batch_size]), add_special_tokens=True,\n",
    "                            return_tensors='pt', padding='max_length',\n",
    "                            max_length = 32, truncation=True)\n",
    "        tokens_hashtag = tokenizer(list(test_set[\"hashtag\"].iloc[i:i+batch_size]), add_special_tokens=True,\n",
    "                                return_tensors='pt', padding='max_length',\n",
    "                                max_length = 32, truncation=True)\n",
    "    \n",
    "        input_id_texts = tokens['input_ids'].squeeze(1).to(device)\n",
    "        mask_texts = tokens['attention_mask'].squeeze(1).to(device)\n",
    "    \n",
    "        input_id_emoji = tokens_emoji['input_ids'].squeeze(1).to(device)\n",
    "        mask_emoji = tokens_emoji['attention_mask'].squeeze(1).to(device)\n",
    "    \n",
    "        input_id_hashtag = tokens_hashtag['input_ids'].squeeze(1).to(device)\n",
    "        mask_hashtag = tokens_hashtag['attention_mask'].squeeze(1).to(device)\n",
    "    \n",
    "        batch_char_count = [torch.tensor(char_count) for char_count in test_set[\"char_count\"].iloc[i:i+batch_size]] \n",
    "        batch_char_count = torch.stack(batch_char_count)\n",
    "        batch_char_count=batch_char_count.to(device)\n",
    "    \n",
    "        output = model(input_id_texts, mask_texts,batch_char_count,input_id_emoji, input_id_hashtag)\n",
    "        \n",
    "        input_id_texts = input_id_texts.detach().cpu()\n",
    "        mask_texts = mask_texts.detach().cpu()\n",
    "        output = output.detach().cpu()\n",
    "        batch_char_count = batch_char_count.detach().cpu()\n",
    "        output = output.round().numpy().tolist()\n",
    "        output = [int(i[0]) for i in output]\n",
    "        current_results = pd.DataFrame({'predicted_label':output})\n",
    "        result_dataset = pd.concat([result_dataset,current_results],ignore_index=True)\n",
    "\n",
    "\n",
    "result_dataset.to_csv('results_original_datset.csv')\n",
    "result_dataset.head()\n",
    "\n",
    "            "
   ]
  },
  {
   "cell_type": "code",
   "execution_count": null,
   "metadata": {},
   "outputs": [
    {
     "data": {
      "application/vnd.jupyter.widget-view+json": {
       "model_id": "eaf7b88e34ef407da558e636bd7f7632",
       "version_major": 2,
       "version_minor": 0
      },
      "text/plain": [
       "Looking for emoji:   0%|          | 0/460 [00:00<?, ?it/s]"
      ]
     },
     "metadata": {},
     "output_type": "display_data"
    },
    {
     "data": {
      "application/vnd.jupyter.widget-view+json": {
       "model_id": "99f18259250247d5bc7f38044cc1a7d6",
       "version_major": 2,
       "version_minor": 0
      },
      "text/plain": [
       "Looking for hashtag:   0%|          | 0/460 [00:00<?, ?it/s]"
      ]
     },
     "metadata": {},
     "output_type": "display_data"
    },
    {
     "data": {
      "application/vnd.jupyter.widget-view+json": {
       "model_id": "f069addff57e40dc8e16a17e700fd63d",
       "version_major": 2,
       "version_minor": 0
      },
      "text/plain": [
       "  0%|          | 0/92 [00:00<?, ?it/s]"
      ]
     },
     "metadata": {},
     "output_type": "display_data"
    },
    {
     "data": {
      "text/html": [
       "<div>\n",
       "<style scoped>\n",
       "    .dataframe tbody tr th:only-of-type {\n",
       "        vertical-align: middle;\n",
       "    }\n",
       "\n",
       "    .dataframe tbody tr th {\n",
       "        vertical-align: top;\n",
       "    }\n",
       "\n",
       "    .dataframe thead th {\n",
       "        text-align: right;\n",
       "    }\n",
       "</style>\n",
       "<table border=\"1\" class=\"dataframe\">\n",
       "  <thead>\n",
       "    <tr style=\"text-align: right;\">\n",
       "      <th></th>\n",
       "      <th>predicted_label</th>\n",
       "    </tr>\n",
       "  </thead>\n",
       "  <tbody>\n",
       "    <tr>\n",
       "      <th>0</th>\n",
       "      <td>1</td>\n",
       "    </tr>\n",
       "    <tr>\n",
       "      <th>1</th>\n",
       "      <td>0</td>\n",
       "    </tr>\n",
       "    <tr>\n",
       "      <th>2</th>\n",
       "      <td>0</td>\n",
       "    </tr>\n",
       "    <tr>\n",
       "      <th>3</th>\n",
       "      <td>0</td>\n",
       "    </tr>\n",
       "    <tr>\n",
       "      <th>4</th>\n",
       "      <td>0</td>\n",
       "    </tr>\n",
       "  </tbody>\n",
       "</table>\n",
       "</div>"
      ],
      "text/plain": [
       "  predicted_label\n",
       "0               1\n",
       "1               0\n",
       "2               0\n",
       "3               0\n",
       "4               0"
      ]
     },
     "metadata": {},
     "output_type": "display_data"
    }
   ],
   "source": [
    "with open(\"best_weight.pkl\", 'rb') as f:\n",
    "  weights = pickle.load(f)\n",
    "\n",
    "device = torch.device(\"cuda\" if torch.cuda.is_available() else \"cpu\")\n",
    "\n",
    "tokenizer = AutoTokenizer.from_pretrained(hyperparameters[\"language_model\"])\n",
    "\n",
    "\n",
    "result_dataset = pd.DataFrame(columns=['Id', 'predicted_label'])\n",
    "result_dataset.set_index('Id', inplace=True)\n",
    "\n",
    "\n",
    "\n",
    "model = ClassifierDeep(hyperparameters[\"#_classes\"],\n",
    "                    hyperparameters[\"h_dim\"],\n",
    "                    hyperparameters[\"dropout\"],\n",
    "                    hyperparameters[\"language_model\"]).to(device)\n",
    "model.load_state_dict(weights)\n",
    "\n",
    "model.eval()\n",
    "\n",
    "test_set = pd.read_csv(f'{root}subtaskA_test.csv',  header=0, names=['id', 'text'])\n",
    "test_set['text'] = test_set['text'].apply(lambda x: x.replace('\\r', ' ').replace('\\n', ' '))\n",
    "test_set['char_count'] = test_set['text'].str.len()\n",
    "test_set = add_emoji(test_set)\n",
    "test_set = add_hashtag(test_set)\n",
    "test_set.drop(columns=['id'], inplace=True)\n",
    "\n",
    "batch_size = 5\n",
    "\n",
    "with torch.no_grad():\n",
    "    for i in tqdm(range(0,len(test_set),batch_size)):\n",
    "        tokens = tokenizer(list(test_set[\"text\"].iloc[i:i+batch_size]), add_special_tokens=True,\n",
    "                                   return_tensors='pt', padding='max_length',\n",
    "                                   max_length = 512, truncation=True)\n",
    "    \n",
    "        tokens_emoji = tokenizer(list(test_set[\"emoji\"].iloc[i:i+batch_size]), add_special_tokens=True,\n",
    "                            return_tensors='pt', padding='max_length',\n",
    "                            max_length = 32, truncation=True)\n",
    "        tokens_hashtag = tokenizer(list(test_set[\"hashtag\"].iloc[i:i+batch_size]), add_special_tokens=True,\n",
    "                                return_tensors='pt', padding='max_length',\n",
    "                                max_length = 32, truncation=True)\n",
    "    \n",
    "        input_id_texts = tokens['input_ids'].squeeze(1).to(device)\n",
    "        mask_texts = tokens['attention_mask'].squeeze(1).to(device)\n",
    "    \n",
    "        input_id_emoji = tokens_emoji['input_ids'].squeeze(1).to(device)\n",
    "        mask_emoji = tokens_emoji['attention_mask'].squeeze(1).to(device)\n",
    "    \n",
    "        input_id_hashtag = tokens_hashtag['input_ids'].squeeze(1).to(device)\n",
    "        mask_hashtag = tokens_hashtag['attention_mask'].squeeze(1).to(device)\n",
    "    \n",
    "        batch_char_count = [torch.tensor(char_count) for char_count in test_set[\"char_count\"].iloc[i:i+batch_size]] \n",
    "        batch_char_count = torch.stack(batch_char_count)\n",
    "        batch_char_count=batch_char_count.to(device)\n",
    "    \n",
    "        output = model(input_id_texts, mask_texts,batch_char_count,input_id_emoji, input_id_hashtag)\n",
    "        \n",
    "        input_id_texts = input_id_texts.detach().cpu()\n",
    "        mask_texts = mask_texts.detach().cpu()\n",
    "        output = output.detach().cpu()\n",
    "        batch_char_count = batch_char_count.detach().cpu()\n",
    "        output = output.round().numpy().tolist()\n",
    "        output = [int(i[0]) for i in output]\n",
    "        current_results = pd.DataFrame({'predicted_label':output})\n",
    "        result_dataset = pd.concat([result_dataset,current_results],ignore_index=True)\n",
    "\n",
    "\n",
    "\n",
    "\n",
    "result_dataset.to_csv('results_augmented_datset.csv')\n",
    "result_dataset.head()\n",
    "\n",
    "            "
   ]
  },
  {
   "cell_type": "markdown",
   "metadata": {},
   "source": [
    "La differenza tra le risposte è quantificabile controllando il numero di risposte che variano in base ai pesi, usando il sito [diffchecker](https://www.diffchecker.com/) è possibile dare in input i due testi e trovare le differenze tra loro.\n",
    "\n",
    "Per il Task A, le risposte differenti tra i due pesi sono 81 su 460, per una variazione del 17,61% circa."
   ]
  }
 ],
 "metadata": {
  "accelerator": "GPU",
  "colab": {
   "gpuType": "T4",
   "provenance": []
  },
  "kernelspec": {
   "display_name": "Python 3 (ipykernel)",
   "language": "python",
   "name": "python3"
  },
  "language_info": {
   "codemirror_mode": {
    "name": "ipython",
    "version": 3
   },
   "file_extension": ".py",
   "mimetype": "text/x-python",
   "name": "python",
   "nbconvert_exporter": "python",
   "pygments_lexer": "ipython3",
   "version": "3.11.7"
  }
 },
 "nbformat": 4,
 "nbformat_minor": 4
}
