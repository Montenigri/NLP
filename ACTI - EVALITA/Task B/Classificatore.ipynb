{
 "cells": [
  {
   "cell_type": "markdown",
   "metadata": {},
   "source": [
    "Task\n",
    "\n",
    "Subtask B: Conspiracy Category Classification : a system must discriminate which conspiracy theory a post supports. We consider four possible conspiracies:\n",
    "\n",
    "In this competition, specific competition participants will tackle the SECOND of these two subtasks.\n",
    "\n",
    "Covid Conspiracy: It is related to narratives concerning vaccine production, 5G, restrictions, and all kind of news intended to support the idea that the pandemic and actions taken by the government were useless instruments of control of the population.\n",
    "\n",
    "Qanon Conspiracy: Qanon supported the idea that a group of Satanic Cannibalist sex abusers conspired against former U.S. President Donald Trump during his term of office. This theory extended far over the original scope embodying other beliefs that support (among the others) hate against women and the idea that a powerful elite (led by public figures like Pope Francis, Queen Elizabeth, and Hillary Clinton ) is trying to organize a New World Order.\n",
    "\n",
    "Flat Earth: It is a theory that claims that Earth is flat. This theory deals also with discussions about UFO.\n",
    "\n",
    "Pro-Russia Conspiracy: This theory supports the idea that in the Ukraine-Russia war, Ukraine and NATO supported by nazists soldiers hold the responsability of the war."
   ]
  },
  {
   "cell_type": "code",
   "execution_count": null,
   "metadata": {},
   "outputs": [],
   "source": [
    "%pip install emoji sklearn pandas numpy nltk transformers torch matplotlib seaborn"
   ]
  },
  {
   "cell_type": "markdown",
   "metadata": {},
   "source": [
    "Documentazioni:\n",
    "emoji: https://carpedm20.github.io/emoji/docs/"
   ]
  },
  {
   "cell_type": "markdown",
   "metadata": {},
   "source": [
    "Il dataset presenta una lista di messaggi/post raccolti su vari social, una delle caratteristiche di queste forme di comunicazioni sono le emoticon (o emoji) e la forma del messaggio in se.\n",
    "Questo significa che un testo che vuole catturare l'attenzione avrà un \"titolo\" d'impatto e spesso in maiuscolo, in quanto l'attenzione dedicata a questo tipo di contenuti è poca e di carattere transitorio.\n",
    "\n",
    "Inoltre il dataset presenta una quantità di dati inadatta all'addestramento di un qualsiasi classficatore superabile tramite tecniche di data augmentation, questa caratteristica è intriseca nel problema in quanto i trend [^1] durano molto poco nel tempo e per un sistema di riconoscimento dei contenuti fuorvianti è necessario essere in grado di adattarsi in breve a queste variazioni.\n",
    "\n",
    "Il dataset ha dimensione eterogenea, il che potrebbe portare a esempi per il transformer dove sono presenti lunghe stringhe di filler.\n",
    "\n",
    "\n",
    "\n",
    "\n",
    "\n",
    "\n",
    "Di seguito verranno proposte alcune tecniche di preprocessing e di data augmentation\n",
    "\n",
    "\n",
    "[^1]: Per trend si indica un argomento che cattura l'attenzione del pubblico e che ha orizzonte temporale molto breve, di solito nell'ordine dei giorni."
   ]
  },
  {
   "cell_type": "markdown",
   "metadata": {},
   "source": [
    "Possibili tentativi  \n",
    "\n",
    "Data augmentation\n",
    "- prendere solo i caratteri ripetuti o parole maiuscole e emoticon dal testo e verificare la label, questo può funzionare in quanto spesso la comunicazione passa per l'impatto della forma  \n",
    "- utilizzare altri modelli di elaborazione del linguaggio, chiedendo di modificare il testo mantenendone il significato, nascondendone parti o riformulare in modo più o meno aggressivo la frase\n",
    "\n",
    "\n",
    "Data preprocessing  \n",
    "- Aggiungere una colonna che conta la percentuale di caratteri ripetuti o parole maiuscole ed una colonna con la presenza o meno di un set di emoji, per poi normalizzare il dataset trasformando in minuscolo tutti i caratteri  \n",
    "- Raccolta di una percentuale della frase per raccogliere il \"titolo\" "
   ]
  },
  {
   "cell_type": "code",
   "execution_count": 1,
   "metadata": {},
   "outputs": [
    {
     "data": {
      "text/html": [
       "<div>\n",
       "<style scoped>\n",
       "    .dataframe tbody tr th:only-of-type {\n",
       "        vertical-align: middle;\n",
       "    }\n",
       "\n",
       "    .dataframe tbody tr th {\n",
       "        vertical-align: top;\n",
       "    }\n",
       "\n",
       "    .dataframe thead th {\n",
       "        text-align: right;\n",
       "    }\n",
       "</style>\n",
       "<table border=\"1\" class=\"dataframe\">\n",
       "  <thead>\n",
       "    <tr style=\"text-align: right;\">\n",
       "      <th></th>\n",
       "      <th>id</th>\n",
       "      <th>text</th>\n",
       "      <th>label</th>\n",
       "    </tr>\n",
       "  </thead>\n",
       "  <tbody>\n",
       "    <tr>\n",
       "      <th>0</th>\n",
       "      <td>Siamo davanti ad una prova, e non solo di quoz...</td>\n",
       "      <td>Qanon</td>\n",
       "      <td>1</td>\n",
       "    </tr>\n",
       "    <tr>\n",
       "      <th>1</th>\n",
       "      <td>La storia dei 2 bimbi di Bergamo - vaccini: qu...</td>\n",
       "      <td>Covid</td>\n",
       "      <td>0</td>\n",
       "    </tr>\n",
       "    <tr>\n",
       "      <th>2</th>\n",
       "      <td>L'avete capito che non toglieranno il green pa...</td>\n",
       "      <td>Covid</td>\n",
       "      <td>0</td>\n",
       "    </tr>\n",
       "    <tr>\n",
       "      <th>3</th>\n",
       "      <td>Quindi  la farsa dello spazio e della terra a ...</td>\n",
       "      <td>Terra Piatta</td>\n",
       "      <td>3</td>\n",
       "    </tr>\n",
       "    <tr>\n",
       "      <th>4</th>\n",
       "      <td>In breve tempo, per accedere a Internet, sarà ...</td>\n",
       "      <td>Qanon</td>\n",
       "      <td>1</td>\n",
       "    </tr>\n",
       "    <tr>\n",
       "      <th>...</th>\n",
       "      <td>...</td>\n",
       "      <td>...</td>\n",
       "      <td>...</td>\n",
       "    </tr>\n",
       "    <tr>\n",
       "      <th>805</th>\n",
       "      <td>Incredibile!!!! EMA, Agenzia Europea del Farma...</td>\n",
       "      <td>Covid</td>\n",
       "      <td>0</td>\n",
       "    </tr>\n",
       "    <tr>\n",
       "      <th>806</th>\n",
       "      <td>Non ci saranno colloqui di pace con la Russia ...</td>\n",
       "      <td>Russia</td>\n",
       "      <td>2</td>\n",
       "    </tr>\n",
       "    <tr>\n",
       "      <th>807</th>\n",
       "      <td>L'atmosfera è uno \"scudo protettivo\" che avvol...</td>\n",
       "      <td>Terra Piatta</td>\n",
       "      <td>3</td>\n",
       "    </tr>\n",
       "    <tr>\n",
       "      <th>808</th>\n",
       "      <td>OTTIMA NOTIZIA! Due ragioni per cui le élite n...</td>\n",
       "      <td>Covid</td>\n",
       "      <td>0</td>\n",
       "    </tr>\n",
       "    <tr>\n",
       "      <th>809</th>\n",
       "      <td>Ma è perfet allineata o meglio piatta</td>\n",
       "      <td>Terra Piatta</td>\n",
       "      <td>3</td>\n",
       "    </tr>\n",
       "  </tbody>\n",
       "</table>\n",
       "<p>810 rows × 3 columns</p>\n",
       "</div>"
      ],
      "text/plain": [
       "                                                    id          text  label\n",
       "0    Siamo davanti ad una prova, e non solo di quoz...         Qanon      1\n",
       "1    La storia dei 2 bimbi di Bergamo - vaccini: qu...         Covid      0\n",
       "2    L'avete capito che non toglieranno il green pa...         Covid      0\n",
       "3    Quindi  la farsa dello spazio e della terra a ...  Terra Piatta      3\n",
       "4    In breve tempo, per accedere a Internet, sarà ...         Qanon      1\n",
       "..                                                 ...           ...    ...\n",
       "805  Incredibile!!!! EMA, Agenzia Europea del Farma...         Covid      0\n",
       "806  Non ci saranno colloqui di pace con la Russia ...        Russia      2\n",
       "807  L'atmosfera è uno \"scudo protettivo\" che avvol...  Terra Piatta      3\n",
       "808  OTTIMA NOTIZIA! Due ragioni per cui le élite n...         Covid      0\n",
       "809              Ma è perfet allineata o meglio piatta  Terra Piatta      3\n",
       "\n",
       "[810 rows x 3 columns]"
      ]
     },
     "execution_count": 1,
     "metadata": {},
     "output_type": "execute_result"
    }
   ],
   "source": [
    "import numpy\n",
    "import pandas as pd\n",
    "\n",
    "\n",
    "#carica il dataset csv dal file presente in Dataset/subtaskA_train.cvs\n",
    "dataset = pd.read_csv('Dataset/subtaskB_train.csv',  header=0, names=['id', 'text', 'label'])\n",
    "\n",
    "dataset"
   ]
  }
 ],
 "metadata": {
  "kernelspec": {
   "display_name": "Python 3",
   "language": "python",
   "name": "python3"
  },
  "language_info": {
   "codemirror_mode": {
    "name": "ipython",
    "version": 3
   },
   "file_extension": ".py",
   "mimetype": "text/x-python",
   "name": "python",
   "nbconvert_exporter": "python",
   "pygments_lexer": "ipython3",
   "version": "3.11.6"
  }
 },
 "nbformat": 4,
 "nbformat_minor": 2
}
