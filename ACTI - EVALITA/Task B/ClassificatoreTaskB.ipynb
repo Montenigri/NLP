{
 "cells": [
  {
   "cell_type": "markdown",
   "metadata": {},
   "source": [
    "Task\n",
    "\n",
    "Subtask B: Conspiracy Category Classification : a system must discriminate which conspiracy theory a post supports. We consider four possible conspiracies:\n",
    "\n",
    "In this competition, specific competition participants will tackle the SECOND of these two subtasks.\n",
    "\n",
    "Covid Conspiracy: It is related to narratives concerning vaccine production, 5G, restrictions, and all kind of news intended to support the idea that the pandemic and actions taken by the government were useless instruments of control of the population.\n",
    "\n",
    "Qanon Conspiracy: Qanon supported the idea that a group of Satanic Cannibalist sex abusers conspired against former U.S. President Donald Trump during his term of office. This theory extended far over the original scope embodying other beliefs that support (among the others) hate against women and the idea that a powerful elite (led by public figures like Pope Francis, Queen Elizabeth, and Hillary Clinton ) is trying to organize a New World Order.\n",
    "\n",
    "Flat Earth: It is a theory that claims that Earth is flat. This theory deals also with discussions about UFO.\n",
    "\n",
    "Pro-Russia Conspiracy: This theory supports the idea that in the Ukraine-Russia war, Ukraine and NATO supported by nazists soldiers hold the responsability of the war."
   ]
  },
  {
   "cell_type": "code",
   "execution_count": 1,
   "metadata": {},
   "outputs": [
    {
     "name": "stdout",
     "output_type": "stream",
     "text": [
      "Requirement already satisfied: emoji in /usr/local/lib/python3.11/dist-packages (2.9.0)\n",
      "Collecting sklearn\n",
      "  Using cached sklearn-0.0.post12.tar.gz (2.6 kB)\n",
      "  Preparing metadata (setup.py) ... \u001b[?25lerror\n",
      "  \u001b[1;31merror\u001b[0m: \u001b[1msubprocess-exited-with-error\u001b[0m\n",
      "  \n",
      "  \u001b[31m×\u001b[0m \u001b[32mpython setup.py egg_info\u001b[0m did not run successfully.\n",
      "  \u001b[31m│\u001b[0m exit code: \u001b[1;36m1\u001b[0m\n",
      "  \u001b[31m╰─>\u001b[0m \u001b[31m[15 lines of output]\u001b[0m\n",
      "  \u001b[31m   \u001b[0m The 'sklearn' PyPI package is deprecated, use 'scikit-learn'\n",
      "  \u001b[31m   \u001b[0m rather than 'sklearn' for pip commands.\n",
      "  \u001b[31m   \u001b[0m \n",
      "  \u001b[31m   \u001b[0m Here is how to fix this error in the main use cases:\n",
      "  \u001b[31m   \u001b[0m - use 'pip install scikit-learn' rather than 'pip install sklearn'\n",
      "  \u001b[31m   \u001b[0m - replace 'sklearn' by 'scikit-learn' in your pip requirements files\n",
      "  \u001b[31m   \u001b[0m   (requirements.txt, setup.py, setup.cfg, Pipfile, etc ...)\n",
      "  \u001b[31m   \u001b[0m - if the 'sklearn' package is used by one of your dependencies,\n",
      "  \u001b[31m   \u001b[0m   it would be great if you take some time to track which package uses\n",
      "  \u001b[31m   \u001b[0m   'sklearn' instead of 'scikit-learn' and report it to their issue tracker\n",
      "  \u001b[31m   \u001b[0m - as a last resort, set the environment variable\n",
      "  \u001b[31m   \u001b[0m   SKLEARN_ALLOW_DEPRECATED_SKLEARN_PACKAGE_INSTALL=True to avoid this error\n",
      "  \u001b[31m   \u001b[0m \n",
      "  \u001b[31m   \u001b[0m More information is available at\n",
      "  \u001b[31m   \u001b[0m https://github.com/scikit-learn/sklearn-pypi-package\n",
      "  \u001b[31m   \u001b[0m \u001b[31m[end of output]\u001b[0m\n",
      "  \n",
      "  \u001b[1;35mnote\u001b[0m: This error originates from a subprocess, and is likely not a problem with pip.\n",
      "\u001b[1;31merror\u001b[0m: \u001b[1mmetadata-generation-failed\u001b[0m\n",
      "\n",
      "\u001b[31m×\u001b[0m Encountered error while generating package metadata.\n",
      "\u001b[31m╰─>\u001b[0m See above for output.\n",
      "\n",
      "\u001b[1;35mnote\u001b[0m: This is an issue with the package mentioned above, not pip.\n",
      "\u001b[1;36mhint\u001b[0m: See above for details.\n",
      "\n",
      "\u001b[1m[\u001b[0m\u001b[34;49mnotice\u001b[0m\u001b[1;39;49m]\u001b[0m\u001b[39;49m A new release of pip is available: \u001b[0m\u001b[31;49m23.3.1\u001b[0m\u001b[39;49m -> \u001b[0m\u001b[32;49m23.3.2\u001b[0m\n",
      "\u001b[1m[\u001b[0m\u001b[34;49mnotice\u001b[0m\u001b[1;39;49m]\u001b[0m\u001b[39;49m To update, run: \u001b[0m\u001b[32;49mpython3 -m pip install --upgrade pip\u001b[0m\n",
      "\u001b[?25hNote: you may need to restart the kernel to use updated packages.\n"
     ]
    }
   ],
   "source": [
    "%pip install emoji sklearn pandas numpy nltk transformers torch matplotlib seaborn"
   ]
  },
  {
   "cell_type": "markdown",
   "metadata": {},
   "source": [
    "Documentazioni:\n",
    "emoji: https://carpedm20.github.io/emoji/docs/"
   ]
  },
  {
   "cell_type": "markdown",
   "metadata": {},
   "source": [
    "Il dataset presenta una lista di messaggi/post raccolti su vari social, una delle caratteristiche di queste forme di comunicazioni sono le emoticon (o emoji) e la forma del messaggio in se.\n",
    "Questo significa che un testo che vuole catturare l'attenzione avrà un \"titolo\" d'impatto e spesso in maiuscolo, in quanto l'attenzione dedicata a questo tipo di contenuti è poca e di carattere transitorio.\n",
    "\n",
    "Inoltre il dataset presenta una quantità di dati inadatta all'addestramento di un qualsiasi classficatore superabile tramite tecniche di data augmentation, questa caratteristica è intriseca nel problema in quanto i trend [^1] durano molto poco nel tempo e per un sistema di riconoscimento dei contenuti fuorvianti è necessario essere in grado di adattarsi in breve a queste variazioni.\n",
    "\n",
    "Il dataset ha dimensione eterogenea, il che potrebbe portare a esempi per il transformer dove sono presenti lunghe stringhe di filler.\n",
    "\n",
    "\n",
    "\n",
    "\n",
    "\n",
    "\n",
    "Di seguito verranno proposte alcune tecniche di preprocessing e di data augmentation\n",
    "\n",
    "\n",
    "[^1]: Per trend si indica un argomento che cattura l'attenzione del pubblico e che ha orizzonte temporale molto breve, di solito nell'ordine dei giorni."
   ]
  },
  {
   "cell_type": "markdown",
   "metadata": {},
   "source": [
    "Possibili tentativi  \n",
    "\n",
    "Data augmentation\n",
    "- prendere solo i caratteri ripetuti o parole maiuscole e emoticon dal testo e verificare la label, questo può funzionare in quanto spesso la comunicazione passa per l'impatto della forma  \n",
    "- utilizzare altri modelli di elaborazione del linguaggio, chiedendo di modificare il testo mantenendone il significato, nascondendone parti o riformulare in modo più o meno aggressivo la frase\n",
    "\n",
    "\n",
    "Data preprocessing  \n",
    "- Aggiungere una colonna che conta la percentuale di caratteri ripetuti o parole maiuscole ed una colonna con la presenza o meno di un set di emoji, per poi normalizzare il dataset trasformando in minuscolo tutti i caratteri  \n",
    "- Raccolta di una percentuale della frase per raccogliere il \"titolo\" "
   ]
  },
  {
   "cell_type": "code",
   "execution_count": 2,
   "metadata": {},
   "outputs": [],
   "source": [
    "#from google.colab import drive\n",
    "\n",
    "#drive.mount('/content/gdrive')\n",
    "#root = '/content/gdrive/MyDrive/Colab Notebooks/dataset/'\n",
    "\n",
    "root = './Dataset/'"
   ]
  },
  {
   "cell_type": "code",
   "execution_count": 3,
   "metadata": {},
   "outputs": [],
   "source": [
    "import numpy as np\n",
    "import pandas as pd\n",
    "import os\n",
    "from tqdm.notebook import tqdm\n",
    "import time\n",
    "from torch.optim import Adam\n",
    "from torch import nn\n",
    "import torch\n",
    "from sklearn.model_selection import train_test_split\n",
    "from transformers import AutoConfig, AutoModel, AutoTokenizer, AutoModelForSequenceClassification\n",
    "from sklearn.utils import shuffle\n",
    "import nltk\n",
    "import matplotlib.pyplot as plt\n",
    "import emoji\n",
    "import copy\n",
    "import pickle"
   ]
  },
  {
   "cell_type": "code",
   "execution_count": 4,
   "metadata": {},
   "outputs": [
    {
     "data": {
      "text/html": [
       "<div>\n",
       "<style scoped>\n",
       "    .dataframe tbody tr th:only-of-type {\n",
       "        vertical-align: middle;\n",
       "    }\n",
       "\n",
       "    .dataframe tbody tr th {\n",
       "        vertical-align: top;\n",
       "    }\n",
       "\n",
       "    .dataframe thead th {\n",
       "        text-align: right;\n",
       "    }\n",
       "</style>\n",
       "<table border=\"1\" class=\"dataframe\">\n",
       "  <thead>\n",
       "    <tr style=\"text-align: right;\">\n",
       "      <th></th>\n",
       "      <th>text</th>\n",
       "      <th>explicit_label</th>\n",
       "      <th>label</th>\n",
       "    </tr>\n",
       "  </thead>\n",
       "  <tbody>\n",
       "    <tr>\n",
       "      <th>0</th>\n",
       "      <td>Siamo davanti ad una prova, e non solo di quoz...</td>\n",
       "      <td>Qanon</td>\n",
       "      <td>1</td>\n",
       "    </tr>\n",
       "    <tr>\n",
       "      <th>1</th>\n",
       "      <td>La storia dei 2 bimbi di Bergamo - vaccini: qu...</td>\n",
       "      <td>Covid</td>\n",
       "      <td>0</td>\n",
       "    </tr>\n",
       "    <tr>\n",
       "      <th>2</th>\n",
       "      <td>L'avete capito che non toglieranno il green pa...</td>\n",
       "      <td>Covid</td>\n",
       "      <td>0</td>\n",
       "    </tr>\n",
       "    <tr>\n",
       "      <th>3</th>\n",
       "      <td>Quindi  la farsa dello spazio e della terra a ...</td>\n",
       "      <td>Terra Piatta</td>\n",
       "      <td>3</td>\n",
       "    </tr>\n",
       "    <tr>\n",
       "      <th>4</th>\n",
       "      <td>In breve tempo, per accedere a Internet, sarà ...</td>\n",
       "      <td>Qanon</td>\n",
       "      <td>1</td>\n",
       "    </tr>\n",
       "    <tr>\n",
       "      <th>...</th>\n",
       "      <td>...</td>\n",
       "      <td>...</td>\n",
       "      <td>...</td>\n",
       "    </tr>\n",
       "    <tr>\n",
       "      <th>805</th>\n",
       "      <td>Incredibile!!!! EMA, Agenzia Europea del Farma...</td>\n",
       "      <td>Covid</td>\n",
       "      <td>0</td>\n",
       "    </tr>\n",
       "    <tr>\n",
       "      <th>806</th>\n",
       "      <td>Non ci saranno colloqui di pace con la Russia ...</td>\n",
       "      <td>Russia</td>\n",
       "      <td>2</td>\n",
       "    </tr>\n",
       "    <tr>\n",
       "      <th>807</th>\n",
       "      <td>L'atmosfera è uno \"scudo protettivo\" che avvol...</td>\n",
       "      <td>Terra Piatta</td>\n",
       "      <td>3</td>\n",
       "    </tr>\n",
       "    <tr>\n",
       "      <th>808</th>\n",
       "      <td>OTTIMA NOTIZIA! Due ragioni per cui le élite n...</td>\n",
       "      <td>Covid</td>\n",
       "      <td>0</td>\n",
       "    </tr>\n",
       "    <tr>\n",
       "      <th>809</th>\n",
       "      <td>Ma è perfet allineata o meglio piatta</td>\n",
       "      <td>Terra Piatta</td>\n",
       "      <td>3</td>\n",
       "    </tr>\n",
       "  </tbody>\n",
       "</table>\n",
       "<p>810 rows × 3 columns</p>\n",
       "</div>"
      ],
      "text/plain": [
       "                                                  text explicit_label  label\n",
       "0    Siamo davanti ad una prova, e non solo di quoz...          Qanon      1\n",
       "1    La storia dei 2 bimbi di Bergamo - vaccini: qu...          Covid      0\n",
       "2    L'avete capito che non toglieranno il green pa...          Covid      0\n",
       "3    Quindi  la farsa dello spazio e della terra a ...   Terra Piatta      3\n",
       "4    In breve tempo, per accedere a Internet, sarà ...          Qanon      1\n",
       "..                                                 ...            ...    ...\n",
       "805  Incredibile!!!! EMA, Agenzia Europea del Farma...          Covid      0\n",
       "806  Non ci saranno colloqui di pace con la Russia ...         Russia      2\n",
       "807  L'atmosfera è uno \"scudo protettivo\" che avvol...   Terra Piatta      3\n",
       "808  OTTIMA NOTIZIA! Due ragioni per cui le élite n...          Covid      0\n",
       "809              Ma è perfet allineata o meglio piatta   Terra Piatta      3\n",
       "\n",
       "[810 rows x 3 columns]"
      ]
     },
     "execution_count": 4,
     "metadata": {},
     "output_type": "execute_result"
    }
   ],
   "source": [
    "#carica il dataset csv dal file presente in Dataset/subtaskA_train.cvs\n",
    "dataset = pd.read_csv('Dataset/subtaskB_train.csv',  header=0, names=['text', 'explicit_label', 'label'])\n",
    "\n",
    "dataset"
   ]
  },
  {
   "cell_type": "code",
   "execution_count": 5,
   "metadata": {},
   "outputs": [],
   "source": [
    "pd.set_option('display.max_colwidth', None)\n",
    "color1 = (0.2, # redness\n",
    "         0.4, # greenness\n",
    "         0.2, # blueness\n",
    "         0.6 # transparency\n",
    "         )\n",
    "color2 = (0.4, 0.2, 0.2, 0.6)\n",
    "color3 = (0.6, 0.3, 0.1, 0.7)\n",
    "color4 = (0.1, 0.5, 0.4, 0.5)\n",
    "color5 = (0.8, 0.2, 0.3, 0.8)\n",
    "colors = [color1, color2, color3, color4, color5]\n"
   ]
  },
  {
   "cell_type": "code",
   "execution_count": 6,
   "metadata": {},
   "outputs": [
    {
     "data": {
      "image/png": "[encoded data removed]",
      "text/plain": [
       "<Figure size 640x480 with 1 Axes>"
      ]
     },
     "metadata": {},
     "output_type": "display_data"
    }
   ],
   "source": [
    "dataset['explicit_label'].value_counts().plot(kind='bar', color=[color2,color1])\n",
    "plt.title('Distribuzione delle classi')\n",
    "plt.show()"
   ]
  },
  {
   "cell_type": "code",
   "execution_count": 7,
   "metadata": {},
   "outputs": [
    {
     "name": "stdout",
     "output_type": "stream",
     "text": [
      "dati mancanti\n",
      "text              0\n",
      "explicit_label    0\n",
      "label             0\n",
      "dtype: int64\n"
     ]
    }
   ],
   "source": [
    "print(\"dati mancanti\")\n",
    "print(dataset.isna().sum())"
   ]
  },
  {
   "cell_type": "code",
   "execution_count": 8,
   "metadata": {},
   "outputs": [],
   "source": [
    "explicit_label_from_index = [\"Covid\",\"Qanon\",\"Terra Piatta\", \"Russia\"]"
   ]
  },
  {
   "cell_type": "code",
   "execution_count": 9,
   "metadata": {},
   "outputs": [],
   "source": [
    "def process_data_augmentation(dataset):\n",
    "    typeA=['[Sinonimi]:','[Riassunto]:','[Tono diverso]:','[Parole chiave sostituite]:','[Domanda diretta]:']\n",
    "    typeB=['Riscrivi il testo originale utilizzando sinonimi per esprimere lo stesso significato in italiano:','Fornisci un riassunto del testo originale in italiano:','Riscrivi il testo originale con un tono diverso, mantenendo però il medesimo significato in italiano:', 'Sostituisci alcune parole chiave nel testo originale in italiano:','Trasforma il testo originale in una domanda diretta in italiano:']\n",
    "    processed_dataset = dataset.copy()\n",
    "    processed_dataset = processed_dataset.drop(columns=['augmented_text'])\n",
    "    augmented_dataset = pd.DataFrame(columns=['text', 'label'])\n",
    "    #dataset['augmented_text'] = dataset['augmented_text'].apply(lambda x: x.replace('\\r', ' ').replace('\\n', ' '))\n",
    "\n",
    "    for i in tqdm(range(len(dataset))):\n",
    "        #Copio la singola riga del dataset in una variabile per usarla come stringa\n",
    "\n",
    "        augmented = dataset.loc[i,'augmented_text']\n",
    "        #Divido la stringa per riga\n",
    "        augmented = augmented.split('\\n')\n",
    "        #Per ogni riga controllo se è presente una delle stringhe di tipo A o B\n",
    "        #Esistono due tipi poiché i due modelli restituivano due strutture leggermente diverse\n",
    "        for statement in augmented:\n",
    "            #Verifico la riga appartenga al risultato e taglio la parte introduttiva\n",
    "            for start in typeA:\n",
    "                if start in statement:\n",
    "                    augmented_dataset.loc[0,'text'] = statement.replace(start, '')\n",
    "                    augmented_dataset.loc[0,'label'] = dataset.loc[i,'label']\n",
    "                    #Aggiungo la riga al dataset\n",
    "                    processed_dataset = pd.concat([processed_dataset,augmented_dataset],ignore_index=True)\n",
    "            for start in typeB:\n",
    "                if start in statement:\n",
    "                    augmented_dataset.loc[0,'text'] = statement.replace(start, '')\n",
    "                    augmented_dataset.loc[0,'label'] = dataset.loc[i,'label']\n",
    "                    processed_dataset = pd.concat([processed_dataset,augmented_dataset],ignore_index=True)\n",
    "\n",
    "    processed_dataset['text'] = processed_dataset['text'].apply(lambda x: x.replace('\\r', ' ').replace('\\n', ' '))\n",
    "\n",
    "    return processed_dataset"
   ]
  },
  {
   "cell_type": "code",
   "execution_count": 10,
   "metadata": {},
   "outputs": [
    {
     "data": {
      "application/vnd.jupyter.widget-view+json": {
       "model_id": "34f7f334d9fa4ccba7009857b3ccf69f",
       "version_major": 2,
       "version_minor": 0
      },
      "text/plain": [
       "  0%|          | 0/810 [00:00<?, ?it/s]"
      ]
     },
     "metadata": {},
     "output_type": "display_data"
    }
   ],
   "source": [
    "augmented_dataset = pd.read_csv(f'{root}augmented_dataset2.csv',  header=0, names=['text', 'explicit_label', 'label','augmented_text'])\n",
    "augmented_dataset = augmented_dataset.drop(columns=['explicit_label'])\n",
    "augmented_dataset = process_data_augmentation(augmented_dataset)"
   ]
  },
  {
   "cell_type": "code",
   "execution_count": 11,
   "metadata": {},
   "outputs": [
    {
     "data": {
      "image/png": "[encoded data removed]",
      "text/plain": [
       "<Figure size 640x480 with 1 Axes>"
      ]
     },
     "metadata": {},
     "output_type": "display_data"
    }
   ],
   "source": [
    "augmented_dataset['label'].value_counts().plot(kind='bar', color=[color1,color2])\n",
    "plt.title('Distribuzione delle classi')\n",
    "plt.show()"
   ]
  },
  {
   "cell_type": "code",
   "execution_count": 12,
   "metadata": {},
   "outputs": [
    {
     "name": "stdout",
     "output_type": "stream",
     "text": [
      "dati mancanti\n",
      "text     0\n",
      "label    0\n",
      "dtype: int64\n"
     ]
    }
   ],
   "source": [
    "print(\"dati mancanti\")\n",
    "print(augmented_dataset.isna().sum())"
   ]
  },
  {
   "cell_type": "code",
   "execution_count": 13,
   "metadata": {},
   "outputs": [
    {
     "data": {
      "text/html": [
       "<div>\n",
       "<style scoped>\n",
       "    .dataframe tbody tr th:only-of-type {\n",
       "        vertical-align: middle;\n",
       "    }\n",
       "\n",
       "    .dataframe tbody tr th {\n",
       "        vertical-align: top;\n",
       "    }\n",
       "\n",
       "    .dataframe thead th {\n",
       "        text-align: right;\n",
       "    }\n",
       "</style>\n",
       "<table border=\"1\" class=\"dataframe\">\n",
       "  <thead>\n",
       "    <tr style=\"text-align: right;\">\n",
       "      <th></th>\n",
       "      <th>text</th>\n",
       "      <th>label</th>\n",
       "    </tr>\n",
       "  </thead>\n",
       "  <tbody>\n",
       "    <tr>\n",
       "      <th>1374</th>\n",
       "      <td>Il testo originale menziona un rapido resoconto dei piani del Deep State per disturbare l'equilibrio naturale della società e instaurarsi come normale.</td>\n",
       "      <td>1</td>\n",
       "    </tr>\n",
       "    <tr>\n",
       "      <th>2293</th>\n",
       "      <td>CV19, anemia da immunizzazione e RISOLUTIVO universale! Mi lo assumo per altre ragioni e dopo circa sei mesi dirò di aver riscontrato reazioni positive su problematiche e inconvenienti che mi avevo trainato dietro da tempo.</td>\n",
       "      <td>0</td>\n",
       "    </tr>\n",
       "    <tr>\n",
       "      <th>3379</th>\n",
       "      <td>Che azione chiede Luca Teodori, di M3V, riguardo la vaccinazione di massa e quale è la sua opinione sui motivi dietro a essa?</td>\n",
       "      <td>0</td>\n",
       "    </tr>\n",
       "    <tr>\n",
       "      <th>1090</th>\n",
       "      <td>Ho attendeva da decenni l'affermazione di questi fenomeni OVNI o OAV... E ho attendeva anche un video così... !!</td>\n",
       "      <td>3</td>\n",
       "    </tr>\n",
       "    <tr>\n",
       "      <th>1803</th>\n",
       "      <td>Quale evento è avvenuto il 15 aprile e come è stata descritta tale situazione?</td>\n",
       "      <td>0</td>\n",
       "    </tr>\n",
       "  </tbody>\n",
       "</table>\n",
       "</div>"
      ],
      "text/plain": [
       "                                                                                                                                                                                                                                   text  \\\n",
       "1374                                                                           Il testo originale menziona un rapido resoconto dei piani del Deep State per disturbare l'equilibrio naturale della società e instaurarsi come normale.    \n",
       "2293   CV19, anemia da immunizzazione e RISOLUTIVO universale! Mi lo assumo per altre ragioni e dopo circa sei mesi dirò di aver riscontrato reazioni positive su problematiche e inconvenienti che mi avevo trainato dietro da tempo.    \n",
       "3379                                                                                                      Che azione chiede Luca Teodori, di M3V, riguardo la vaccinazione di massa e quale è la sua opinione sui motivi dietro a essa?   \n",
       "1090                                                                                                                  Ho attendeva da decenni l'affermazione di questi fenomeni OVNI o OAV... E ho attendeva anche un video così... !!    \n",
       "1803                                                                                                                                                     Quale evento è avvenuto il 15 aprile e come è stata descritta tale situazione?   \n",
       "\n",
       "     label  \n",
       "1374     1  \n",
       "2293     0  \n",
       "3379     0  \n",
       "1090     3  \n",
       "1803     0  "
      ]
     },
     "execution_count": 13,
     "metadata": {},
     "output_type": "execute_result"
    }
   ],
   "source": [
    "augmented_dataset = shuffle(augmented_dataset, random_state=42)\n",
    "augmented_dataset.head()"
   ]
  },
  {
   "cell_type": "code",
   "execution_count": 14,
   "metadata": {},
   "outputs": [],
   "source": [
    "def add_hashtag(dataset):\n",
    "    augmented_dataset = dataset.copy()\n",
    "    augmented_dataset['hashtag'] = ' '\n",
    "    data = []\n",
    "\n",
    "    for i in tqdm(range(len(dataset)), desc= \"Looking for hashtag\"):\n",
    "        text = dataset.loc[i,'text']\n",
    "        dato = [k for k in text.split() if k.startswith(\"#\")]\n",
    "        data.append(dato)\n",
    "\n",
    "    augmented_dataset['hashtag'] = data\n",
    "    augmented_dataset['hashtag'] = augmented_dataset['hashtag'].apply(lambda x: \" \".join(x).replace('#', ''))\n",
    "\n",
    "\n",
    "    return augmented_dataset"
   ]
  },
  {
   "cell_type": "code",
   "execution_count": 15,
   "metadata": {},
   "outputs": [
    {
     "data": {
      "application/vnd.jupyter.widget-view+json": {
       "model_id": "0971d27d69004ee99926fb8e71b9c083",
       "version_major": 2,
       "version_minor": 0
      },
      "text/plain": [
       "Looking for hashtag:   0%|          | 0/4368 [00:00<?, ?it/s]"
      ]
     },
     "metadata": {},
     "output_type": "display_data"
    },
    {
     "data": {
      "text/html": [
       "<div>\n",
       "<style scoped>\n",
       "    .dataframe tbody tr th:only-of-type {\n",
       "        vertical-align: middle;\n",
       "    }\n",
       "\n",
       "    .dataframe tbody tr th {\n",
       "        vertical-align: top;\n",
       "    }\n",
       "\n",
       "    .dataframe thead th {\n",
       "        text-align: right;\n",
       "    }\n",
       "</style>\n",
       "<table border=\"1\" class=\"dataframe\">\n",
       "  <thead>\n",
       "    <tr style=\"text-align: right;\">\n",
       "      <th></th>\n",
       "      <th>text</th>\n",
       "      <th>label</th>\n",
       "      <th>hashtag</th>\n",
       "    </tr>\n",
       "  </thead>\n",
       "  <tbody>\n",
       "    <tr>\n",
       "      <th>1374</th>\n",
       "      <td>Il testo originale menziona un rapido resoconto dei piani del Deep State per disturbare l'equilibrio naturale della società e instaurarsi come normale.</td>\n",
       "      <td>1</td>\n",
       "      <td></td>\n",
       "    </tr>\n",
       "    <tr>\n",
       "      <th>2293</th>\n",
       "      <td>CV19, anemia da immunizzazione e RISOLUTIVO universale! Mi lo assumo per altre ragioni e dopo circa sei mesi dirò di aver riscontrato reazioni positive su problematiche e inconvenienti che mi avevo trainato dietro da tempo.</td>\n",
       "      <td>0</td>\n",
       "      <td></td>\n",
       "    </tr>\n",
       "    <tr>\n",
       "      <th>3379</th>\n",
       "      <td>Che azione chiede Luca Teodori, di M3V, riguardo la vaccinazione di massa e quale è la sua opinione sui motivi dietro a essa?</td>\n",
       "      <td>0</td>\n",
       "      <td></td>\n",
       "    </tr>\n",
       "    <tr>\n",
       "      <th>1090</th>\n",
       "      <td>Ho attendeva da decenni l'affermazione di questi fenomeni OVNI o OAV... E ho attendeva anche un video così... !!</td>\n",
       "      <td>3</td>\n",
       "      <td></td>\n",
       "    </tr>\n",
       "    <tr>\n",
       "      <th>1803</th>\n",
       "      <td>Quale evento è avvenuto il 15 aprile e come è stata descritta tale situazione?</td>\n",
       "      <td>0</td>\n",
       "      <td></td>\n",
       "    </tr>\n",
       "  </tbody>\n",
       "</table>\n",
       "</div>"
      ],
      "text/plain": [
       "                                                                                                                                                                                                                                   text  \\\n",
       "1374                                                                           Il testo originale menziona un rapido resoconto dei piani del Deep State per disturbare l'equilibrio naturale della società e instaurarsi come normale.    \n",
       "2293   CV19, anemia da immunizzazione e RISOLUTIVO universale! Mi lo assumo per altre ragioni e dopo circa sei mesi dirò di aver riscontrato reazioni positive su problematiche e inconvenienti che mi avevo trainato dietro da tempo.    \n",
       "3379                                                                                                      Che azione chiede Luca Teodori, di M3V, riguardo la vaccinazione di massa e quale è la sua opinione sui motivi dietro a essa?   \n",
       "1090                                                                                                                  Ho attendeva da decenni l'affermazione di questi fenomeni OVNI o OAV... E ho attendeva anche un video così... !!    \n",
       "1803                                                                                                                                                     Quale evento è avvenuto il 15 aprile e come è stata descritta tale situazione?   \n",
       "\n",
       "     label hashtag  \n",
       "1374     1          \n",
       "2293     0          \n",
       "3379     0          \n",
       "1090     3          \n",
       "1803     0          "
      ]
     },
     "execution_count": 15,
     "metadata": {},
     "output_type": "execute_result"
    }
   ],
   "source": [
    "augmented_dataset = add_hashtag(augmented_dataset)\n",
    "augmented_dataset.head()"
   ]
  },
  {
   "cell_type": "code",
   "execution_count": 16,
   "metadata": {},
   "outputs": [],
   "source": [
    "hyperparameters = {\n",
    "    \"#_classes\" : 4,\n",
    "    \"epochs\": 40,\n",
    "    \"learning_rate\": 1e-6,\n",
    "    \"batch_size\": 3,\n",
    "    \"dropout\": 0.1,\n",
    "    \"stopwords\": False,\n",
    "    \"h_dim\": 768,\n",
    "    \"patience\": 10,\n",
    "    \"min_delta\": 0.01,\n",
    "    \"language_model\": \"bert-base-multilingual-cased\",\n",
    "    \"extra_features\": 32, #32 hashtag\n",
    "}"
   ]
  },
  {
   "cell_type": "code",
   "execution_count": 17,
   "metadata": {},
   "outputs": [],
   "source": [
    "(x_train, x_test, hashtag_train, hashtag_test,y_train, y_test) = train_test_split(augmented_dataset['text'], augmented_dataset['hashtag'],augmented_dataset['label'], test_size=0.2, random_state=42)\n",
    "\n",
    "(x_train, x_val, hashtag_train, hashtag_val, y_train, y_val) = train_test_split( x_train,hashtag_train, y_train, test_size=0.1, random_state=42)"
   ]
  },
  {
   "cell_type": "code",
   "execution_count": 18,
   "metadata": {},
   "outputs": [
    {
     "name": "stderr",
     "output_type": "stream",
     "text": [
      "[nltk_data] Downloading package punkt to /root/nltk_data...\n",
      "[nltk_data]   Package punkt is already up-to-date!\n",
      "[nltk_data] Downloading package stopwords to /root/nltk_data...\n",
      "[nltk_data]   Package stopwords is already up-to-date!\n"
     ]
    }
   ],
   "source": [
    "nltk.download('punkt')\n",
    "nltk.download('stopwords')\n",
    "\n",
    "class Dataset(torch.utils.data.Dataset):\n",
    "\n",
    "    def __init__(self, x, hashtag, y, stopwords):\n",
    "\n",
    "\n",
    "        tokens_litt = [nltk.word_tokenize(text, language='italian') for text in list(x)]\n",
    "\n",
    "        text_clean = []\n",
    "\n",
    "        for sentence in tqdm(tokens_litt, desc='Tokenizing text ... '):\n",
    "            text_clean.append(' '.join([w for w in sentence if not w.lower() in nltk.corpus.stopwords.words(\"italian\")]))\n",
    "\n",
    "\n",
    "        self.texts = [text for text in text_clean]\n",
    "        self.hashtag = [h for h in hashtag]\n",
    "        self.labels = [torch.tensor(label) for label in y]\n",
    "\n",
    "    def classes(self):\n",
    "        return self.labels\n",
    "\n",
    "    def __len__(self):\n",
    "        return len(self.labels)\n",
    "\n",
    "    def get_batch_labels(self, idx):\n",
    "        # Fetch a batch of labels\n",
    "        return np.array(self.labels[idx])\n",
    "\n",
    "    def get_batch_texts(self, idx):\n",
    "        # Fetch a batch of inputs\n",
    "        return self.texts[idx]\n",
    "\n",
    "    def get_batch_hashtag(self, idx):\n",
    "        # Fetch a batch of inputs\n",
    "        return self.hashtag[idx]\n",
    "\n",
    "    def __getitem__(self, idx):\n",
    "\n",
    "        batch_texts = self.get_batch_texts(idx)\n",
    "        batch_labels = self.get_batch_labels(idx)\n",
    "        batch_hashtag = self.get_batch_hashtag(idx)\n",
    "\n",
    "        return batch_texts, batch_labels, batch_hashtag"
   ]
  },
  {
   "cell_type": "code",
   "execution_count": 19,
   "metadata": {},
   "outputs": [
    {
     "data": {
      "application/vnd.jupyter.widget-view+json": {
       "model_id": "6de9e5ebba634b568dbdd61dbca01cb3",
       "version_major": 2,
       "version_minor": 0
      },
      "text/plain": [
       "Tokenizing text ... :   0%|          | 0/3144 [00:00<?, ?it/s]"
      ]
     },
     "metadata": {},
     "output_type": "display_data"
    },
    {
     "data": {
      "application/vnd.jupyter.widget-view+json": {
       "model_id": "9721ad72409147cf8d122af749088bb0",
       "version_major": 2,
       "version_minor": 0
      },
      "text/plain": [
       "Tokenizing text ... :   0%|          | 0/350 [00:00<?, ?it/s]"
      ]
     },
     "metadata": {},
     "output_type": "display_data"
    },
    {
     "data": {
      "application/vnd.jupyter.widget-view+json": {
       "model_id": "1789100f53424649a9828bbe8567fd1f",
       "version_major": 2,
       "version_minor": 0
      },
      "text/plain": [
       "Tokenizing text ... :   0%|          | 0/874 [00:00<?, ?it/s]"
      ]
     },
     "metadata": {},
     "output_type": "display_data"
    }
   ],
   "source": [
    "train_dataset = Dataset(x_train,hashtag_train, y_train, hyperparameters[\"stopwords\"])\n",
    "val_dataset = Dataset(x_val,hashtag_val, y_val, hyperparameters[\"stopwords\"])\n",
    "test_dataset = Dataset(x_test,hashtag_test, y_test, hyperparameters[\"stopwords\"])"
   ]
  },
  {
   "cell_type": "code",
   "execution_count": 20,
   "metadata": {},
   "outputs": [],
   "source": [
    "class EarlyStopping:\n",
    "    def __init__(self, patience=5, min_delta=0.0):\n",
    "\n",
    "        self.patience = patience\n",
    "        self.min_delta = min_delta              # valore minimo di decrescita della loss di validazione all'epoca corrente\n",
    "                                                # per asserire che c'è un miglioramenti della loss\n",
    "        self.counter = 0                        # contatore delle epoche di pazienza\n",
    "        self.early_stop = False                 # flag di early stop\n",
    "        self.min_validation_loss = torch.inf    # valore corrente ottimo della loss di validazione\n",
    "\n",
    "    def __call__(self, validation_loss):\n",
    "        # chiamata in forma funzionale dell'oggetto di classe EarlySopping\n",
    "        if (validation_loss + self.min_delta) >= self.min_validation_loss:  # la loss di validazione non decresce\n",
    "            self.counter += 1                                               # incrementiamo il contatore delle epoche di pazienza\n",
    "            if self.counter >= self.patience:\n",
    "                self.early_stop = True\n",
    "                print(\"Early stop!\")\n",
    "        else:                                                               # c'è un miglioramento della loss:\n",
    "            self.min_validation_loss = validation_loss                      # consideriamo la loss corrente\n",
    "                                                                            # come nuova loss ottimale\n",
    "            self.counter = 0                                                # e azzeriamo il contatore di pazienza"
   ]
  },
  {
   "cell_type": "code",
   "execution_count": 21,
   "metadata": {},
   "outputs": [],
   "source": [
    "class ClassifierDeep(nn.Module):\n",
    "\n",
    "    def __init__(self, labels, hdim, dropout, model_name,extra_features = hyperparameters['extra_features']):\n",
    "        super(ClassifierDeep, self).__init__()\n",
    "        config = AutoConfig.from_pretrained(model_name)\n",
    "        self.lm_model = AutoModel.from_pretrained(model_name, config=config)\n",
    "        self.classifier = nn.Sequential(\n",
    "            nn.Linear(hdim + extra_features, 512),\n",
    "            nn.Dropout(dropout),\n",
    "            nn.ReLU(),\n",
    "            nn.Linear(512, 128),\n",
    "            nn.Dropout(dropout),\n",
    "            nn.ReLU(),\n",
    "            nn.Linear(128, labels),\n",
    "            )\n",
    "\n",
    "    def forward(self, input_id_text, attention_mask, hashtag):\n",
    "        output = self.lm_model(input_id_text, attention_mask).last_hidden_state\n",
    "        output = output[:,0,:]\n",
    "        output = torch.cat((output, hashtag), dim=1)  # Concatena il conteggio dei caratteri\n",
    "        return self.classifier(output)"
   ]
  },
  {
   "cell_type": "code",
   "execution_count": 22,
   "metadata": {},
   "outputs": [],
   "source": [
    "def train_loop(model, dataloader, tokenizer, loss, optimizer, device):\n",
    "    model.train()\n",
    "\n",
    "    epoch_acc = 0\n",
    "    epoch_loss = 0\n",
    "\n",
    "    for batch_texts, batch_labels, hashtag in tqdm(dataloader, desc='training set'):\n",
    "\n",
    "        optimizer.zero_grad()\n",
    "        tokens = tokenizer(list(batch_texts), add_special_tokens=True,\n",
    "                            return_tensors='pt', padding='max_length',\n",
    "                            max_length = 400, truncation=True)\n",
    "        tokens_hashtag = tokenizer(list(hashtag), add_special_tokens=True,\n",
    "                            return_tensors='pt', padding='max_length',\n",
    "                            max_length = 32, truncation=True)\n",
    "\n",
    "        input_id_texts = tokens['input_ids'].squeeze(1).to(device)\n",
    "        mask_texts = tokens['attention_mask'].squeeze(1).to(device)\n",
    "\n",
    "        input_id_hashtag = tokens_hashtag['input_ids'].squeeze(1).to(device)\n",
    "        mask_hashtag = tokens_hashtag['attention_mask'].squeeze(1).to(device)\n",
    "        \n",
    "        batch_labels = batch_labels.to(device)\n",
    "\n",
    "        output = model(input_id_texts, mask_texts, input_id_hashtag)\n",
    "\n",
    "        # la loss è una CrossEntropyLoss, al suo interno ha la logsoftmax + negative log likelihood loss\n",
    "        batch_loss = loss(output, batch_labels)\n",
    "        batch_loss.backward()\n",
    "        optimizer.step()\n",
    "\n",
    "        epoch_loss += batch_loss.item()\n",
    "\n",
    "        # per calcolare l'accuracy devo generare le predizioni applicando manualmente la logsoftmax\n",
    "        softmax = nn.LogSoftmax(dim=1)\n",
    "        epoch_acc += (softmax(output).argmax(dim=1) == batch_labels).float().mean()\n",
    "        \n",
    "        batch_labels = batch_labels.detach().cpu()\n",
    "        input_id_texts = input_id_texts.detach().cpu()\n",
    "        mask_texts = mask_texts.detach().cpu()\n",
    "        output = output.detach().cpu()\n",
    "\n",
    "\n",
    "    return epoch_loss/len(dataloader), epoch_acc/len(dataloader)"
   ]
  },
  {
   "cell_type": "code",
   "execution_count": 23,
   "metadata": {},
   "outputs": [],
   "source": [
    "def test_loop(model, dataloader, tokenizer, loss, device, best_acc, best_weights):\n",
    "    model.eval()\n",
    "\n",
    "    epoch_acc = 0\n",
    "    epoch_loss = 0\n",
    "\n",
    "    with torch.no_grad():\n",
    "\n",
    "        for batch_texts, batch_labels, hashtag in tqdm(dataloader, desc='dev set'):\n",
    "\n",
    "            tokens = tokenizer(list(batch_texts), add_special_tokens=True,\n",
    "                               return_tensors='pt', padding='max_length',\n",
    "                               max_length = 512, truncation=True)\n",
    "\n",
    "            tokens_hashtag = tokenizer(list(hashtag), add_special_tokens=True,\n",
    "                                return_tensors='pt', padding='max_length',\n",
    "                                max_length = 32, truncation=True)\n",
    "\n",
    "            input_id_texts = tokens['input_ids'].squeeze(1).to(device)\n",
    "            mask_texts = tokens['attention_mask'].squeeze(1).to(device)\n",
    "\n",
    "            input_id_hashtag = tokens_hashtag['input_ids'].squeeze(1).to(device)\n",
    "            mask_hashtag = tokens_hashtag['attention_mask'].squeeze(1).to(device)\n",
    "\n",
    "            batch_labels = batch_labels.to(device)\n",
    "\n",
    "\n",
    "            output = model(input_id_texts, mask_texts, input_id_hashtag)\n",
    "\n",
    "            batch_loss = loss(output, batch_labels)\n",
    "            epoch_loss += batch_loss.item()\n",
    "\n",
    "            softmax = nn.LogSoftmax(dim=1)\n",
    "            epoch_acc += (softmax(output).argmax(dim=1) == batch_labels).float().mean()\n",
    "            \n",
    "\n",
    "            batch_labels = batch_labels.detach().cpu()\n",
    "            input_id_texts = input_id_texts.detach().cpu()\n",
    "            mask_texts = mask_texts.detach().cpu()\n",
    "            output = output.detach().cpu()\n",
    "        acc = float(epoch_acc/len(dataloader))\n",
    "        if acc > best_acc:\n",
    "            best_acc = acc\n",
    "            best_weights = copy.deepcopy(model.state_dict())\n",
    "\n",
    "\n",
    "    return epoch_loss/len(dataloader), epoch_acc/len(dataloader), best_acc, best_weights"
   ]
  },
  {
   "cell_type": "code",
   "execution_count": 24,
   "metadata": {},
   "outputs": [],
   "source": [
    "def train_test(model, epochs, optimizer, device, train_data, test_data,\n",
    "               batch_size, language_model, train_loss_fn, test_loss_fn=None,\n",
    "               early_stopping=None, val_data=None, scheduler=None):\n",
    "\n",
    "  train_dataloader = torch.utils.data.DataLoader(train_data, batch_size=batch_size, shuffle=True)\n",
    "  test_dataloader = torch.utils.data.DataLoader(test_data, batch_size=batch_size)\n",
    "  val_dataloader = torch.utils.data.DataLoader(val_data, batch_size=batch_size)\n",
    "\n",
    "    # check sulle funzioni di loss\n",
    "  if test_loss_fn == None:\n",
    "    test_loss_fn = train_loss_fn\n",
    "\n",
    "    # liste dei valori di loss e accuracy epoca per epoca per il plot\n",
    "  train_loss = []\n",
    "  validation_loss = []\n",
    "  test_loss = []\n",
    "\n",
    "  train_acc = []\n",
    "  validation_acc = []\n",
    "  test_acc = []\n",
    "  best_acc = - np.inf\n",
    "  best_weights = None\n",
    "  tokenizer = AutoTokenizer.from_pretrained(language_model)\n",
    "\n",
    "    # Ciclo di addestramento con early stopping\n",
    "  for epoch in tqdm(range(1,epochs+1)):\n",
    "    epoch_train_loss, epoch_train_acc = train_loop(model, train_dataloader, tokenizer, train_loss_fn, optimizer, device)\n",
    "    train_loss.append(epoch_train_loss)\n",
    "    train_acc.append(epoch_train_acc/len(train_data))\n",
    "\n",
    "        # validation se è presente la callback di early stopping\n",
    "    if early_stopping != None:\n",
    "      epoch_validate_loss, epoch_validate_acc, best_acc, best_weights = test_loop(model,\n",
    "                                val_dataloader, tokenizer, test_loss_fn, device, best_acc, best_weights)\n",
    "      validation_loss.append(epoch_validate_loss)\n",
    "      validation_acc.append(epoch_validate_acc/len(val_data))\n",
    "\n",
    "        # test\n",
    "    epoch_test_loss, epoch_test_acc, best_acc, best_weights = test_loop(model, test_dataloader, tokenizer, test_loss_fn, device, best_acc, best_weights)\n",
    "    test_loss.append(epoch_test_loss)\n",
    "    test_acc.append(epoch_test_acc/len(test_data))\n",
    "\n",
    "    val_loss_str = f'Validation loss: {epoch_validate_loss:6.4f} ' if early_stopping != None else ' '\n",
    "    val_acc_str = f'Validation accuracy: {(epoch_validate_acc):6.4f} ' if early_stopping != None else ' '\n",
    "    print(f\"\\nTrain loss: {epoch_train_loss:6.4f} {val_loss_str}Test loss: {epoch_test_loss:6.4f}\")\n",
    "    print(f\"Train accuracy: {(epoch_train_acc):6.4f} {val_acc_str}Test accuracy: {(epoch_test_acc):6.4f}\")\n",
    "    # early stopping\n",
    "    if early_stopping != None:\n",
    "      early_stopping(epoch_validate_loss)\n",
    "      if early_stopping.early_stop:\n",
    "        break\n",
    "\n",
    "  return train_loss, validation_loss, test_loss, train_acc, validation_acc, test_acc, best_acc, best_weights"
   ]
  },
  {
   "cell_type": "code",
   "execution_count": 25,
   "metadata": {},
   "outputs": [
    {
     "name": "stdout",
     "output_type": "stream",
     "text": [
      "Using cuda device\n",
      "ClassifierDeep(\n",
      "  (lm_model): BertModel(\n",
      "    (embeddings): BertEmbeddings(\n",
      "      (word_embeddings): Embedding(119547, 768, padding_idx=0)\n",
      "      (position_embeddings): Embedding(512, 768)\n",
      "      (token_type_embeddings): Embedding(2, 768)\n",
      "      (LayerNorm): LayerNorm((768,), eps=1e-12, elementwise_affine=True)\n",
      "      (dropout): Dropout(p=0.1, inplace=False)\n",
      "    )\n",
      "    (encoder): BertEncoder(\n",
      "      (layer): ModuleList(\n",
      "        (0-11): 12 x BertLayer(\n",
      "          (attention): BertAttention(\n",
      "            (self): BertSelfAttention(\n",
      "              (query): Linear(in_features=768, out_features=768, bias=True)\n",
      "              (key): Linear(in_features=768, out_features=768, bias=True)\n",
      "              (value): Linear(in_features=768, out_features=768, bias=True)\n",
      "              (dropout): Dropout(p=0.1, inplace=False)\n",
      "            )\n",
      "            (output): BertSelfOutput(\n",
      "              (dense): Linear(in_features=768, out_features=768, bias=True)\n",
      "              (LayerNorm): LayerNorm((768,), eps=1e-12, elementwise_affine=True)\n",
      "              (dropout): Dropout(p=0.1, inplace=False)\n",
      "            )\n",
      "          )\n",
      "          (intermediate): BertIntermediate(\n",
      "            (dense): Linear(in_features=768, out_features=3072, bias=True)\n",
      "            (intermediate_act_fn): GELUActivation()\n",
      "          )\n",
      "          (output): BertOutput(\n",
      "            (dense): Linear(in_features=3072, out_features=768, bias=True)\n",
      "            (LayerNorm): LayerNorm((768,), eps=1e-12, elementwise_affine=True)\n",
      "            (dropout): Dropout(p=0.1, inplace=False)\n",
      "          )\n",
      "        )\n",
      "      )\n",
      "    )\n",
      "    (pooler): BertPooler(\n",
      "      (dense): Linear(in_features=768, out_features=768, bias=True)\n",
      "      (activation): Tanh()\n",
      "    )\n",
      "  )\n",
      "  (classifier): Sequential(\n",
      "    (0): Linear(in_features=800, out_features=512, bias=True)\n",
      "    (1): Dropout(p=0.1, inplace=False)\n",
      "    (2): ReLU()\n",
      "    (3): Linear(in_features=512, out_features=128, bias=True)\n",
      "    (4): Dropout(p=0.1, inplace=False)\n",
      "    (5): ReLU()\n",
      "    (6): Linear(in_features=128, out_features=4, bias=True)\n",
      "  )\n",
      ")\n",
      "Numbero totale dei parametri: 178329732\n"
     ]
    }
   ],
   "source": [
    "# Acquisiamo il device su cui effettueremo il training\n",
    "device = torch.device(\"cuda\" if torch.cuda.is_available() else \"cpu\")\n",
    "print(f\"Using {device} device\")\n",
    "\n",
    "model = ClassifierDeep(hyperparameters[\"#_classes\"],\n",
    "                    hyperparameters[\"h_dim\"],\n",
    "                    hyperparameters[\"dropout\"],\n",
    "                    hyperparameters[\"language_model\"]).to(device)\n",
    "print(model)\n",
    "\n",
    "# Calcoliamo il numero totale dei parametri del modello\n",
    "total_params = sum(p.numel() for p in model.parameters())\n",
    "print(f\"Numbero totale dei parametri: {total_params}\")\n",
    "#La funzione di loss va modificata in base al parametro #_classes\n",
    "criterion = nn.CrossEntropyLoss()\n",
    "optimizer = Adam(model.parameters(), lr=hyperparameters[\"learning_rate\"])\n",
    "\n",
    "# Creiamo la callback di early stopping da passare al nostro metodo di addestramento\n",
    "early_stopping = EarlyStopping(patience=hyperparameters['patience'],\n",
    "                               min_delta=hyperparameters['min_delta'])"
   ]
  },
  {
   "cell_type": "code",
   "execution_count": 26,
   "metadata": {
    "scrolled": true
   },
   "outputs": [
    {
     "data": {
      "application/vnd.jupyter.widget-view+json": {
       "model_id": "5b10ce476ab74eb682170656073c3898",
       "version_major": 2,
       "version_minor": 0
      },
      "text/plain": [
       "  0%|          | 0/40 [00:00<?, ?it/s]"
      ]
     },
     "metadata": {},
     "output_type": "display_data"
    },
    {
     "data": {
      "application/vnd.jupyter.widget-view+json": {
       "model_id": "c032968aeec146fe904cf967c9c21625",
       "version_major": 2,
       "version_minor": 0
      },
      "text/plain": [
       "training set:   0%|          | 0/1048 [00:00<?, ?it/s]"
      ]
     },
     "metadata": {},
     "output_type": "display_data"
    },
    {
     "data": {
      "application/vnd.jupyter.widget-view+json": {
       "model_id": "ef1d3fbc84ed4860b9bfd29174f2f210",
       "version_major": 2,
       "version_minor": 0
      },
      "text/plain": [
       "dev set:   0%|          | 0/292 [00:00<?, ?it/s]"
      ]
     },
     "metadata": {},
     "output_type": "display_data"
    },
    {
     "name": "stdout",
     "output_type": "stream",
     "text": [
      "\n",
      "Train loss: 3.1486  Test loss: 3.0456\n",
      "Train accuracy: 0.4641  Test accuracy: 0.6210\n"
     ]
    },
    {
     "data": {
      "application/vnd.jupyter.widget-view+json": {
       "model_id": "80afbf30034240ec8f5baaf32f244945",
       "version_major": 2,
       "version_minor": 0
      },
      "text/plain": [
       "training set:   0%|          | 0/1048 [00:00<?, ?it/s]"
      ]
     },
     "metadata": {},
     "output_type": "display_data"
    },
    {
     "data": {
      "application/vnd.jupyter.widget-view+json": {
       "model_id": "30d190174d404c7c862a943b36f8bb98",
       "version_major": 2,
       "version_minor": 0
      },
      "text/plain": [
       "dev set:   0%|          | 0/292 [00:00<?, ?it/s]"
      ]
     },
     "metadata": {},
     "output_type": "display_data"
    },
    {
     "name": "stdout",
     "output_type": "stream",
     "text": [
      "\n",
      "Train loss: 2.1978  Test loss: 2.6893\n",
      "Train accuracy: 0.7112  Test accuracy: 0.7922\n"
     ]
    },
    {
     "data": {
      "application/vnd.jupyter.widget-view+json": {
       "model_id": "7730b81f082f476fa6506d1b552a1de2",
       "version_major": 2,
       "version_minor": 0
      },
      "text/plain": [
       "training set:   0%|          | 0/1048 [00:00<?, ?it/s]"
      ]
     },
     "metadata": {},
     "output_type": "display_data"
    },
    {
     "data": {
      "application/vnd.jupyter.widget-view+json": {
       "model_id": "2f22b825ff21404ab473673df80712ea",
       "version_major": 2,
       "version_minor": 0
      },
      "text/plain": [
       "dev set:   0%|          | 0/292 [00:00<?, ?it/s]"
      ]
     },
     "metadata": {},
     "output_type": "display_data"
    },
    {
     "name": "stdout",
     "output_type": "stream",
     "text": [
      "\n",
      "Train loss: 1.6945  Test loss: 2.5788\n",
      "Train accuracy: 0.8028  Test accuracy: 0.8368\n"
     ]
    },
    {
     "data": {
      "application/vnd.jupyter.widget-view+json": {
       "model_id": "58e7c78a2e244122b326029edb110e44",
       "version_major": 2,
       "version_minor": 0
      },
      "text/plain": [
       "training set:   0%|          | 0/1048 [00:00<?, ?it/s]"
      ]
     },
     "metadata": {},
     "output_type": "display_data"
    },
    {
     "data": {
      "application/vnd.jupyter.widget-view+json": {
       "model_id": "3759ad1e7ae94e1a840efc21c45758ee",
       "version_major": 2,
       "version_minor": 0
      },
      "text/plain": [
       "dev set:   0%|          | 0/292 [00:00<?, ?it/s]"
      ]
     },
     "metadata": {},
     "output_type": "display_data"
    },
    {
     "name": "stdout",
     "output_type": "stream",
     "text": [
      "\n",
      "Train loss: 1.5892  Test loss: 2.4860\n",
      "Train accuracy: 0.8483  Test accuracy: 0.8607\n"
     ]
    },
    {
     "data": {
      "application/vnd.jupyter.widget-view+json": {
       "model_id": "3af0554b4fdb464f91a15368bc06f604",
       "version_major": 2,
       "version_minor": 0
      },
      "text/plain": [
       "training set:   0%|          | 0/1048 [00:00<?, ?it/s]"
      ]
     },
     "metadata": {},
     "output_type": "display_data"
    },
    {
     "data": {
      "application/vnd.jupyter.widget-view+json": {
       "model_id": "b1551279775d4392a80203b7efc4089e",
       "version_major": 2,
       "version_minor": 0
      },
      "text/plain": [
       "dev set:   0%|          | 0/292 [00:00<?, ?it/s]"
      ]
     },
     "metadata": {},
     "output_type": "display_data"
    },
    {
     "name": "stdout",
     "output_type": "stream",
     "text": [
      "\n",
      "Train loss: 1.1656  Test loss: 2.4190\n",
      "Train accuracy: 0.8810  Test accuracy: 0.8733\n"
     ]
    },
    {
     "data": {
      "application/vnd.jupyter.widget-view+json": {
       "model_id": "aa266a2c9111445ab7ef15bdcb3db1ef",
       "version_major": 2,
       "version_minor": 0
      },
      "text/plain": [
       "training set:   0%|          | 0/1048 [00:00<?, ?it/s]"
      ]
     },
     "metadata": {},
     "output_type": "display_data"
    },
    {
     "data": {
      "application/vnd.jupyter.widget-view+json": {
       "model_id": "f06600558cb8456f84997e813e1a73c4",
       "version_major": 2,
       "version_minor": 0
      },
      "text/plain": [
       "dev set:   0%|          | 0/292 [00:00<?, ?it/s]"
      ]
     },
     "metadata": {},
     "output_type": "display_data"
    },
    {
     "name": "stdout",
     "output_type": "stream",
     "text": [
      "\n",
      "Train loss: 1.0961  Test loss: 2.4036\n",
      "Train accuracy: 0.9078  Test accuracy: 0.8744\n"
     ]
    },
    {
     "data": {
      "application/vnd.jupyter.widget-view+json": {
       "model_id": "ad301d5e843f43348143caf2fce70128",
       "version_major": 2,
       "version_minor": 0
      },
      "text/plain": [
       "training set:   0%|          | 0/1048 [00:00<?, ?it/s]"
      ]
     },
     "metadata": {},
     "output_type": "display_data"
    },
    {
     "data": {
      "application/vnd.jupyter.widget-view+json": {
       "model_id": "8093c9416d9145b8aec363e92f7e6988",
       "version_major": 2,
       "version_minor": 0
      },
      "text/plain": [
       "dev set:   0%|          | 0/292 [00:00<?, ?it/s]"
      ]
     },
     "metadata": {},
     "output_type": "display_data"
    },
    {
     "name": "stdout",
     "output_type": "stream",
     "text": [
      "\n",
      "Train loss: 0.8502  Test loss: 2.3523\n",
      "Train accuracy: 0.9291  Test accuracy: 0.8779\n"
     ]
    },
    {
     "data": {
      "application/vnd.jupyter.widget-view+json": {
       "model_id": "048a2ef901fc4e49b1d9433dc184519c",
       "version_major": 2,
       "version_minor": 0
      },
      "text/plain": [
       "training set:   0%|          | 0/1048 [00:00<?, ?it/s]"
      ]
     },
     "metadata": {},
     "output_type": "display_data"
    },
    {
     "data": {
      "application/vnd.jupyter.widget-view+json": {
       "model_id": "9f9d538a501d4d56b2061525571aecc4",
       "version_major": 2,
       "version_minor": 0
      },
      "text/plain": [
       "dev set:   0%|          | 0/292 [00:00<?, ?it/s]"
      ]
     },
     "metadata": {},
     "output_type": "display_data"
    },
    {
     "name": "stdout",
     "output_type": "stream",
     "text": [
      "\n",
      "Train loss: 0.9768  Test loss: 2.3214\n",
      "Train accuracy: 0.9370  Test accuracy: 0.8836\n"
     ]
    },
    {
     "data": {
      "application/vnd.jupyter.widget-view+json": {
       "model_id": "8af3daef167c452da25a8b624db2faa3",
       "version_major": 2,
       "version_minor": 0
      },
      "text/plain": [
       "training set:   0%|          | 0/1048 [00:00<?, ?it/s]"
      ]
     },
     "metadata": {},
     "output_type": "display_data"
    },
    {
     "data": {
      "application/vnd.jupyter.widget-view+json": {
       "model_id": "38ae1e2c5108447ebdbe5c8ccc71ff6f",
       "version_major": 2,
       "version_minor": 0
      },
      "text/plain": [
       "dev set:   0%|          | 0/292 [00:00<?, ?it/s]"
      ]
     },
     "metadata": {},
     "output_type": "display_data"
    },
    {
     "name": "stdout",
     "output_type": "stream",
     "text": [
      "\n",
      "Train loss: 0.6039  Test loss: 2.2816\n",
      "Train accuracy: 0.9469  Test accuracy: 0.8927\n"
     ]
    },
    {
     "data": {
      "application/vnd.jupyter.widget-view+json": {
       "model_id": "5db8da38a09b42729d23e75e0ea4f799",
       "version_major": 2,
       "version_minor": 0
      },
      "text/plain": [
       "training set:   0%|          | 0/1048 [00:00<?, ?it/s]"
      ]
     },
     "metadata": {},
     "output_type": "display_data"
    },
    {
     "data": {
      "application/vnd.jupyter.widget-view+json": {
       "model_id": "778b36833d3c428fbc729849888a6c78",
       "version_major": 2,
       "version_minor": 0
      },
      "text/plain": [
       "dev set:   0%|          | 0/292 [00:00<?, ?it/s]"
      ]
     },
     "metadata": {},
     "output_type": "display_data"
    },
    {
     "name": "stdout",
     "output_type": "stream",
     "text": [
      "\n",
      "Train loss: 0.6597  Test loss: 2.2609\n",
      "Train accuracy: 0.9513  Test accuracy: 0.9007\n"
     ]
    },
    {
     "data": {
      "application/vnd.jupyter.widget-view+json": {
       "model_id": "0f955d5f31084099a0be7c640fc00f38",
       "version_major": 2,
       "version_minor": 0
      },
      "text/plain": [
       "training set:   0%|          | 0/1048 [00:00<?, ?it/s]"
      ]
     },
     "metadata": {},
     "output_type": "display_data"
    },
    {
     "data": {
      "application/vnd.jupyter.widget-view+json": {
       "model_id": "819b9395ac314a9e82007468b946e474",
       "version_major": 2,
       "version_minor": 0
      },
      "text/plain": [
       "dev set:   0%|          | 0/292 [00:00<?, ?it/s]"
      ]
     },
     "metadata": {},
     "output_type": "display_data"
    },
    {
     "name": "stdout",
     "output_type": "stream",
     "text": [
      "\n",
      "Train loss: 0.5369  Test loss: 2.2556\n",
      "Train accuracy: 0.9571  Test accuracy: 0.8881\n"
     ]
    },
    {
     "data": {
      "application/vnd.jupyter.widget-view+json": {
       "model_id": "aea7990756254ab381f64f3813aabd4f",
       "version_major": 2,
       "version_minor": 0
      },
      "text/plain": [
       "training set:   0%|          | 0/1048 [00:00<?, ?it/s]"
      ]
     },
     "metadata": {},
     "output_type": "display_data"
    },
    {
     "data": {
      "application/vnd.jupyter.widget-view+json": {
       "model_id": "edf8482722c340b6a3302b5d0564650b",
       "version_major": 2,
       "version_minor": 0
      },
      "text/plain": [
       "dev set:   0%|          | 0/292 [00:00<?, ?it/s]"
      ]
     },
     "metadata": {},
     "output_type": "display_data"
    },
    {
     "name": "stdout",
     "output_type": "stream",
     "text": [
      "\n",
      "Train loss: 0.5135  Test loss: 2.2255\n",
      "Train accuracy: 0.9596  Test accuracy: 0.8950\n"
     ]
    },
    {
     "data": {
      "application/vnd.jupyter.widget-view+json": {
       "model_id": "2821abbb9a4046249d436682b604ffb3",
       "version_major": 2,
       "version_minor": 0
      },
      "text/plain": [
       "training set:   0%|          | 0/1048 [00:00<?, ?it/s]"
      ]
     },
     "metadata": {},
     "output_type": "display_data"
    },
    {
     "data": {
      "application/vnd.jupyter.widget-view+json": {
       "model_id": "5b01c97bbbfb4d879308e893cf1f39fc",
       "version_major": 2,
       "version_minor": 0
      },
      "text/plain": [
       "dev set:   0%|          | 0/292 [00:00<?, ?it/s]"
      ]
     },
     "metadata": {},
     "output_type": "display_data"
    },
    {
     "name": "stdout",
     "output_type": "stream",
     "text": [
      "\n",
      "Train loss: 0.4980  Test loss: 2.2060\n",
      "Train accuracy: 0.9656  Test accuracy: 0.9064\n"
     ]
    },
    {
     "data": {
      "application/vnd.jupyter.widget-view+json": {
       "model_id": "97fb0c1547374b1fbf82829f8549f75e",
       "version_major": 2,
       "version_minor": 0
      },
      "text/plain": [
       "training set:   0%|          | 0/1048 [00:00<?, ?it/s]"
      ]
     },
     "metadata": {},
     "output_type": "display_data"
    },
    {
     "data": {
      "application/vnd.jupyter.widget-view+json": {
       "model_id": "965fb2a1d55d41fca07687eea0069162",
       "version_major": 2,
       "version_minor": 0
      },
      "text/plain": [
       "dev set:   0%|          | 0/292 [00:00<?, ?it/s]"
      ]
     },
     "metadata": {},
     "output_type": "display_data"
    },
    {
     "name": "stdout",
     "output_type": "stream",
     "text": [
      "\n",
      "Train loss: 0.7313  Test loss: 2.2108\n",
      "Train accuracy: 0.9682  Test accuracy: 0.9053\n"
     ]
    },
    {
     "data": {
      "application/vnd.jupyter.widget-view+json": {
       "model_id": "7d144311dcd84bedad514f2717e90f17",
       "version_major": 2,
       "version_minor": 0
      },
      "text/plain": [
       "training set:   0%|          | 0/1048 [00:00<?, ?it/s]"
      ]
     },
     "metadata": {},
     "output_type": "display_data"
    },
    {
     "data": {
      "application/vnd.jupyter.widget-view+json": {
       "model_id": "73a17aad6cf24d979ecb9143814dc83a",
       "version_major": 2,
       "version_minor": 0
      },
      "text/plain": [
       "dev set:   0%|          | 0/292 [00:00<?, ?it/s]"
      ]
     },
     "metadata": {},
     "output_type": "display_data"
    },
    {
     "name": "stdout",
     "output_type": "stream",
     "text": [
      "\n",
      "Train loss: 0.5022  Test loss: 2.1740\n",
      "Train accuracy: 0.9691  Test accuracy: 0.9098\n"
     ]
    },
    {
     "data": {
      "application/vnd.jupyter.widget-view+json": {
       "model_id": "894e105735dd4951acf03599e88417db",
       "version_major": 2,
       "version_minor": 0
      },
      "text/plain": [
       "training set:   0%|          | 0/1048 [00:00<?, ?it/s]"
      ]
     },
     "metadata": {},
     "output_type": "display_data"
    },
    {
     "data": {
      "application/vnd.jupyter.widget-view+json": {
       "model_id": "0f8cd61acf7b40d5a524373506665f2a",
       "version_major": 2,
       "version_minor": 0
      },
      "text/plain": [
       "dev set:   0%|          | 0/292 [00:00<?, ?it/s]"
      ]
     },
     "metadata": {},
     "output_type": "display_data"
    },
    {
     "name": "stdout",
     "output_type": "stream",
     "text": [
      "\n",
      "Train loss: 0.4063  Test loss: 2.2417\n",
      "Train accuracy: 0.9765  Test accuracy: 0.8984\n"
     ]
    },
    {
     "data": {
      "application/vnd.jupyter.widget-view+json": {
       "model_id": "96e69da0d31e4d4b8ed75fbe317178c5",
       "version_major": 2,
       "version_minor": 0
      },
      "text/plain": [
       "training set:   0%|          | 0/1048 [00:00<?, ?it/s]"
      ]
     },
     "metadata": {},
     "output_type": "display_data"
    },
    {
     "data": {
      "application/vnd.jupyter.widget-view+json": {
       "model_id": "3fcf2e38885e4b4bbdfb20f5e0f5c6e5",
       "version_major": 2,
       "version_minor": 0
      },
      "text/plain": [
       "dev set:   0%|          | 0/292 [00:00<?, ?it/s]"
      ]
     },
     "metadata": {},
     "output_type": "display_data"
    },
    {
     "name": "stdout",
     "output_type": "stream",
     "text": [
      "\n",
      "Train loss: 0.2599  Test loss: 2.2089\n",
      "Train accuracy: 0.9758  Test accuracy: 0.9144\n"
     ]
    },
    {
     "data": {
      "application/vnd.jupyter.widget-view+json": {
       "model_id": "edeed3a92efa4c60ab1efce91e2db9e0",
       "version_major": 2,
       "version_minor": 0
      },
      "text/plain": [
       "training set:   0%|          | 0/1048 [00:00<?, ?it/s]"
      ]
     },
     "metadata": {},
     "output_type": "display_data"
    },
    {
     "data": {
      "application/vnd.jupyter.widget-view+json": {
       "model_id": "beeddeab8b4c482b87c495cfda546279",
       "version_major": 2,
       "version_minor": 0
      },
      "text/plain": [
       "dev set:   0%|          | 0/292 [00:00<?, ?it/s]"
      ]
     },
     "metadata": {},
     "output_type": "display_data"
    },
    {
     "name": "stdout",
     "output_type": "stream",
     "text": [
      "\n",
      "Train loss: 0.3869  Test loss: 2.2256\n",
      "Train accuracy: 0.9758  Test accuracy: 0.9041\n"
     ]
    },
    {
     "data": {
      "application/vnd.jupyter.widget-view+json": {
       "model_id": "861ff9ca4cf941ffb8bcc02cfccf2e61",
       "version_major": 2,
       "version_minor": 0
      },
      "text/plain": [
       "training set:   0%|          | 0/1048 [00:00<?, ?it/s]"
      ]
     },
     "metadata": {},
     "output_type": "display_data"
    },
    {
     "data": {
      "application/vnd.jupyter.widget-view+json": {
       "model_id": "05a28f1d5e1a4c52a45aed6e7a279715",
       "version_major": 2,
       "version_minor": 0
      },
      "text/plain": [
       "dev set:   0%|          | 0/292 [00:00<?, ?it/s]"
      ]
     },
     "metadata": {},
     "output_type": "display_data"
    },
    {
     "name": "stdout",
     "output_type": "stream",
     "text": [
      "\n",
      "Train loss: 0.4665  Test loss: 2.2421\n",
      "Train accuracy: 0.9787  Test accuracy: 0.9007\n"
     ]
    },
    {
     "data": {
      "application/vnd.jupyter.widget-view+json": {
       "model_id": "c9a95373d4844c1dbad9582e2ebbcf2e",
       "version_major": 2,
       "version_minor": 0
      },
      "text/plain": [
       "training set:   0%|          | 0/1048 [00:00<?, ?it/s]"
      ]
     },
     "metadata": {},
     "output_type": "display_data"
    },
    {
     "data": {
      "application/vnd.jupyter.widget-view+json": {
       "model_id": "089d30c48ab644d5a8b50a446c7171ed",
       "version_major": 2,
       "version_minor": 0
      },
      "text/plain": [
       "dev set:   0%|          | 0/292 [00:00<?, ?it/s]"
      ]
     },
     "metadata": {},
     "output_type": "display_data"
    },
    {
     "name": "stdout",
     "output_type": "stream",
     "text": [
      "\n",
      "Train loss: 0.4205  Test loss: 2.2127\n",
      "Train accuracy: 0.9803  Test accuracy: 0.9144\n"
     ]
    },
    {
     "data": {
      "application/vnd.jupyter.widget-view+json": {
       "model_id": "c7691015aa164bdd897a21495fb91878",
       "version_major": 2,
       "version_minor": 0
      },
      "text/plain": [
       "training set:   0%|          | 0/1048 [00:00<?, ?it/s]"
      ]
     },
     "metadata": {},
     "output_type": "display_data"
    },
    {
     "data": {
      "application/vnd.jupyter.widget-view+json": {
       "model_id": "8538c284af524e1b816cf1cf5af0eccc",
       "version_major": 2,
       "version_minor": 0
      },
      "text/plain": [
       "dev set:   0%|          | 0/292 [00:00<?, ?it/s]"
      ]
     },
     "metadata": {},
     "output_type": "display_data"
    },
    {
     "name": "stdout",
     "output_type": "stream",
     "text": [
      "\n",
      "Train loss: 0.3210  Test loss: 2.1901\n",
      "Train accuracy: 0.9793  Test accuracy: 0.9155\n"
     ]
    },
    {
     "data": {
      "application/vnd.jupyter.widget-view+json": {
       "model_id": "2e335b98b3fd4670817d19b2f9c432df",
       "version_major": 2,
       "version_minor": 0
      },
      "text/plain": [
       "training set:   0%|          | 0/1048 [00:00<?, ?it/s]"
      ]
     },
     "metadata": {},
     "output_type": "display_data"
    },
    {
     "data": {
      "application/vnd.jupyter.widget-view+json": {
       "model_id": "5c805694893d45f2a3ffec586dd76142",
       "version_major": 2,
       "version_minor": 0
      },
      "text/plain": [
       "dev set:   0%|          | 0/292 [00:00<?, ?it/s]"
      ]
     },
     "metadata": {},
     "output_type": "display_data"
    },
    {
     "name": "stdout",
     "output_type": "stream",
     "text": [
      "\n",
      "Train loss: 0.2057  Test loss: 2.1946\n",
      "Train accuracy: 0.9781  Test accuracy: 0.9212\n"
     ]
    },
    {
     "data": {
      "application/vnd.jupyter.widget-view+json": {
       "model_id": "0303dbdfa17b42659743f08be856be35",
       "version_major": 2,
       "version_minor": 0
      },
      "text/plain": [
       "training set:   0%|          | 0/1048 [00:00<?, ?it/s]"
      ]
     },
     "metadata": {},
     "output_type": "display_data"
    },
    {
     "data": {
      "application/vnd.jupyter.widget-view+json": {
       "model_id": "efb3a59d7cda4c6ca6baf12b77a8608d",
       "version_major": 2,
       "version_minor": 0
      },
      "text/plain": [
       "dev set:   0%|          | 0/292 [00:00<?, ?it/s]"
      ]
     },
     "metadata": {},
     "output_type": "display_data"
    },
    {
     "name": "stdout",
     "output_type": "stream",
     "text": [
      "\n",
      "Train loss: 0.2861  Test loss: 2.2158\n",
      "Train accuracy: 0.9822  Test accuracy: 0.9110\n"
     ]
    },
    {
     "data": {
      "application/vnd.jupyter.widget-view+json": {
       "model_id": "ef71bab6dd274960a4f1984305c23e0c",
       "version_major": 2,
       "version_minor": 0
      },
      "text/plain": [
       "training set:   0%|          | 0/1048 [00:00<?, ?it/s]"
      ]
     },
     "metadata": {},
     "output_type": "display_data"
    },
    {
     "data": {
      "application/vnd.jupyter.widget-view+json": {
       "model_id": "c2a6779de1824014b42cbc1090c06ec1",
       "version_major": 2,
       "version_minor": 0
      },
      "text/plain": [
       "dev set:   0%|          | 0/292 [00:00<?, ?it/s]"
      ]
     },
     "metadata": {},
     "output_type": "display_data"
    },
    {
     "name": "stdout",
     "output_type": "stream",
     "text": [
      "\n",
      "Train loss: 0.2966  Test loss: 2.2398\n",
      "Train accuracy: 0.9819  Test accuracy: 0.9121\n"
     ]
    },
    {
     "data": {
      "application/vnd.jupyter.widget-view+json": {
       "model_id": "8a1b02e48f3e4c06a2ee7c181663dda5",
       "version_major": 2,
       "version_minor": 0
      },
      "text/plain": [
       "training set:   0%|          | 0/1048 [00:00<?, ?it/s]"
      ]
     },
     "metadata": {},
     "output_type": "display_data"
    },
    {
     "data": {
      "application/vnd.jupyter.widget-view+json": {
       "model_id": "dbca1268ead54d88ac67a9b7352a7ca6",
       "version_major": 2,
       "version_minor": 0
      },
      "text/plain": [
       "dev set:   0%|          | 0/292 [00:00<?, ?it/s]"
      ]
     },
     "metadata": {},
     "output_type": "display_data"
    },
    {
     "name": "stdout",
     "output_type": "stream",
     "text": [
      "\n",
      "Train loss: 0.3468  Test loss: 2.2819\n",
      "Train accuracy: 0.9844  Test accuracy: 0.9121\n"
     ]
    },
    {
     "data": {
      "application/vnd.jupyter.widget-view+json": {
       "model_id": "5d8622f6ebed4846a57e4ec4ae84c999",
       "version_major": 2,
       "version_minor": 0
      },
      "text/plain": [
       "training set:   0%|          | 0/1048 [00:00<?, ?it/s]"
      ]
     },
     "metadata": {},
     "output_type": "display_data"
    },
    {
     "data": {
      "application/vnd.jupyter.widget-view+json": {
       "model_id": "c771f973d30647fc92f76e890e8b3c30",
       "version_major": 2,
       "version_minor": 0
      },
      "text/plain": [
       "dev set:   0%|          | 0/292 [00:00<?, ?it/s]"
      ]
     },
     "metadata": {},
     "output_type": "display_data"
    },
    {
     "name": "stdout",
     "output_type": "stream",
     "text": [
      "\n",
      "Train loss: 0.4510  Test loss: 2.2668\n",
      "Train accuracy: 0.9825  Test accuracy: 0.9144\n"
     ]
    },
    {
     "data": {
      "application/vnd.jupyter.widget-view+json": {
       "model_id": "cf340db02c4c40c3a3f3078ee3781f43",
       "version_major": 2,
       "version_minor": 0
      },
      "text/plain": [
       "training set:   0%|          | 0/1048 [00:00<?, ?it/s]"
      ]
     },
     "metadata": {},
     "output_type": "display_data"
    },
    {
     "data": {
      "application/vnd.jupyter.widget-view+json": {
       "model_id": "022f2c2011154fada8ecf72d433d7066",
       "version_major": 2,
       "version_minor": 0
      },
      "text/plain": [
       "dev set:   0%|          | 0/292 [00:00<?, ?it/s]"
      ]
     },
     "metadata": {},
     "output_type": "display_data"
    },
    {
     "name": "stdout",
     "output_type": "stream",
     "text": [
      "\n",
      "Train loss: 0.2351  Test loss: 2.2319\n",
      "Train accuracy: 0.9838  Test accuracy: 0.9167\n"
     ]
    },
    {
     "data": {
      "application/vnd.jupyter.widget-view+json": {
       "model_id": "770f88a37e75494da57a7bf3fb4735a2",
       "version_major": 2,
       "version_minor": 0
      },
      "text/plain": [
       "training set:   0%|          | 0/1048 [00:00<?, ?it/s]"
      ]
     },
     "metadata": {},
     "output_type": "display_data"
    },
    {
     "data": {
      "application/vnd.jupyter.widget-view+json": {
       "model_id": "5e90a2a05d954692bb512411819ef709",
       "version_major": 2,
       "version_minor": 0
      },
      "text/plain": [
       "dev set:   0%|          | 0/292 [00:00<?, ?it/s]"
      ]
     },
     "metadata": {},
     "output_type": "display_data"
    },
    {
     "name": "stdout",
     "output_type": "stream",
     "text": [
      "\n",
      "Train loss: 0.1237  Test loss: 2.2344\n",
      "Train accuracy: 0.9847  Test accuracy: 0.9269\n"
     ]
    },
    {
     "data": {
      "application/vnd.jupyter.widget-view+json": {
       "model_id": "3681a3297a2a4ddba2f646cbd0d20b82",
       "version_major": 2,
       "version_minor": 0
      },
      "text/plain": [
       "training set:   0%|          | 0/1048 [00:00<?, ?it/s]"
      ]
     },
     "metadata": {},
     "output_type": "display_data"
    },
    {
     "data": {
      "application/vnd.jupyter.widget-view+json": {
       "model_id": "1053cd82982446d5ad1fc2384359c4c2",
       "version_major": 2,
       "version_minor": 0
      },
      "text/plain": [
       "dev set:   0%|          | 0/292 [00:00<?, ?it/s]"
      ]
     },
     "metadata": {},
     "output_type": "display_data"
    },
    {
     "name": "stdout",
     "output_type": "stream",
     "text": [
      "\n",
      "Train loss: 0.3524  Test loss: 2.2514\n",
      "Train accuracy: 0.9831  Test accuracy: 0.9235\n"
     ]
    },
    {
     "data": {
      "application/vnd.jupyter.widget-view+json": {
       "model_id": "f9f42a91a23941a98a31f3bb26a9a040",
       "version_major": 2,
       "version_minor": 0
      },
      "text/plain": [
       "training set:   0%|          | 0/1048 [00:00<?, ?it/s]"
      ]
     },
     "metadata": {},
     "output_type": "display_data"
    },
    {
     "data": {
      "application/vnd.jupyter.widget-view+json": {
       "model_id": "e3b328721cca43c1a5ec974932cc50a8",
       "version_major": 2,
       "version_minor": 0
      },
      "text/plain": [
       "dev set:   0%|          | 0/292 [00:00<?, ?it/s]"
      ]
     },
     "metadata": {},
     "output_type": "display_data"
    },
    {
     "name": "stdout",
     "output_type": "stream",
     "text": [
      "\n",
      "Train loss: 0.2476  Test loss: 2.2766\n",
      "Train accuracy: 0.9844  Test accuracy: 0.9144\n"
     ]
    },
    {
     "data": {
      "application/vnd.jupyter.widget-view+json": {
       "model_id": "1263869171ca4e75baa6982b8466c53a",
       "version_major": 2,
       "version_minor": 0
      },
      "text/plain": [
       "training set:   0%|          | 0/1048 [00:00<?, ?it/s]"
      ]
     },
     "metadata": {},
     "output_type": "display_data"
    },
    {
     "data": {
      "application/vnd.jupyter.widget-view+json": {
       "model_id": "c50c7412374845aea8b1b51bd6fd7da9",
       "version_major": 2,
       "version_minor": 0
      },
      "text/plain": [
       "dev set:   0%|          | 0/292 [00:00<?, ?it/s]"
      ]
     },
     "metadata": {},
     "output_type": "display_data"
    },
    {
     "name": "stdout",
     "output_type": "stream",
     "text": [
      "\n",
      "Train loss: 0.3214  Test loss: 2.2791\n",
      "Train accuracy: 0.9857  Test accuracy: 0.9178\n"
     ]
    },
    {
     "data": {
      "application/vnd.jupyter.widget-view+json": {
       "model_id": "00ed198040e846dea33ed82dd0064368",
       "version_major": 2,
       "version_minor": 0
      },
      "text/plain": [
       "training set:   0%|          | 0/1048 [00:00<?, ?it/s]"
      ]
     },
     "metadata": {},
     "output_type": "display_data"
    },
    {
     "data": {
      "application/vnd.jupyter.widget-view+json": {
       "model_id": "b170de01c1414e3a9075ed1912d39cf5",
       "version_major": 2,
       "version_minor": 0
      },
      "text/plain": [
       "dev set:   0%|          | 0/292 [00:00<?, ?it/s]"
      ]
     },
     "metadata": {},
     "output_type": "display_data"
    },
    {
     "name": "stdout",
     "output_type": "stream",
     "text": [
      "\n",
      "Train loss: 0.4225  Test loss: 2.2727\n",
      "Train accuracy: 0.9812  Test accuracy: 0.9235\n"
     ]
    },
    {
     "data": {
      "application/vnd.jupyter.widget-view+json": {
       "model_id": "13d09bf18bc840a78f6018cc4f08596d",
       "version_major": 2,
       "version_minor": 0
      },
      "text/plain": [
       "training set:   0%|          | 0/1048 [00:00<?, ?it/s]"
      ]
     },
     "metadata": {},
     "output_type": "display_data"
    },
    {
     "data": {
      "application/vnd.jupyter.widget-view+json": {
       "model_id": "81a948204457451d9326c7bdadb5d9b5",
       "version_major": 2,
       "version_minor": 0
      },
      "text/plain": [
       "dev set:   0%|          | 0/292 [00:00<?, ?it/s]"
      ]
     },
     "metadata": {},
     "output_type": "display_data"
    },
    {
     "name": "stdout",
     "output_type": "stream",
     "text": [
      "\n",
      "Train loss: 0.2380  Test loss: 2.3040\n",
      "Train accuracy: 0.9835  Test accuracy: 0.9190\n"
     ]
    },
    {
     "data": {
      "application/vnd.jupyter.widget-view+json": {
       "model_id": "01908c47558f4f4dbfd56b220dbae4ff",
       "version_major": 2,
       "version_minor": 0
      },
      "text/plain": [
       "training set:   0%|          | 0/1048 [00:00<?, ?it/s]"
      ]
     },
     "metadata": {},
     "output_type": "display_data"
    },
    {
     "data": {
      "application/vnd.jupyter.widget-view+json": {
       "model_id": "70719a8ad9944aa985ba7f2f9e5042b6",
       "version_major": 2,
       "version_minor": 0
      },
      "text/plain": [
       "dev set:   0%|          | 0/292 [00:00<?, ?it/s]"
      ]
     },
     "metadata": {},
     "output_type": "display_data"
    },
    {
     "name": "stdout",
     "output_type": "stream",
     "text": [
      "\n",
      "Train loss: 0.2273  Test loss: 2.3417\n",
      "Train accuracy: 0.9844  Test accuracy: 0.9110\n"
     ]
    },
    {
     "data": {
      "application/vnd.jupyter.widget-view+json": {
       "model_id": "6cb0425b5e0e44c8bab2ce802bc798a7",
       "version_major": 2,
       "version_minor": 0
      },
      "text/plain": [
       "training set:   0%|          | 0/1048 [00:00<?, ?it/s]"
      ]
     },
     "metadata": {},
     "output_type": "display_data"
    },
    {
     "data": {
      "application/vnd.jupyter.widget-view+json": {
       "model_id": "15042f6840e84cca8f70009a1e3a0053",
       "version_major": 2,
       "version_minor": 0
      },
      "text/plain": [
       "dev set:   0%|          | 0/292 [00:00<?, ?it/s]"
      ]
     },
     "metadata": {},
     "output_type": "display_data"
    },
    {
     "name": "stdout",
     "output_type": "stream",
     "text": [
      "\n",
      "Train loss: 0.1673  Test loss: 2.3425\n",
      "Train accuracy: 0.9819  Test accuracy: 0.9167\n"
     ]
    },
    {
     "data": {
      "application/vnd.jupyter.widget-view+json": {
       "model_id": "1b49380f877d4c57ab4629904424a5d8",
       "version_major": 2,
       "version_minor": 0
      },
      "text/plain": [
       "training set:   0%|          | 0/1048 [00:00<?, ?it/s]"
      ]
     },
     "metadata": {},
     "output_type": "display_data"
    },
    {
     "data": {
      "application/vnd.jupyter.widget-view+json": {
       "model_id": "2a6abdc51b9943bab475a4d7c9191eed",
       "version_major": 2,
       "version_minor": 0
      },
      "text/plain": [
       "dev set:   0%|          | 0/292 [00:00<?, ?it/s]"
      ]
     },
     "metadata": {},
     "output_type": "display_data"
    },
    {
     "name": "stdout",
     "output_type": "stream",
     "text": [
      "\n",
      "Train loss: 0.2046  Test loss: 2.3142\n",
      "Train accuracy: 0.9854  Test accuracy: 0.9190\n"
     ]
    },
    {
     "data": {
      "application/vnd.jupyter.widget-view+json": {
       "model_id": "05bee26633a44611bed5d09afd4dcbe8",
       "version_major": 2,
       "version_minor": 0
      },
      "text/plain": [
       "training set:   0%|          | 0/1048 [00:00<?, ?it/s]"
      ]
     },
     "metadata": {},
     "output_type": "display_data"
    },
    {
     "data": {
      "application/vnd.jupyter.widget-view+json": {
       "model_id": "f7ead1015deb415e9e7e8638bc1bfc45",
       "version_major": 2,
       "version_minor": 0
      },
      "text/plain": [
       "dev set:   0%|          | 0/292 [00:00<?, ?it/s]"
      ]
     },
     "metadata": {},
     "output_type": "display_data"
    },
    {
     "name": "stdout",
     "output_type": "stream",
     "text": [
      "\n",
      "Train loss: 0.0722  Test loss: 2.3588\n",
      "Train accuracy: 0.9876  Test accuracy: 0.9201\n"
     ]
    },
    {
     "data": {
      "application/vnd.jupyter.widget-view+json": {
       "model_id": "f3a0e577959a45b1ab9ecb913a6c27d8",
       "version_major": 2,
       "version_minor": 0
      },
      "text/plain": [
       "training set:   0%|          | 0/1048 [00:00<?, ?it/s]"
      ]
     },
     "metadata": {},
     "output_type": "display_data"
    },
    {
     "data": {
      "application/vnd.jupyter.widget-view+json": {
       "model_id": "6050e26209024309b14cd45d611d41f9",
       "version_major": 2,
       "version_minor": 0
      },
      "text/plain": [
       "dev set:   0%|          | 0/292 [00:00<?, ?it/s]"
      ]
     },
     "metadata": {},
     "output_type": "display_data"
    },
    {
     "name": "stdout",
     "output_type": "stream",
     "text": [
      "\n",
      "Train loss: 0.2245  Test loss: 2.3784\n",
      "Train accuracy: 0.9863  Test accuracy: 0.9178\n"
     ]
    },
    {
     "data": {
      "application/vnd.jupyter.widget-view+json": {
       "model_id": "2a301583e9ef4d2e8f10902e731f120e",
       "version_major": 2,
       "version_minor": 0
      },
      "text/plain": [
       "training set:   0%|          | 0/1048 [00:00<?, ?it/s]"
      ]
     },
     "metadata": {},
     "output_type": "display_data"
    },
    {
     "data": {
      "application/vnd.jupyter.widget-view+json": {
       "model_id": "a7a997e39041455e8fcea9fcf01b0d0b",
       "version_major": 2,
       "version_minor": 0
      },
      "text/plain": [
       "dev set:   0%|          | 0/292 [00:00<?, ?it/s]"
      ]
     },
     "metadata": {},
     "output_type": "display_data"
    },
    {
     "name": "stdout",
     "output_type": "stream",
     "text": [
      "\n",
      "Train loss: 0.1984  Test loss: 2.4332\n",
      "Train accuracy: 0.9841  Test accuracy: 0.9041\n"
     ]
    },
    {
     "data": {
      "application/vnd.jupyter.widget-view+json": {
       "model_id": "0767a7c205c641a183c33b7e4cd80d7d",
       "version_major": 2,
       "version_minor": 0
      },
      "text/plain": [
       "training set:   0%|          | 0/1048 [00:00<?, ?it/s]"
      ]
     },
     "metadata": {},
     "output_type": "display_data"
    },
    {
     "data": {
      "application/vnd.jupyter.widget-view+json": {
       "model_id": "2c421d8b47fc404db443af14fe6cb635",
       "version_major": 2,
       "version_minor": 0
      },
      "text/plain": [
       "dev set:   0%|          | 0/292 [00:00<?, ?it/s]"
      ]
     },
     "metadata": {},
     "output_type": "display_data"
    },
    {
     "name": "stdout",
     "output_type": "stream",
     "text": [
      "\n",
      "Train loss: 0.2146  Test loss: 2.3938\n",
      "Train accuracy: 0.9844  Test accuracy: 0.9155\n"
     ]
    }
   ],
   "source": [
    "train_loss, validation_loss,test_loss, train_acc, validation_acc, test_acc, best_acc, best_weights = train_test(\n",
    "                                                model,\n",
    "                                                hyperparameters['epochs'],\n",
    "                                                optimizer,\n",
    "                                                device,\n",
    "                                                train_dataset,\n",
    "                                                test_dataset,\n",
    "                                                hyperparameters['batch_size'],\n",
    "                                                hyperparameters['language_model'],\n",
    "                                                criterion,\n",
    "                                                \n",
    "                                               )\n",
    "with open(\"best_weight.pkl\", 'wb') as f:\n",
    "  pickle.dump(best_weights, f)\n",
    "\n"
   ]
  },
  {
   "cell_type": "code",
   "execution_count": 27,
   "metadata": {},
   "outputs": [
    {
     "data": {
      "image/png": "[encoded data removed]",
      "text/plain": [
       "<Figure size 640x480 with 1 Axes>"
      ]
     },
     "metadata": {},
     "output_type": "display_data"
    }
   ],
   "source": [
    "import matplotlib.pyplot as plt\n",
    "\n",
    "plt.plot(train_loss, label='training loss')\n",
    "plt.plot(validation_loss, label='validation loss')\n",
    "plt.plot(test_loss, label='test loss')\n",
    "plt.legend(loc='lower right')\n",
    "plt.show()"
   ]
  },
  {
   "cell_type": "code",
   "execution_count": 36,
   "metadata": {},
   "outputs": [
    {
     "ename": "TypeError",
     "evalue": "can't convert cuda:0 device type tensor to numpy. Use Tensor.cpu() to copy the tensor to host memory first.",
     "output_type": "error",
     "traceback": [
      "\u001b[0;31m---------------------------------------------------------------------------\u001b[0m",
      "\u001b[0;31mTypeError\u001b[0m                                 Traceback (most recent call last)",
      "Cell \u001b[0;32mIn[36], line 5\u001b[0m\n\u001b[1;32m      3\u001b[0m plt\u001b[38;5;241m.\u001b[39mplot(train_acc, label\u001b[38;5;241m=\u001b[39m\u001b[38;5;124m'\u001b[39m\u001b[38;5;124mtraining accuracy\u001b[39m\u001b[38;5;124m'\u001b[39m)\n\u001b[1;32m      4\u001b[0m plt\u001b[38;5;241m.\u001b[39mplot(validation_acc, label\u001b[38;5;241m=\u001b[39m\u001b[38;5;124m'\u001b[39m\u001b[38;5;124mvalidation accuracy\u001b[39m\u001b[38;5;124m'\u001b[39m)\n\u001b[0;32m----> 5\u001b[0m \u001b[43mplt\u001b[49m\u001b[38;5;241;43m.\u001b[39;49m\u001b[43mplot\u001b[49m\u001b[43m(\u001b[49m\u001b[43mtest_acc\u001b[49m\u001b[43m,\u001b[49m\u001b[43m \u001b[49m\u001b[43mlabel\u001b[49m\u001b[38;5;241;43m=\u001b[39;49m\u001b[38;5;124;43m'\u001b[39;49m\u001b[38;5;124;43mtest accuracy\u001b[39;49m\u001b[38;5;124;43m'\u001b[39;49m\u001b[43m)\u001b[49m\n\u001b[1;32m      6\u001b[0m plt\u001b[38;5;241m.\u001b[39mlegend(loc\u001b[38;5;241m=\u001b[39m\u001b[38;5;124m'\u001b[39m\u001b[38;5;124mlower right\u001b[39m\u001b[38;5;124m'\u001b[39m)\n\u001b[1;32m      7\u001b[0m plt\u001b[38;5;241m.\u001b[39mylim(\u001b[38;5;241m0\u001b[39m,\u001b[38;5;241m2\u001b[39m)\n",
      "File \u001b[0;32m/usr/local/lib/python3.11/dist-packages/matplotlib/pyplot.py:3575\u001b[0m, in \u001b[0;36mplot\u001b[0;34m(scalex, scaley, data, *args, **kwargs)\u001b[0m\n\u001b[1;32m   3567\u001b[0m \u001b[38;5;129m@_copy_docstring_and_deprecators\u001b[39m(Axes\u001b[38;5;241m.\u001b[39mplot)\n\u001b[1;32m   3568\u001b[0m \u001b[38;5;28;01mdef\u001b[39;00m \u001b[38;5;21mplot\u001b[39m(\n\u001b[1;32m   3569\u001b[0m     \u001b[38;5;241m*\u001b[39margs: \u001b[38;5;28mfloat\u001b[39m \u001b[38;5;241m|\u001b[39m ArrayLike \u001b[38;5;241m|\u001b[39m \u001b[38;5;28mstr\u001b[39m,\n\u001b[0;32m   (...)\u001b[0m\n\u001b[1;32m   3573\u001b[0m     \u001b[38;5;241m*\u001b[39m\u001b[38;5;241m*\u001b[39mkwargs,\n\u001b[1;32m   3574\u001b[0m ) \u001b[38;5;241m-\u001b[39m\u001b[38;5;241m>\u001b[39m \u001b[38;5;28mlist\u001b[39m[Line2D]:\n\u001b[0;32m-> 3575\u001b[0m     \u001b[38;5;28;01mreturn\u001b[39;00m \u001b[43mgca\u001b[49m\u001b[43m(\u001b[49m\u001b[43m)\u001b[49m\u001b[38;5;241;43m.\u001b[39;49m\u001b[43mplot\u001b[49m\u001b[43m(\u001b[49m\n\u001b[1;32m   3576\u001b[0m \u001b[43m        \u001b[49m\u001b[38;5;241;43m*\u001b[39;49m\u001b[43margs\u001b[49m\u001b[43m,\u001b[49m\n\u001b[1;32m   3577\u001b[0m \u001b[43m        \u001b[49m\u001b[43mscalex\u001b[49m\u001b[38;5;241;43m=\u001b[39;49m\u001b[43mscalex\u001b[49m\u001b[43m,\u001b[49m\n\u001b[1;32m   3578\u001b[0m \u001b[43m        \u001b[49m\u001b[43mscaley\u001b[49m\u001b[38;5;241;43m=\u001b[39;49m\u001b[43mscaley\u001b[49m\u001b[43m,\u001b[49m\n\u001b[1;32m   3579\u001b[0m \u001b[43m        \u001b[49m\u001b[38;5;241;43m*\u001b[39;49m\u001b[38;5;241;43m*\u001b[39;49m\u001b[43m(\u001b[49m\u001b[43m{\u001b[49m\u001b[38;5;124;43m\"\u001b[39;49m\u001b[38;5;124;43mdata\u001b[39;49m\u001b[38;5;124;43m\"\u001b[39;49m\u001b[43m:\u001b[49m\u001b[43m \u001b[49m\u001b[43mdata\u001b[49m\u001b[43m}\u001b[49m\u001b[43m \u001b[49m\u001b[38;5;28;43;01mif\u001b[39;49;00m\u001b[43m \u001b[49m\u001b[43mdata\u001b[49m\u001b[43m \u001b[49m\u001b[38;5;129;43;01mis\u001b[39;49;00m\u001b[43m \u001b[49m\u001b[38;5;129;43;01mnot\u001b[39;49;00m\u001b[43m \u001b[49m\u001b[38;5;28;43;01mNone\u001b[39;49;00m\u001b[43m \u001b[49m\u001b[38;5;28;43;01melse\u001b[39;49;00m\u001b[43m \u001b[49m\u001b[43m{\u001b[49m\u001b[43m}\u001b[49m\u001b[43m)\u001b[49m\u001b[43m,\u001b[49m\n\u001b[1;32m   3580\u001b[0m \u001b[43m        \u001b[49m\u001b[38;5;241;43m*\u001b[39;49m\u001b[38;5;241;43m*\u001b[39;49m\u001b[43mkwargs\u001b[49m\u001b[43m,\u001b[49m\n\u001b[1;32m   3581\u001b[0m \u001b[43m    \u001b[49m\u001b[43m)\u001b[49m\n",
      "File \u001b[0;32m/usr/local/lib/python3.11/dist-packages/matplotlib/axes/_axes.py:1721\u001b[0m, in \u001b[0;36mAxes.plot\u001b[0;34m(self, scalex, scaley, data, *args, **kwargs)\u001b[0m\n\u001b[1;32m   1478\u001b[0m \u001b[38;5;250m\u001b[39m\u001b[38;5;124;03m\"\"\"\u001b[39;00m\n\u001b[1;32m   1479\u001b[0m \u001b[38;5;124;03mPlot y versus x as lines and/or markers.\u001b[39;00m\n\u001b[1;32m   1480\u001b[0m \n\u001b[0;32m   (...)\u001b[0m\n\u001b[1;32m   1718\u001b[0m \u001b[38;5;124;03m(``'green'``) or hex strings (``'#008000'``).\u001b[39;00m\n\u001b[1;32m   1719\u001b[0m \u001b[38;5;124;03m\"\"\"\u001b[39;00m\n\u001b[1;32m   1720\u001b[0m kwargs \u001b[38;5;241m=\u001b[39m cbook\u001b[38;5;241m.\u001b[39mnormalize_kwargs(kwargs, mlines\u001b[38;5;241m.\u001b[39mLine2D)\n\u001b[0;32m-> 1721\u001b[0m lines \u001b[38;5;241m=\u001b[39m [\u001b[38;5;241m*\u001b[39m\u001b[38;5;28mself\u001b[39m\u001b[38;5;241m.\u001b[39m_get_lines(\u001b[38;5;28mself\u001b[39m, \u001b[38;5;241m*\u001b[39margs, data\u001b[38;5;241m=\u001b[39mdata, \u001b[38;5;241m*\u001b[39m\u001b[38;5;241m*\u001b[39mkwargs)]\n\u001b[1;32m   1722\u001b[0m \u001b[38;5;28;01mfor\u001b[39;00m line \u001b[38;5;129;01min\u001b[39;00m lines:\n\u001b[1;32m   1723\u001b[0m     \u001b[38;5;28mself\u001b[39m\u001b[38;5;241m.\u001b[39madd_line(line)\n",
      "File \u001b[0;32m/usr/local/lib/python3.11/dist-packages/matplotlib/axes/_base.py:303\u001b[0m, in \u001b[0;36m_process_plot_var_args.__call__\u001b[0;34m(self, axes, data, *args, **kwargs)\u001b[0m\n\u001b[1;32m    301\u001b[0m     this \u001b[38;5;241m+\u001b[39m\u001b[38;5;241m=\u001b[39m args[\u001b[38;5;241m0\u001b[39m],\n\u001b[1;32m    302\u001b[0m     args \u001b[38;5;241m=\u001b[39m args[\u001b[38;5;241m1\u001b[39m:]\n\u001b[0;32m--> 303\u001b[0m \u001b[38;5;28;01myield from\u001b[39;00m \u001b[38;5;28;43mself\u001b[39;49m\u001b[38;5;241;43m.\u001b[39;49m\u001b[43m_plot_args\u001b[49m\u001b[43m(\u001b[49m\n\u001b[1;32m    304\u001b[0m \u001b[43m    \u001b[49m\u001b[43maxes\u001b[49m\u001b[43m,\u001b[49m\u001b[43m \u001b[49m\u001b[43mthis\u001b[49m\u001b[43m,\u001b[49m\u001b[43m \u001b[49m\u001b[43mkwargs\u001b[49m\u001b[43m,\u001b[49m\u001b[43m \u001b[49m\u001b[43mambiguous_fmt_datakey\u001b[49m\u001b[38;5;241;43m=\u001b[39;49m\u001b[43mambiguous_fmt_datakey\u001b[49m\u001b[43m)\u001b[49m\n",
      "File \u001b[0;32m/usr/local/lib/python3.11/dist-packages/matplotlib/axes/_base.py:491\u001b[0m, in \u001b[0;36m_process_plot_var_args._plot_args\u001b[0;34m(self, axes, tup, kwargs, return_kwargs, ambiguous_fmt_datakey)\u001b[0m\n\u001b[1;32m    489\u001b[0m     y \u001b[38;5;241m=\u001b[39m _check_1d(xy[\u001b[38;5;241m1\u001b[39m])\n\u001b[1;32m    490\u001b[0m \u001b[38;5;28;01melse\u001b[39;00m:\n\u001b[0;32m--> 491\u001b[0m     x, y \u001b[38;5;241m=\u001b[39m \u001b[43mindex_of\u001b[49m\u001b[43m(\u001b[49m\u001b[43mxy\u001b[49m\u001b[43m[\u001b[49m\u001b[38;5;241;43m-\u001b[39;49m\u001b[38;5;241;43m1\u001b[39;49m\u001b[43m]\u001b[49m\u001b[43m)\u001b[49m\n\u001b[1;32m    493\u001b[0m \u001b[38;5;28;01mif\u001b[39;00m axes\u001b[38;5;241m.\u001b[39mxaxis \u001b[38;5;129;01mis\u001b[39;00m \u001b[38;5;129;01mnot\u001b[39;00m \u001b[38;5;28;01mNone\u001b[39;00m:\n\u001b[1;32m    494\u001b[0m     axes\u001b[38;5;241m.\u001b[39mxaxis\u001b[38;5;241m.\u001b[39mupdate_units(x)\n",
      "File \u001b[0;32m/usr/local/lib/python3.11/dist-packages/matplotlib/cbook.py:1666\u001b[0m, in \u001b[0;36mindex_of\u001b[0;34m(y)\u001b[0m\n\u001b[1;32m   1664\u001b[0m     \u001b[38;5;28;01mpass\u001b[39;00m\n\u001b[1;32m   1665\u001b[0m \u001b[38;5;28;01mtry\u001b[39;00m:\n\u001b[0;32m-> 1666\u001b[0m     y \u001b[38;5;241m=\u001b[39m \u001b[43m_check_1d\u001b[49m\u001b[43m(\u001b[49m\u001b[43my\u001b[49m\u001b[43m)\u001b[49m\n\u001b[1;32m   1667\u001b[0m \u001b[38;5;28;01mexcept\u001b[39;00m (VisibleDeprecationWarning, \u001b[38;5;167;01mValueError\u001b[39;00m):\n\u001b[1;32m   1668\u001b[0m     \u001b[38;5;66;03m# NumPy 1.19 will warn on ragged input, and we can't actually use it.\u001b[39;00m\n\u001b[1;32m   1669\u001b[0m     \u001b[38;5;28;01mpass\u001b[39;00m\n",
      "File \u001b[0;32m/usr/local/lib/python3.11/dist-packages/matplotlib/cbook.py:1358\u001b[0m, in \u001b[0;36m_check_1d\u001b[0;34m(x)\u001b[0m\n\u001b[1;32m   1352\u001b[0m \u001b[38;5;66;03m# plot requires `shape` and `ndim`.  If passed an\u001b[39;00m\n\u001b[1;32m   1353\u001b[0m \u001b[38;5;66;03m# object that doesn't provide them, then force to numpy array.\u001b[39;00m\n\u001b[1;32m   1354\u001b[0m \u001b[38;5;66;03m# Note this will strip unit information.\u001b[39;00m\n\u001b[1;32m   1355\u001b[0m \u001b[38;5;28;01mif\u001b[39;00m (\u001b[38;5;129;01mnot\u001b[39;00m \u001b[38;5;28mhasattr\u001b[39m(x, \u001b[38;5;124m'\u001b[39m\u001b[38;5;124mshape\u001b[39m\u001b[38;5;124m'\u001b[39m) \u001b[38;5;129;01mor\u001b[39;00m\n\u001b[1;32m   1356\u001b[0m         \u001b[38;5;129;01mnot\u001b[39;00m \u001b[38;5;28mhasattr\u001b[39m(x, \u001b[38;5;124m'\u001b[39m\u001b[38;5;124mndim\u001b[39m\u001b[38;5;124m'\u001b[39m) \u001b[38;5;129;01mor\u001b[39;00m\n\u001b[1;32m   1357\u001b[0m         \u001b[38;5;28mlen\u001b[39m(x\u001b[38;5;241m.\u001b[39mshape) \u001b[38;5;241m<\u001b[39m \u001b[38;5;241m1\u001b[39m):\n\u001b[0;32m-> 1358\u001b[0m     \u001b[38;5;28;01mreturn\u001b[39;00m \u001b[43mnp\u001b[49m\u001b[38;5;241;43m.\u001b[39;49m\u001b[43matleast_1d\u001b[49m\u001b[43m(\u001b[49m\u001b[43mx\u001b[49m\u001b[43m)\u001b[49m\n\u001b[1;32m   1359\u001b[0m \u001b[38;5;28;01melse\u001b[39;00m:\n\u001b[1;32m   1360\u001b[0m     \u001b[38;5;28;01mreturn\u001b[39;00m x\n",
      "File \u001b[0;32m/usr/local/lib/python3.11/dist-packages/numpy/core/shape_base.py:65\u001b[0m, in \u001b[0;36matleast_1d\u001b[0;34m(*arys)\u001b[0m\n\u001b[1;32m     63\u001b[0m res \u001b[38;5;241m=\u001b[39m []\n\u001b[1;32m     64\u001b[0m \u001b[38;5;28;01mfor\u001b[39;00m ary \u001b[38;5;129;01min\u001b[39;00m arys:\n\u001b[0;32m---> 65\u001b[0m     ary \u001b[38;5;241m=\u001b[39m asanyarray(ary)\n\u001b[1;32m     66\u001b[0m     \u001b[38;5;28;01mif\u001b[39;00m ary\u001b[38;5;241m.\u001b[39mndim \u001b[38;5;241m==\u001b[39m \u001b[38;5;241m0\u001b[39m:\n\u001b[1;32m     67\u001b[0m         result \u001b[38;5;241m=\u001b[39m ary\u001b[38;5;241m.\u001b[39mreshape(\u001b[38;5;241m1\u001b[39m)\n",
      "File \u001b[0;32m/usr/local/lib/python3.11/dist-packages/torch/_tensor.py:1030\u001b[0m, in \u001b[0;36mTensor.__array__\u001b[0;34m(self, dtype)\u001b[0m\n\u001b[1;32m   1028\u001b[0m     \u001b[38;5;28;01mreturn\u001b[39;00m handle_torch_function(Tensor\u001b[38;5;241m.\u001b[39m__array__, (\u001b[38;5;28mself\u001b[39m,), \u001b[38;5;28mself\u001b[39m, dtype\u001b[38;5;241m=\u001b[39mdtype)\n\u001b[1;32m   1029\u001b[0m \u001b[38;5;28;01mif\u001b[39;00m dtype \u001b[38;5;129;01mis\u001b[39;00m \u001b[38;5;28;01mNone\u001b[39;00m:\n\u001b[0;32m-> 1030\u001b[0m     \u001b[38;5;28;01mreturn\u001b[39;00m \u001b[38;5;28;43mself\u001b[39;49m\u001b[38;5;241;43m.\u001b[39;49m\u001b[43mnumpy\u001b[49m\u001b[43m(\u001b[49m\u001b[43m)\u001b[49m\n\u001b[1;32m   1031\u001b[0m \u001b[38;5;28;01melse\u001b[39;00m:\n\u001b[1;32m   1032\u001b[0m     \u001b[38;5;28;01mreturn\u001b[39;00m \u001b[38;5;28mself\u001b[39m\u001b[38;5;241m.\u001b[39mnumpy()\u001b[38;5;241m.\u001b[39mastype(dtype, copy\u001b[38;5;241m=\u001b[39m\u001b[38;5;28;01mFalse\u001b[39;00m)\n",
      "\u001b[0;31mTypeError\u001b[0m: can't convert cuda:0 device type tensor to numpy. Use Tensor.cpu() to copy the tensor to host memory first."
     ]
    },
    {
     "data": {
      "image/png": "[encoded data removed]",
      "text/plain": [
       "<Figure size 640x480 with 1 Axes>"
      ]
     },
     "metadata": {},
     "output_type": "display_data"
    }
   ],
   "source": [
    "train_acc = [ np.array(x.cpu().float()) for x in train_acc ]\n",
    "validation_acc = [ np.array(x.cpu().float()) for x in validation_acc ]\n",
    "test_acc = [ np.array(x.cpu().float()) for x in test_acc ]\n",
    "\n",
    "\n",
    "plt.plot(train_acc, label='training accuracy')\n",
    "plt.plot(validation_acc, label='validation accuracy')\n",
    "plt.plot(test_acc, label='test accuracy')\n",
    "plt.legend(loc='lower right')\n",
    "plt.ylim(0,2)\n",
    "plt.show()"
   ]
  },
  {
   "cell_type": "code",
   "execution_count": 42,
   "metadata": {},
   "outputs": [
    {
     "data": {
      "application/vnd.jupyter.widget-view+json": {
       "model_id": "3ed86809d1d249688540fc4a7b853fff",
       "version_major": 2,
       "version_minor": 0
      },
      "text/plain": [
       "Looking for hashtag:   0%|          | 0/810 [00:00<?, ?it/s]"
      ]
     },
     "metadata": {},
     "output_type": "display_data"
    },
    {
     "data": {
      "application/vnd.jupyter.widget-view+json": {
       "model_id": "14f2ad8192a7471b84e66447cdd714ca",
       "version_major": 2,
       "version_minor": 0
      },
      "text/plain": [
       "Tokenizing text ... :   0%|          | 0/583 [00:00<?, ?it/s]"
      ]
     },
     "metadata": {},
     "output_type": "display_data"
    },
    {
     "data": {
      "application/vnd.jupyter.widget-view+json": {
       "model_id": "e8ee29ea5a20450183f9c99beece628c",
       "version_major": 2,
       "version_minor": 0
      },
      "text/plain": [
       "Tokenizing text ... :   0%|          | 0/162 [00:00<?, ?it/s]"
      ]
     },
     "metadata": {},
     "output_type": "display_data"
    },
    {
     "data": {
      "application/vnd.jupyter.widget-view+json": {
       "model_id": "66d561250a184155a3e079caee6c057d",
       "version_major": 2,
       "version_minor": 0
      },
      "text/plain": [
       "  0%|          | 0/40 [00:00<?, ?it/s]"
      ]
     },
     "metadata": {},
     "output_type": "display_data"
    },
    {
     "data": {
      "application/vnd.jupyter.widget-view+json": {
       "model_id": "8c3eff9085a1408a9d97503feb835203",
       "version_major": 2,
       "version_minor": 0
      },
      "text/plain": [
       "training set:   0%|          | 0/195 [00:00<?, ?it/s]"
      ]
     },
     "metadata": {},
     "output_type": "display_data"
    },
    {
     "data": {
      "application/vnd.jupyter.widget-view+json": {
       "model_id": "b8a89924cdae49eab3e20d6bb598e251",
       "version_major": 2,
       "version_minor": 0
      },
      "text/plain": [
       "dev set:   0%|          | 0/54 [00:00<?, ?it/s]"
      ]
     },
     "metadata": {},
     "output_type": "display_data"
    },
    {
     "name": "stdout",
     "output_type": "stream",
     "text": [
      "\n",
      "Train loss: 4.1891  Test loss: 1.2619\n",
      "Train accuracy: 0.2291  Test accuracy: 0.3148\n"
     ]
    },
    {
     "data": {
      "application/vnd.jupyter.widget-view+json": {
       "model_id": "b2229b225c574773b46036286d8c6999",
       "version_major": 2,
       "version_minor": 0
      },
      "text/plain": [
       "training set:   0%|          | 0/195 [00:00<?, ?it/s]"
      ]
     },
     "metadata": {},
     "output_type": "display_data"
    },
    {
     "data": {
      "application/vnd.jupyter.widget-view+json": {
       "model_id": "616d9fc234da43af8fb5bf2cf3a0b7c2",
       "version_major": 2,
       "version_minor": 0
      },
      "text/plain": [
       "dev set:   0%|          | 0/54 [00:00<?, ?it/s]"
      ]
     },
     "metadata": {},
     "output_type": "display_data"
    },
    {
     "name": "stdout",
     "output_type": "stream",
     "text": [
      "\n",
      "Train loss: 4.1891  Test loss: 1.1588\n",
      "Train accuracy: 0.4598  Test accuracy: 0.5185\n"
     ]
    },
    {
     "data": {
      "application/vnd.jupyter.widget-view+json": {
       "model_id": "67063ef49da74b74b330c10944a6cbf1",
       "version_major": 2,
       "version_minor": 0
      },
      "text/plain": [
       "training set:   0%|          | 0/195 [00:00<?, ?it/s]"
      ]
     },
     "metadata": {},
     "output_type": "display_data"
    },
    {
     "data": {
      "application/vnd.jupyter.widget-view+json": {
       "model_id": "6d505f61b49f42b69e26cd390d5f0168",
       "version_major": 2,
       "version_minor": 0
      },
      "text/plain": [
       "dev set:   0%|          | 0/54 [00:00<?, ?it/s]"
      ]
     },
     "metadata": {},
     "output_type": "display_data"
    },
    {
     "name": "stdout",
     "output_type": "stream",
     "text": [
      "\n",
      "Train loss: 3.7276  Test loss: 1.1201\n",
      "Train accuracy: 0.5197  Test accuracy: 0.5123\n"
     ]
    },
    {
     "data": {
      "application/vnd.jupyter.widget-view+json": {
       "model_id": "025e721522db436f9844939ecb4af8b0",
       "version_major": 2,
       "version_minor": 0
      },
      "text/plain": [
       "training set:   0%|          | 0/195 [00:00<?, ?it/s]"
      ]
     },
     "metadata": {},
     "output_type": "display_data"
    },
    {
     "data": {
      "application/vnd.jupyter.widget-view+json": {
       "model_id": "69cf8ddcedcb417699e7e634436cfd97",
       "version_major": 2,
       "version_minor": 0
      },
      "text/plain": [
       "dev set:   0%|          | 0/54 [00:00<?, ?it/s]"
      ]
     },
     "metadata": {},
     "output_type": "display_data"
    },
    {
     "name": "stdout",
     "output_type": "stream",
     "text": [
      "\n",
      "Train loss: 3.3808  Test loss: 1.0795\n",
      "Train accuracy: 0.5214  Test accuracy: 0.5185\n"
     ]
    },
    {
     "data": {
      "application/vnd.jupyter.widget-view+json": {
       "model_id": "b1b739a152e844c99d314ff1aa1eb54b",
       "version_major": 2,
       "version_minor": 0
      },
      "text/plain": [
       "training set:   0%|          | 0/195 [00:00<?, ?it/s]"
      ]
     },
     "metadata": {},
     "output_type": "display_data"
    },
    {
     "data": {
      "application/vnd.jupyter.widget-view+json": {
       "model_id": "d642e03d434840c9bf52248cfad4bdbe",
       "version_major": 2,
       "version_minor": 0
      },
      "text/plain": [
       "dev set:   0%|          | 0/54 [00:00<?, ?it/s]"
      ]
     },
     "metadata": {},
     "output_type": "display_data"
    },
    {
     "name": "stdout",
     "output_type": "stream",
     "text": [
      "\n",
      "Train loss: 2.9967  Test loss: 1.0172\n",
      "Train accuracy: 0.5675  Test accuracy: 0.5617\n"
     ]
    },
    {
     "data": {
      "application/vnd.jupyter.widget-view+json": {
       "model_id": "9f1777094f124a95a5bc192b6ce78e28",
       "version_major": 2,
       "version_minor": 0
      },
      "text/plain": [
       "training set:   0%|          | 0/195 [00:00<?, ?it/s]"
      ]
     },
     "metadata": {},
     "output_type": "display_data"
    },
    {
     "data": {
      "application/vnd.jupyter.widget-view+json": {
       "model_id": "6525c7c2760f4889855c456ba0c6a758",
       "version_major": 2,
       "version_minor": 0
      },
      "text/plain": [
       "dev set:   0%|          | 0/54 [00:00<?, ?it/s]"
      ]
     },
     "metadata": {},
     "output_type": "display_data"
    },
    {
     "name": "stdout",
     "output_type": "stream",
     "text": [
      "\n",
      "Train loss: 2.4776  Test loss: 0.9476\n",
      "Train accuracy: 0.6188  Test accuracy: 0.6420\n"
     ]
    },
    {
     "data": {
      "application/vnd.jupyter.widget-view+json": {
       "model_id": "7e5c7474db334ba6b9588590a48a44b7",
       "version_major": 2,
       "version_minor": 0
      },
      "text/plain": [
       "training set:   0%|          | 0/195 [00:00<?, ?it/s]"
      ]
     },
     "metadata": {},
     "output_type": "display_data"
    },
    {
     "data": {
      "application/vnd.jupyter.widget-view+json": {
       "model_id": "845203f732a6483bb862fe9ba1e3a152",
       "version_major": 2,
       "version_minor": 0
      },
      "text/plain": [
       "dev set:   0%|          | 0/54 [00:00<?, ?it/s]"
      ]
     },
     "metadata": {},
     "output_type": "display_data"
    },
    {
     "name": "stdout",
     "output_type": "stream",
     "text": [
      "\n",
      "Train loss: 3.8410  Test loss: 0.8639\n",
      "Train accuracy: 0.6564  Test accuracy: 0.7222\n"
     ]
    },
    {
     "data": {
      "application/vnd.jupyter.widget-view+json": {
       "model_id": "ff8b38adfac548db8454a765402bcea8",
       "version_major": 2,
       "version_minor": 0
      },
      "text/plain": [
       "training set:   0%|          | 0/195 [00:00<?, ?it/s]"
      ]
     },
     "metadata": {},
     "output_type": "display_data"
    },
    {
     "data": {
      "application/vnd.jupyter.widget-view+json": {
       "model_id": "3b804d0a554d4992ad450cf1c873dd0b",
       "version_major": 2,
       "version_minor": 0
      },
      "text/plain": [
       "dev set:   0%|          | 0/54 [00:00<?, ?it/s]"
      ]
     },
     "metadata": {},
     "output_type": "display_data"
    },
    {
     "name": "stdout",
     "output_type": "stream",
     "text": [
      "\n",
      "Train loss: 4.3882  Test loss: 0.7773\n",
      "Train accuracy: 0.7778  Test accuracy: 0.7716\n"
     ]
    },
    {
     "data": {
      "application/vnd.jupyter.widget-view+json": {
       "model_id": "963927aa36a6482694ee4c3852d5dbd3",
       "version_major": 2,
       "version_minor": 0
      },
      "text/plain": [
       "training set:   0%|          | 0/195 [00:00<?, ?it/s]"
      ]
     },
     "metadata": {},
     "output_type": "display_data"
    },
    {
     "data": {
      "application/vnd.jupyter.widget-view+json": {
       "model_id": "40b95fd1b1184be8b7b73873ad8fcccb",
       "version_major": 2,
       "version_minor": 0
      },
      "text/plain": [
       "dev set:   0%|          | 0/54 [00:00<?, ?it/s]"
      ]
     },
     "metadata": {},
     "output_type": "display_data"
    },
    {
     "name": "stdout",
     "output_type": "stream",
     "text": [
      "\n",
      "Train loss: 2.6747  Test loss: 0.7199\n",
      "Train accuracy: 0.8205  Test accuracy: 0.7901\n"
     ]
    },
    {
     "data": {
      "application/vnd.jupyter.widget-view+json": {
       "model_id": "ff05a2c5289942d69066205bc294223c",
       "version_major": 2,
       "version_minor": 0
      },
      "text/plain": [
       "training set:   0%|          | 0/195 [00:00<?, ?it/s]"
      ]
     },
     "metadata": {},
     "output_type": "display_data"
    },
    {
     "data": {
      "application/vnd.jupyter.widget-view+json": {
       "model_id": "3d1fc59fd6bf44e5a8f4638cb010ccb6",
       "version_major": 2,
       "version_minor": 0
      },
      "text/plain": [
       "dev set:   0%|          | 0/54 [00:00<?, ?it/s]"
      ]
     },
     "metadata": {},
     "output_type": "display_data"
    },
    {
     "name": "stdout",
     "output_type": "stream",
     "text": [
      "\n",
      "Train loss: 2.6746  Test loss: 0.6777\n",
      "Train accuracy: 0.8615  Test accuracy: 0.7963\n"
     ]
    },
    {
     "data": {
      "application/vnd.jupyter.widget-view+json": {
       "model_id": "9fad2be2abdd47eca66e565cb5ce110e",
       "version_major": 2,
       "version_minor": 0
      },
      "text/plain": [
       "training set:   0%|          | 0/195 [00:00<?, ?it/s]"
      ]
     },
     "metadata": {},
     "output_type": "display_data"
    },
    {
     "data": {
      "application/vnd.jupyter.widget-view+json": {
       "model_id": "cdff0a54b47a478d9a74bba1f0bbc530",
       "version_major": 2,
       "version_minor": 0
      },
      "text/plain": [
       "dev set:   0%|          | 0/54 [00:00<?, ?it/s]"
      ]
     },
     "metadata": {},
     "output_type": "display_data"
    },
    {
     "name": "stdout",
     "output_type": "stream",
     "text": [
      "\n",
      "Train loss: 2.2739  Test loss: 0.6409\n",
      "Train accuracy: 0.8650  Test accuracy: 0.8025\n"
     ]
    },
    {
     "data": {
      "application/vnd.jupyter.widget-view+json": {
       "model_id": "93cfd68a953e4a88839d7c8d2348cfea",
       "version_major": 2,
       "version_minor": 0
      },
      "text/plain": [
       "training set:   0%|          | 0/195 [00:00<?, ?it/s]"
      ]
     },
     "metadata": {},
     "output_type": "display_data"
    },
    {
     "data": {
      "application/vnd.jupyter.widget-view+json": {
       "model_id": "53c6468f38d1429aa29838d64dc410aa",
       "version_major": 2,
       "version_minor": 0
      },
      "text/plain": [
       "dev set:   0%|          | 0/54 [00:00<?, ?it/s]"
      ]
     },
     "metadata": {},
     "output_type": "display_data"
    },
    {
     "name": "stdout",
     "output_type": "stream",
     "text": [
      "\n",
      "Train loss: 1.5924  Test loss: 0.6263\n",
      "Train accuracy: 0.9128  Test accuracy: 0.7901\n"
     ]
    },
    {
     "data": {
      "application/vnd.jupyter.widget-view+json": {
       "model_id": "05a7f7729b7a479e8dd883753576ce15",
       "version_major": 2,
       "version_minor": 0
      },
      "text/plain": [
       "training set:   0%|          | 0/195 [00:00<?, ?it/s]"
      ]
     },
     "metadata": {},
     "output_type": "display_data"
    },
    {
     "data": {
      "application/vnd.jupyter.widget-view+json": {
       "model_id": "0bbd688fa1bc446c8bf1c4d2d2e95b11",
       "version_major": 2,
       "version_minor": 0
      },
      "text/plain": [
       "dev set:   0%|          | 0/54 [00:00<?, ?it/s]"
      ]
     },
     "metadata": {},
     "output_type": "display_data"
    },
    {
     "name": "stdout",
     "output_type": "stream",
     "text": [
      "\n",
      "Train loss: 2.3981  Test loss: 0.6019\n",
      "Train accuracy: 0.9316  Test accuracy: 0.8148\n"
     ]
    },
    {
     "data": {
      "application/vnd.jupyter.widget-view+json": {
       "model_id": "a5c2bb19be6b40c3ba4236f956c30300",
       "version_major": 2,
       "version_minor": 0
      },
      "text/plain": [
       "training set:   0%|          | 0/195 [00:00<?, ?it/s]"
      ]
     },
     "metadata": {},
     "output_type": "display_data"
    },
    {
     "data": {
      "application/vnd.jupyter.widget-view+json": {
       "model_id": "9ebfebfbdb414d25b29364107a17006c",
       "version_major": 2,
       "version_minor": 0
      },
      "text/plain": [
       "dev set:   0%|          | 0/54 [00:00<?, ?it/s]"
      ]
     },
     "metadata": {},
     "output_type": "display_data"
    },
    {
     "name": "stdout",
     "output_type": "stream",
     "text": [
      "\n",
      "Train loss: 1.3151  Test loss: 0.6200\n",
      "Train accuracy: 0.9470  Test accuracy: 0.7963\n"
     ]
    },
    {
     "data": {
      "application/vnd.jupyter.widget-view+json": {
       "model_id": "e4ae3b90d32f4f3094a4aa284a0ebdee",
       "version_major": 2,
       "version_minor": 0
      },
      "text/plain": [
       "training set:   0%|          | 0/195 [00:00<?, ?it/s]"
      ]
     },
     "metadata": {},
     "output_type": "display_data"
    },
    {
     "data": {
      "application/vnd.jupyter.widget-view+json": {
       "model_id": "6a1b22b1f57c42b8b3485c26755b1d45",
       "version_major": 2,
       "version_minor": 0
      },
      "text/plain": [
       "dev set:   0%|          | 0/54 [00:00<?, ?it/s]"
      ]
     },
     "metadata": {},
     "output_type": "display_data"
    },
    {
     "name": "stdout",
     "output_type": "stream",
     "text": [
      "\n",
      "Train loss: 1.4782  Test loss: 0.6085\n",
      "Train accuracy: 0.9658  Test accuracy: 0.7840\n"
     ]
    },
    {
     "data": {
      "application/vnd.jupyter.widget-view+json": {
       "model_id": "ba09a413253d418f826fb0fff5f20864",
       "version_major": 2,
       "version_minor": 0
      },
      "text/plain": [
       "training set:   0%|          | 0/195 [00:00<?, ?it/s]"
      ]
     },
     "metadata": {},
     "output_type": "display_data"
    },
    {
     "data": {
      "application/vnd.jupyter.widget-view+json": {
       "model_id": "a8510036f62f4752b77843479d3846f9",
       "version_major": 2,
       "version_minor": 0
      },
      "text/plain": [
       "dev set:   0%|          | 0/54 [00:00<?, ?it/s]"
      ]
     },
     "metadata": {},
     "output_type": "display_data"
    },
    {
     "name": "stdout",
     "output_type": "stream",
     "text": [
      "\n",
      "Train loss: 3.6713  Test loss: 0.5964\n",
      "Train accuracy: 0.9624  Test accuracy: 0.7963\n"
     ]
    },
    {
     "data": {
      "application/vnd.jupyter.widget-view+json": {
       "model_id": "8e6da87011c74aea8377969e21553492",
       "version_major": 2,
       "version_minor": 0
      },
      "text/plain": [
       "training set:   0%|          | 0/195 [00:00<?, ?it/s]"
      ]
     },
     "metadata": {},
     "output_type": "display_data"
    },
    {
     "data": {
      "application/vnd.jupyter.widget-view+json": {
       "model_id": "fe773d8bbc1641b580c2a1e72355103d",
       "version_major": 2,
       "version_minor": 0
      },
      "text/plain": [
       "dev set:   0%|          | 0/54 [00:00<?, ?it/s]"
      ]
     },
     "metadata": {},
     "output_type": "display_data"
    },
    {
     "name": "stdout",
     "output_type": "stream",
     "text": [
      "\n",
      "Train loss: 1.3970  Test loss: 0.5948\n",
      "Train accuracy: 0.9812  Test accuracy: 0.7778\n"
     ]
    },
    {
     "data": {
      "application/vnd.jupyter.widget-view+json": {
       "model_id": "88e13a0aacc94b4fa3facaf20c21fa99",
       "version_major": 2,
       "version_minor": 0
      },
      "text/plain": [
       "training set:   0%|          | 0/195 [00:00<?, ?it/s]"
      ]
     },
     "metadata": {},
     "output_type": "display_data"
    },
    {
     "data": {
      "application/vnd.jupyter.widget-view+json": {
       "model_id": "e481877de7fc43ef9220704b6e67048c",
       "version_major": 2,
       "version_minor": 0
      },
      "text/plain": [
       "dev set:   0%|          | 0/54 [00:00<?, ?it/s]"
      ]
     },
     "metadata": {},
     "output_type": "display_data"
    },
    {
     "name": "stdout",
     "output_type": "stream",
     "text": [
      "\n",
      "Train loss: 2.6269  Test loss: 0.5719\n",
      "Train accuracy: 0.9709  Test accuracy: 0.8025\n"
     ]
    },
    {
     "data": {
      "application/vnd.jupyter.widget-view+json": {
       "model_id": "afba704e9eb8487d92f2c77168de891d",
       "version_major": 2,
       "version_minor": 0
      },
      "text/plain": [
       "training set:   0%|          | 0/195 [00:00<?, ?it/s]"
      ]
     },
     "metadata": {},
     "output_type": "display_data"
    },
    {
     "data": {
      "application/vnd.jupyter.widget-view+json": {
       "model_id": "e6293db5adcc4000b1c2efb281129a2f",
       "version_major": 2,
       "version_minor": 0
      },
      "text/plain": [
       "dev set:   0%|          | 0/54 [00:00<?, ?it/s]"
      ]
     },
     "metadata": {},
     "output_type": "display_data"
    },
    {
     "name": "stdout",
     "output_type": "stream",
     "text": [
      "\n",
      "Train loss: 0.5994  Test loss: 0.5757\n",
      "Train accuracy: 0.9863  Test accuracy: 0.7901\n"
     ]
    },
    {
     "data": {
      "application/vnd.jupyter.widget-view+json": {
       "model_id": "db951a3ebc5d4f38bb8fd1f260529453",
       "version_major": 2,
       "version_minor": 0
      },
      "text/plain": [
       "training set:   0%|          | 0/195 [00:00<?, ?it/s]"
      ]
     },
     "metadata": {},
     "output_type": "display_data"
    },
    {
     "data": {
      "application/vnd.jupyter.widget-view+json": {
       "model_id": "9897495e8a44424296a0f35a71005790",
       "version_major": 2,
       "version_minor": 0
      },
      "text/plain": [
       "dev set:   0%|          | 0/54 [00:00<?, ?it/s]"
      ]
     },
     "metadata": {},
     "output_type": "display_data"
    },
    {
     "name": "stdout",
     "output_type": "stream",
     "text": [
      "\n",
      "Train loss: 1.4241  Test loss: 0.6061\n",
      "Train accuracy: 0.9812  Test accuracy: 0.7778\n"
     ]
    },
    {
     "data": {
      "application/vnd.jupyter.widget-view+json": {
       "model_id": "8d015c2863ce4363b167d9e9b1b7e256",
       "version_major": 2,
       "version_minor": 0
      },
      "text/plain": [
       "training set:   0%|          | 0/195 [00:00<?, ?it/s]"
      ]
     },
     "metadata": {},
     "output_type": "display_data"
    },
    {
     "data": {
      "application/vnd.jupyter.widget-view+json": {
       "model_id": "ccbd5e2a80cd4cafae907fb3e58e2df2",
       "version_major": 2,
       "version_minor": 0
      },
      "text/plain": [
       "dev set:   0%|          | 0/54 [00:00<?, ?it/s]"
      ]
     },
     "metadata": {},
     "output_type": "display_data"
    },
    {
     "name": "stdout",
     "output_type": "stream",
     "text": [
      "\n",
      "Train loss: 1.6979  Test loss: 0.5946\n",
      "Train accuracy: 0.9863  Test accuracy: 0.7840\n"
     ]
    },
    {
     "data": {
      "application/vnd.jupyter.widget-view+json": {
       "model_id": "9ec65d84d68b452ca33b3f5d6b1c98c1",
       "version_major": 2,
       "version_minor": 0
      },
      "text/plain": [
       "training set:   0%|          | 0/195 [00:00<?, ?it/s]"
      ]
     },
     "metadata": {},
     "output_type": "display_data"
    },
    {
     "data": {
      "application/vnd.jupyter.widget-view+json": {
       "model_id": "51aa6ab6bc0c4a7db21d188472a63425",
       "version_major": 2,
       "version_minor": 0
      },
      "text/plain": [
       "dev set:   0%|          | 0/54 [00:00<?, ?it/s]"
      ]
     },
     "metadata": {},
     "output_type": "display_data"
    },
    {
     "name": "stdout",
     "output_type": "stream",
     "text": [
      "\n",
      "Train loss: 2.0432  Test loss: 0.6058\n",
      "Train accuracy: 0.9915  Test accuracy: 0.7716\n"
     ]
    },
    {
     "data": {
      "application/vnd.jupyter.widget-view+json": {
       "model_id": "4a063a9978344f1dae95d9bba3b7c3a0",
       "version_major": 2,
       "version_minor": 0
      },
      "text/plain": [
       "training set:   0%|          | 0/195 [00:00<?, ?it/s]"
      ]
     },
     "metadata": {},
     "output_type": "display_data"
    },
    {
     "data": {
      "application/vnd.jupyter.widget-view+json": {
       "model_id": "b4065924174240498ba888a2a932d17b",
       "version_major": 2,
       "version_minor": 0
      },
      "text/plain": [
       "dev set:   0%|          | 0/54 [00:00<?, ?it/s]"
      ]
     },
     "metadata": {},
     "output_type": "display_data"
    },
    {
     "name": "stdout",
     "output_type": "stream",
     "text": [
      "\n",
      "Train loss: 0.8768  Test loss: 0.6441\n",
      "Train accuracy: 0.9915  Test accuracy: 0.7778\n"
     ]
    },
    {
     "data": {
      "application/vnd.jupyter.widget-view+json": {
       "model_id": "a34828da239f41c794058146d129948e",
       "version_major": 2,
       "version_minor": 0
      },
      "text/plain": [
       "training set:   0%|          | 0/195 [00:00<?, ?it/s]"
      ]
     },
     "metadata": {},
     "output_type": "display_data"
    },
    {
     "data": {
      "application/vnd.jupyter.widget-view+json": {
       "model_id": "4c94d775c81542caaccacbbe6499b3fb",
       "version_major": 2,
       "version_minor": 0
      },
      "text/plain": [
       "dev set:   0%|          | 0/54 [00:00<?, ?it/s]"
      ]
     },
     "metadata": {},
     "output_type": "display_data"
    },
    {
     "name": "stdout",
     "output_type": "stream",
     "text": [
      "\n",
      "Train loss: 0.4588  Test loss: 0.5908\n",
      "Train accuracy: 0.9949  Test accuracy: 0.8025\n"
     ]
    },
    {
     "data": {
      "application/vnd.jupyter.widget-view+json": {
       "model_id": "68e3c6a303224708b28225906a901537",
       "version_major": 2,
       "version_minor": 0
      },
      "text/plain": [
       "training set:   0%|          | 0/195 [00:00<?, ?it/s]"
      ]
     },
     "metadata": {},
     "output_type": "display_data"
    },
    {
     "data": {
      "application/vnd.jupyter.widget-view+json": {
       "model_id": "46b487719b7943d79921956ee71560f6",
       "version_major": 2,
       "version_minor": 0
      },
      "text/plain": [
       "dev set:   0%|          | 0/54 [00:00<?, ?it/s]"
      ]
     },
     "metadata": {},
     "output_type": "display_data"
    },
    {
     "name": "stdout",
     "output_type": "stream",
     "text": [
      "\n",
      "Train loss: 0.3174  Test loss: 0.6128\n",
      "Train accuracy: 0.9932  Test accuracy: 0.7901\n"
     ]
    },
    {
     "data": {
      "application/vnd.jupyter.widget-view+json": {
       "model_id": "a5905bb11b9a45059b16220e36ea2f38",
       "version_major": 2,
       "version_minor": 0
      },
      "text/plain": [
       "training set:   0%|          | 0/195 [00:00<?, ?it/s]"
      ]
     },
     "metadata": {},
     "output_type": "display_data"
    },
    {
     "data": {
      "application/vnd.jupyter.widget-view+json": {
       "model_id": "e7f16a290fa84d13b7dbb8764ab8f631",
       "version_major": 2,
       "version_minor": 0
      },
      "text/plain": [
       "dev set:   0%|          | 0/54 [00:00<?, ?it/s]"
      ]
     },
     "metadata": {},
     "output_type": "display_data"
    },
    {
     "name": "stdout",
     "output_type": "stream",
     "text": [
      "\n",
      "Train loss: 0.2596  Test loss: 0.6209\n",
      "Train accuracy: 0.9966  Test accuracy: 0.7901\n"
     ]
    },
    {
     "data": {
      "application/vnd.jupyter.widget-view+json": {
       "model_id": "b76987fd4c0a403ba06c4ca40dbd4f8a",
       "version_major": 2,
       "version_minor": 0
      },
      "text/plain": [
       "training set:   0%|          | 0/195 [00:00<?, ?it/s]"
      ]
     },
     "metadata": {},
     "output_type": "display_data"
    },
    {
     "data": {
      "application/vnd.jupyter.widget-view+json": {
       "model_id": "65b365491b7b4556aa2cf9bc876a8959",
       "version_major": 2,
       "version_minor": 0
      },
      "text/plain": [
       "dev set:   0%|          | 0/54 [00:00<?, ?it/s]"
      ]
     },
     "metadata": {},
     "output_type": "display_data"
    },
    {
     "name": "stdout",
     "output_type": "stream",
     "text": [
      "\n",
      "Train loss: 1.2517  Test loss: 0.7122\n",
      "Train accuracy: 0.9880  Test accuracy: 0.7654\n"
     ]
    },
    {
     "data": {
      "application/vnd.jupyter.widget-view+json": {
       "model_id": "c690e1ca953f4c6eaad6d030d0c6c0f7",
       "version_major": 2,
       "version_minor": 0
      },
      "text/plain": [
       "training set:   0%|          | 0/195 [00:00<?, ?it/s]"
      ]
     },
     "metadata": {},
     "output_type": "display_data"
    },
    {
     "data": {
      "application/vnd.jupyter.widget-view+json": {
       "model_id": "1ff2872225dd4b4abe511439eba9cc2f",
       "version_major": 2,
       "version_minor": 0
      },
      "text/plain": [
       "dev set:   0%|          | 0/54 [00:00<?, ?it/s]"
      ]
     },
     "metadata": {},
     "output_type": "display_data"
    },
    {
     "name": "stdout",
     "output_type": "stream",
     "text": [
      "\n",
      "Train loss: 0.7123  Test loss: 0.6173\n",
      "Train accuracy: 0.9949  Test accuracy: 0.7963\n"
     ]
    },
    {
     "data": {
      "application/vnd.jupyter.widget-view+json": {
       "model_id": "1f033b2f6e6c49d487056ecbf8c386f8",
       "version_major": 2,
       "version_minor": 0
      },
      "text/plain": [
       "training set:   0%|          | 0/195 [00:00<?, ?it/s]"
      ]
     },
     "metadata": {},
     "output_type": "display_data"
    },
    {
     "data": {
      "application/vnd.jupyter.widget-view+json": {
       "model_id": "e1d0e6cc7f524e23b981ed52f49d4e93",
       "version_major": 2,
       "version_minor": 0
      },
      "text/plain": [
       "dev set:   0%|          | 0/54 [00:00<?, ?it/s]"
      ]
     },
     "metadata": {},
     "output_type": "display_data"
    },
    {
     "name": "stdout",
     "output_type": "stream",
     "text": [
      "\n",
      "Train loss: 1.6960  Test loss: 0.6631\n",
      "Train accuracy: 0.9812  Test accuracy: 0.7840\n"
     ]
    },
    {
     "data": {
      "application/vnd.jupyter.widget-view+json": {
       "model_id": "90b0aa51ba5049e88054893b5f8ab77d",
       "version_major": 2,
       "version_minor": 0
      },
      "text/plain": [
       "training set:   0%|          | 0/195 [00:00<?, ?it/s]"
      ]
     },
     "metadata": {},
     "output_type": "display_data"
    },
    {
     "data": {
      "application/vnd.jupyter.widget-view+json": {
       "model_id": "f54ed4ddadbc4eeba3a913d66722e3ef",
       "version_major": 2,
       "version_minor": 0
      },
      "text/plain": [
       "dev set:   0%|          | 0/54 [00:00<?, ?it/s]"
      ]
     },
     "metadata": {},
     "output_type": "display_data"
    },
    {
     "name": "stdout",
     "output_type": "stream",
     "text": [
      "\n",
      "Train loss: 0.5202  Test loss: 0.6423\n",
      "Train accuracy: 0.9949  Test accuracy: 0.8025\n"
     ]
    },
    {
     "data": {
      "application/vnd.jupyter.widget-view+json": {
       "model_id": "5310692d5e574a4894ea239563db7c1e",
       "version_major": 2,
       "version_minor": 0
      },
      "text/plain": [
       "training set:   0%|          | 0/195 [00:00<?, ?it/s]"
      ]
     },
     "metadata": {},
     "output_type": "display_data"
    },
    {
     "data": {
      "application/vnd.jupyter.widget-view+json": {
       "model_id": "dfcc765b22ef425b82584e91c0443b9b",
       "version_major": 2,
       "version_minor": 0
      },
      "text/plain": [
       "dev set:   0%|          | 0/54 [00:00<?, ?it/s]"
      ]
     },
     "metadata": {},
     "output_type": "display_data"
    },
    {
     "name": "stdout",
     "output_type": "stream",
     "text": [
      "\n",
      "Train loss: 1.2426  Test loss: 0.6689\n",
      "Train accuracy: 0.9932  Test accuracy: 0.7778\n"
     ]
    },
    {
     "data": {
      "application/vnd.jupyter.widget-view+json": {
       "model_id": "a645f86f83674515a0e686edc8a6b339",
       "version_major": 2,
       "version_minor": 0
      },
      "text/plain": [
       "training set:   0%|          | 0/195 [00:00<?, ?it/s]"
      ]
     },
     "metadata": {},
     "output_type": "display_data"
    },
    {
     "data": {
      "application/vnd.jupyter.widget-view+json": {
       "model_id": "7dcbdc8c3d124e889864b346233b17b4",
       "version_major": 2,
       "version_minor": 0
      },
      "text/plain": [
       "dev set:   0%|          | 0/54 [00:00<?, ?it/s]"
      ]
     },
     "metadata": {},
     "output_type": "display_data"
    },
    {
     "name": "stdout",
     "output_type": "stream",
     "text": [
      "\n",
      "Train loss: 0.5219  Test loss: 0.6566\n",
      "Train accuracy: 0.9932  Test accuracy: 0.8025\n"
     ]
    },
    {
     "data": {
      "application/vnd.jupyter.widget-view+json": {
       "model_id": "ca50a0c9a28943ccbdff9db6e5d531bf",
       "version_major": 2,
       "version_minor": 0
      },
      "text/plain": [
       "training set:   0%|          | 0/195 [00:00<?, ?it/s]"
      ]
     },
     "metadata": {},
     "output_type": "display_data"
    },
    {
     "data": {
      "application/vnd.jupyter.widget-view+json": {
       "model_id": "2e7e3da4c1614649b71b6b0c701b7f2b",
       "version_major": 2,
       "version_minor": 0
      },
      "text/plain": [
       "dev set:   0%|          | 0/54 [00:00<?, ?it/s]"
      ]
     },
     "metadata": {},
     "output_type": "display_data"
    },
    {
     "name": "stdout",
     "output_type": "stream",
     "text": [
      "\n",
      "Train loss: 0.3120  Test loss: 0.7161\n",
      "Train accuracy: 0.9915  Test accuracy: 0.7778\n"
     ]
    },
    {
     "data": {
      "application/vnd.jupyter.widget-view+json": {
       "model_id": "700f1a6fe29748979b5632ee48b7aeef",
       "version_major": 2,
       "version_minor": 0
      },
      "text/plain": [
       "training set:   0%|          | 0/195 [00:00<?, ?it/s]"
      ]
     },
     "metadata": {},
     "output_type": "display_data"
    },
    {
     "data": {
      "application/vnd.jupyter.widget-view+json": {
       "model_id": "a5a073c557b84d28886e6ea3e5fb3ab7",
       "version_major": 2,
       "version_minor": 0
      },
      "text/plain": [
       "dev set:   0%|          | 0/54 [00:00<?, ?it/s]"
      ]
     },
     "metadata": {},
     "output_type": "display_data"
    },
    {
     "name": "stdout",
     "output_type": "stream",
     "text": [
      "\n",
      "Train loss: 0.8817  Test loss: 0.6820\n",
      "Train accuracy: 0.9966  Test accuracy: 0.7901\n"
     ]
    },
    {
     "data": {
      "application/vnd.jupyter.widget-view+json": {
       "model_id": "c8a5d37a28a447afbb0078a3ab67981c",
       "version_major": 2,
       "version_minor": 0
      },
      "text/plain": [
       "training set:   0%|          | 0/195 [00:00<?, ?it/s]"
      ]
     },
     "metadata": {},
     "output_type": "display_data"
    },
    {
     "data": {
      "application/vnd.jupyter.widget-view+json": {
       "model_id": "5094a82a379848e2b622a7b9cb49f1f9",
       "version_major": 2,
       "version_minor": 0
      },
      "text/plain": [
       "dev set:   0%|          | 0/54 [00:00<?, ?it/s]"
      ]
     },
     "metadata": {},
     "output_type": "display_data"
    },
    {
     "name": "stdout",
     "output_type": "stream",
     "text": [
      "\n",
      "Train loss: 0.4751  Test loss: 0.6931\n",
      "Train accuracy: 0.9983  Test accuracy: 0.7778\n"
     ]
    },
    {
     "data": {
      "application/vnd.jupyter.widget-view+json": {
       "model_id": "d92982e3060c4cd7a074f8524113f711",
       "version_major": 2,
       "version_minor": 0
      },
      "text/plain": [
       "training set:   0%|          | 0/195 [00:00<?, ?it/s]"
      ]
     },
     "metadata": {},
     "output_type": "display_data"
    },
    {
     "data": {
      "application/vnd.jupyter.widget-view+json": {
       "model_id": "866373e9293847cc92ce67979467077b",
       "version_major": 2,
       "version_minor": 0
      },
      "text/plain": [
       "dev set:   0%|          | 0/54 [00:00<?, ?it/s]"
      ]
     },
     "metadata": {},
     "output_type": "display_data"
    },
    {
     "name": "stdout",
     "output_type": "stream",
     "text": [
      "\n",
      "Train loss: 0.7758  Test loss: 0.6824\n",
      "Train accuracy: 0.9949  Test accuracy: 0.7901\n"
     ]
    },
    {
     "data": {
      "application/vnd.jupyter.widget-view+json": {
       "model_id": "497fcba6e676414fb177bd1a01096bb9",
       "version_major": 2,
       "version_minor": 0
      },
      "text/plain": [
       "training set:   0%|          | 0/195 [00:00<?, ?it/s]"
      ]
     },
     "metadata": {},
     "output_type": "display_data"
    },
    {
     "data": {
      "application/vnd.jupyter.widget-view+json": {
       "model_id": "02606188a76b46e4a69f38da3b4b678e",
       "version_major": 2,
       "version_minor": 0
      },
      "text/plain": [
       "dev set:   0%|          | 0/54 [00:00<?, ?it/s]"
      ]
     },
     "metadata": {},
     "output_type": "display_data"
    },
    {
     "name": "stdout",
     "output_type": "stream",
     "text": [
      "\n",
      "Train loss: 0.1331  Test loss: 0.6928\n",
      "Train accuracy: 0.9983  Test accuracy: 0.7901\n"
     ]
    },
    {
     "data": {
      "application/vnd.jupyter.widget-view+json": {
       "model_id": "3205f02c8090484e92a9288eefd3b63d",
       "version_major": 2,
       "version_minor": 0
      },
      "text/plain": [
       "training set:   0%|          | 0/195 [00:00<?, ?it/s]"
      ]
     },
     "metadata": {},
     "output_type": "display_data"
    },
    {
     "data": {
      "application/vnd.jupyter.widget-view+json": {
       "model_id": "ae48dc3a374f44b49524cfcce05cb7cf",
       "version_major": 2,
       "version_minor": 0
      },
      "text/plain": [
       "dev set:   0%|          | 0/54 [00:00<?, ?it/s]"
      ]
     },
     "metadata": {},
     "output_type": "display_data"
    },
    {
     "name": "stdout",
     "output_type": "stream",
     "text": [
      "\n",
      "Train loss: 0.4580  Test loss: 0.6999\n",
      "Train accuracy: 0.9966  Test accuracy: 0.7901\n"
     ]
    },
    {
     "data": {
      "application/vnd.jupyter.widget-view+json": {
       "model_id": "3c9660cc56f14e80b9172634b423480f",
       "version_major": 2,
       "version_minor": 0
      },
      "text/plain": [
       "training set:   0%|          | 0/195 [00:00<?, ?it/s]"
      ]
     },
     "metadata": {},
     "output_type": "display_data"
    },
    {
     "data": {
      "application/vnd.jupyter.widget-view+json": {
       "model_id": "d40c1f2c19c446e0bedbd6300c02b872",
       "version_major": 2,
       "version_minor": 0
      },
      "text/plain": [
       "dev set:   0%|          | 0/54 [00:00<?, ?it/s]"
      ]
     },
     "metadata": {},
     "output_type": "display_data"
    },
    {
     "name": "stdout",
     "output_type": "stream",
     "text": [
      "\n",
      "Train loss: 0.0764  Test loss: 0.7009\n",
      "Train accuracy: 0.9983  Test accuracy: 0.7963\n"
     ]
    },
    {
     "data": {
      "application/vnd.jupyter.widget-view+json": {
       "model_id": "10b4940138de46b090fb486c2212ccdf",
       "version_major": 2,
       "version_minor": 0
      },
      "text/plain": [
       "training set:   0%|          | 0/195 [00:00<?, ?it/s]"
      ]
     },
     "metadata": {},
     "output_type": "display_data"
    },
    {
     "data": {
      "application/vnd.jupyter.widget-view+json": {
       "model_id": "0b31807985184bb1aec76c5a10e5d7af",
       "version_major": 2,
       "version_minor": 0
      },
      "text/plain": [
       "dev set:   0%|          | 0/54 [00:00<?, ?it/s]"
      ]
     },
     "metadata": {},
     "output_type": "display_data"
    },
    {
     "name": "stdout",
     "output_type": "stream",
     "text": [
      "\n",
      "Train loss: 1.0506  Test loss: 0.7221\n",
      "Train accuracy: 0.9966  Test accuracy: 0.7963\n"
     ]
    }
   ],
   "source": [
    "dataset = pd.read_csv(f'{root}subtaskB_train.csv',  header=0,  names=['text', 'explicit_label', 'label'])\n",
    "dataset = dataset.drop(columns=['explicit_label'])\n",
    "dataset['text'] = dataset['text'].apply(lambda x: x.replace('\\r', ' ').replace('\\n', ' '))\n",
    "dataset = add_hashtag(dataset)\n",
    "dataset = shuffle(dataset, random_state=42)\n",
    "\n",
    "(x_train_original_dataset, x_test_original_dataset, hashtag_train_original_dataset, hashtag_test_original_dataset,y_train_original_dataset, y_test_original_dataset) = train_test_split(dataset['text'], dataset['hashtag'] ,dataset['label'], test_size=0.2, random_state=42)\n",
    "\n",
    "(x_train_original_dataset, x_val_original_dataset, hashtag_train_original_dataset, hashtag_val_original_dataset, y_train_original_dataset, y_val_original_dataset) = train_test_split( x_train_original_dataset,hashtag_train_original_dataset, y_train_original_dataset, test_size=0.1, random_state=42)\n",
    "\n",
    "train_dataset_original_dataset = Dataset(x_train_original_dataset,hashtag_train_original_dataset, y_train_original_dataset, hyperparameters[\"stopwords\"])\n",
    "#val_dataset_original_dataset = Dataset(x_val_original_dataset,char_count_val_original_dataset,emoji_val_original_dataset,hashtag_val_original_dataset, y_val_original_dataset, hyperparameters[\"stopwords\"])\n",
    "test_dataset_original_dataset = Dataset(x_test_original_dataset,hashtag_test_original_dataset, y_test_original_dataset, hyperparameters[\"stopwords\"])\n",
    "\n",
    "\n",
    "model = ClassifierDeep(hyperparameters[\"#_classes\"],\n",
    "                    hyperparameters[\"h_dim\"],\n",
    "                    hyperparameters[\"dropout\"],\n",
    "                    hyperparameters[\"language_model\"]).to(device)\n",
    "\n",
    "#La funzione di loss va modificata in base al parametro #_classes\n",
    "criterion = nn.CrossEntropyLoss()\n",
    "optimizer = Adam(model.parameters(), lr=hyperparameters[\"learning_rate\"])\n",
    "\n",
    "# Creiamo la callback di early stopping da passare al nostro metodo di addestramento\n",
    "early_stopping = EarlyStopping(patience=hyperparameters['patience'],\n",
    "                               min_delta=hyperparameters['min_delta'])\n",
    "\n",
    "\n",
    "train_loss_original_dataset, validation_loss_original_dataset,test_loss_original_dataset, train_acc_original_dataset, validation_acc_original_dataset, test_acc_original_dataset, best_acc, best_weights = train_test(\n",
    "                                                model,\n",
    "                                                hyperparameters['epochs'],\n",
    "                                                optimizer,\n",
    "                                                device,\n",
    "                                                train_dataset_original_dataset,\n",
    "                                                test_dataset_original_dataset,\n",
    "                                                hyperparameters['batch_size'],\n",
    "                                                hyperparameters['language_model'],\n",
    "                                                criterion,\n",
    "                                                criterion,\n",
    "                                                None,\n",
    "                                                None)\n",
    "with open(\"best_weight_original.pkl\", 'wb') as f:\n",
    "  pickle.dump(best_weights, f)\n"
   ]
  },
  {
   "cell_type": "code",
   "execution_count": 43,
   "metadata": {},
   "outputs": [
    {
     "data": {
      "image/png": "[encoded data removed]",
      "text/plain": [
       "<Figure size 640x480 with 1 Axes>"
      ]
     },
     "metadata": {},
     "output_type": "display_data"
    }
   ],
   "source": [
    "plt.plot(train_loss_original_dataset, label='training loss')\n",
    "plt.plot(validation_loss_original_dataset, label='validation loss')\n",
    "plt.plot(test_loss_original_dataset, label='test loss')\n",
    "plt.legend(loc='lower right')\n",
    "plt.show()"
   ]
  },
  {
   "cell_type": "code",
   "execution_count": 62,
   "metadata": {},
   "outputs": [
    {
     "ename": "AttributeError",
     "evalue": "'float' object has no attribute 'cpu'",
     "output_type": "error",
     "traceback": [
      "\u001b[0;31m---------------------------------------------------------------------------\u001b[0m",
      "\u001b[0;31mAttributeError\u001b[0m                            Traceback (most recent call last)",
      "Cell \u001b[0;32mIn[62], line 1\u001b[0m\n\u001b[0;32m----> 1\u001b[0m train_acc_original_dataset \u001b[38;5;241m=\u001b[39m \u001b[43m[\u001b[49m\u001b[43m \u001b[49m\u001b[43mx\u001b[49m\u001b[38;5;241;43m.\u001b[39;49m\u001b[43mcpu\u001b[49m\u001b[43m(\u001b[49m\u001b[43m)\u001b[49m\u001b[38;5;241;43m.\u001b[39;49m\u001b[43mfloat\u001b[49m\u001b[43m(\u001b[49m\u001b[43m)\u001b[49m\u001b[43m \u001b[49m\u001b[38;5;28;43;01mfor\u001b[39;49;00m\u001b[43m \u001b[49m\u001b[43mx\u001b[49m\u001b[43m \u001b[49m\u001b[38;5;129;43;01min\u001b[39;49;00m\u001b[43m \u001b[49m\u001b[43mtrain_acc_original_dataset\u001b[49m\u001b[43m \u001b[49m\u001b[43m]\u001b[49m\n\u001b[1;32m      2\u001b[0m validation_acc_original_dataset \u001b[38;5;241m=\u001b[39m [ x\u001b[38;5;241m.\u001b[39mcpu()\u001b[38;5;241m.\u001b[39mfloat() \u001b[38;5;28;01mfor\u001b[39;00m x \u001b[38;5;129;01min\u001b[39;00m validation_acc_original_dataset ]\n\u001b[1;32m      3\u001b[0m test_acc_original_dataset \u001b[38;5;241m=\u001b[39m [ x\u001b[38;5;241m.\u001b[39mcpu()\u001b[38;5;241m.\u001b[39mfloat() \u001b[38;5;28;01mfor\u001b[39;00m x \u001b[38;5;129;01min\u001b[39;00m test_acc_original_dataset ]\n",
      "Cell \u001b[0;32mIn[62], line 1\u001b[0m, in \u001b[0;36m<listcomp>\u001b[0;34m(.0)\u001b[0m\n\u001b[0;32m----> 1\u001b[0m train_acc_original_dataset \u001b[38;5;241m=\u001b[39m [ \u001b[43mx\u001b[49m\u001b[38;5;241;43m.\u001b[39;49m\u001b[43mcpu\u001b[49m()\u001b[38;5;241m.\u001b[39mfloat() \u001b[38;5;28;01mfor\u001b[39;00m x \u001b[38;5;129;01min\u001b[39;00m train_acc_original_dataset ]\n\u001b[1;32m      2\u001b[0m validation_acc_original_dataset \u001b[38;5;241m=\u001b[39m [ x\u001b[38;5;241m.\u001b[39mcpu()\u001b[38;5;241m.\u001b[39mfloat() \u001b[38;5;28;01mfor\u001b[39;00m x \u001b[38;5;129;01min\u001b[39;00m validation_acc_original_dataset ]\n\u001b[1;32m      3\u001b[0m test_acc_original_dataset \u001b[38;5;241m=\u001b[39m [ x\u001b[38;5;241m.\u001b[39mcpu()\u001b[38;5;241m.\u001b[39mfloat() \u001b[38;5;28;01mfor\u001b[39;00m x \u001b[38;5;129;01min\u001b[39;00m test_acc_original_dataset ]\n",
      "\u001b[0;31mAttributeError\u001b[0m: 'float' object has no attribute 'cpu'"
     ]
    }
   ],
   "source": [
    "train_acc_original_dataset = [ np.array(x.cpu().float()) for x in train_acc_original_dataset ]\n",
    "validation_acc_original_dataset = [ np.array(x.cpu().float()) for x in validation_acc_original_dataset ]\n",
    "test_acc_original_dataset = [ np.array(x.cpu().float()) for x in test_acc_original_dataset ]\n",
    "\n",
    "plt.plot(train_acc_original_dataset, label='training accuracy')\n",
    "plt.plot(validation_acc_original_dataset, label='validation accuracy')\n",
    "plt.plot(test_acc_original_dataset, label='test accuracy')\n",
    "plt.legend(loc='lower right')\n",
    "plt.ylim(0,2)\n",
    "plt.show()"
   ]
  }
 ],
 "metadata": {
  "kernelspec": {
   "display_name": "Python 3 (ipykernel)",
   "language": "python",
   "name": "python3"
  },
  "language_info": {
   "codemirror_mode": {
    "name": "ipython",
    "version": 3
   },
   "file_extension": ".py",
   "mimetype": "text/x-python",
   "name": "python",
   "nbconvert_exporter": "python",
   "pygments_lexer": "ipython3",
   "version": "3.11.0rc1"
  }
 },
 "nbformat": 4,
 "nbformat_minor": 4
}
