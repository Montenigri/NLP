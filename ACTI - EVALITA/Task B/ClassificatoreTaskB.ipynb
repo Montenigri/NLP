{
 "cells": [
  {
   "cell_type": "markdown",
   "metadata": {},
   "source": [
    "Task\n",
    "\n",
    "Subtask B: Conspiracy Category Classification : a system must discriminate which conspiracy theory a post supports. We consider four possible conspiracies:\n",
    "\n",
    "In this competition, specific competition participants will tackle the SECOND of these two subtasks.\n",
    "\n",
    "Covid Conspiracy: It is related to narratives concerning vaccine production, 5G, restrictions, and all kind of news intended to support the idea that the pandemic and actions taken by the government were useless instruments of control of the population.\n",
    "\n",
    "Qanon Conspiracy: Qanon supported the idea that a group of Satanic Cannibalist sex abusers conspired against former U.S. President Donald Trump during his term of office. This theory extended far over the original scope embodying other beliefs that support (among the others) hate against women and the idea that a powerful elite (led by public figures like Pope Francis, Queen Elizabeth, and Hillary Clinton ) is trying to organize a New World Order.\n",
    "\n",
    "Flat Earth: It is a theory that claims that Earth is flat. This theory deals also with discussions about UFO.\n",
    "\n",
    "Pro-Russia Conspiracy: This theory supports the idea that in the Ukraine-Russia war, Ukraine and NATO supported by nazists soldiers hold the responsability of the war."
   ]
  },
  {
   "cell_type": "code",
   "execution_count": 1,
   "metadata": {},
   "outputs": [],
   "source": [
    "#%pip install emoji sklearn pandas numpy nltk transformers torch matplotlib seaborn"
   ]
  },
  {
   "cell_type": "markdown",
   "metadata": {},
   "source": [
    "Documentazioni:\n",
    "emoji: https://carpedm20.github.io/emoji/docs/"
   ]
  },
  {
   "cell_type": "markdown",
   "metadata": {},
   "source": [
    "Il dataset presenta una lista di messaggi/post raccolti su vari social, una delle caratteristiche di queste forme di comunicazioni sono le emoticon (o emoji) e la forma del messaggio in se.\n",
    "Questo significa che un testo che vuole catturare l'attenzione avrà un \"titolo\" d'impatto e spesso in maiuscolo, in quanto l'attenzione dedicata a questo tipo di contenuti è poca e di carattere transitorio.\n",
    "\n",
    "Inoltre il dataset presenta una quantità di dati inadatta all'addestramento di un qualsiasi classficatore superabile tramite tecniche di data augmentation, questa caratteristica è intriseca nel problema in quanto i trend [^1] durano molto poco nel tempo e per un sistema di riconoscimento dei contenuti fuorvianti è necessario essere in grado di adattarsi in breve a queste variazioni.\n",
    "\n",
    "Il dataset ha dimensione eterogenea, il che potrebbe portare a esempi per il transformer dove sono presenti lunghe stringhe di filler.\n",
    "\n",
    "\n",
    "\n",
    "\n",
    "\n",
    "\n",
    "Di seguito verranno proposte alcune tecniche di preprocessing e di data augmentation\n",
    "\n",
    "\n",
    "[^1]: Per trend si indica un argomento che cattura l'attenzione del pubblico e che ha orizzonte temporale molto breve, di solito nell'ordine dei giorni."
   ]
  },
  {
   "cell_type": "markdown",
   "metadata": {},
   "source": [
    "Per un analisi più approfondita si rimanda al notebook del task A\n"
   ]
  },
  {
   "cell_type": "markdown",
   "metadata": {},
   "source": [
    "In questo Task, a differenza dell'altro si è deciso di ignorare le emoticon e la lunghezza dei messaggi in quanto quelle erano differenze che caratterizzavano per lo più l'appartenenza o meno alla teoria, si sono mantenuti gli hashtag in quanto possono essere distintivi per le singole teorie.\n",
    "\n"
   ]
  },
  {
   "cell_type": "code",
   "execution_count": 2,
   "metadata": {},
   "outputs": [],
   "source": [
    "#from google.colab import drive\n",
    "\n",
    "#drive.mount('/content/gdrive')\n",
    "#root = '/content/gdrive/MyDrive/Colab Notebooks/dataset/'\n",
    "\n",
    "root = './Dataset/'"
   ]
  },
  {
   "cell_type": "code",
   "execution_count": 3,
   "metadata": {},
   "outputs": [],
   "source": [
    "import numpy as np\n",
    "import pandas as pd\n",
    "import os\n",
    "from tqdm.notebook import tqdm\n",
    "import time\n",
    "from torch.optim import Adam\n",
    "from torch import nn\n",
    "import torch\n",
    "from sklearn.model_selection import train_test_split\n",
    "from transformers import AutoConfig, AutoModel, AutoTokenizer, AutoModelForSequenceClassification\n",
    "from sklearn.utils import shuffle\n",
    "import nltk\n",
    "import matplotlib.pyplot as plt\n",
    "import emoji\n",
    "import copy\n",
    "import pickle"
   ]
  },
  {
   "cell_type": "code",
   "execution_count": 4,
   "metadata": {},
   "outputs": [
    {
     "data": {
      "text/html": [
       "<div>\n",
       "<style scoped>\n",
       "    .dataframe tbody tr th:only-of-type {\n",
       "        vertical-align: middle;\n",
       "    }\n",
       "\n",
       "    .dataframe tbody tr th {\n",
       "        vertical-align: top;\n",
       "    }\n",
       "\n",
       "    .dataframe thead th {\n",
       "        text-align: right;\n",
       "    }\n",
       "</style>\n",
       "<table border=\"1\" class=\"dataframe\">\n",
       "  <thead>\n",
       "    <tr style=\"text-align: right;\">\n",
       "      <th></th>\n",
       "      <th>text</th>\n",
       "      <th>explicit_label</th>\n",
       "      <th>label</th>\n",
       "    </tr>\n",
       "  </thead>\n",
       "  <tbody>\n",
       "    <tr>\n",
       "      <th>0</th>\n",
       "      <td>Siamo davanti ad una prova, e non solo di quoz...</td>\n",
       "      <td>Qanon</td>\n",
       "      <td>1</td>\n",
       "    </tr>\n",
       "    <tr>\n",
       "      <th>1</th>\n",
       "      <td>La storia dei 2 bimbi di Bergamo - vaccini: qu...</td>\n",
       "      <td>Covid</td>\n",
       "      <td>0</td>\n",
       "    </tr>\n",
       "    <tr>\n",
       "      <th>2</th>\n",
       "      <td>L'avete capito che non toglieranno il green pa...</td>\n",
       "      <td>Covid</td>\n",
       "      <td>0</td>\n",
       "    </tr>\n",
       "    <tr>\n",
       "      <th>3</th>\n",
       "      <td>Quindi  la farsa dello spazio e della terra a ...</td>\n",
       "      <td>Terra Piatta</td>\n",
       "      <td>3</td>\n",
       "    </tr>\n",
       "    <tr>\n",
       "      <th>4</th>\n",
       "      <td>In breve tempo, per accedere a Internet, sarà ...</td>\n",
       "      <td>Qanon</td>\n",
       "      <td>1</td>\n",
       "    </tr>\n",
       "    <tr>\n",
       "      <th>...</th>\n",
       "      <td>...</td>\n",
       "      <td>...</td>\n",
       "      <td>...</td>\n",
       "    </tr>\n",
       "    <tr>\n",
       "      <th>805</th>\n",
       "      <td>Incredibile!!!! EMA, Agenzia Europea del Farma...</td>\n",
       "      <td>Covid</td>\n",
       "      <td>0</td>\n",
       "    </tr>\n",
       "    <tr>\n",
       "      <th>806</th>\n",
       "      <td>Non ci saranno colloqui di pace con la Russia ...</td>\n",
       "      <td>Russia</td>\n",
       "      <td>2</td>\n",
       "    </tr>\n",
       "    <tr>\n",
       "      <th>807</th>\n",
       "      <td>L'atmosfera è uno \"scudo protettivo\" che avvol...</td>\n",
       "      <td>Terra Piatta</td>\n",
       "      <td>3</td>\n",
       "    </tr>\n",
       "    <tr>\n",
       "      <th>808</th>\n",
       "      <td>OTTIMA NOTIZIA! Due ragioni per cui le élite n...</td>\n",
       "      <td>Covid</td>\n",
       "      <td>0</td>\n",
       "    </tr>\n",
       "    <tr>\n",
       "      <th>809</th>\n",
       "      <td>Ma è perfet allineata o meglio piatta</td>\n",
       "      <td>Terra Piatta</td>\n",
       "      <td>3</td>\n",
       "    </tr>\n",
       "  </tbody>\n",
       "</table>\n",
       "<p>810 rows × 3 columns</p>\n",
       "</div>"
      ],
      "text/plain": [
       "                                                  text explicit_label  label\n",
       "0    Siamo davanti ad una prova, e non solo di quoz...          Qanon      1\n",
       "1    La storia dei 2 bimbi di Bergamo - vaccini: qu...          Covid      0\n",
       "2    L'avete capito che non toglieranno il green pa...          Covid      0\n",
       "3    Quindi  la farsa dello spazio e della terra a ...   Terra Piatta      3\n",
       "4    In breve tempo, per accedere a Internet, sarà ...          Qanon      1\n",
       "..                                                 ...            ...    ...\n",
       "805  Incredibile!!!! EMA, Agenzia Europea del Farma...          Covid      0\n",
       "806  Non ci saranno colloqui di pace con la Russia ...         Russia      2\n",
       "807  L'atmosfera è uno \"scudo protettivo\" che avvol...   Terra Piatta      3\n",
       "808  OTTIMA NOTIZIA! Due ragioni per cui le élite n...          Covid      0\n",
       "809              Ma è perfet allineata o meglio piatta   Terra Piatta      3\n",
       "\n",
       "[810 rows x 3 columns]"
      ]
     },
     "execution_count": 4,
     "metadata": {},
     "output_type": "execute_result"
    }
   ],
   "source": [
    "#carica il dataset csv dal file presente in Dataset/subtaskA_train.cvs\n",
    "dataset = pd.read_csv('Dataset/subtaskB_train.csv',  header=0, names=['text', 'explicit_label', 'label'])\n",
    "\n",
    "dataset"
   ]
  },
  {
   "cell_type": "code",
   "execution_count": 5,
   "metadata": {},
   "outputs": [],
   "source": [
    "pd.set_option('display.max_colwidth', None)\n",
    "color1 = (0.2, # redness\n",
    "         0.4, # greenness\n",
    "         0.2, # blueness\n",
    "         0.6 # transparency\n",
    "         )\n",
    "color2 = (0.4, 0.2, 0.2, 0.6)\n",
    "color3 = (0.6, 0.3, 0.1, 0.7)\n",
    "color4 = (0.1, 0.5, 0.4, 0.5)\n",
    "color5 = (0.8, 0.2, 0.3, 0.8)\n",
    "colors = [color1, color2, color3, color4, color5]\n"
   ]
  },
  {
   "cell_type": "markdown",
   "metadata": {},
   "source": [
    "La distribuzione dei dati è abbastanza eterogenea in favore della teoria del complotto covid, probabilmente data la vicinanza temporale con gli eventi. Si sarebbe potuto tentare di omogenizzare tramite aumento dei dati ma si sarebbe rischiato di avere troppi dati inventati contro molti reali, per cui ho deciso di applicare lo stesso trattamento a tutti i dati."
   ]
  },
  {
   "cell_type": "code",
   "execution_count": 6,
   "metadata": {},
   "outputs": [
    {
     "data": {
      "image/png": "[encoded data removed]",
      "text/plain": [
       "<Figure size 640x480 with 1 Axes>"
      ]
     },
     "metadata": {},
     "output_type": "display_data"
    }
   ],
   "source": [
    "dataset['explicit_label'].value_counts().plot(kind='bar', color=[color2,color1])\n",
    "plt.title('Distribuzione delle classi')\n",
    "plt.show()"
   ]
  },
  {
   "cell_type": "code",
   "execution_count": 7,
   "metadata": {},
   "outputs": [
    {
     "name": "stdout",
     "output_type": "stream",
     "text": [
      "dati mancanti\n",
      "text              0\n",
      "explicit_label    0\n",
      "label             0\n",
      "dtype: int64\n"
     ]
    }
   ],
   "source": [
    "print(\"dati mancanti\")\n",
    "print(dataset.isna().sum())"
   ]
  },
  {
   "cell_type": "code",
   "execution_count": 8,
   "metadata": {},
   "outputs": [],
   "source": [
    "explicit_label_from_index = [\"Covid\",\"Qanon\",\"Terra Piatta\", \"Russia\"]"
   ]
  },
  {
   "cell_type": "code",
   "execution_count": 9,
   "metadata": {},
   "outputs": [],
   "source": [
    "def process_data_augmentation(dataset):\n",
    "    typeA=['[Sinonimi]:','[Riassunto]:','[Tono diverso]:','[Parole chiave sostituite]:','[Domanda diretta]:']\n",
    "    typeB=['Riscrivi il testo originale utilizzando sinonimi per esprimere lo stesso significato in italiano:','Fornisci un riassunto del testo originale in italiano:','Riscrivi il testo originale con un tono diverso, mantenendo però il medesimo significato in italiano:', 'Sostituisci alcune parole chiave nel testo originale in italiano:','Trasforma il testo originale in una domanda diretta in italiano:']\n",
    "    processed_dataset = dataset.copy()\n",
    "    processed_dataset = processed_dataset.drop(columns=['augmented_text'])\n",
    "    augmented_dataset = pd.DataFrame(columns=['text', 'label'])\n",
    "    #dataset['augmented_text'] = dataset['augmented_text'].apply(lambda x: x.replace('\\r', ' ').replace('\\n', ' '))\n",
    "\n",
    "    for i in tqdm(range(len(dataset))):\n",
    "        #Copio la singola riga del dataset in una variabile per usarla come stringa\n",
    "\n",
    "        augmented = dataset.loc[i,'augmented_text']\n",
    "        #Divido la stringa per riga\n",
    "        augmented = augmented.split('\\n')\n",
    "        #Per ogni riga controllo se è presente una delle stringhe di tipo A o B\n",
    "        #Esistono due tipi poiché i due modelli restituivano due strutture leggermente diverse\n",
    "        for statement in augmented:\n",
    "            #Verifico la riga appartenga al risultato e taglio la parte introduttiva\n",
    "            for start in typeA:\n",
    "                if start in statement:\n",
    "                    augmented_dataset.loc[0,'text'] = statement.replace(start, '')\n",
    "                    augmented_dataset.loc[0,'label'] = dataset.loc[i,'label']\n",
    "                    #Aggiungo la riga al dataset\n",
    "                    processed_dataset = pd.concat([processed_dataset,augmented_dataset],ignore_index=True)\n",
    "            for start in typeB:\n",
    "                if start in statement:\n",
    "                    augmented_dataset.loc[0,'text'] = statement.replace(start, '')\n",
    "                    augmented_dataset.loc[0,'label'] = dataset.loc[i,'label']\n",
    "                    processed_dataset = pd.concat([processed_dataset,augmented_dataset],ignore_index=True)\n",
    "\n",
    "    processed_dataset['text'] = processed_dataset['text'].apply(lambda x: x.replace('\\r', ' ').replace('\\n', ' '))\n",
    "\n",
    "    return processed_dataset"
   ]
  },
  {
   "cell_type": "code",
   "execution_count": 10,
   "metadata": {},
   "outputs": [
    {
     "data": {
      "application/vnd.jupyter.widget-view+json": {
       "model_id": "ad552e0ed6414d55bf5270ebadd66639",
       "version_major": 2,
       "version_minor": 0
      },
      "text/plain": [
       "  0%|          | 0/810 [00:00<?, ?it/s]"
      ]
     },
     "metadata": {},
     "output_type": "display_data"
    }
   ],
   "source": [
    "augmented_dataset = pd.read_csv(f'{root}augmented_dataset2.csv',  header=0, names=['text', 'explicit_label', 'label','augmented_text'])\n",
    "augmented_dataset = augmented_dataset.drop(columns=['explicit_label'])\n",
    "augmented_dataset = process_data_augmentation(augmented_dataset)"
   ]
  },
  {
   "cell_type": "code",
   "execution_count": 11,
   "metadata": {},
   "outputs": [
    {
     "data": {
      "image/png": "[encoded data removed]",
      "text/plain": [
       "<Figure size 640x480 with 1 Axes>"
      ]
     },
     "metadata": {},
     "output_type": "display_data"
    }
   ],
   "source": [
    "augmented_dataset['label'].value_counts().plot(kind='bar', color=[color1,color2])\n",
    "plt.title('Distribuzione delle classi')\n",
    "plt.show()"
   ]
  },
  {
   "cell_type": "code",
   "execution_count": 12,
   "metadata": {},
   "outputs": [
    {
     "name": "stdout",
     "output_type": "stream",
     "text": [
      "dati mancanti\n",
      "text     0\n",
      "label    0\n",
      "dtype: int64\n"
     ]
    }
   ],
   "source": [
    "print(\"dati mancanti\")\n",
    "print(augmented_dataset.isna().sum())"
   ]
  },
  {
   "cell_type": "code",
   "execution_count": 13,
   "metadata": {},
   "outputs": [
    {
     "data": {
      "text/html": [
       "<div>\n",
       "<style scoped>\n",
       "    .dataframe tbody tr th:only-of-type {\n",
       "        vertical-align: middle;\n",
       "    }\n",
       "\n",
       "    .dataframe tbody tr th {\n",
       "        vertical-align: top;\n",
       "    }\n",
       "\n",
       "    .dataframe thead th {\n",
       "        text-align: right;\n",
       "    }\n",
       "</style>\n",
       "<table border=\"1\" class=\"dataframe\">\n",
       "  <thead>\n",
       "    <tr style=\"text-align: right;\">\n",
       "      <th></th>\n",
       "      <th>text</th>\n",
       "      <th>label</th>\n",
       "    </tr>\n",
       "  </thead>\n",
       "  <tbody>\n",
       "    <tr>\n",
       "      <th>1374</th>\n",
       "      <td>Il testo originale menziona un rapido resoconto dei piani del Deep State per disturbare l'equilibrio naturale della società e instaurarsi come normale.</td>\n",
       "      <td>1</td>\n",
       "    </tr>\n",
       "    <tr>\n",
       "      <th>2293</th>\n",
       "      <td>CV19, anemia da immunizzazione e RISOLUTIVO universale! Mi lo assumo per altre ragioni e dopo circa sei mesi dirò di aver riscontrato reazioni positive su problematiche e inconvenienti che mi avevo trainato dietro da tempo.</td>\n",
       "      <td>0</td>\n",
       "    </tr>\n",
       "    <tr>\n",
       "      <th>3379</th>\n",
       "      <td>Che azione chiede Luca Teodori, di M3V, riguardo la vaccinazione di massa e quale è la sua opinione sui motivi dietro a essa?</td>\n",
       "      <td>0</td>\n",
       "    </tr>\n",
       "    <tr>\n",
       "      <th>1090</th>\n",
       "      <td>Ho attendeva da decenni l'affermazione di questi fenomeni OVNI o OAV... E ho attendeva anche un video così... !!</td>\n",
       "      <td>3</td>\n",
       "    </tr>\n",
       "    <tr>\n",
       "      <th>1803</th>\n",
       "      <td>Quale evento è avvenuto il 15 aprile e come è stata descritta tale situazione?</td>\n",
       "      <td>0</td>\n",
       "    </tr>\n",
       "  </tbody>\n",
       "</table>\n",
       "</div>"
      ],
      "text/plain": [
       "                                                                                                                                                                                                                                   text  \\\n",
       "1374                                                                           Il testo originale menziona un rapido resoconto dei piani del Deep State per disturbare l'equilibrio naturale della società e instaurarsi come normale.    \n",
       "2293   CV19, anemia da immunizzazione e RISOLUTIVO universale! Mi lo assumo per altre ragioni e dopo circa sei mesi dirò di aver riscontrato reazioni positive su problematiche e inconvenienti che mi avevo trainato dietro da tempo.    \n",
       "3379                                                                                                      Che azione chiede Luca Teodori, di M3V, riguardo la vaccinazione di massa e quale è la sua opinione sui motivi dietro a essa?   \n",
       "1090                                                                                                                  Ho attendeva da decenni l'affermazione di questi fenomeni OVNI o OAV... E ho attendeva anche un video così... !!    \n",
       "1803                                                                                                                                                     Quale evento è avvenuto il 15 aprile e come è stata descritta tale situazione?   \n",
       "\n",
       "     label  \n",
       "1374     1  \n",
       "2293     0  \n",
       "3379     0  \n",
       "1090     3  \n",
       "1803     0  "
      ]
     },
     "execution_count": 13,
     "metadata": {},
     "output_type": "execute_result"
    }
   ],
   "source": [
    "augmented_dataset = shuffle(augmented_dataset, random_state=42)\n",
    "augmented_dataset.head()"
   ]
  },
  {
   "cell_type": "code",
   "execution_count": 14,
   "metadata": {},
   "outputs": [],
   "source": [
    "def add_hashtag(dataset):\n",
    "    augmented_dataset = dataset.copy()\n",
    "    augmented_dataset['hashtag'] = ' '\n",
    "    data = []\n",
    "\n",
    "    for i in tqdm(range(len(dataset)), desc= \"Looking for hashtag\"):\n",
    "        text = dataset.loc[i,'text']\n",
    "        dato = [k for k in text.split() if k.startswith(\"#\")]\n",
    "        data.append(dato)\n",
    "\n",
    "    augmented_dataset['hashtag'] = data\n",
    "    augmented_dataset['hashtag'] = augmented_dataset['hashtag'].apply(lambda x: \" \".join(x).replace('#', ''))\n",
    "\n",
    "\n",
    "    return augmented_dataset"
   ]
  },
  {
   "cell_type": "code",
   "execution_count": 15,
   "metadata": {},
   "outputs": [
    {
     "data": {
      "application/vnd.jupyter.widget-view+json": {
       "model_id": "57aa4682e25b49d18453fdc428e623c8",
       "version_major": 2,
       "version_minor": 0
      },
      "text/plain": [
       "Looking for hashtag:   0%|          | 0/4368 [00:00<?, ?it/s]"
      ]
     },
     "metadata": {},
     "output_type": "display_data"
    },
    {
     "data": {
      "text/html": [
       "<div>\n",
       "<style scoped>\n",
       "    .dataframe tbody tr th:only-of-type {\n",
       "        vertical-align: middle;\n",
       "    }\n",
       "\n",
       "    .dataframe tbody tr th {\n",
       "        vertical-align: top;\n",
       "    }\n",
       "\n",
       "    .dataframe thead th {\n",
       "        text-align: right;\n",
       "    }\n",
       "</style>\n",
       "<table border=\"1\" class=\"dataframe\">\n",
       "  <thead>\n",
       "    <tr style=\"text-align: right;\">\n",
       "      <th></th>\n",
       "      <th>text</th>\n",
       "      <th>label</th>\n",
       "      <th>hashtag</th>\n",
       "    </tr>\n",
       "  </thead>\n",
       "  <tbody>\n",
       "    <tr>\n",
       "      <th>1374</th>\n",
       "      <td>Il testo originale menziona un rapido resoconto dei piani del Deep State per disturbare l'equilibrio naturale della società e instaurarsi come normale.</td>\n",
       "      <td>1</td>\n",
       "      <td></td>\n",
       "    </tr>\n",
       "    <tr>\n",
       "      <th>2293</th>\n",
       "      <td>CV19, anemia da immunizzazione e RISOLUTIVO universale! Mi lo assumo per altre ragioni e dopo circa sei mesi dirò di aver riscontrato reazioni positive su problematiche e inconvenienti che mi avevo trainato dietro da tempo.</td>\n",
       "      <td>0</td>\n",
       "      <td></td>\n",
       "    </tr>\n",
       "    <tr>\n",
       "      <th>3379</th>\n",
       "      <td>Che azione chiede Luca Teodori, di M3V, riguardo la vaccinazione di massa e quale è la sua opinione sui motivi dietro a essa?</td>\n",
       "      <td>0</td>\n",
       "      <td></td>\n",
       "    </tr>\n",
       "    <tr>\n",
       "      <th>1090</th>\n",
       "      <td>Ho attendeva da decenni l'affermazione di questi fenomeni OVNI o OAV... E ho attendeva anche un video così... !!</td>\n",
       "      <td>3</td>\n",
       "      <td></td>\n",
       "    </tr>\n",
       "    <tr>\n",
       "      <th>1803</th>\n",
       "      <td>Quale evento è avvenuto il 15 aprile e come è stata descritta tale situazione?</td>\n",
       "      <td>0</td>\n",
       "      <td></td>\n",
       "    </tr>\n",
       "  </tbody>\n",
       "</table>\n",
       "</div>"
      ],
      "text/plain": [
       "                                                                                                                                                                                                                                   text  \\\n",
       "1374                                                                           Il testo originale menziona un rapido resoconto dei piani del Deep State per disturbare l'equilibrio naturale della società e instaurarsi come normale.    \n",
       "2293   CV19, anemia da immunizzazione e RISOLUTIVO universale! Mi lo assumo per altre ragioni e dopo circa sei mesi dirò di aver riscontrato reazioni positive su problematiche e inconvenienti che mi avevo trainato dietro da tempo.    \n",
       "3379                                                                                                      Che azione chiede Luca Teodori, di M3V, riguardo la vaccinazione di massa e quale è la sua opinione sui motivi dietro a essa?   \n",
       "1090                                                                                                                  Ho attendeva da decenni l'affermazione di questi fenomeni OVNI o OAV... E ho attendeva anche un video così... !!    \n",
       "1803                                                                                                                                                     Quale evento è avvenuto il 15 aprile e come è stata descritta tale situazione?   \n",
       "\n",
       "     label hashtag  \n",
       "1374     1          \n",
       "2293     0          \n",
       "3379     0          \n",
       "1090     3          \n",
       "1803     0          "
      ]
     },
     "execution_count": 15,
     "metadata": {},
     "output_type": "execute_result"
    }
   ],
   "source": [
    "augmented_dataset = add_hashtag(augmented_dataset)\n",
    "augmented_dataset.head()"
   ]
  },
  {
   "cell_type": "code",
   "execution_count": 16,
   "metadata": {},
   "outputs": [],
   "source": [
    "hyperparameters = {\n",
    "    \"#_classes\" : 4,\n",
    "    \"epochs\": 30,\n",
    "    \"learning_rate\": 1e-6,\n",
    "    \"batch_size\": 3,\n",
    "    \"dropout\": 0.1,\n",
    "    \"stopwords\": False,\n",
    "    \"h_dim\": 768,\n",
    "    \"patience\": 10,\n",
    "    \"min_delta\": 0.01,\n",
    "    \"language_model\": \"bert-base-multilingual-cased\",\n",
    "    \"extra_features\": 32, #32 hashtag\n",
    "}"
   ]
  },
  {
   "cell_type": "code",
   "execution_count": 17,
   "metadata": {},
   "outputs": [],
   "source": [
    "(x_train, x_test, hashtag_train, hashtag_test,y_train, y_test) = train_test_split(augmented_dataset['text'], augmented_dataset['hashtag'],augmented_dataset['label'], test_size=0.2, random_state=42)\n",
    "\n",
    "(x_train, x_val, hashtag_train, hashtag_val, y_train, y_val) = train_test_split( x_train,hashtag_train, y_train, test_size=0.1, random_state=42)"
   ]
  },
  {
   "cell_type": "code",
   "execution_count": 18,
   "metadata": {},
   "outputs": [
    {
     "name": "stderr",
     "output_type": "stream",
     "text": [
      "[nltk_data] Downloading package punkt to /root/nltk_data...\n",
      "[nltk_data]   Package punkt is already up-to-date!\n",
      "[nltk_data] Downloading package stopwords to /root/nltk_data...\n",
      "[nltk_data]   Package stopwords is already up-to-date!\n"
     ]
    }
   ],
   "source": [
    "nltk.download('punkt')\n",
    "nltk.download('stopwords')\n",
    "\n",
    "class Dataset(torch.utils.data.Dataset):\n",
    "\n",
    "    def __init__(self, x, hashtag, y, stopwords):\n",
    "\n",
    "\n",
    "        tokens_litt = [nltk.word_tokenize(text, language='italian') for text in list(x)]\n",
    "\n",
    "        text_clean = []\n",
    "\n",
    "        for sentence in tqdm(tokens_litt, desc='Tokenizing text ... '):\n",
    "            text_clean.append(' '.join([w for w in sentence if not w.lower() in nltk.corpus.stopwords.words(\"italian\")]))\n",
    "\n",
    "\n",
    "        self.texts = [text for text in text_clean]\n",
    "        self.hashtag = [h for h in hashtag]\n",
    "        self.labels = [torch.tensor(label) for label in y]\n",
    "\n",
    "    def classes(self):\n",
    "        return self.labels\n",
    "\n",
    "    def __len__(self):\n",
    "        return len(self.labels)\n",
    "\n",
    "    def get_batch_labels(self, idx):\n",
    "        # Fetch a batch of labels\n",
    "        return np.array(self.labels[idx])\n",
    "\n",
    "    def get_batch_texts(self, idx):\n",
    "        # Fetch a batch of inputs\n",
    "        return self.texts[idx]\n",
    "\n",
    "    def get_batch_hashtag(self, idx):\n",
    "        # Fetch a batch of inputs\n",
    "        return self.hashtag[idx]\n",
    "\n",
    "    def __getitem__(self, idx):\n",
    "\n",
    "        batch_texts = self.get_batch_texts(idx)\n",
    "        batch_labels = self.get_batch_labels(idx)\n",
    "        batch_hashtag = self.get_batch_hashtag(idx)\n",
    "\n",
    "        return batch_texts, batch_labels, batch_hashtag"
   ]
  },
  {
   "cell_type": "code",
   "execution_count": 19,
   "metadata": {},
   "outputs": [
    {
     "data": {
      "application/vnd.jupyter.widget-view+json": {
       "model_id": "84e99ae4aece4ddfb30393c510607a7d",
       "version_major": 2,
       "version_minor": 0
      },
      "text/plain": [
       "Tokenizing text ... :   0%|          | 0/3144 [00:00<?, ?it/s]"
      ]
     },
     "metadata": {},
     "output_type": "display_data"
    },
    {
     "data": {
      "application/vnd.jupyter.widget-view+json": {
       "model_id": "6af11a32eefb487d9fd069519a66cdbe",
       "version_major": 2,
       "version_minor": 0
      },
      "text/plain": [
       "Tokenizing text ... :   0%|          | 0/350 [00:00<?, ?it/s]"
      ]
     },
     "metadata": {},
     "output_type": "display_data"
    },
    {
     "data": {
      "application/vnd.jupyter.widget-view+json": {
       "model_id": "bc711160bd7a469d85d87230df3381cc",
       "version_major": 2,
       "version_minor": 0
      },
      "text/plain": [
       "Tokenizing text ... :   0%|          | 0/874 [00:00<?, ?it/s]"
      ]
     },
     "metadata": {},
     "output_type": "display_data"
    }
   ],
   "source": [
    "train_dataset = Dataset(x_train,hashtag_train, y_train, hyperparameters[\"stopwords\"])\n",
    "val_dataset = Dataset(x_val,hashtag_val, y_val, hyperparameters[\"stopwords\"])\n",
    "test_dataset = Dataset(x_test,hashtag_test, y_test, hyperparameters[\"stopwords\"])"
   ]
  },
  {
   "cell_type": "code",
   "execution_count": 20,
   "metadata": {},
   "outputs": [],
   "source": [
    "class EarlyStopping:\n",
    "    def __init__(self, patience=5, min_delta=0.0):\n",
    "\n",
    "        self.patience = patience\n",
    "        self.min_delta = min_delta              # valore minimo di decrescita della loss di validazione all'epoca corrente\n",
    "                                                # per asserire che c'è un miglioramenti della loss\n",
    "        self.counter = 0                        # contatore delle epoche di pazienza\n",
    "        self.early_stop = False                 # flag di early stop\n",
    "        self.min_validation_loss = torch.inf    # valore corrente ottimo della loss di validazione\n",
    "\n",
    "    def __call__(self, validation_loss):\n",
    "        # chiamata in forma funzionale dell'oggetto di classe EarlySopping\n",
    "        if (validation_loss + self.min_delta) >= self.min_validation_loss:  # la loss di validazione non decresce\n",
    "            self.counter += 1                                               # incrementiamo il contatore delle epoche di pazienza\n",
    "            if self.counter >= self.patience:\n",
    "                self.early_stop = True\n",
    "                print(\"Early stop!\")\n",
    "        else:                                                               # c'è un miglioramento della loss:\n",
    "            self.min_validation_loss = validation_loss                      # consideriamo la loss corrente\n",
    "                                                                            # come nuova loss ottimale\n",
    "            self.counter = 0                                                # e azzeriamo il contatore di pazienza"
   ]
  },
  {
   "cell_type": "code",
   "execution_count": 21,
   "metadata": {},
   "outputs": [],
   "source": [
    "class ClassifierDeep(nn.Module):\n",
    "\n",
    "    def __init__(self, labels, hdim, dropout, model_name,extra_features = hyperparameters['extra_features']):\n",
    "        super(ClassifierDeep, self).__init__()\n",
    "        config = AutoConfig.from_pretrained(model_name)\n",
    "        self.lm_model = AutoModel.from_pretrained(model_name, config=config)\n",
    "        self.classifier = nn.Sequential(\n",
    "            nn.Linear(hdim + extra_features, 512),\n",
    "            nn.Dropout(dropout),\n",
    "            nn.ReLU(),\n",
    "            nn.Linear(512, 128),\n",
    "            nn.Dropout(dropout),\n",
    "            nn.ReLU(),\n",
    "            nn.Linear(128, labels),\n",
    "            )\n",
    "\n",
    "    def forward(self, input_id_text, attention_mask, hashtag):\n",
    "        output = self.lm_model(input_id_text, attention_mask).last_hidden_state\n",
    "        output = output[:,0,:]\n",
    "        output = torch.cat((output, hashtag), dim=1)  # Concatena il conteggio dei caratteri\n",
    "        return self.classifier(output)"
   ]
  },
  {
   "cell_type": "code",
   "execution_count": 22,
   "metadata": {},
   "outputs": [],
   "source": [
    "def train_loop(model, dataloader, tokenizer, loss, optimizer, device):\n",
    "    model.train()\n",
    "\n",
    "    epoch_acc = 0\n",
    "    epoch_loss = 0\n",
    "\n",
    "    for batch_texts, batch_labels, hashtag in tqdm(dataloader, desc='training set'):\n",
    "\n",
    "        optimizer.zero_grad()\n",
    "        tokens = tokenizer(list(batch_texts), add_special_tokens=True,\n",
    "                            return_tensors='pt', padding='max_length',\n",
    "                            max_length = 400, truncation=True)\n",
    "        tokens_hashtag = tokenizer(list(hashtag), add_special_tokens=True,\n",
    "                            return_tensors='pt', padding='max_length',\n",
    "                            max_length = 32, truncation=True)\n",
    "\n",
    "        input_id_texts = tokens['input_ids'].squeeze(1).to(device)\n",
    "        mask_texts = tokens['attention_mask'].squeeze(1).to(device)\n",
    "\n",
    "        input_id_hashtag = tokens_hashtag['input_ids'].squeeze(1).to(device)\n",
    "        mask_hashtag = tokens_hashtag['attention_mask'].squeeze(1).to(device)\n",
    "        \n",
    "        batch_labels = batch_labels.to(device)\n",
    "\n",
    "        output = model(input_id_texts, mask_texts, input_id_hashtag)\n",
    "\n",
    "        # la loss è una CrossEntropyLoss, al suo interno ha la logsoftmax + negative log likelihood loss\n",
    "        batch_loss = loss(output, batch_labels)\n",
    "        batch_loss.backward()\n",
    "        optimizer.step()\n",
    "\n",
    "        epoch_loss += batch_loss.item()\n",
    "\n",
    "        # per calcolare l'accuracy devo generare le predizioni applicando manualmente la logsoftmax\n",
    "        softmax = nn.LogSoftmax(dim=1)\n",
    "        epoch_acc += (softmax(output).argmax(dim=1) == batch_labels).float().mean()\n",
    "        \n",
    "        batch_labels = batch_labels.detach().cpu()\n",
    "        input_id_texts = input_id_texts.detach().cpu()\n",
    "        mask_texts = mask_texts.detach().cpu()\n",
    "        output = output.detach().cpu()\n",
    "\n",
    "\n",
    "    return epoch_loss/len(dataloader), epoch_acc/len(dataloader)"
   ]
  },
  {
   "cell_type": "code",
   "execution_count": 23,
   "metadata": {},
   "outputs": [],
   "source": [
    "def test_loop(model, dataloader, tokenizer, loss, device, best_acc, best_weights):\n",
    "    model.eval()\n",
    "\n",
    "    epoch_acc = 0\n",
    "    epoch_loss = 0\n",
    "\n",
    "    with torch.no_grad():\n",
    "\n",
    "        for batch_texts, batch_labels, hashtag in tqdm(dataloader, desc='dev set'):\n",
    "\n",
    "            tokens = tokenizer(list(batch_texts), add_special_tokens=True,\n",
    "                               return_tensors='pt', padding='max_length',\n",
    "                               max_length = 512, truncation=True)\n",
    "\n",
    "            tokens_hashtag = tokenizer(list(hashtag), add_special_tokens=True,\n",
    "                                return_tensors='pt', padding='max_length',\n",
    "                                max_length = 32, truncation=True)\n",
    "\n",
    "            input_id_texts = tokens['input_ids'].squeeze(1).to(device)\n",
    "            mask_texts = tokens['attention_mask'].squeeze(1).to(device)\n",
    "\n",
    "            input_id_hashtag = tokens_hashtag['input_ids'].squeeze(1).to(device)\n",
    "            mask_hashtag = tokens_hashtag['attention_mask'].squeeze(1).to(device)\n",
    "\n",
    "            batch_labels = batch_labels.to(device)\n",
    "\n",
    "\n",
    "            output = model(input_id_texts, mask_texts, input_id_hashtag)\n",
    "\n",
    "            batch_loss = loss(output, batch_labels)\n",
    "            epoch_loss += batch_loss.item()\n",
    "\n",
    "            softmax = nn.LogSoftmax(dim=1)\n",
    "            epoch_acc += (softmax(output).argmax(dim=1) == batch_labels).float().mean()\n",
    "            \n",
    "\n",
    "            batch_labels = batch_labels.detach().cpu()\n",
    "            input_id_texts = input_id_texts.detach().cpu()\n",
    "            mask_texts = mask_texts.detach().cpu()\n",
    "            output = output.detach().cpu()\n",
    "        acc = float(epoch_acc/len(dataloader))\n",
    "        if acc > best_acc:\n",
    "            best_acc = acc\n",
    "            best_weights = copy.deepcopy(model.state_dict())\n",
    "\n",
    "\n",
    "    return epoch_loss/len(dataloader), epoch_acc/len(dataloader), best_acc, best_weights"
   ]
  },
  {
   "cell_type": "code",
   "execution_count": 24,
   "metadata": {},
   "outputs": [],
   "source": [
    "def train_test(model, epochs, optimizer, device, train_data, test_data,\n",
    "               batch_size, language_model, train_loss_fn, test_loss_fn=None,\n",
    "               early_stopping=None, val_data=None, scheduler=None):\n",
    "\n",
    "  train_dataloader = torch.utils.data.DataLoader(train_data, batch_size=batch_size, shuffle=True)\n",
    "  test_dataloader = torch.utils.data.DataLoader(test_data, batch_size=batch_size)\n",
    "  val_dataloader = torch.utils.data.DataLoader(val_data, batch_size=batch_size)\n",
    "\n",
    "    # check sulle funzioni di loss\n",
    "  if test_loss_fn == None:\n",
    "    test_loss_fn = train_loss_fn\n",
    "\n",
    "    # liste dei valori di loss e accuracy epoca per epoca per il plot\n",
    "  train_loss = []\n",
    "  validation_loss = []\n",
    "  test_loss = []\n",
    "\n",
    "  train_acc = []\n",
    "  validation_acc = []\n",
    "  test_acc = []\n",
    "  best_acc = - np.inf\n",
    "  best_weights = None\n",
    "  tokenizer = AutoTokenizer.from_pretrained(language_model)\n",
    "\n",
    "    # Ciclo di addestramento con early stopping\n",
    "  for epoch in tqdm(range(1,epochs+1)):\n",
    "    epoch_train_loss, epoch_train_acc = train_loop(model, train_dataloader, tokenizer, train_loss_fn, optimizer, device)\n",
    "    train_loss.append(epoch_train_loss)\n",
    "    train_acc.append(epoch_train_acc)\n",
    "\n",
    "        # validation se è presente la callback di early stopping\n",
    "    if early_stopping != None:\n",
    "      epoch_validate_loss, epoch_validate_acc, best_acc, best_weights = test_loop(model,\n",
    "                                val_dataloader, tokenizer, test_loss_fn, device, best_acc, best_weights)\n",
    "      validation_loss.append(epoch_validate_loss)\n",
    "      validation_acc.append(epoch_validate_acc)\n",
    "\n",
    "        # test\n",
    "    epoch_test_loss, epoch_test_acc, best_acc, best_weights = test_loop(model, test_dataloader, tokenizer, test_loss_fn, device, best_acc, best_weights)\n",
    "    test_loss.append(epoch_test_loss)\n",
    "    test_acc.append(epoch_test_acc)\n",
    "\n",
    "    val_loss_str = f'Validation loss: {epoch_validate_loss:6.4f} ' if early_stopping != None else ' '\n",
    "    val_acc_str = f'Validation accuracy: {(epoch_validate_acc):6.4f} ' if early_stopping != None else ' '\n",
    "    print(f\"\\nTrain loss: {epoch_train_loss:6.4f} {val_loss_str}Test loss: {epoch_test_loss:6.4f}\")\n",
    "    print(f\"Train accuracy: {(epoch_train_acc):6.4f} {val_acc_str}Test accuracy: {(epoch_test_acc):6.4f}\")\n",
    "    # early stopping\n",
    "    if early_stopping != None:\n",
    "      early_stopping(epoch_validate_loss)\n",
    "      if early_stopping.early_stop:\n",
    "        break\n",
    "\n",
    "  return train_loss, validation_loss, test_loss, train_acc, validation_acc, test_acc, best_acc, best_weights"
   ]
  },
  {
   "cell_type": "code",
   "execution_count": 25,
   "metadata": {},
   "outputs": [
    {
     "name": "stdout",
     "output_type": "stream",
     "text": [
      "Using cuda device\n",
      "ClassifierDeep(\n",
      "  (lm_model): BertModel(\n",
      "    (embeddings): BertEmbeddings(\n",
      "      (word_embeddings): Embedding(119547, 768, padding_idx=0)\n",
      "      (position_embeddings): Embedding(512, 768)\n",
      "      (token_type_embeddings): Embedding(2, 768)\n",
      "      (LayerNorm): LayerNorm((768,), eps=1e-12, elementwise_affine=True)\n",
      "      (dropout): Dropout(p=0.1, inplace=False)\n",
      "    )\n",
      "    (encoder): BertEncoder(\n",
      "      (layer): ModuleList(\n",
      "        (0-11): 12 x BertLayer(\n",
      "          (attention): BertAttention(\n",
      "            (self): BertSelfAttention(\n",
      "              (query): Linear(in_features=768, out_features=768, bias=True)\n",
      "              (key): Linear(in_features=768, out_features=768, bias=True)\n",
      "              (value): Linear(in_features=768, out_features=768, bias=True)\n",
      "              (dropout): Dropout(p=0.1, inplace=False)\n",
      "            )\n",
      "            (output): BertSelfOutput(\n",
      "              (dense): Linear(in_features=768, out_features=768, bias=True)\n",
      "              (LayerNorm): LayerNorm((768,), eps=1e-12, elementwise_affine=True)\n",
      "              (dropout): Dropout(p=0.1, inplace=False)\n",
      "            )\n",
      "          )\n",
      "          (intermediate): BertIntermediate(\n",
      "            (dense): Linear(in_features=768, out_features=3072, bias=True)\n",
      "            (intermediate_act_fn): GELUActivation()\n",
      "          )\n",
      "          (output): BertOutput(\n",
      "            (dense): Linear(in_features=3072, out_features=768, bias=True)\n",
      "            (LayerNorm): LayerNorm((768,), eps=1e-12, elementwise_affine=True)\n",
      "            (dropout): Dropout(p=0.1, inplace=False)\n",
      "          )\n",
      "        )\n",
      "      )\n",
      "    )\n",
      "    (pooler): BertPooler(\n",
      "      (dense): Linear(in_features=768, out_features=768, bias=True)\n",
      "      (activation): Tanh()\n",
      "    )\n",
      "  )\n",
      "  (classifier): Sequential(\n",
      "    (0): Linear(in_features=800, out_features=512, bias=True)\n",
      "    (1): Dropout(p=0.1, inplace=False)\n",
      "    (2): ReLU()\n",
      "    (3): Linear(in_features=512, out_features=128, bias=True)\n",
      "    (4): Dropout(p=0.1, inplace=False)\n",
      "    (5): ReLU()\n",
      "    (6): Linear(in_features=128, out_features=4, bias=True)\n",
      "  )\n",
      ")\n",
      "Numbero totale dei parametri: 178329732\n"
     ]
    }
   ],
   "source": [
    "# Acquisiamo il device su cui effettueremo il training\n",
    "device = torch.device(\"cuda\" if torch.cuda.is_available() else \"cpu\")\n",
    "print(f\"Using {device} device\")\n",
    "\n",
    "model = ClassifierDeep(hyperparameters[\"#_classes\"],\n",
    "                    hyperparameters[\"h_dim\"],\n",
    "                    hyperparameters[\"dropout\"],\n",
    "                    hyperparameters[\"language_model\"]).to(device)\n",
    "print(model)\n",
    "\n",
    "# Calcoliamo il numero totale dei parametri del modello\n",
    "total_params = sum(p.numel() for p in model.parameters())\n",
    "print(f\"Numbero totale dei parametri: {total_params}\")\n",
    "#La funzione di loss va modificata in base al parametro #_classes\n",
    "criterion = nn.CrossEntropyLoss()\n",
    "optimizer = Adam(model.parameters(), lr=hyperparameters[\"learning_rate\"])\n",
    "\n",
    "# Creiamo la callback di early stopping da passare al nostro metodo di addestramento\n",
    "early_stopping = EarlyStopping(patience=hyperparameters['patience'],\n",
    "                               min_delta=hyperparameters['min_delta'])"
   ]
  },
  {
   "cell_type": "code",
   "execution_count": 26,
   "metadata": {
    "scrolled": true
   },
   "outputs": [
    {
     "data": {
      "application/vnd.jupyter.widget-view+json": {
       "model_id": "dfffad19b6d245a2bfb27aedc87d761d",
       "version_major": 2,
       "version_minor": 0
      },
      "text/plain": [
       "  0%|          | 0/30 [00:00<?, ?it/s]"
      ]
     },
     "metadata": {},
     "output_type": "display_data"
    },
    {
     "data": {
      "application/vnd.jupyter.widget-view+json": {
       "model_id": "d9eb977d3e9a4581ae61260dd17dc6e7",
       "version_major": 2,
       "version_minor": 0
      },
      "text/plain": [
       "training set:   0%|          | 0/1048 [00:00<?, ?it/s]"
      ]
     },
     "metadata": {},
     "output_type": "display_data"
    },
    {
     "data": {
      "application/vnd.jupyter.widget-view+json": {
       "model_id": "1cd47522416c4a1093a769a419f25a92",
       "version_major": 2,
       "version_minor": 0
      },
      "text/plain": [
       "dev set:   0%|          | 0/292 [00:00<?, ?it/s]"
      ]
     },
     "metadata": {},
     "output_type": "display_data"
    },
    {
     "name": "stdout",
     "output_type": "stream",
     "text": [
      "\n",
      "Train loss: 2.0182  Test loss: 2.3348\n",
      "Train accuracy: 0.4701  Test accuracy: 0.5491\n"
     ]
    },
    {
     "data": {
      "application/vnd.jupyter.widget-view+json": {
       "model_id": "e16bad3f24cb46ec893e4d1b99196ad8",
       "version_major": 2,
       "version_minor": 0
      },
      "text/plain": [
       "training set:   0%|          | 0/1048 [00:00<?, ?it/s]"
      ]
     },
     "metadata": {},
     "output_type": "display_data"
    },
    {
     "data": {
      "application/vnd.jupyter.widget-view+json": {
       "model_id": "59711cc9de364fa2bff6239b6332f983",
       "version_major": 2,
       "version_minor": 0
      },
      "text/plain": [
       "dev set:   0%|          | 0/292 [00:00<?, ?it/s]"
      ]
     },
     "metadata": {},
     "output_type": "display_data"
    },
    {
     "name": "stdout",
     "output_type": "stream",
     "text": [
      "\n",
      "Train loss: 1.5896  Test loss: 1.9990\n",
      "Train accuracy: 0.6858  Test accuracy: 0.8105\n"
     ]
    },
    {
     "data": {
      "application/vnd.jupyter.widget-view+json": {
       "model_id": "4a5ee73798e944878dd1bf165bdada9b",
       "version_major": 2,
       "version_minor": 0
      },
      "text/plain": [
       "training set:   0%|          | 0/1048 [00:00<?, ?it/s]"
      ]
     },
     "metadata": {},
     "output_type": "display_data"
    },
    {
     "data": {
      "application/vnd.jupyter.widget-view+json": {
       "model_id": "370a014bd2094c24aed03463298066cf",
       "version_major": 2,
       "version_minor": 0
      },
      "text/plain": [
       "dev set:   0%|          | 0/292 [00:00<?, ?it/s]"
      ]
     },
     "metadata": {},
     "output_type": "display_data"
    },
    {
     "name": "stdout",
     "output_type": "stream",
     "text": [
      "\n",
      "Train loss: 1.3093  Test loss: 1.9054\n",
      "Train accuracy: 0.8282  Test accuracy: 0.8345\n"
     ]
    },
    {
     "data": {
      "application/vnd.jupyter.widget-view+json": {
       "model_id": "8f83e703e41548d5bc11cc3d74dadcf6",
       "version_major": 2,
       "version_minor": 0
      },
      "text/plain": [
       "training set:   0%|          | 0/1048 [00:00<?, ?it/s]"
      ]
     },
     "metadata": {},
     "output_type": "display_data"
    },
    {
     "data": {
      "application/vnd.jupyter.widget-view+json": {
       "model_id": "38a43904de6b49b3990e33c63a62d4a4",
       "version_major": 2,
       "version_minor": 0
      },
      "text/plain": [
       "dev set:   0%|          | 0/292 [00:00<?, ?it/s]"
      ]
     },
     "metadata": {},
     "output_type": "display_data"
    },
    {
     "name": "stdout",
     "output_type": "stream",
     "text": [
      "\n",
      "Train loss: 0.9700  Test loss: 1.8558\n",
      "Train accuracy: 0.8750  Test accuracy: 0.8470\n"
     ]
    },
    {
     "data": {
      "application/vnd.jupyter.widget-view+json": {
       "model_id": "282956e04d6d45b984da0f4a74049c28",
       "version_major": 2,
       "version_minor": 0
      },
      "text/plain": [
       "training set:   0%|          | 0/1048 [00:00<?, ?it/s]"
      ]
     },
     "metadata": {},
     "output_type": "display_data"
    },
    {
     "data": {
      "application/vnd.jupyter.widget-view+json": {
       "model_id": "047271e8beb54eee824a66fd5c10bdad",
       "version_major": 2,
       "version_minor": 0
      },
      "text/plain": [
       "dev set:   0%|          | 0/292 [00:00<?, ?it/s]"
      ]
     },
     "metadata": {},
     "output_type": "display_data"
    },
    {
     "name": "stdout",
     "output_type": "stream",
     "text": [
      "\n",
      "Train loss: 1.0182  Test loss: 1.7546\n",
      "Train accuracy: 0.9001  Test accuracy: 0.8584\n"
     ]
    },
    {
     "data": {
      "application/vnd.jupyter.widget-view+json": {
       "model_id": "8bb73cbe9c68452da3138fbe20ac9cb0",
       "version_major": 2,
       "version_minor": 0
      },
      "text/plain": [
       "training set:   0%|          | 0/1048 [00:00<?, ?it/s]"
      ]
     },
     "metadata": {},
     "output_type": "display_data"
    },
    {
     "data": {
      "application/vnd.jupyter.widget-view+json": {
       "model_id": "3288d93553a441c5a951f9ed95e51279",
       "version_major": 2,
       "version_minor": 0
      },
      "text/plain": [
       "dev set:   0%|          | 0/292 [00:00<?, ?it/s]"
      ]
     },
     "metadata": {},
     "output_type": "display_data"
    },
    {
     "name": "stdout",
     "output_type": "stream",
     "text": [
      "\n",
      "Train loss: 0.8130  Test loss: 1.7031\n",
      "Train accuracy: 0.9253  Test accuracy: 0.8790\n"
     ]
    },
    {
     "data": {
      "application/vnd.jupyter.widget-view+json": {
       "model_id": "ed9bcc279dd34bbab77a7ab282e6c7f2",
       "version_major": 2,
       "version_minor": 0
      },
      "text/plain": [
       "training set:   0%|          | 0/1048 [00:00<?, ?it/s]"
      ]
     },
     "metadata": {},
     "output_type": "display_data"
    },
    {
     "data": {
      "application/vnd.jupyter.widget-view+json": {
       "model_id": "c54de5bbfc1748c7bdf62289f6f5a89d",
       "version_major": 2,
       "version_minor": 0
      },
      "text/plain": [
       "dev set:   0%|          | 0/292 [00:00<?, ?it/s]"
      ]
     },
     "metadata": {},
     "output_type": "display_data"
    },
    {
     "name": "stdout",
     "output_type": "stream",
     "text": [
      "\n",
      "Train loss: 0.9317  Test loss: 1.5930\n",
      "Train accuracy: 0.9383  Test accuracy: 0.8756\n"
     ]
    },
    {
     "data": {
      "application/vnd.jupyter.widget-view+json": {
       "model_id": "b80191471fc54b3c852800f26aa44742",
       "version_major": 2,
       "version_minor": 0
      },
      "text/plain": [
       "training set:   0%|          | 0/1048 [00:00<?, ?it/s]"
      ]
     },
     "metadata": {},
     "output_type": "display_data"
    },
    {
     "data": {
      "application/vnd.jupyter.widget-view+json": {
       "model_id": "c23df141ddd0490087476050988f31ae",
       "version_major": 2,
       "version_minor": 0
      },
      "text/plain": [
       "dev set:   0%|          | 0/292 [00:00<?, ?it/s]"
      ]
     },
     "metadata": {},
     "output_type": "display_data"
    },
    {
     "name": "stdout",
     "output_type": "stream",
     "text": [
      "\n",
      "Train loss: 0.6862  Test loss: 1.5232\n",
      "Train accuracy: 0.9415  Test accuracy: 0.8836\n"
     ]
    },
    {
     "data": {
      "application/vnd.jupyter.widget-view+json": {
       "model_id": "59a04a2061d84906a01fd8fbb8e11245",
       "version_major": 2,
       "version_minor": 0
      },
      "text/plain": [
       "training set:   0%|          | 0/1048 [00:00<?, ?it/s]"
      ]
     },
     "metadata": {},
     "output_type": "display_data"
    },
    {
     "data": {
      "application/vnd.jupyter.widget-view+json": {
       "model_id": "9b6332228dfe47248b0b12e479e2113e",
       "version_major": 2,
       "version_minor": 0
      },
      "text/plain": [
       "dev set:   0%|          | 0/292 [00:00<?, ?it/s]"
      ]
     },
     "metadata": {},
     "output_type": "display_data"
    },
    {
     "name": "stdout",
     "output_type": "stream",
     "text": [
      "\n",
      "Train loss: 0.6788  Test loss: 1.4896\n",
      "Train accuracy: 0.9529  Test accuracy: 0.8927\n"
     ]
    },
    {
     "data": {
      "application/vnd.jupyter.widget-view+json": {
       "model_id": "234a17fe95fd49639e58495c99581afb",
       "version_major": 2,
       "version_minor": 0
      },
      "text/plain": [
       "training set:   0%|          | 0/1048 [00:00<?, ?it/s]"
      ]
     },
     "metadata": {},
     "output_type": "display_data"
    },
    {
     "data": {
      "application/vnd.jupyter.widget-view+json": {
       "model_id": "9f1e7a17490348debc3a030e282bf2d6",
       "version_major": 2,
       "version_minor": 0
      },
      "text/plain": [
       "dev set:   0%|          | 0/292 [00:00<?, ?it/s]"
      ]
     },
     "metadata": {},
     "output_type": "display_data"
    },
    {
     "name": "stdout",
     "output_type": "stream",
     "text": [
      "\n",
      "Train loss: 0.5689  Test loss: 1.4772\n",
      "Train accuracy: 0.9561  Test accuracy: 0.9007\n"
     ]
    },
    {
     "data": {
      "application/vnd.jupyter.widget-view+json": {
       "model_id": "33eac0f760ad4ac9bb92c33625b5d936",
       "version_major": 2,
       "version_minor": 0
      },
      "text/plain": [
       "training set:   0%|          | 0/1048 [00:00<?, ?it/s]"
      ]
     },
     "metadata": {},
     "output_type": "display_data"
    },
    {
     "data": {
      "application/vnd.jupyter.widget-view+json": {
       "model_id": "f0aa07f2580348569f549c7ced910cbd",
       "version_major": 2,
       "version_minor": 0
      },
      "text/plain": [
       "dev set:   0%|          | 0/292 [00:00<?, ?it/s]"
      ]
     },
     "metadata": {},
     "output_type": "display_data"
    },
    {
     "name": "stdout",
     "output_type": "stream",
     "text": [
      "\n",
      "Train loss: 0.4128  Test loss: 1.4588\n",
      "Train accuracy: 0.9593  Test accuracy: 0.9007\n"
     ]
    },
    {
     "data": {
      "application/vnd.jupyter.widget-view+json": {
       "model_id": "0c5b52978a6b42dd8191a6d2814a1540",
       "version_major": 2,
       "version_minor": 0
      },
      "text/plain": [
       "training set:   0%|          | 0/1048 [00:00<?, ?it/s]"
      ]
     },
     "metadata": {},
     "output_type": "display_data"
    },
    {
     "data": {
      "application/vnd.jupyter.widget-view+json": {
       "model_id": "d9a8b7d104ef40ba8d3173168a41153f",
       "version_major": 2,
       "version_minor": 0
      },
      "text/plain": [
       "dev set:   0%|          | 0/292 [00:00<?, ?it/s]"
      ]
     },
     "metadata": {},
     "output_type": "display_data"
    },
    {
     "name": "stdout",
     "output_type": "stream",
     "text": [
      "\n",
      "Train loss: 0.4993  Test loss: 1.4465\n",
      "Train accuracy: 0.9641  Test accuracy: 0.9087\n"
     ]
    },
    {
     "data": {
      "application/vnd.jupyter.widget-view+json": {
       "model_id": "b22d687a644d4de6bd5fc1fb294809ae",
       "version_major": 2,
       "version_minor": 0
      },
      "text/plain": [
       "training set:   0%|          | 0/1048 [00:00<?, ?it/s]"
      ]
     },
     "metadata": {},
     "output_type": "display_data"
    },
    {
     "data": {
      "application/vnd.jupyter.widget-view+json": {
       "model_id": "e87bff3172e3488da1ac510479be4c80",
       "version_major": 2,
       "version_minor": 0
      },
      "text/plain": [
       "dev set:   0%|          | 0/292 [00:00<?, ?it/s]"
      ]
     },
     "metadata": {},
     "output_type": "display_data"
    },
    {
     "name": "stdout",
     "output_type": "stream",
     "text": [
      "\n",
      "Train loss: 0.4911  Test loss: 1.4791\n",
      "Train accuracy: 0.9660  Test accuracy: 0.9064\n"
     ]
    },
    {
     "data": {
      "application/vnd.jupyter.widget-view+json": {
       "model_id": "0f8afe0ea4704234a262b800620fce59",
       "version_major": 2,
       "version_minor": 0
      },
      "text/plain": [
       "training set:   0%|          | 0/1048 [00:00<?, ?it/s]"
      ]
     },
     "metadata": {},
     "output_type": "display_data"
    },
    {
     "data": {
      "application/vnd.jupyter.widget-view+json": {
       "model_id": "094a73fe5c2248a98b0c9e4ef062f912",
       "version_major": 2,
       "version_minor": 0
      },
      "text/plain": [
       "dev set:   0%|          | 0/292 [00:00<?, ?it/s]"
      ]
     },
     "metadata": {},
     "output_type": "display_data"
    },
    {
     "name": "stdout",
     "output_type": "stream",
     "text": [
      "\n",
      "Train loss: 0.5963  Test loss: 1.4667\n",
      "Train accuracy: 0.9720  Test accuracy: 0.9087\n"
     ]
    },
    {
     "data": {
      "application/vnd.jupyter.widget-view+json": {
       "model_id": "0f910fa127e14c05afc3f39b25039351",
       "version_major": 2,
       "version_minor": 0
      },
      "text/plain": [
       "training set:   0%|          | 0/1048 [00:00<?, ?it/s]"
      ]
     },
     "metadata": {},
     "output_type": "display_data"
    },
    {
     "data": {
      "application/vnd.jupyter.widget-view+json": {
       "model_id": "3971b84642744bcfa6bf2ae265e72b45",
       "version_major": 2,
       "version_minor": 0
      },
      "text/plain": [
       "dev set:   0%|          | 0/292 [00:00<?, ?it/s]"
      ]
     },
     "metadata": {},
     "output_type": "display_data"
    },
    {
     "name": "stdout",
     "output_type": "stream",
     "text": [
      "\n",
      "Train loss: 0.3631  Test loss: 1.5115\n",
      "Train accuracy: 0.9730  Test accuracy: 0.9007\n"
     ]
    },
    {
     "data": {
      "application/vnd.jupyter.widget-view+json": {
       "model_id": "44440902ecf344109fa592d74f048607",
       "version_major": 2,
       "version_minor": 0
      },
      "text/plain": [
       "training set:   0%|          | 0/1048 [00:00<?, ?it/s]"
      ]
     },
     "metadata": {},
     "output_type": "display_data"
    },
    {
     "data": {
      "application/vnd.jupyter.widget-view+json": {
       "model_id": "39188330608c4f19a3c742acca3bb61f",
       "version_major": 2,
       "version_minor": 0
      },
      "text/plain": [
       "dev set:   0%|          | 0/292 [00:00<?, ?it/s]"
      ]
     },
     "metadata": {},
     "output_type": "display_data"
    },
    {
     "name": "stdout",
     "output_type": "stream",
     "text": [
      "\n",
      "Train loss: 0.4822  Test loss: 1.4188\n",
      "Train accuracy: 0.9730  Test accuracy: 0.9087\n"
     ]
    },
    {
     "data": {
      "application/vnd.jupyter.widget-view+json": {
       "model_id": "0ef9d0c2011148e08ffae24edd5b5293",
       "version_major": 2,
       "version_minor": 0
      },
      "text/plain": [
       "training set:   0%|          | 0/1048 [00:00<?, ?it/s]"
      ]
     },
     "metadata": {},
     "output_type": "display_data"
    },
    {
     "data": {
      "application/vnd.jupyter.widget-view+json": {
       "model_id": "00cf91e6c38c4f739a0a1af885537c76",
       "version_major": 2,
       "version_minor": 0
      },
      "text/plain": [
       "dev set:   0%|          | 0/292 [00:00<?, ?it/s]"
      ]
     },
     "metadata": {},
     "output_type": "display_data"
    },
    {
     "name": "stdout",
     "output_type": "stream",
     "text": [
      "\n",
      "Train loss: 0.5098  Test loss: 1.3723\n",
      "Train accuracy: 0.9736  Test accuracy: 0.8984\n"
     ]
    },
    {
     "data": {
      "application/vnd.jupyter.widget-view+json": {
       "model_id": "f4238e9674db4d79be5703db667cab4d",
       "version_major": 2,
       "version_minor": 0
      },
      "text/plain": [
       "training set:   0%|          | 0/1048 [00:00<?, ?it/s]"
      ]
     },
     "metadata": {},
     "output_type": "display_data"
    },
    {
     "data": {
      "application/vnd.jupyter.widget-view+json": {
       "model_id": "658eb1c3045a4f49a34ab6fdbc477ea8",
       "version_major": 2,
       "version_minor": 0
      },
      "text/plain": [
       "dev set:   0%|          | 0/292 [00:00<?, ?it/s]"
      ]
     },
     "metadata": {},
     "output_type": "display_data"
    },
    {
     "name": "stdout",
     "output_type": "stream",
     "text": [
      "\n",
      "Train loss: 0.2014  Test loss: 1.2966\n",
      "Train accuracy: 0.9777  Test accuracy: 0.9144\n"
     ]
    },
    {
     "data": {
      "application/vnd.jupyter.widget-view+json": {
       "model_id": "40963ec58e654b9d8832c95361f9d77b",
       "version_major": 2,
       "version_minor": 0
      },
      "text/plain": [
       "training set:   0%|          | 0/1048 [00:00<?, ?it/s]"
      ]
     },
     "metadata": {},
     "output_type": "display_data"
    },
    {
     "data": {
      "application/vnd.jupyter.widget-view+json": {
       "model_id": "6d2fdc9db2964f1ab85116d8ce6250f4",
       "version_major": 2,
       "version_minor": 0
      },
      "text/plain": [
       "dev set:   0%|          | 0/292 [00:00<?, ?it/s]"
      ]
     },
     "metadata": {},
     "output_type": "display_data"
    },
    {
     "name": "stdout",
     "output_type": "stream",
     "text": [
      "\n",
      "Train loss: 0.3059  Test loss: 1.2694\n",
      "Train accuracy: 0.9781  Test accuracy: 0.8847\n"
     ]
    },
    {
     "data": {
      "application/vnd.jupyter.widget-view+json": {
       "model_id": "e9a34951413c4b15907980ff7657a2cd",
       "version_major": 2,
       "version_minor": 0
      },
      "text/plain": [
       "training set:   0%|          | 0/1048 [00:00<?, ?it/s]"
      ]
     },
     "metadata": {},
     "output_type": "display_data"
    },
    {
     "data": {
      "application/vnd.jupyter.widget-view+json": {
       "model_id": "68a8d5c17d6a48b3b26d4fa6f0421baa",
       "version_major": 2,
       "version_minor": 0
      },
      "text/plain": [
       "dev set:   0%|          | 0/292 [00:00<?, ?it/s]"
      ]
     },
     "metadata": {},
     "output_type": "display_data"
    },
    {
     "name": "stdout",
     "output_type": "stream",
     "text": [
      "\n",
      "Train loss: 0.2949  Test loss: 1.2921\n",
      "Train accuracy: 0.9790  Test accuracy: 0.9110\n"
     ]
    },
    {
     "data": {
      "application/vnd.jupyter.widget-view+json": {
       "model_id": "dd4b9c9e401a4c86b447e6ce3e7ea12b",
       "version_major": 2,
       "version_minor": 0
      },
      "text/plain": [
       "training set:   0%|          | 0/1048 [00:00<?, ?it/s]"
      ]
     },
     "metadata": {},
     "output_type": "display_data"
    },
    {
     "data": {
      "application/vnd.jupyter.widget-view+json": {
       "model_id": "3793e9d9e6e24505b72e019c51e1d8ac",
       "version_major": 2,
       "version_minor": 0
      },
      "text/plain": [
       "dev set:   0%|          | 0/292 [00:00<?, ?it/s]"
      ]
     },
     "metadata": {},
     "output_type": "display_data"
    },
    {
     "name": "stdout",
     "output_type": "stream",
     "text": [
      "\n",
      "Train loss: 0.3580  Test loss: 1.3565\n",
      "Train accuracy: 0.9796  Test accuracy: 0.9132\n"
     ]
    },
    {
     "data": {
      "application/vnd.jupyter.widget-view+json": {
       "model_id": "81856a3fc61041618540be0d11bb45db",
       "version_major": 2,
       "version_minor": 0
      },
      "text/plain": [
       "training set:   0%|          | 0/1048 [00:00<?, ?it/s]"
      ]
     },
     "metadata": {},
     "output_type": "display_data"
    },
    {
     "data": {
      "application/vnd.jupyter.widget-view+json": {
       "model_id": "c06ec4ab522444e8af930281196ac332",
       "version_major": 2,
       "version_minor": 0
      },
      "text/plain": [
       "dev set:   0%|          | 0/292 [00:00<?, ?it/s]"
      ]
     },
     "metadata": {},
     "output_type": "display_data"
    },
    {
     "name": "stdout",
     "output_type": "stream",
     "text": [
      "\n",
      "Train loss: 0.2719  Test loss: 1.3582\n",
      "Train accuracy: 0.9793  Test accuracy: 0.9053\n"
     ]
    },
    {
     "data": {
      "application/vnd.jupyter.widget-view+json": {
       "model_id": "5cc6c1ea354042279792b1c8dfa6a260",
       "version_major": 2,
       "version_minor": 0
      },
      "text/plain": [
       "training set:   0%|          | 0/1048 [00:00<?, ?it/s]"
      ]
     },
     "metadata": {},
     "output_type": "display_data"
    },
    {
     "data": {
      "application/vnd.jupyter.widget-view+json": {
       "model_id": "6fd4d7725c6b41d5a180975a4c18d602",
       "version_major": 2,
       "version_minor": 0
      },
      "text/plain": [
       "dev set:   0%|          | 0/292 [00:00<?, ?it/s]"
      ]
     },
     "metadata": {},
     "output_type": "display_data"
    },
    {
     "name": "stdout",
     "output_type": "stream",
     "text": [
      "\n",
      "Train loss: 0.1727  Test loss: 1.2992\n",
      "Train accuracy: 0.9806  Test accuracy: 0.9155\n"
     ]
    },
    {
     "data": {
      "application/vnd.jupyter.widget-view+json": {
       "model_id": "6bc38cdf2b4540dabad9c4ddbc8af899",
       "version_major": 2,
       "version_minor": 0
      },
      "text/plain": [
       "training set:   0%|          | 0/1048 [00:00<?, ?it/s]"
      ]
     },
     "metadata": {},
     "output_type": "display_data"
    },
    {
     "data": {
      "application/vnd.jupyter.widget-view+json": {
       "model_id": "23137ca2f6164d4085e5ced7b51eca17",
       "version_major": 2,
       "version_minor": 0
      },
      "text/plain": [
       "dev set:   0%|          | 0/292 [00:00<?, ?it/s]"
      ]
     },
     "metadata": {},
     "output_type": "display_data"
    },
    {
     "name": "stdout",
     "output_type": "stream",
     "text": [
      "\n",
      "Train loss: 0.1487  Test loss: 1.3412\n",
      "Train accuracy: 0.9857  Test accuracy: 0.9201\n"
     ]
    },
    {
     "data": {
      "application/vnd.jupyter.widget-view+json": {
       "model_id": "373de5a710c54922b31aaf58fabb4c66",
       "version_major": 2,
       "version_minor": 0
      },
      "text/plain": [
       "training set:   0%|          | 0/1048 [00:00<?, ?it/s]"
      ]
     },
     "metadata": {},
     "output_type": "display_data"
    },
    {
     "data": {
      "application/vnd.jupyter.widget-view+json": {
       "model_id": "96c479898efd4d69ae9a6666b51524ac",
       "version_major": 2,
       "version_minor": 0
      },
      "text/plain": [
       "dev set:   0%|          | 0/292 [00:00<?, ?it/s]"
      ]
     },
     "metadata": {},
     "output_type": "display_data"
    },
    {
     "name": "stdout",
     "output_type": "stream",
     "text": [
      "\n",
      "Train loss: 0.4517  Test loss: 1.3512\n",
      "Train accuracy: 0.9841  Test accuracy: 0.9132\n"
     ]
    },
    {
     "data": {
      "application/vnd.jupyter.widget-view+json": {
       "model_id": "ed2920571dc042fe91c110d674564f81",
       "version_major": 2,
       "version_minor": 0
      },
      "text/plain": [
       "training set:   0%|          | 0/1048 [00:00<?, ?it/s]"
      ]
     },
     "metadata": {},
     "output_type": "display_data"
    },
    {
     "data": {
      "application/vnd.jupyter.widget-view+json": {
       "model_id": "597dc044fcc447199090faa1e6f11944",
       "version_major": 2,
       "version_minor": 0
      },
      "text/plain": [
       "dev set:   0%|          | 0/292 [00:00<?, ?it/s]"
      ]
     },
     "metadata": {},
     "output_type": "display_data"
    },
    {
     "name": "stdout",
     "output_type": "stream",
     "text": [
      "\n",
      "Train loss: 0.1188  Test loss: 1.3852\n",
      "Train accuracy: 0.9831  Test accuracy: 0.9132\n"
     ]
    },
    {
     "data": {
      "application/vnd.jupyter.widget-view+json": {
       "model_id": "3634a5f72016499fb1fd7d555cda1d05",
       "version_major": 2,
       "version_minor": 0
      },
      "text/plain": [
       "training set:   0%|          | 0/1048 [00:00<?, ?it/s]"
      ]
     },
     "metadata": {},
     "output_type": "display_data"
    },
    {
     "data": {
      "application/vnd.jupyter.widget-view+json": {
       "model_id": "b72a9647d8b74be3ac5a70f38d83de81",
       "version_major": 2,
       "version_minor": 0
      },
      "text/plain": [
       "dev set:   0%|          | 0/292 [00:00<?, ?it/s]"
      ]
     },
     "metadata": {},
     "output_type": "display_data"
    },
    {
     "name": "stdout",
     "output_type": "stream",
     "text": [
      "\n",
      "Train loss: 0.1018  Test loss: 1.3770\n",
      "Train accuracy: 0.9841  Test accuracy: 0.9075\n"
     ]
    },
    {
     "data": {
      "application/vnd.jupyter.widget-view+json": {
       "model_id": "e4029dc4972c4023a88f0f77d2295af6",
       "version_major": 2,
       "version_minor": 0
      },
      "text/plain": [
       "training set:   0%|          | 0/1048 [00:00<?, ?it/s]"
      ]
     },
     "metadata": {},
     "output_type": "display_data"
    },
    {
     "data": {
      "application/vnd.jupyter.widget-view+json": {
       "model_id": "db662395df824aff8d1dbc29fa5eb82d",
       "version_major": 2,
       "version_minor": 0
      },
      "text/plain": [
       "dev set:   0%|          | 0/292 [00:00<?, ?it/s]"
      ]
     },
     "metadata": {},
     "output_type": "display_data"
    },
    {
     "name": "stdout",
     "output_type": "stream",
     "text": [
      "\n",
      "Train loss: 0.1540  Test loss: 1.4972\n",
      "Train accuracy: 0.9822  Test accuracy: 0.9041\n"
     ]
    },
    {
     "data": {
      "application/vnd.jupyter.widget-view+json": {
       "model_id": "0a3aa8151910492dab22f727db715be8",
       "version_major": 2,
       "version_minor": 0
      },
      "text/plain": [
       "training set:   0%|          | 0/1048 [00:00<?, ?it/s]"
      ]
     },
     "metadata": {},
     "output_type": "display_data"
    },
    {
     "data": {
      "application/vnd.jupyter.widget-view+json": {
       "model_id": "72c37e45a6f04257ac8f840c18e39dff",
       "version_major": 2,
       "version_minor": 0
      },
      "text/plain": [
       "dev set:   0%|          | 0/292 [00:00<?, ?it/s]"
      ]
     },
     "metadata": {},
     "output_type": "display_data"
    },
    {
     "name": "stdout",
     "output_type": "stream",
     "text": [
      "\n",
      "Train loss: 0.3034  Test loss: 1.4099\n",
      "Train accuracy: 0.9844  Test accuracy: 0.9167\n"
     ]
    },
    {
     "data": {
      "application/vnd.jupyter.widget-view+json": {
       "model_id": "0802c4efdb7d412c866209870541571b",
       "version_major": 2,
       "version_minor": 0
      },
      "text/plain": [
       "training set:   0%|          | 0/1048 [00:00<?, ?it/s]"
      ]
     },
     "metadata": {},
     "output_type": "display_data"
    },
    {
     "data": {
      "application/vnd.jupyter.widget-view+json": {
       "model_id": "ab71387a070d42c9934c3da70fd3d7b6",
       "version_major": 2,
       "version_minor": 0
      },
      "text/plain": [
       "dev set:   0%|          | 0/292 [00:00<?, ?it/s]"
      ]
     },
     "metadata": {},
     "output_type": "display_data"
    },
    {
     "name": "stdout",
     "output_type": "stream",
     "text": [
      "\n",
      "Train loss: 0.1764  Test loss: 1.3849\n",
      "Train accuracy: 0.9825  Test accuracy: 0.9098\n"
     ]
    }
   ],
   "source": [
    "train_loss, validation_loss,test_loss, train_acc, validation_acc, test_acc, best_acc, best_weights = train_test(\n",
    "                                                model,\n",
    "                                                hyperparameters['epochs'],\n",
    "                                                optimizer,\n",
    "                                                device,\n",
    "                                                train_dataset,\n",
    "                                                test_dataset,\n",
    "                                                hyperparameters['batch_size'],\n",
    "                                                hyperparameters['language_model'],\n",
    "                                                criterion,\n",
    "                                                \n",
    "                                               )\n",
    "with open(\"best_weight.pkl\", 'wb') as f:\n",
    "  pickle.dump(best_weights, f)\n",
    "\n"
   ]
  },
  {
   "cell_type": "code",
   "execution_count": 27,
   "metadata": {},
   "outputs": [
    {
     "data": {
      "image/png": "[encoded data removed]",
      "text/plain": [
       "<Figure size 640x480 with 1 Axes>"
      ]
     },
     "metadata": {},
     "output_type": "display_data"
    }
   ],
   "source": [
    "import matplotlib.pyplot as plt\n",
    "\n",
    "plt.plot(train_loss, label='training loss')\n",
    "plt.plot(validation_loss, label='validation loss')\n",
    "plt.plot(test_loss, label='test loss')\n",
    "plt.legend(loc='lower right')\n",
    "plt.show()"
   ]
  },
  {
   "cell_type": "code",
   "execution_count": 28,
   "metadata": {},
   "outputs": [
    {
     "data": {
      "image/png": "[encoded data removed]",
      "text/plain": [
       "<Figure size 640x480 with 1 Axes>"
      ]
     },
     "metadata": {},
     "output_type": "display_data"
    }
   ],
   "source": [
    "train_acc = [ np.array(x.cpu().float()) for x in train_acc ]\n",
    "validation_acc = [ np.array(x.cpu().float()) for x in validation_acc ]\n",
    "test_acc = [ np.array(x.cpu().float()) for x in test_acc ]\n",
    "\n",
    "\n",
    "plt.plot(train_acc, label='training accuracy')\n",
    "plt.plot(validation_acc, label='validation accuracy')\n",
    "plt.plot(test_acc, label='test accuracy')\n",
    "plt.legend(loc='lower right')\n",
    "plt.ylim(0,2)\n",
    "plt.show()"
   ]
  },
  {
   "cell_type": "code",
   "execution_count": 29,
   "metadata": {},
   "outputs": [
    {
     "data": {
      "application/vnd.jupyter.widget-view+json": {
       "model_id": "c83041ce4b9e4b07bd10d9908fcd4625",
       "version_major": 2,
       "version_minor": 0
      },
      "text/plain": [
       "Looking for hashtag:   0%|          | 0/810 [00:00<?, ?it/s]"
      ]
     },
     "metadata": {},
     "output_type": "display_data"
    },
    {
     "data": {
      "application/vnd.jupyter.widget-view+json": {
       "model_id": "cfa73b3f5f4c4d4587777bf137e7b5e1",
       "version_major": 2,
       "version_minor": 0
      },
      "text/plain": [
       "Tokenizing text ... :   0%|          | 0/583 [00:00<?, ?it/s]"
      ]
     },
     "metadata": {},
     "output_type": "display_data"
    },
    {
     "data": {
      "application/vnd.jupyter.widget-view+json": {
       "model_id": "c8d40ae1344b488db8ad7121f9c7b474",
       "version_major": 2,
       "version_minor": 0
      },
      "text/plain": [
       "Tokenizing text ... :   0%|          | 0/162 [00:00<?, ?it/s]"
      ]
     },
     "metadata": {},
     "output_type": "display_data"
    },
    {
     "data": {
      "application/vnd.jupyter.widget-view+json": {
       "model_id": "0e6460dbc6d0456289274f725be3964a",
       "version_major": 2,
       "version_minor": 0
      },
      "text/plain": [
       "  0%|          | 0/30 [00:00<?, ?it/s]"
      ]
     },
     "metadata": {},
     "output_type": "display_data"
    },
    {
     "data": {
      "application/vnd.jupyter.widget-view+json": {
       "model_id": "3932281f319042a29ee82ffe5b300896",
       "version_major": 2,
       "version_minor": 0
      },
      "text/plain": [
       "training set:   0%|          | 0/195 [00:00<?, ?it/s]"
      ]
     },
     "metadata": {},
     "output_type": "display_data"
    },
    {
     "data": {
      "application/vnd.jupyter.widget-view+json": {
       "model_id": "3f27145fd40741eb89cee828dc0f2f05",
       "version_major": 2,
       "version_minor": 0
      },
      "text/plain": [
       "dev set:   0%|          | 0/54 [00:00<?, ?it/s]"
      ]
     },
     "metadata": {},
     "output_type": "display_data"
    },
    {
     "name": "stdout",
     "output_type": "stream",
     "text": [
      "\n",
      "Train loss: 6.1052  Test loss: 1.2382\n",
      "Train accuracy: 0.3573  Test accuracy: 0.5123\n"
     ]
    },
    {
     "data": {
      "application/vnd.jupyter.widget-view+json": {
       "model_id": "1f41b4e9ccbb47cfac495091af7d351f",
       "version_major": 2,
       "version_minor": 0
      },
      "text/plain": [
       "training set:   0%|          | 0/195 [00:00<?, ?it/s]"
      ]
     },
     "metadata": {},
     "output_type": "display_data"
    },
    {
     "data": {
      "application/vnd.jupyter.widget-view+json": {
       "model_id": "3cefec824af645f6b9c20e82ae1ed1ef",
       "version_major": 2,
       "version_minor": 0
      },
      "text/plain": [
       "dev set:   0%|          | 0/54 [00:00<?, ?it/s]"
      ]
     },
     "metadata": {},
     "output_type": "display_data"
    },
    {
     "name": "stdout",
     "output_type": "stream",
     "text": [
      "\n",
      "Train loss: 6.2143  Test loss: 1.1608\n",
      "Train accuracy: 0.5026  Test accuracy: 0.5123\n"
     ]
    },
    {
     "data": {
      "application/vnd.jupyter.widget-view+json": {
       "model_id": "b2ea1500a5d14cf28bdab8bf1989e7c6",
       "version_major": 2,
       "version_minor": 0
      },
      "text/plain": [
       "training set:   0%|          | 0/195 [00:00<?, ?it/s]"
      ]
     },
     "metadata": {},
     "output_type": "display_data"
    },
    {
     "data": {
      "application/vnd.jupyter.widget-view+json": {
       "model_id": "1a4d930435824e5fa7a3e173ae13e1c6",
       "version_major": 2,
       "version_minor": 0
      },
      "text/plain": [
       "dev set:   0%|          | 0/54 [00:00<?, ?it/s]"
      ]
     },
     "metadata": {},
     "output_type": "display_data"
    },
    {
     "name": "stdout",
     "output_type": "stream",
     "text": [
      "\n",
      "Train loss: 4.1063  Test loss: 1.1189\n",
      "Train accuracy: 0.5385  Test accuracy: 0.5123\n"
     ]
    },
    {
     "data": {
      "application/vnd.jupyter.widget-view+json": {
       "model_id": "8a2b0800c65443c7a13118256610e229",
       "version_major": 2,
       "version_minor": 0
      },
      "text/plain": [
       "training set:   0%|          | 0/195 [00:00<?, ?it/s]"
      ]
     },
     "metadata": {},
     "output_type": "display_data"
    },
    {
     "data": {
      "application/vnd.jupyter.widget-view+json": {
       "model_id": "55f933cb4672490e901e9c3ad277c648",
       "version_major": 2,
       "version_minor": 0
      },
      "text/plain": [
       "dev set:   0%|          | 0/54 [00:00<?, ?it/s]"
      ]
     },
     "metadata": {},
     "output_type": "display_data"
    },
    {
     "name": "stdout",
     "output_type": "stream",
     "text": [
      "\n",
      "Train loss: 3.9353  Test loss: 1.0652\n",
      "Train accuracy: 0.5436  Test accuracy: 0.5123\n"
     ]
    },
    {
     "data": {
      "application/vnd.jupyter.widget-view+json": {
       "model_id": "feccbc0ed0354a9892b4e86c787f8b71",
       "version_major": 2,
       "version_minor": 0
      },
      "text/plain": [
       "training set:   0%|          | 0/195 [00:00<?, ?it/s]"
      ]
     },
     "metadata": {},
     "output_type": "display_data"
    },
    {
     "data": {
      "application/vnd.jupyter.widget-view+json": {
       "model_id": "558c3d155aa046caa0c619be836afade",
       "version_major": 2,
       "version_minor": 0
      },
      "text/plain": [
       "dev set:   0%|          | 0/54 [00:00<?, ?it/s]"
      ]
     },
     "metadata": {},
     "output_type": "display_data"
    },
    {
     "name": "stdout",
     "output_type": "stream",
     "text": [
      "\n",
      "Train loss: 3.8276  Test loss: 0.9722\n",
      "Train accuracy: 0.5915  Test accuracy: 0.6173\n"
     ]
    },
    {
     "data": {
      "application/vnd.jupyter.widget-view+json": {
       "model_id": "9330a5385f9744dea0bfdab0ae548902",
       "version_major": 2,
       "version_minor": 0
      },
      "text/plain": [
       "training set:   0%|          | 0/195 [00:00<?, ?it/s]"
      ]
     },
     "metadata": {},
     "output_type": "display_data"
    },
    {
     "data": {
      "application/vnd.jupyter.widget-view+json": {
       "model_id": "75f36ebccb6f4458be6254490a372916",
       "version_major": 2,
       "version_minor": 0
      },
      "text/plain": [
       "dev set:   0%|          | 0/54 [00:00<?, ?it/s]"
      ]
     },
     "metadata": {},
     "output_type": "display_data"
    },
    {
     "name": "stdout",
     "output_type": "stream",
     "text": [
      "\n",
      "Train loss: 3.7373  Test loss: 0.8927\n",
      "Train accuracy: 0.6855  Test accuracy: 0.6420\n"
     ]
    },
    {
     "data": {
      "application/vnd.jupyter.widget-view+json": {
       "model_id": "8f114b96923f4c16958ce4aa21aeaeb2",
       "version_major": 2,
       "version_minor": 0
      },
      "text/plain": [
       "training set:   0%|          | 0/195 [00:00<?, ?it/s]"
      ]
     },
     "metadata": {},
     "output_type": "display_data"
    },
    {
     "data": {
      "application/vnd.jupyter.widget-view+json": {
       "model_id": "92b4a0fceddf4b75af75949dc82f2867",
       "version_major": 2,
       "version_minor": 0
      },
      "text/plain": [
       "dev set:   0%|          | 0/54 [00:00<?, ?it/s]"
      ]
     },
     "metadata": {},
     "output_type": "display_data"
    },
    {
     "name": "stdout",
     "output_type": "stream",
     "text": [
      "\n",
      "Train loss: 4.1452  Test loss: 0.8457\n",
      "Train accuracy: 0.7282  Test accuracy: 0.6667\n"
     ]
    },
    {
     "data": {
      "application/vnd.jupyter.widget-view+json": {
       "model_id": "2aea8bf2ee9449cfb136cce8dde2b161",
       "version_major": 2,
       "version_minor": 0
      },
      "text/plain": [
       "training set:   0%|          | 0/195 [00:00<?, ?it/s]"
      ]
     },
     "metadata": {},
     "output_type": "display_data"
    },
    {
     "data": {
      "application/vnd.jupyter.widget-view+json": {
       "model_id": "c3fab5fc643e4d1d831cd35d7c8cbd44",
       "version_major": 2,
       "version_minor": 0
      },
      "text/plain": [
       "dev set:   0%|          | 0/54 [00:00<?, ?it/s]"
      ]
     },
     "metadata": {},
     "output_type": "display_data"
    },
    {
     "name": "stdout",
     "output_type": "stream",
     "text": [
      "\n",
      "Train loss: 3.5428  Test loss: 0.7782\n",
      "Train accuracy: 0.7658  Test accuracy: 0.7531\n"
     ]
    },
    {
     "data": {
      "application/vnd.jupyter.widget-view+json": {
       "model_id": "f33643e22cbf4dea9fd73d2e4766bbaa",
       "version_major": 2,
       "version_minor": 0
      },
      "text/plain": [
       "training set:   0%|          | 0/195 [00:00<?, ?it/s]"
      ]
     },
     "metadata": {},
     "output_type": "display_data"
    },
    {
     "data": {
      "application/vnd.jupyter.widget-view+json": {
       "model_id": "85b513434c9d48e0bf3f1e6e4bcde171",
       "version_major": 2,
       "version_minor": 0
      },
      "text/plain": [
       "dev set:   0%|          | 0/54 [00:00<?, ?it/s]"
      ]
     },
     "metadata": {},
     "output_type": "display_data"
    },
    {
     "name": "stdout",
     "output_type": "stream",
     "text": [
      "\n",
      "Train loss: 2.9052  Test loss: 0.7429\n",
      "Train accuracy: 0.8222  Test accuracy: 0.8210\n"
     ]
    },
    {
     "data": {
      "application/vnd.jupyter.widget-view+json": {
       "model_id": "8720ecd189c64c538bba7f686908480f",
       "version_major": 2,
       "version_minor": 0
      },
      "text/plain": [
       "training set:   0%|          | 0/195 [00:00<?, ?it/s]"
      ]
     },
     "metadata": {},
     "output_type": "display_data"
    },
    {
     "data": {
      "application/vnd.jupyter.widget-view+json": {
       "model_id": "5d463d746025467382d6a66be4492cd1",
       "version_major": 2,
       "version_minor": 0
      },
      "text/plain": [
       "dev set:   0%|          | 0/54 [00:00<?, ?it/s]"
      ]
     },
     "metadata": {},
     "output_type": "display_data"
    },
    {
     "name": "stdout",
     "output_type": "stream",
     "text": [
      "\n",
      "Train loss: 2.3524  Test loss: 0.7120\n",
      "Train accuracy: 0.8718  Test accuracy: 0.7778\n"
     ]
    },
    {
     "data": {
      "application/vnd.jupyter.widget-view+json": {
       "model_id": "afe8d11e45524fbe94e13d016e1678bf",
       "version_major": 2,
       "version_minor": 0
      },
      "text/plain": [
       "training set:   0%|          | 0/195 [00:00<?, ?it/s]"
      ]
     },
     "metadata": {},
     "output_type": "display_data"
    },
    {
     "data": {
      "application/vnd.jupyter.widget-view+json": {
       "model_id": "6bc8167fa0ad452c8e80d674256dc0fc",
       "version_major": 2,
       "version_minor": 0
      },
      "text/plain": [
       "dev set:   0%|          | 0/54 [00:00<?, ?it/s]"
      ]
     },
     "metadata": {},
     "output_type": "display_data"
    },
    {
     "name": "stdout",
     "output_type": "stream",
     "text": [
      "\n",
      "Train loss: 2.4331  Test loss: 0.6852\n",
      "Train accuracy: 0.8906  Test accuracy: 0.8148\n"
     ]
    },
    {
     "data": {
      "application/vnd.jupyter.widget-view+json": {
       "model_id": "364e341f04c84b5497f90d8e13464a2f",
       "version_major": 2,
       "version_minor": 0
      },
      "text/plain": [
       "training set:   0%|          | 0/195 [00:00<?, ?it/s]"
      ]
     },
     "metadata": {},
     "output_type": "display_data"
    },
    {
     "data": {
      "application/vnd.jupyter.widget-view+json": {
       "model_id": "2f32ff4d1079444d95275865ef42692e",
       "version_major": 2,
       "version_minor": 0
      },
      "text/plain": [
       "dev set:   0%|          | 0/54 [00:00<?, ?it/s]"
      ]
     },
     "metadata": {},
     "output_type": "display_data"
    },
    {
     "name": "stdout",
     "output_type": "stream",
     "text": [
      "\n",
      "Train loss: 2.2154  Test loss: 0.6602\n",
      "Train accuracy: 0.9145  Test accuracy: 0.8025\n"
     ]
    },
    {
     "data": {
      "application/vnd.jupyter.widget-view+json": {
       "model_id": "49c1502a89b548b6a7cddfe0bc8df45e",
       "version_major": 2,
       "version_minor": 0
      },
      "text/plain": [
       "training set:   0%|          | 0/195 [00:00<?, ?it/s]"
      ]
     },
     "metadata": {},
     "output_type": "display_data"
    },
    {
     "data": {
      "application/vnd.jupyter.widget-view+json": {
       "model_id": "67667ca2fccc430bbd05976cb4163408",
       "version_major": 2,
       "version_minor": 0
      },
      "text/plain": [
       "dev set:   0%|          | 0/54 [00:00<?, ?it/s]"
      ]
     },
     "metadata": {},
     "output_type": "display_data"
    },
    {
     "name": "stdout",
     "output_type": "stream",
     "text": [
      "\n",
      "Train loss: 2.9411  Test loss: 0.6543\n",
      "Train accuracy: 0.9299  Test accuracy: 0.8148\n"
     ]
    },
    {
     "data": {
      "application/vnd.jupyter.widget-view+json": {
       "model_id": "c8ac8f155b7e4163820696d288d35275",
       "version_major": 2,
       "version_minor": 0
      },
      "text/plain": [
       "training set:   0%|          | 0/195 [00:00<?, ?it/s]"
      ]
     },
     "metadata": {},
     "output_type": "display_data"
    },
    {
     "data": {
      "application/vnd.jupyter.widget-view+json": {
       "model_id": "675d74b2454747049d85e871351a1795",
       "version_major": 2,
       "version_minor": 0
      },
      "text/plain": [
       "dev set:   0%|          | 0/54 [00:00<?, ?it/s]"
      ]
     },
     "metadata": {},
     "output_type": "display_data"
    },
    {
     "name": "stdout",
     "output_type": "stream",
     "text": [
      "\n",
      "Train loss: 3.6142  Test loss: 0.6517\n",
      "Train accuracy: 0.9470  Test accuracy: 0.7963\n"
     ]
    },
    {
     "data": {
      "application/vnd.jupyter.widget-view+json": {
       "model_id": "cc6be2a74c694b08b278b463be39534f",
       "version_major": 2,
       "version_minor": 0
      },
      "text/plain": [
       "training set:   0%|          | 0/195 [00:00<?, ?it/s]"
      ]
     },
     "metadata": {},
     "output_type": "display_data"
    },
    {
     "data": {
      "application/vnd.jupyter.widget-view+json": {
       "model_id": "34452fcc897445dfbedb4b46ad893a65",
       "version_major": 2,
       "version_minor": 0
      },
      "text/plain": [
       "dev set:   0%|          | 0/54 [00:00<?, ?it/s]"
      ]
     },
     "metadata": {},
     "output_type": "display_data"
    },
    {
     "name": "stdout",
     "output_type": "stream",
     "text": [
      "\n",
      "Train loss: 2.8518  Test loss: 0.6374\n",
      "Train accuracy: 0.9487  Test accuracy: 0.7901\n"
     ]
    },
    {
     "data": {
      "application/vnd.jupyter.widget-view+json": {
       "model_id": "da862976d7674f70832ce53baec07435",
       "version_major": 2,
       "version_minor": 0
      },
      "text/plain": [
       "training set:   0%|          | 0/195 [00:00<?, ?it/s]"
      ]
     },
     "metadata": {},
     "output_type": "display_data"
    },
    {
     "data": {
      "application/vnd.jupyter.widget-view+json": {
       "model_id": "cc5e4903f8bb43a08e647cf2f17989ef",
       "version_major": 2,
       "version_minor": 0
      },
      "text/plain": [
       "dev set:   0%|          | 0/54 [00:00<?, ?it/s]"
      ]
     },
     "metadata": {},
     "output_type": "display_data"
    },
    {
     "name": "stdout",
     "output_type": "stream",
     "text": [
      "\n",
      "Train loss: 0.8312  Test loss: 0.6269\n",
      "Train accuracy: 0.9692  Test accuracy: 0.7840\n"
     ]
    },
    {
     "data": {
      "application/vnd.jupyter.widget-view+json": {
       "model_id": "f989856bee09493a95d56a934a11f159",
       "version_major": 2,
       "version_minor": 0
      },
      "text/plain": [
       "training set:   0%|          | 0/195 [00:00<?, ?it/s]"
      ]
     },
     "metadata": {},
     "output_type": "display_data"
    },
    {
     "data": {
      "application/vnd.jupyter.widget-view+json": {
       "model_id": "30c83a253e2b468c92ca864e4e7732cf",
       "version_major": 2,
       "version_minor": 0
      },
      "text/plain": [
       "dev set:   0%|          | 0/54 [00:00<?, ?it/s]"
      ]
     },
     "metadata": {},
     "output_type": "display_data"
    },
    {
     "name": "stdout",
     "output_type": "stream",
     "text": [
      "\n",
      "Train loss: 1.8253  Test loss: 0.6246\n",
      "Train accuracy: 0.9778  Test accuracy: 0.8086\n"
     ]
    },
    {
     "data": {
      "application/vnd.jupyter.widget-view+json": {
       "model_id": "fb8ace82533b4b179ed14ce953540183",
       "version_major": 2,
       "version_minor": 0
      },
      "text/plain": [
       "training set:   0%|          | 0/195 [00:00<?, ?it/s]"
      ]
     },
     "metadata": {},
     "output_type": "display_data"
    },
    {
     "data": {
      "application/vnd.jupyter.widget-view+json": {
       "model_id": "54c9f90062f94a7eb5534eb2107a912e",
       "version_major": 2,
       "version_minor": 0
      },
      "text/plain": [
       "dev set:   0%|          | 0/54 [00:00<?, ?it/s]"
      ]
     },
     "metadata": {},
     "output_type": "display_data"
    },
    {
     "name": "stdout",
     "output_type": "stream",
     "text": [
      "\n",
      "Train loss: 1.9460  Test loss: 0.6370\n",
      "Train accuracy: 0.9744  Test accuracy: 0.7778\n"
     ]
    },
    {
     "data": {
      "application/vnd.jupyter.widget-view+json": {
       "model_id": "71ff911a941c4759914966a6c9b3bc1d",
       "version_major": 2,
       "version_minor": 0
      },
      "text/plain": [
       "training set:   0%|          | 0/195 [00:00<?, ?it/s]"
      ]
     },
     "metadata": {},
     "output_type": "display_data"
    },
    {
     "data": {
      "application/vnd.jupyter.widget-view+json": {
       "model_id": "06ed90da19ee4eeeb26e70292903e34f",
       "version_major": 2,
       "version_minor": 0
      },
      "text/plain": [
       "dev set:   0%|          | 0/54 [00:00<?, ?it/s]"
      ]
     },
     "metadata": {},
     "output_type": "display_data"
    },
    {
     "name": "stdout",
     "output_type": "stream",
     "text": [
      "\n",
      "Train loss: 1.2122  Test loss: 0.6298\n",
      "Train accuracy: 0.9795  Test accuracy: 0.7963\n"
     ]
    },
    {
     "data": {
      "application/vnd.jupyter.widget-view+json": {
       "model_id": "c93ccfbd982542a8976cc97bdc3e53db",
       "version_major": 2,
       "version_minor": 0
      },
      "text/plain": [
       "training set:   0%|          | 0/195 [00:00<?, ?it/s]"
      ]
     },
     "metadata": {},
     "output_type": "display_data"
    },
    {
     "data": {
      "application/vnd.jupyter.widget-view+json": {
       "model_id": "41995b71cc2a46e984c654af5b3f7cbc",
       "version_major": 2,
       "version_minor": 0
      },
      "text/plain": [
       "dev set:   0%|          | 0/54 [00:00<?, ?it/s]"
      ]
     },
     "metadata": {},
     "output_type": "display_data"
    },
    {
     "name": "stdout",
     "output_type": "stream",
     "text": [
      "\n",
      "Train loss: 2.7176  Test loss: 0.6158\n",
      "Train accuracy: 0.9846  Test accuracy: 0.7963\n"
     ]
    },
    {
     "data": {
      "application/vnd.jupyter.widget-view+json": {
       "model_id": "3286ef1b6d6845eeb5808956dea4b485",
       "version_major": 2,
       "version_minor": 0
      },
      "text/plain": [
       "training set:   0%|          | 0/195 [00:00<?, ?it/s]"
      ]
     },
     "metadata": {},
     "output_type": "display_data"
    },
    {
     "data": {
      "application/vnd.jupyter.widget-view+json": {
       "model_id": "5b5bfdcc41114490a0a549ff5f300836",
       "version_major": 2,
       "version_minor": 0
      },
      "text/plain": [
       "dev set:   0%|          | 0/54 [00:00<?, ?it/s]"
      ]
     },
     "metadata": {},
     "output_type": "display_data"
    },
    {
     "name": "stdout",
     "output_type": "stream",
     "text": [
      "\n",
      "Train loss: 2.0383  Test loss: 0.6468\n",
      "Train accuracy: 0.9829  Test accuracy: 0.7654\n"
     ]
    },
    {
     "data": {
      "application/vnd.jupyter.widget-view+json": {
       "model_id": "8b981cd8ce7c45a192ae1124f73eb689",
       "version_major": 2,
       "version_minor": 0
      },
      "text/plain": [
       "training set:   0%|          | 0/195 [00:00<?, ?it/s]"
      ]
     },
     "metadata": {},
     "output_type": "display_data"
    },
    {
     "data": {
      "application/vnd.jupyter.widget-view+json": {
       "model_id": "370a497498c74a35b6da73cfce4402e9",
       "version_major": 2,
       "version_minor": 0
      },
      "text/plain": [
       "dev set:   0%|          | 0/54 [00:00<?, ?it/s]"
      ]
     },
     "metadata": {},
     "output_type": "display_data"
    },
    {
     "name": "stdout",
     "output_type": "stream",
     "text": [
      "\n",
      "Train loss: 1.2169  Test loss: 0.6410\n",
      "Train accuracy: 0.9897  Test accuracy: 0.7778\n"
     ]
    },
    {
     "data": {
      "application/vnd.jupyter.widget-view+json": {
       "model_id": "192f6165ee9a4869b6e3be539179095a",
       "version_major": 2,
       "version_minor": 0
      },
      "text/plain": [
       "training set:   0%|          | 0/195 [00:00<?, ?it/s]"
      ]
     },
     "metadata": {},
     "output_type": "display_data"
    },
    {
     "data": {
      "application/vnd.jupyter.widget-view+json": {
       "model_id": "a3061208e19c48eea0d031230a10d33c",
       "version_major": 2,
       "version_minor": 0
      },
      "text/plain": [
       "dev set:   0%|          | 0/54 [00:00<?, ?it/s]"
      ]
     },
     "metadata": {},
     "output_type": "display_data"
    },
    {
     "name": "stdout",
     "output_type": "stream",
     "text": [
      "\n",
      "Train loss: 0.5441  Test loss: 0.6458\n",
      "Train accuracy: 0.9915  Test accuracy: 0.7593\n"
     ]
    },
    {
     "data": {
      "application/vnd.jupyter.widget-view+json": {
       "model_id": "c91f1829f09d4b7a951689eb11b514dc",
       "version_major": 2,
       "version_minor": 0
      },
      "text/plain": [
       "training set:   0%|          | 0/195 [00:00<?, ?it/s]"
      ]
     },
     "metadata": {},
     "output_type": "display_data"
    },
    {
     "data": {
      "application/vnd.jupyter.widget-view+json": {
       "model_id": "00ed6faa422048f1ab3f4fe8d2921d8d",
       "version_major": 2,
       "version_minor": 0
      },
      "text/plain": [
       "dev set:   0%|          | 0/54 [00:00<?, ?it/s]"
      ]
     },
     "metadata": {},
     "output_type": "display_data"
    },
    {
     "name": "stdout",
     "output_type": "stream",
     "text": [
      "\n",
      "Train loss: 1.5281  Test loss: 0.6519\n",
      "Train accuracy: 0.9880  Test accuracy: 0.7716\n"
     ]
    },
    {
     "data": {
      "application/vnd.jupyter.widget-view+json": {
       "model_id": "666886cddef844e492696a4aa130fd06",
       "version_major": 2,
       "version_minor": 0
      },
      "text/plain": [
       "training set:   0%|          | 0/195 [00:00<?, ?it/s]"
      ]
     },
     "metadata": {},
     "output_type": "display_data"
    },
    {
     "data": {
      "application/vnd.jupyter.widget-view+json": {
       "model_id": "26a1c3a38c034df4af3b7d28d64bc495",
       "version_major": 2,
       "version_minor": 0
      },
      "text/plain": [
       "dev set:   0%|          | 0/54 [00:00<?, ?it/s]"
      ]
     },
     "metadata": {},
     "output_type": "display_data"
    },
    {
     "name": "stdout",
     "output_type": "stream",
     "text": [
      "\n",
      "Train loss: 0.9883  Test loss: 0.6504\n",
      "Train accuracy: 0.9915  Test accuracy: 0.7469\n"
     ]
    },
    {
     "data": {
      "application/vnd.jupyter.widget-view+json": {
       "model_id": "2cb1acad23ce4242b66908cdc1073307",
       "version_major": 2,
       "version_minor": 0
      },
      "text/plain": [
       "training set:   0%|          | 0/195 [00:00<?, ?it/s]"
      ]
     },
     "metadata": {},
     "output_type": "display_data"
    },
    {
     "data": {
      "application/vnd.jupyter.widget-view+json": {
       "model_id": "7db5f83414d848e29343910c07a882af",
       "version_major": 2,
       "version_minor": 0
      },
      "text/plain": [
       "dev set:   0%|          | 0/54 [00:00<?, ?it/s]"
      ]
     },
     "metadata": {},
     "output_type": "display_data"
    },
    {
     "name": "stdout",
     "output_type": "stream",
     "text": [
      "\n",
      "Train loss: 1.1615  Test loss: 0.6543\n",
      "Train accuracy: 0.9949  Test accuracy: 0.7654\n"
     ]
    },
    {
     "data": {
      "application/vnd.jupyter.widget-view+json": {
       "model_id": "a19a0f6a62454b148ae20d7f30964b44",
       "version_major": 2,
       "version_minor": 0
      },
      "text/plain": [
       "training set:   0%|          | 0/195 [00:00<?, ?it/s]"
      ]
     },
     "metadata": {},
     "output_type": "display_data"
    },
    {
     "data": {
      "application/vnd.jupyter.widget-view+json": {
       "model_id": "a534fbb3b9e04c96a71f412192fe551f",
       "version_major": 2,
       "version_minor": 0
      },
      "text/plain": [
       "dev set:   0%|          | 0/54 [00:00<?, ?it/s]"
      ]
     },
     "metadata": {},
     "output_type": "display_data"
    },
    {
     "name": "stdout",
     "output_type": "stream",
     "text": [
      "\n",
      "Train loss: 1.5263  Test loss: 0.6652\n",
      "Train accuracy: 0.9949  Test accuracy: 0.7654\n"
     ]
    },
    {
     "data": {
      "application/vnd.jupyter.widget-view+json": {
       "model_id": "9962ad25ba0a4c80b4290c0a8c1a4cb2",
       "version_major": 2,
       "version_minor": 0
      },
      "text/plain": [
       "training set:   0%|          | 0/195 [00:00<?, ?it/s]"
      ]
     },
     "metadata": {},
     "output_type": "display_data"
    },
    {
     "data": {
      "application/vnd.jupyter.widget-view+json": {
       "model_id": "d368ea47eccd461a9f6b9c2856a70dce",
       "version_major": 2,
       "version_minor": 0
      },
      "text/plain": [
       "dev set:   0%|          | 0/54 [00:00<?, ?it/s]"
      ]
     },
     "metadata": {},
     "output_type": "display_data"
    },
    {
     "name": "stdout",
     "output_type": "stream",
     "text": [
      "\n",
      "Train loss: 0.7406  Test loss: 0.6626\n",
      "Train accuracy: 0.9949  Test accuracy: 0.7593\n"
     ]
    },
    {
     "data": {
      "application/vnd.jupyter.widget-view+json": {
       "model_id": "39bf90b278494139968d512d16667ac7",
       "version_major": 2,
       "version_minor": 0
      },
      "text/plain": [
       "training set:   0%|          | 0/195 [00:00<?, ?it/s]"
      ]
     },
     "metadata": {},
     "output_type": "display_data"
    },
    {
     "data": {
      "application/vnd.jupyter.widget-view+json": {
       "model_id": "313c6593d86b43aeb0b907b5718c4c79",
       "version_major": 2,
       "version_minor": 0
      },
      "text/plain": [
       "dev set:   0%|          | 0/54 [00:00<?, ?it/s]"
      ]
     },
     "metadata": {},
     "output_type": "display_data"
    },
    {
     "name": "stdout",
     "output_type": "stream",
     "text": [
      "\n",
      "Train loss: 1.1693  Test loss: 0.6765\n",
      "Train accuracy: 0.9932  Test accuracy: 0.7840\n"
     ]
    },
    {
     "data": {
      "application/vnd.jupyter.widget-view+json": {
       "model_id": "b6eeb29e72344f91baabbd4fe7c1003d",
       "version_major": 2,
       "version_minor": 0
      },
      "text/plain": [
       "training set:   0%|          | 0/195 [00:00<?, ?it/s]"
      ]
     },
     "metadata": {},
     "output_type": "display_data"
    },
    {
     "data": {
      "application/vnd.jupyter.widget-view+json": {
       "model_id": "6ef30c42470f4270a9faf9def7d88ab1",
       "version_major": 2,
       "version_minor": 0
      },
      "text/plain": [
       "dev set:   0%|          | 0/54 [00:00<?, ?it/s]"
      ]
     },
     "metadata": {},
     "output_type": "display_data"
    },
    {
     "name": "stdout",
     "output_type": "stream",
     "text": [
      "\n",
      "Train loss: 0.4135  Test loss: 0.6689\n",
      "Train accuracy: 0.9983  Test accuracy: 0.7716\n"
     ]
    }
   ],
   "source": [
    "dataset = pd.read_csv(f'{root}subtaskB_train.csv',  header=0,  names=['text', 'explicit_label', 'label'])\n",
    "dataset = dataset.drop(columns=['explicit_label'])\n",
    "dataset['text'] = dataset['text'].apply(lambda x: x.replace('\\r', ' ').replace('\\n', ' '))\n",
    "dataset = add_hashtag(dataset)\n",
    "dataset = shuffle(dataset, random_state=42)\n",
    "\n",
    "(x_train_original_dataset, x_test_original_dataset, hashtag_train_original_dataset, hashtag_test_original_dataset,y_train_original_dataset, y_test_original_dataset) = train_test_split(dataset['text'], dataset['hashtag'] ,dataset['label'], test_size=0.2, random_state=42)\n",
    "\n",
    "(x_train_original_dataset, x_val_original_dataset, hashtag_train_original_dataset, hashtag_val_original_dataset, y_train_original_dataset, y_val_original_dataset) = train_test_split( x_train_original_dataset,hashtag_train_original_dataset, y_train_original_dataset, test_size=0.1, random_state=42)\n",
    "\n",
    "train_dataset_original_dataset = Dataset(x_train_original_dataset,hashtag_train_original_dataset, y_train_original_dataset, hyperparameters[\"stopwords\"])\n",
    "#val_dataset_original_dataset = Dataset(x_val_original_dataset,char_count_val_original_dataset,emoji_val_original_dataset,hashtag_val_original_dataset, y_val_original_dataset, hyperparameters[\"stopwords\"])\n",
    "test_dataset_original_dataset = Dataset(x_test_original_dataset,hashtag_test_original_dataset, y_test_original_dataset, hyperparameters[\"stopwords\"])\n",
    "\n",
    "\n",
    "model = ClassifierDeep(hyperparameters[\"#_classes\"],\n",
    "                    hyperparameters[\"h_dim\"],\n",
    "                    hyperparameters[\"dropout\"],\n",
    "                    hyperparameters[\"language_model\"]).to(device)\n",
    "\n",
    "#La funzione di loss va modificata in base al parametro #_classes\n",
    "criterion = nn.CrossEntropyLoss()\n",
    "optimizer = Adam(model.parameters(), lr=hyperparameters[\"learning_rate\"])\n",
    "\n",
    "# Creiamo la callback di early stopping da passare al nostro metodo di addestramento\n",
    "early_stopping = EarlyStopping(patience=hyperparameters['patience'],\n",
    "                               min_delta=hyperparameters['min_delta'])\n",
    "\n",
    "\n",
    "train_loss_original_dataset, validation_loss_original_dataset,test_loss_original_dataset, train_acc_original_dataset, validation_acc_original_dataset, test_acc_original_dataset, best_acc, best_weights = train_test(\n",
    "                                                model,\n",
    "                                                hyperparameters['epochs'],\n",
    "                                                optimizer,\n",
    "                                                device,\n",
    "                                                train_dataset_original_dataset,\n",
    "                                                test_dataset_original_dataset,\n",
    "                                                hyperparameters['batch_size'],\n",
    "                                                hyperparameters['language_model'],\n",
    "                                                criterion,\n",
    "                                                criterion,\n",
    "                                                None,\n",
    "                                                None)\n",
    "with open(\"best_weight_original.pkl\", 'wb') as f:\n",
    "  pickle.dump(best_weights, f)\n"
   ]
  },
  {
   "cell_type": "code",
   "execution_count": 30,
   "metadata": {},
   "outputs": [
    {
     "data": {
      "image/png": "[encoded data removed]",
      "text/plain": [
       "<Figure size 640x480 with 1 Axes>"
      ]
     },
     "metadata": {},
     "output_type": "display_data"
    }
   ],
   "source": [
    "plt.plot(train_loss_original_dataset, label='training loss')\n",
    "plt.plot(validation_loss_original_dataset, label='validation loss')\n",
    "plt.plot(test_loss_original_dataset, label='test loss')\n",
    "plt.legend(loc='lower right')\n",
    "plt.show()"
   ]
  },
  {
   "cell_type": "code",
   "execution_count": 31,
   "metadata": {},
   "outputs": [
    {
     "data": {
      "image/png": "[encoded data removed]",
      "text/plain": [
       "<Figure size 640x480 with 1 Axes>"
      ]
     },
     "metadata": {},
     "output_type": "display_data"
    }
   ],
   "source": [
    "train_acc_original_dataset = [ np.array(x.cpu().float()) for x in train_acc_original_dataset ]\n",
    "validation_acc_original_dataset = [ np.array(x.cpu().float()) for x in validation_acc_original_dataset ]\n",
    "test_acc_original_dataset = [ np.array(x.cpu().float()) for x in test_acc_original_dataset ]\n",
    "\n",
    "plt.plot(train_acc_original_dataset, label='training accuracy')\n",
    "plt.plot(validation_acc_original_dataset, label='validation accuracy')\n",
    "plt.plot(test_acc_original_dataset, label='test accuracy')\n",
    "plt.legend(loc='lower right')\n",
    "plt.ylim(0,2)\n",
    "plt.show()"
   ]
  },
  {
   "cell_type": "code",
   "execution_count": null,
   "metadata": {},
   "outputs": [],
   "source": [
    "with open(\"best_weight_original.pkl\", 'rb') as f:\n",
    "  weights = pickle.load(f)\n",
    "\n",
    "device = torch.device(\"cuda\" if torch.cuda.is_available() else \"cpu\")\n",
    "\n",
    "tokenizer = AutoTokenizer.from_pretrained(hyperparameters[\"language_model\"])\n",
    "\n",
    "\n",
    "result_dataset = pd.DataFrame(columns=['Id', 'predicted_label'])\n",
    "result_dataset.set_index('Id', inplace=True)\n",
    "\n",
    "\n",
    "model = ClassifierDeep(hyperparameters[\"#_classes\"],\n",
    "                    hyperparameters[\"h_dim\"],\n",
    "                    hyperparameters[\"dropout\"],\n",
    "                    hyperparameters[\"language_model\"]).to(device)\n",
    "model.load_state_dict(weights)\n",
    "\n",
    "model.eval()\n",
    "\n",
    "test_set = pd.read_csv(f'{root}subtaskB_test.csv',  header=0, names=['id', 'text'])\n",
    "test_set['text'] = test_set['text'].apply(lambda x: x.replace('\\r', ' ').replace('\\n', ' '))\n",
    "test_set = add_hashtag(test_set)\n",
    "test_set.drop(columns=['id'], inplace=True)\n",
    "\n",
    "batch_size = 5\n",
    "\n",
    "with torch.no_grad():\n",
    "    for i in tqdm(range(0,len(test_set),batch_size)):\n",
    "        tokens = tokenizer(list(test_set[\"text\"].iloc[i:i+batch_size]), add_special_tokens=True,\n",
    "                                   return_tensors='pt', padding='max_length',\n",
    "                                   max_length = 512, truncation=True)\n",
    "    \n",
    "        tokens_hashtag = tokenizer(list(test_set[\"hashtag\"].iloc[i:i+batch_size]), add_special_tokens=True,\n",
    "                                return_tensors='pt', padding='max_length',\n",
    "                                max_length = 32, truncation=True)\n",
    "    \n",
    "        input_id_texts = tokens['input_ids'].squeeze(1).to(device)\n",
    "        mask_texts = tokens['attention_mask'].squeeze(1).to(device)\n",
    "    \n",
    "        input_id_hashtag = tokens_hashtag['input_ids'].squeeze(1).to(device)\n",
    "        mask_hashtag = tokens_hashtag['attention_mask'].squeeze(1).to(device)\n",
    "    \n",
    "        output = model(input_id_texts, mask_texts, input_id_hashtag)\n",
    "        softmax = nn.LogSoftmax(dim=1)\n",
    "        output = softmax(output).argmax(dim=1)\n",
    "        \n",
    "        input_id_texts = input_id_texts.detach().cpu()\n",
    "        mask_texts = mask_texts.detach().cpu()\n",
    "        output = output.detach().cpu()\n",
    "        output = [int(i[0]) for i in output]\n",
    "        current_results = pd.DataFrame({'predicted_label':output})\n",
    "        \n",
    "        result_dataset = pd.concat([result_dataset,current_results],ignore_index=True)\n",
    "\n",
    "\n",
    "result_dataset.to_csv('results_original_datset.csv')\n",
    "result_dataset.head()"
   ]
  },
  {
   "cell_type": "code",
   "execution_count": null,
   "metadata": {},
   "outputs": [],
   "source": [
    "with open(\"best_weight.pkl\", 'rb') as f:\n",
    "  weights = pickle.load(f)\n",
    "\n",
    "device = torch.device(\"cuda\" if torch.cuda.is_available() else \"cpu\")\n",
    "\n",
    "tokenizer = AutoTokenizer.from_pretrained(hyperparameters[\"language_model\"])\n",
    "\n",
    "\n",
    "result_dataset = pd.DataFrame(columns=['Id', 'predicted_label'])\n",
    "result_dataset.set_index('Id', inplace=True)\n",
    "\n",
    "\n",
    "model = ClassifierDeep(hyperparameters[\"#_classes\"],\n",
    "                    hyperparameters[\"h_dim\"],\n",
    "                    hyperparameters[\"dropout\"],\n",
    "                    hyperparameters[\"language_model\"]).to(device)\n",
    "model.load_state_dict(weights)\n",
    "\n",
    "model.eval()\n",
    "\n",
    "test_set = pd.read_csv(f'{root}subtaskB_test.csv',  header=0, names=['id', 'text'])\n",
    "test_set['text'] = test_set['text'].apply(lambda x: x.replace('\\r', ' ').replace('\\n', ' '))\n",
    "test_set = add_hashtag(test_set)\n",
    "test_set.drop(columns=['id'], inplace=True)\n",
    "\n",
    "batch_size = 5\n",
    "\n",
    "with torch.no_grad():\n",
    "    for i in tqdm(range(0,len(test_set),batch_size)):\n",
    "        tokens = tokenizer(list(test_set[\"text\"].iloc[i:i+batch_size]), add_special_tokens=True,\n",
    "                                   return_tensors='pt', padding='max_length',\n",
    "                                   max_length = 512, truncation=True)\n",
    "    \n",
    "        \n",
    "        tokens_hashtag = tokenizer(list(test_set[\"hashtag\"].iloc[i:i+batch_size]), add_special_tokens=True,\n",
    "                                return_tensors='pt', padding='max_length',\n",
    "                                max_length = 32, truncation=True)\n",
    "    \n",
    "        input_id_texts = tokens['input_ids'].squeeze(1).to(device)\n",
    "        mask_texts = tokens['attention_mask'].squeeze(1).to(device)\n",
    "    \n",
    "        input_id_hashtag = tokens_hashtag['input_ids'].squeeze(1).to(device)\n",
    "        mask_hashtag = tokens_hashtag['attention_mask'].squeeze(1).to(device)\n",
    "    \n",
    "        output = model(input_id_texts, mask_texts, input_id_hashtag)\n",
    "        softmax = nn.LogSoftmax(dim=1)\n",
    "        output = softmax(output).argmax(dim=1)\n",
    "        \n",
    "        input_id_texts = input_id_texts.detach().cpu()\n",
    "        mask_texts = mask_texts.detach().cpu()\n",
    "        output = output.detach().cpu()\n",
    "        output = [int(i[0]) for i in output]\n",
    "        current_results = pd.DataFrame({'predicted_label':output})\n",
    "        \n",
    "        result_dataset = pd.concat([result_dataset,current_results],ignore_index=True)\n",
    "\n",
    "\n",
    "result_dataset.to_csv('results_augmented_datset.csv')\n",
    "result_dataset.head()"
   ]
  },
  {
   "cell_type": "markdown",
   "metadata": {},
   "source": [
    "La differenza tra le risposte è quantificabile controllando il numero di risposte che variano in base ai pesi, usando il sito [diffchecker](https://www.diffchecker.com/) è possibile dare in input i due testi e trovare le differenze tra loro.\n",
    "\n",
    "Per il Task B, le risposte differenti tra i due pesi sono 56 su 300, per una variazione del 18,667% circa."
   ]
  }
 ],
 "metadata": {
  "kernelspec": {
   "display_name": "Python 3 (ipykernel)",
   "language": "python",
   "name": "python3"
  },
  "language_info": {
   "codemirror_mode": {
    "name": "ipython",
    "version": 3
   },
   "file_extension": ".py",
   "mimetype": "text/x-python",
   "name": "python",
   "nbconvert_exporter": "python",
   "pygments_lexer": "ipython3",
   "version": "3.11.0rc1"
  }
 },
 "nbformat": 4,
 "nbformat_minor": 4
}
